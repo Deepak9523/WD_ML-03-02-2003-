{
 "cells": [
  {
   "cell_type": "code",
   "execution_count": 1,
   "metadata": {},
   "outputs": [
    {
     "name": "stdout",
     "output_type": "stream",
     "text": [
      "hello world\n"
     ]
    }
   ],
   "source": [
    "print(\"hello world\")"
   ]
  },
  {
   "cell_type": "code",
   "execution_count": 2,
   "metadata": {},
   "outputs": [
    {
     "name": "stdout",
     "output_type": "stream",
     "text": [
      "This is machine learning\n"
     ]
    }
   ],
   "source": [
    "print(\"This is machine learning\")"
   ]
  },
  {
   "cell_type": "code",
   "execution_count": 3,
   "metadata": {},
   "outputs": [
    {
     "name": "stdout",
     "output_type": "stream",
     "text": [
      "Requirement already satisfied: numpy in c:\\users\\dell\\appdata\\local\\programs\\python\\python311\\lib\\site-packages (1.24.2)\n",
      "Note: you may need to restart the kernel to use updated packages.\n"
     ]
    },
    {
     "name": "stderr",
     "output_type": "stream",
     "text": [
      "\n",
      "[notice] A new release of pip available: 22.3.1 -> 23.0.1\n",
      "[notice] To update, run: python.exe -m pip install --upgrade pip\n"
     ]
    }
   ],
   "source": [
    "pip install numpy"
   ]
  },
  {
   "cell_type": "code",
   "execution_count": 4,
   "metadata": {},
   "outputs": [],
   "source": [
    "import numpy as np"
   ]
  },
  {
   "cell_type": "code",
   "execution_count": 5,
   "metadata": {},
   "outputs": [
    {
     "data": {
      "text/plain": [
       "array([1, 6, 7, 9, 8])"
      ]
     },
     "execution_count": 5,
     "metadata": {},
     "output_type": "execute_result"
    }
   ],
   "source": [
    "np.array([1,6,7,9,8])"
   ]
  },
  {
   "cell_type": "code",
   "execution_count": 6,
   "metadata": {},
   "outputs": [
    {
     "data": {
      "text/plain": [
       "array(1)"
      ]
     },
     "execution_count": 6,
     "metadata": {},
     "output_type": "execute_result"
    }
   ],
   "source": [
    "np.array(1)  # this is comment"
   ]
  },
  {
   "cell_type": "code",
   "execution_count": 7,
   "metadata": {},
   "outputs": [],
   "source": [
    "# Machine Learning\n",
    "#Records/Tuple/Sample/observation---->all are same means data"
   ]
  },
  {
   "cell_type": "code",
   "execution_count": 8,
   "metadata": {},
   "outputs": [
    {
     "name": "stdout",
     "output_type": "stream",
     "text": [
      "Requirement already satisfied: pandas in c:\\users\\dell\\appdata\\local\\programs\\python\\python311\\lib\\site-packages (1.5.3)\n",
      "Requirement already satisfied: python-dateutil>=2.8.1 in c:\\users\\dell\\appdata\\roaming\\python\\python311\\site-packages (from pandas) (2.8.2)\n",
      "Requirement already satisfied: pytz>=2020.1 in c:\\users\\dell\\appdata\\local\\programs\\python\\python311\\lib\\site-packages (from pandas) (2022.7.1)\n",
      "Requirement already satisfied: numpy>=1.21.0 in c:\\users\\dell\\appdata\\local\\programs\\python\\python311\\lib\\site-packages (from pandas) (1.24.2)\n",
      "Requirement already satisfied: six>=1.5 in c:\\users\\dell\\appdata\\roaming\\python\\python311\\site-packages (from python-dateutil>=2.8.1->pandas) (1.16.0)\n",
      "Note: you may need to restart the kernel to use updated packages.\n"
     ]
    },
    {
     "name": "stderr",
     "output_type": "stream",
     "text": [
      "\n",
      "[notice] A new release of pip available: 22.3.1 -> 23.0.1\n",
      "[notice] To update, run: python.exe -m pip install --upgrade pip\n"
     ]
    }
   ],
   "source": [
    "pip install pandas"
   ]
  },
  {
   "cell_type": "code",
   "execution_count": 9,
   "metadata": {},
   "outputs": [],
   "source": [
    "import pandas as pd"
   ]
  },
  {
   "cell_type": "code",
   "execution_count": 10,
   "metadata": {},
   "outputs": [],
   "source": [
    "df=pd.read_csv(\"Salary_Data.csv\")"
   ]
  },
  {
   "cell_type": "code",
   "execution_count": 11,
   "metadata": {},
   "outputs": [
    {
     "data": {
      "text/html": [
       "<div>\n",
       "<style scoped>\n",
       "    .dataframe tbody tr th:only-of-type {\n",
       "        vertical-align: middle;\n",
       "    }\n",
       "\n",
       "    .dataframe tbody tr th {\n",
       "        vertical-align: top;\n",
       "    }\n",
       "\n",
       "    .dataframe thead th {\n",
       "        text-align: right;\n",
       "    }\n",
       "</style>\n",
       "<table border=\"1\" class=\"dataframe\">\n",
       "  <thead>\n",
       "    <tr style=\"text-align: right;\">\n",
       "      <th></th>\n",
       "      <th>YearsExperience</th>\n",
       "      <th>Salary</th>\n",
       "    </tr>\n",
       "  </thead>\n",
       "  <tbody>\n",
       "    <tr>\n",
       "      <th>0</th>\n",
       "      <td>1.1</td>\n",
       "      <td>39343.0</td>\n",
       "    </tr>\n",
       "    <tr>\n",
       "      <th>1</th>\n",
       "      <td>1.3</td>\n",
       "      <td>46205.0</td>\n",
       "    </tr>\n",
       "    <tr>\n",
       "      <th>2</th>\n",
       "      <td>1.5</td>\n",
       "      <td>37731.0</td>\n",
       "    </tr>\n",
       "    <tr>\n",
       "      <th>3</th>\n",
       "      <td>2.0</td>\n",
       "      <td>43525.0</td>\n",
       "    </tr>\n",
       "    <tr>\n",
       "      <th>4</th>\n",
       "      <td>2.2</td>\n",
       "      <td>39891.0</td>\n",
       "    </tr>\n",
       "    <tr>\n",
       "      <th>5</th>\n",
       "      <td>2.9</td>\n",
       "      <td>56642.0</td>\n",
       "    </tr>\n",
       "    <tr>\n",
       "      <th>6</th>\n",
       "      <td>3.0</td>\n",
       "      <td>60150.0</td>\n",
       "    </tr>\n",
       "    <tr>\n",
       "      <th>7</th>\n",
       "      <td>3.2</td>\n",
       "      <td>54445.0</td>\n",
       "    </tr>\n",
       "    <tr>\n",
       "      <th>8</th>\n",
       "      <td>3.2</td>\n",
       "      <td>64445.0</td>\n",
       "    </tr>\n",
       "    <tr>\n",
       "      <th>9</th>\n",
       "      <td>3.7</td>\n",
       "      <td>57189.0</td>\n",
       "    </tr>\n",
       "    <tr>\n",
       "      <th>10</th>\n",
       "      <td>3.9</td>\n",
       "      <td>63218.0</td>\n",
       "    </tr>\n",
       "    <tr>\n",
       "      <th>11</th>\n",
       "      <td>4.0</td>\n",
       "      <td>55794.0</td>\n",
       "    </tr>\n",
       "    <tr>\n",
       "      <th>12</th>\n",
       "      <td>4.0</td>\n",
       "      <td>56957.0</td>\n",
       "    </tr>\n",
       "    <tr>\n",
       "      <th>13</th>\n",
       "      <td>4.1</td>\n",
       "      <td>57081.0</td>\n",
       "    </tr>\n",
       "    <tr>\n",
       "      <th>14</th>\n",
       "      <td>4.5</td>\n",
       "      <td>61111.0</td>\n",
       "    </tr>\n",
       "    <tr>\n",
       "      <th>15</th>\n",
       "      <td>4.9</td>\n",
       "      <td>67938.0</td>\n",
       "    </tr>\n",
       "    <tr>\n",
       "      <th>16</th>\n",
       "      <td>5.1</td>\n",
       "      <td>66029.0</td>\n",
       "    </tr>\n",
       "    <tr>\n",
       "      <th>17</th>\n",
       "      <td>5.3</td>\n",
       "      <td>83088.0</td>\n",
       "    </tr>\n",
       "    <tr>\n",
       "      <th>18</th>\n",
       "      <td>5.9</td>\n",
       "      <td>81363.0</td>\n",
       "    </tr>\n",
       "    <tr>\n",
       "      <th>19</th>\n",
       "      <td>6.0</td>\n",
       "      <td>93940.0</td>\n",
       "    </tr>\n",
       "    <tr>\n",
       "      <th>20</th>\n",
       "      <td>6.8</td>\n",
       "      <td>91738.0</td>\n",
       "    </tr>\n",
       "    <tr>\n",
       "      <th>21</th>\n",
       "      <td>7.1</td>\n",
       "      <td>98273.0</td>\n",
       "    </tr>\n",
       "    <tr>\n",
       "      <th>22</th>\n",
       "      <td>7.9</td>\n",
       "      <td>101302.0</td>\n",
       "    </tr>\n",
       "    <tr>\n",
       "      <th>23</th>\n",
       "      <td>8.2</td>\n",
       "      <td>113812.0</td>\n",
       "    </tr>\n",
       "    <tr>\n",
       "      <th>24</th>\n",
       "      <td>8.7</td>\n",
       "      <td>109431.0</td>\n",
       "    </tr>\n",
       "    <tr>\n",
       "      <th>25</th>\n",
       "      <td>9.0</td>\n",
       "      <td>105582.0</td>\n",
       "    </tr>\n",
       "    <tr>\n",
       "      <th>26</th>\n",
       "      <td>9.5</td>\n",
       "      <td>116969.0</td>\n",
       "    </tr>\n",
       "    <tr>\n",
       "      <th>27</th>\n",
       "      <td>9.6</td>\n",
       "      <td>112635.0</td>\n",
       "    </tr>\n",
       "    <tr>\n",
       "      <th>28</th>\n",
       "      <td>10.3</td>\n",
       "      <td>122391.0</td>\n",
       "    </tr>\n",
       "    <tr>\n",
       "      <th>29</th>\n",
       "      <td>10.5</td>\n",
       "      <td>121872.0</td>\n",
       "    </tr>\n",
       "  </tbody>\n",
       "</table>\n",
       "</div>"
      ],
      "text/plain": [
       "    YearsExperience    Salary\n",
       "0               1.1   39343.0\n",
       "1               1.3   46205.0\n",
       "2               1.5   37731.0\n",
       "3               2.0   43525.0\n",
       "4               2.2   39891.0\n",
       "5               2.9   56642.0\n",
       "6               3.0   60150.0\n",
       "7               3.2   54445.0\n",
       "8               3.2   64445.0\n",
       "9               3.7   57189.0\n",
       "10              3.9   63218.0\n",
       "11              4.0   55794.0\n",
       "12              4.0   56957.0\n",
       "13              4.1   57081.0\n",
       "14              4.5   61111.0\n",
       "15              4.9   67938.0\n",
       "16              5.1   66029.0\n",
       "17              5.3   83088.0\n",
       "18              5.9   81363.0\n",
       "19              6.0   93940.0\n",
       "20              6.8   91738.0\n",
       "21              7.1   98273.0\n",
       "22              7.9  101302.0\n",
       "23              8.2  113812.0\n",
       "24              8.7  109431.0\n",
       "25              9.0  105582.0\n",
       "26              9.5  116969.0\n",
       "27              9.6  112635.0\n",
       "28             10.3  122391.0\n",
       "29             10.5  121872.0"
      ]
     },
     "execution_count": 11,
     "metadata": {},
     "output_type": "execute_result"
    }
   ],
   "source": [
    "df"
   ]
  },
  {
   "cell_type": "code",
   "execution_count": 12,
   "metadata": {},
   "outputs": [],
   "source": [
    "X=df.iloc[:,0]"
   ]
  },
  {
   "cell_type": "code",
   "execution_count": 13,
   "metadata": {},
   "outputs": [
    {
     "data": {
      "text/plain": [
       "0      1.1\n",
       "1      1.3\n",
       "2      1.5\n",
       "3      2.0\n",
       "4      2.2\n",
       "5      2.9\n",
       "6      3.0\n",
       "7      3.2\n",
       "8      3.2\n",
       "9      3.7\n",
       "10     3.9\n",
       "11     4.0\n",
       "12     4.0\n",
       "13     4.1\n",
       "14     4.5\n",
       "15     4.9\n",
       "16     5.1\n",
       "17     5.3\n",
       "18     5.9\n",
       "19     6.0\n",
       "20     6.8\n",
       "21     7.1\n",
       "22     7.9\n",
       "23     8.2\n",
       "24     8.7\n",
       "25     9.0\n",
       "26     9.5\n",
       "27     9.6\n",
       "28    10.3\n",
       "29    10.5\n",
       "Name: YearsExperience, dtype: float64"
      ]
     },
     "execution_count": 13,
     "metadata": {},
     "output_type": "execute_result"
    }
   ],
   "source": [
    "X"
   ]
  },
  {
   "cell_type": "code",
   "execution_count": 14,
   "metadata": {},
   "outputs": [],
   "source": [
    "X=df.iloc[:,0].values"
   ]
  },
  {
   "cell_type": "code",
   "execution_count": 15,
   "metadata": {},
   "outputs": [
    {
     "data": {
      "text/plain": [
       "array([ 1.1,  1.3,  1.5,  2. ,  2.2,  2.9,  3. ,  3.2,  3.2,  3.7,  3.9,\n",
       "        4. ,  4. ,  4.1,  4.5,  4.9,  5.1,  5.3,  5.9,  6. ,  6.8,  7.1,\n",
       "        7.9,  8.2,  8.7,  9. ,  9.5,  9.6, 10.3, 10.5])"
      ]
     },
     "execution_count": 15,
     "metadata": {},
     "output_type": "execute_result"
    }
   ],
   "source": [
    "X"
   ]
  },
  {
   "cell_type": "code",
   "execution_count": 16,
   "metadata": {},
   "outputs": [],
   "source": [
    "X=df.iloc[:,:1].values   # This is features in 2D array"
   ]
  },
  {
   "cell_type": "code",
   "execution_count": 17,
   "metadata": {},
   "outputs": [
    {
     "data": {
      "text/plain": [
       "array([[ 1.1],\n",
       "       [ 1.3],\n",
       "       [ 1.5],\n",
       "       [ 2. ],\n",
       "       [ 2.2],\n",
       "       [ 2.9],\n",
       "       [ 3. ],\n",
       "       [ 3.2],\n",
       "       [ 3.2],\n",
       "       [ 3.7],\n",
       "       [ 3.9],\n",
       "       [ 4. ],\n",
       "       [ 4. ],\n",
       "       [ 4.1],\n",
       "       [ 4.5],\n",
       "       [ 4.9],\n",
       "       [ 5.1],\n",
       "       [ 5.3],\n",
       "       [ 5.9],\n",
       "       [ 6. ],\n",
       "       [ 6.8],\n",
       "       [ 7.1],\n",
       "       [ 7.9],\n",
       "       [ 8.2],\n",
       "       [ 8.7],\n",
       "       [ 9. ],\n",
       "       [ 9.5],\n",
       "       [ 9.6],\n",
       "       [10.3],\n",
       "       [10.5]])"
      ]
     },
     "execution_count": 17,
     "metadata": {},
     "output_type": "execute_result"
    }
   ],
   "source": [
    "X"
   ]
  },
  {
   "cell_type": "code",
   "execution_count": 18,
   "metadata": {},
   "outputs": [
    {
     "name": "stdout",
     "output_type": "stream",
     "text": [
      "2\n"
     ]
    }
   ],
   "source": [
    "X                    \n",
    "print(X.ndim)              # ndim means number of dimention, we can use it to gey array dimention"
   ]
  },
  {
   "cell_type": "code",
   "execution_count": 19,
   "metadata": {},
   "outputs": [],
   "source": [
    "# Target"
   ]
  },
  {
   "cell_type": "code",
   "execution_count": 20,
   "metadata": {},
   "outputs": [],
   "source": [
    "y=df.iloc[:,1]"
   ]
  },
  {
   "cell_type": "code",
   "execution_count": 21,
   "metadata": {},
   "outputs": [
    {
     "data": {
      "text/plain": [
       "0      39343.0\n",
       "1      46205.0\n",
       "2      37731.0\n",
       "3      43525.0\n",
       "4      39891.0\n",
       "5      56642.0\n",
       "6      60150.0\n",
       "7      54445.0\n",
       "8      64445.0\n",
       "9      57189.0\n",
       "10     63218.0\n",
       "11     55794.0\n",
       "12     56957.0\n",
       "13     57081.0\n",
       "14     61111.0\n",
       "15     67938.0\n",
       "16     66029.0\n",
       "17     83088.0\n",
       "18     81363.0\n",
       "19     93940.0\n",
       "20     91738.0\n",
       "21     98273.0\n",
       "22    101302.0\n",
       "23    113812.0\n",
       "24    109431.0\n",
       "25    105582.0\n",
       "26    116969.0\n",
       "27    112635.0\n",
       "28    122391.0\n",
       "29    121872.0\n",
       "Name: Salary, dtype: float64"
      ]
     },
     "execution_count": 21,
     "metadata": {},
     "output_type": "execute_result"
    }
   ],
   "source": [
    "y"
   ]
  },
  {
   "cell_type": "code",
   "execution_count": 22,
   "metadata": {},
   "outputs": [],
   "source": [
    "y=df.iloc[:,1].values   # values is use to convert a dataframe into array"
   ]
  },
  {
   "cell_type": "code",
   "execution_count": 23,
   "metadata": {},
   "outputs": [
    {
     "data": {
      "text/plain": [
       "array([ 39343.,  46205.,  37731.,  43525.,  39891.,  56642.,  60150.,\n",
       "        54445.,  64445.,  57189.,  63218.,  55794.,  56957.,  57081.,\n",
       "        61111.,  67938.,  66029.,  83088.,  81363.,  93940.,  91738.,\n",
       "        98273., 101302., 113812., 109431., 105582., 116969., 112635.,\n",
       "       122391., 121872.])"
      ]
     },
     "execution_count": 23,
     "metadata": {},
     "output_type": "execute_result"
    }
   ],
   "source": [
    "y"
   ]
  },
  {
   "cell_type": "code",
   "execution_count": 24,
   "metadata": {},
   "outputs": [
    {
     "name": "stdout",
     "output_type": "stream",
     "text": [
      "1\n"
     ]
    }
   ],
   "source": [
    "print(y.ndim)"
   ]
  },
  {
   "cell_type": "code",
   "execution_count": 25,
   "metadata": {},
   "outputs": [
    {
     "name": "stdout",
     "output_type": "stream",
     "text": [
      "X is feature of salary dataset: [[ 1.1]\n",
      " [ 1.3]\n",
      " [ 1.5]\n",
      " [ 2. ]\n",
      " [ 2.2]\n",
      " [ 2.9]\n",
      " [ 3. ]\n",
      " [ 3.2]\n",
      " [ 3.2]\n",
      " [ 3.7]\n",
      " [ 3.9]\n",
      " [ 4. ]\n",
      " [ 4. ]\n",
      " [ 4.1]\n",
      " [ 4.5]\n",
      " [ 4.9]\n",
      " [ 5.1]\n",
      " [ 5.3]\n",
      " [ 5.9]\n",
      " [ 6. ]\n",
      " [ 6.8]\n",
      " [ 7.1]\n",
      " [ 7.9]\n",
      " [ 8.2]\n",
      " [ 8.7]\n",
      " [ 9. ]\n",
      " [ 9.5]\n",
      " [ 9.6]\n",
      " [10.3]\n",
      " [10.5]]\n",
      "y is Target of salary dataset: [ 39343.  46205.  37731.  43525.  39891.  56642.  60150.  54445.  64445.\n",
      "  57189.  63218.  55794.  56957.  57081.  61111.  67938.  66029.  83088.\n",
      "  81363.  93940.  91738.  98273. 101302. 113812. 109431. 105582. 116969.\n",
      " 112635. 122391. 121872.]\n"
     ]
    }
   ],
   "source": [
    "print(\"X is feature of salary dataset:\",X)\n",
    "print(\"y is Target of salary dataset:\",y)\n"
   ]
  },
  {
   "cell_type": "code",
   "execution_count": 26,
   "metadata": {},
   "outputs": [],
   "source": [
    "# Google provide us a package called \"Sklearn\" in 2011"
   ]
  },
  {
   "cell_type": "code",
   "execution_count": 27,
   "metadata": {},
   "outputs": [
    {
     "name": "stdout",
     "output_type": "stream",
     "text": [
      "Requirement already satisfied: sklearn in c:\\users\\dell\\appdata\\local\\programs\\python\\python311\\lib\\site-packages (0.0.post1)\n",
      "Note: you may need to restart the kernel to use updated packages.\n"
     ]
    },
    {
     "name": "stderr",
     "output_type": "stream",
     "text": [
      "\n",
      "[notice] A new release of pip available: 22.3.1 -> 23.0.1\n",
      "[notice] To update, run: python.exe -m pip install --upgrade pip\n"
     ]
    }
   ],
   "source": [
    "pip install sklearn"
   ]
  },
  {
   "cell_type": "code",
   "execution_count": 28,
   "metadata": {},
   "outputs": [
    {
     "name": "stdout",
     "output_type": "stream",
     "text": [
      "Requirement already satisfied: scikit-learn in c:\\users\\dell\\appdata\\local\\programs\\python\\python311\\lib\\site-packages (1.2.1)\n",
      "Requirement already satisfied: numpy>=1.17.3 in c:\\users\\dell\\appdata\\local\\programs\\python\\python311\\lib\\site-packages (from scikit-learn) (1.24.2)\n",
      "Requirement already satisfied: scipy>=1.3.2 in c:\\users\\dell\\appdata\\local\\programs\\python\\python311\\lib\\site-packages (from scikit-learn) (1.10.0)\n",
      "Requirement already satisfied: joblib>=1.1.1 in c:\\users\\dell\\appdata\\local\\programs\\python\\python311\\lib\\site-packages (from scikit-learn) (1.2.0)\n",
      "Requirement already satisfied: threadpoolctl>=2.0.0 in c:\\users\\dell\\appdata\\local\\programs\\python\\python311\\lib\\site-packages (from scikit-learn) (3.1.0)\n",
      "Note: you may need to restart the kernel to use updated packages.\n"
     ]
    },
    {
     "name": "stderr",
     "output_type": "stream",
     "text": [
      "\n",
      "[notice] A new release of pip available: 22.3.1 -> 23.0.1\n",
      "[notice] To update, run: python.exe -m pip install --upgrade pip\n"
     ]
    }
   ],
   "source": [
    "pip install scikit-learn"
   ]
  },
  {
   "cell_type": "code",
   "execution_count": 29,
   "metadata": {},
   "outputs": [],
   "source": [
    "from sklearn.linear_model import LinearRegression"
   ]
  },
  {
   "cell_type": "code",
   "execution_count": 30,
   "metadata": {},
   "outputs": [
    {
     "data": {
      "text/html": [
       "<style>#sk-container-id-1 {color: black;background-color: white;}#sk-container-id-1 pre{padding: 0;}#sk-container-id-1 div.sk-toggleable {background-color: white;}#sk-container-id-1 label.sk-toggleable__label {cursor: pointer;display: block;width: 100%;margin-bottom: 0;padding: 0.3em;box-sizing: border-box;text-align: center;}#sk-container-id-1 label.sk-toggleable__label-arrow:before {content: \"▸\";float: left;margin-right: 0.25em;color: #696969;}#sk-container-id-1 label.sk-toggleable__label-arrow:hover:before {color: black;}#sk-container-id-1 div.sk-estimator:hover label.sk-toggleable__label-arrow:before {color: black;}#sk-container-id-1 div.sk-toggleable__content {max-height: 0;max-width: 0;overflow: hidden;text-align: left;background-color: #f0f8ff;}#sk-container-id-1 div.sk-toggleable__content pre {margin: 0.2em;color: black;border-radius: 0.25em;background-color: #f0f8ff;}#sk-container-id-1 input.sk-toggleable__control:checked~div.sk-toggleable__content {max-height: 200px;max-width: 100%;overflow: auto;}#sk-container-id-1 input.sk-toggleable__control:checked~label.sk-toggleable__label-arrow:before {content: \"▾\";}#sk-container-id-1 div.sk-estimator input.sk-toggleable__control:checked~label.sk-toggleable__label {background-color: #d4ebff;}#sk-container-id-1 div.sk-label input.sk-toggleable__control:checked~label.sk-toggleable__label {background-color: #d4ebff;}#sk-container-id-1 input.sk-hidden--visually {border: 0;clip: rect(1px 1px 1px 1px);clip: rect(1px, 1px, 1px, 1px);height: 1px;margin: -1px;overflow: hidden;padding: 0;position: absolute;width: 1px;}#sk-container-id-1 div.sk-estimator {font-family: monospace;background-color: #f0f8ff;border: 1px dotted black;border-radius: 0.25em;box-sizing: border-box;margin-bottom: 0.5em;}#sk-container-id-1 div.sk-estimator:hover {background-color: #d4ebff;}#sk-container-id-1 div.sk-parallel-item::after {content: \"\";width: 100%;border-bottom: 1px solid gray;flex-grow: 1;}#sk-container-id-1 div.sk-label:hover label.sk-toggleable__label {background-color: #d4ebff;}#sk-container-id-1 div.sk-serial::before {content: \"\";position: absolute;border-left: 1px solid gray;box-sizing: border-box;top: 0;bottom: 0;left: 50%;z-index: 0;}#sk-container-id-1 div.sk-serial {display: flex;flex-direction: column;align-items: center;background-color: white;padding-right: 0.2em;padding-left: 0.2em;position: relative;}#sk-container-id-1 div.sk-item {position: relative;z-index: 1;}#sk-container-id-1 div.sk-parallel {display: flex;align-items: stretch;justify-content: center;background-color: white;position: relative;}#sk-container-id-1 div.sk-item::before, #sk-container-id-1 div.sk-parallel-item::before {content: \"\";position: absolute;border-left: 1px solid gray;box-sizing: border-box;top: 0;bottom: 0;left: 50%;z-index: -1;}#sk-container-id-1 div.sk-parallel-item {display: flex;flex-direction: column;z-index: 1;position: relative;background-color: white;}#sk-container-id-1 div.sk-parallel-item:first-child::after {align-self: flex-end;width: 50%;}#sk-container-id-1 div.sk-parallel-item:last-child::after {align-self: flex-start;width: 50%;}#sk-container-id-1 div.sk-parallel-item:only-child::after {width: 0;}#sk-container-id-1 div.sk-dashed-wrapped {border: 1px dashed gray;margin: 0 0.4em 0.5em 0.4em;box-sizing: border-box;padding-bottom: 0.4em;background-color: white;}#sk-container-id-1 div.sk-label label {font-family: monospace;font-weight: bold;display: inline-block;line-height: 1.2em;}#sk-container-id-1 div.sk-label-container {text-align: center;}#sk-container-id-1 div.sk-container {/* jupyter's `normalize.less` sets `[hidden] { display: none; }` but bootstrap.min.css set `[hidden] { display: none !important; }` so we also need the `!important` here to be able to override the default hidden behavior on the sphinx rendered scikit-learn.org. See: https://github.com/scikit-learn/scikit-learn/issues/21755 */display: inline-block !important;position: relative;}#sk-container-id-1 div.sk-text-repr-fallback {display: none;}</style><div id=\"sk-container-id-1\" class=\"sk-top-container\"><div class=\"sk-text-repr-fallback\"><pre>LinearRegression()</pre><b>In a Jupyter environment, please rerun this cell to show the HTML representation or trust the notebook. <br />On GitHub, the HTML representation is unable to render, please try loading this page with nbviewer.org.</b></div><div class=\"sk-container\" hidden><div class=\"sk-item\"><div class=\"sk-estimator sk-toggleable\"><input class=\"sk-toggleable__control sk-hidden--visually\" id=\"sk-estimator-id-1\" type=\"checkbox\" checked><label for=\"sk-estimator-id-1\" class=\"sk-toggleable__label sk-toggleable__label-arrow\">LinearRegression</label><div class=\"sk-toggleable__content\"><pre>LinearRegression()</pre></div></div></div></div></div>"
      ],
      "text/plain": [
       "LinearRegression()"
      ]
     },
     "execution_count": 30,
     "metadata": {},
     "output_type": "execute_result"
    }
   ],
   "source": [
    "model=LinearRegression()\n",
    "model.fit(X,y)"
   ]
  },
  {
   "cell_type": "code",
   "execution_count": 31,
   "metadata": {},
   "outputs": [
    {
     "data": {
      "text/plain": [
       "array([498290.31627142])"
      ]
     },
     "execution_count": 31,
     "metadata": {},
     "output_type": "execute_result"
    }
   ],
   "source": [
    "model.predict([[50]])"
   ]
  },
  {
   "cell_type": "code",
   "execution_count": 32,
   "metadata": {},
   "outputs": [
    {
     "data": {
      "text/plain": [
       "array([120291.82341322])"
      ]
     },
     "execution_count": 32,
     "metadata": {},
     "output_type": "execute_result"
    }
   ],
   "source": [
    "model.predict([[10]])"
   ]
  },
  {
   "cell_type": "code",
   "execution_count": 33,
   "metadata": {},
   "outputs": [],
   "source": [
    "y_pred=model.predict(X)"
   ]
  },
  {
   "cell_type": "code",
   "execution_count": 34,
   "metadata": {},
   "outputs": [
    {
     "name": "stdout",
     "output_type": "stream",
     "text": [
      "Requirement already satisfied: matplotlib in c:\\users\\dell\\appdata\\local\\programs\\python\\python311\\lib\\site-packages (3.7.0)\n",
      "Requirement already satisfied: contourpy>=1.0.1 in c:\\users\\dell\\appdata\\local\\programs\\python\\python311\\lib\\site-packages (from matplotlib) (1.0.7)\n",
      "Requirement already satisfied: cycler>=0.10 in c:\\users\\dell\\appdata\\local\\programs\\python\\python311\\lib\\site-packages (from matplotlib) (0.11.0)\n",
      "Requirement already satisfied: fonttools>=4.22.0 in c:\\users\\dell\\appdata\\local\\programs\\python\\python311\\lib\\site-packages (from matplotlib) (4.38.0)\n",
      "Requirement already satisfied: kiwisolver>=1.0.1 in c:\\users\\dell\\appdata\\local\\programs\\python\\python311\\lib\\site-packages (from matplotlib) (1.4.4)\n",
      "Requirement already satisfied: numpy>=1.20 in c:\\users\\dell\\appdata\\local\\programs\\python\\python311\\lib\\site-packages (from matplotlib) (1.24.2)\n",
      "Requirement already satisfied: packaging>=20.0 in c:\\users\\dell\\appdata\\roaming\\python\\python311\\site-packages (from matplotlib) (23.0)\n",
      "Requirement already satisfied: pillow>=6.2.0 in c:\\users\\dell\\appdata\\local\\programs\\python\\python311\\lib\\site-packages (from matplotlib) (9.4.0)\n",
      "Requirement already satisfied: pyparsing>=2.3.1 in c:\\users\\dell\\appdata\\local\\programs\\python\\python311\\lib\\site-packages (from matplotlib) (3.0.9)\n",
      "Requirement already satisfied: python-dateutil>=2.7 in c:\\users\\dell\\appdata\\roaming\\python\\python311\\site-packages (from matplotlib) (2.8.2)\n",
      "Requirement already satisfied: six>=1.5 in c:\\users\\dell\\appdata\\roaming\\python\\python311\\site-packages (from python-dateutil>=2.7->matplotlib) (1.16.0)\n",
      "Note: you may need to restart the kernel to use updated packages.\n"
     ]
    },
    {
     "name": "stderr",
     "output_type": "stream",
     "text": [
      "\n",
      "[notice] A new release of pip available: 22.3.1 -> 23.0.1\n",
      "[notice] To update, run: python.exe -m pip install --upgrade pip\n"
     ]
    }
   ],
   "source": [
    "pip install matplotlib"
   ]
  },
  {
   "cell_type": "code",
   "execution_count": 35,
   "metadata": {},
   "outputs": [],
   "source": [
    "import matplotlib.pyplot as plt"
   ]
  },
  {
   "cell_type": "code",
   "execution_count": 36,
   "metadata": {},
   "outputs": [
    {
     "data": {
      "image/png": "[encoded data removed]",
      "text/plain": [
       "<Figure size 640x480 with 1 Axes>"
      ]
     },
     "metadata": {},
     "output_type": "display_data"
    }
   ],
   "source": [
    "plt.plot(X,y)\n",
    "plt.xlabel(\"Year of Experience\")\n",
    "plt.ylabel(\"Salary\")\n",
    "plt.show()"
   ]
  },
  {
   "cell_type": "code",
   "execution_count": 37,
   "metadata": {},
   "outputs": [
    {
     "data": {
      "image/png": "[encoded data removed]",
      "text/plain": [
       "<Figure size 640x480 with 1 Axes>"
      ]
     },
     "metadata": {},
     "output_type": "display_data"
    }
   ],
   "source": [
    "plt.scatter(X,y)\n",
    "plt.xlabel(\"Year of Experience\")\n",
    "plt.ylabel(\"Salary\")\n",
    "plt.show()"
   ]
  },
  {
   "cell_type": "code",
   "execution_count": 38,
   "metadata": {},
   "outputs": [
    {
     "data": {
      "image/png": "[encoded data removed]",
      "text/plain": [
       "<Figure size 640x480 with 1 Axes>"
      ]
     },
     "metadata": {},
     "output_type": "display_data"
    }
   ],
   "source": [
    "plt.scatter(X,y)\n",
    "plt.plot(X,y_pred ,color=\"red\")\n",
    "plt.xlabel(\"Year of Experience\")\n",
    "plt.ylabel(\"Salary\")\n",
    "plt.show()"
   ]
  },
  {
   "cell_type": "code",
   "execution_count": 39,
   "metadata": {},
   "outputs": [],
   "source": [
    "df2=pd.read_csv(\"fruit_data_with_colors.txt\",delimiter=\"\\t\")"
   ]
  },
  {
   "cell_type": "code",
   "execution_count": 40,
   "metadata": {},
   "outputs": [
    {
     "data": {
      "text/html": [
       "<div>\n",
       "<style scoped>\n",
       "    .dataframe tbody tr th:only-of-type {\n",
       "        vertical-align: middle;\n",
       "    }\n",
       "\n",
       "    .dataframe tbody tr th {\n",
       "        vertical-align: top;\n",
       "    }\n",
       "\n",
       "    .dataframe thead th {\n",
       "        text-align: right;\n",
       "    }\n",
       "</style>\n",
       "<table border=\"1\" class=\"dataframe\">\n",
       "  <thead>\n",
       "    <tr style=\"text-align: right;\">\n",
       "      <th></th>\n",
       "      <th>fruit_label</th>\n",
       "      <th>fruit_name</th>\n",
       "      <th>fruit_subtype</th>\n",
       "      <th>mass</th>\n",
       "      <th>width</th>\n",
       "      <th>height</th>\n",
       "      <th>color_score</th>\n",
       "    </tr>\n",
       "  </thead>\n",
       "  <tbody>\n",
       "    <tr>\n",
       "      <th>0</th>\n",
       "      <td>1</td>\n",
       "      <td>apple</td>\n",
       "      <td>granny_smith</td>\n",
       "      <td>192</td>\n",
       "      <td>8.4</td>\n",
       "      <td>7.3</td>\n",
       "      <td>0.55</td>\n",
       "    </tr>\n",
       "    <tr>\n",
       "      <th>1</th>\n",
       "      <td>1</td>\n",
       "      <td>apple</td>\n",
       "      <td>granny_smith</td>\n",
       "      <td>180</td>\n",
       "      <td>8.0</td>\n",
       "      <td>6.8</td>\n",
       "      <td>0.59</td>\n",
       "    </tr>\n",
       "    <tr>\n",
       "      <th>2</th>\n",
       "      <td>1</td>\n",
       "      <td>apple</td>\n",
       "      <td>granny_smith</td>\n",
       "      <td>176</td>\n",
       "      <td>7.4</td>\n",
       "      <td>7.2</td>\n",
       "      <td>0.60</td>\n",
       "    </tr>\n",
       "    <tr>\n",
       "      <th>3</th>\n",
       "      <td>2</td>\n",
       "      <td>mandarin</td>\n",
       "      <td>mandarin</td>\n",
       "      <td>86</td>\n",
       "      <td>6.2</td>\n",
       "      <td>4.7</td>\n",
       "      <td>0.80</td>\n",
       "    </tr>\n",
       "    <tr>\n",
       "      <th>4</th>\n",
       "      <td>2</td>\n",
       "      <td>mandarin</td>\n",
       "      <td>mandarin</td>\n",
       "      <td>84</td>\n",
       "      <td>6.0</td>\n",
       "      <td>4.6</td>\n",
       "      <td>0.79</td>\n",
       "    </tr>\n",
       "    <tr>\n",
       "      <th>5</th>\n",
       "      <td>2</td>\n",
       "      <td>mandarin</td>\n",
       "      <td>mandarin</td>\n",
       "      <td>80</td>\n",
       "      <td>5.8</td>\n",
       "      <td>4.3</td>\n",
       "      <td>0.77</td>\n",
       "    </tr>\n",
       "    <tr>\n",
       "      <th>6</th>\n",
       "      <td>2</td>\n",
       "      <td>mandarin</td>\n",
       "      <td>mandarin</td>\n",
       "      <td>80</td>\n",
       "      <td>5.9</td>\n",
       "      <td>4.3</td>\n",
       "      <td>0.81</td>\n",
       "    </tr>\n",
       "    <tr>\n",
       "      <th>7</th>\n",
       "      <td>2</td>\n",
       "      <td>mandarin</td>\n",
       "      <td>mandarin</td>\n",
       "      <td>76</td>\n",
       "      <td>5.8</td>\n",
       "      <td>4.0</td>\n",
       "      <td>0.81</td>\n",
       "    </tr>\n",
       "    <tr>\n",
       "      <th>8</th>\n",
       "      <td>1</td>\n",
       "      <td>apple</td>\n",
       "      <td>braeburn</td>\n",
       "      <td>178</td>\n",
       "      <td>7.1</td>\n",
       "      <td>7.8</td>\n",
       "      <td>0.92</td>\n",
       "    </tr>\n",
       "    <tr>\n",
       "      <th>9</th>\n",
       "      <td>1</td>\n",
       "      <td>apple</td>\n",
       "      <td>braeburn</td>\n",
       "      <td>172</td>\n",
       "      <td>7.4</td>\n",
       "      <td>7.0</td>\n",
       "      <td>0.89</td>\n",
       "    </tr>\n",
       "    <tr>\n",
       "      <th>10</th>\n",
       "      <td>1</td>\n",
       "      <td>apple</td>\n",
       "      <td>braeburn</td>\n",
       "      <td>166</td>\n",
       "      <td>6.9</td>\n",
       "      <td>7.3</td>\n",
       "      <td>0.93</td>\n",
       "    </tr>\n",
       "    <tr>\n",
       "      <th>11</th>\n",
       "      <td>1</td>\n",
       "      <td>apple</td>\n",
       "      <td>braeburn</td>\n",
       "      <td>172</td>\n",
       "      <td>7.1</td>\n",
       "      <td>7.6</td>\n",
       "      <td>0.92</td>\n",
       "    </tr>\n",
       "    <tr>\n",
       "      <th>12</th>\n",
       "      <td>1</td>\n",
       "      <td>apple</td>\n",
       "      <td>braeburn</td>\n",
       "      <td>154</td>\n",
       "      <td>7.0</td>\n",
       "      <td>7.1</td>\n",
       "      <td>0.88</td>\n",
       "    </tr>\n",
       "    <tr>\n",
       "      <th>13</th>\n",
       "      <td>1</td>\n",
       "      <td>apple</td>\n",
       "      <td>golden_delicious</td>\n",
       "      <td>164</td>\n",
       "      <td>7.3</td>\n",
       "      <td>7.7</td>\n",
       "      <td>0.70</td>\n",
       "    </tr>\n",
       "    <tr>\n",
       "      <th>14</th>\n",
       "      <td>1</td>\n",
       "      <td>apple</td>\n",
       "      <td>golden_delicious</td>\n",
       "      <td>152</td>\n",
       "      <td>7.6</td>\n",
       "      <td>7.3</td>\n",
       "      <td>0.69</td>\n",
       "    </tr>\n",
       "    <tr>\n",
       "      <th>15</th>\n",
       "      <td>1</td>\n",
       "      <td>apple</td>\n",
       "      <td>golden_delicious</td>\n",
       "      <td>156</td>\n",
       "      <td>7.7</td>\n",
       "      <td>7.1</td>\n",
       "      <td>0.69</td>\n",
       "    </tr>\n",
       "    <tr>\n",
       "      <th>16</th>\n",
       "      <td>1</td>\n",
       "      <td>apple</td>\n",
       "      <td>golden_delicious</td>\n",
       "      <td>156</td>\n",
       "      <td>7.6</td>\n",
       "      <td>7.5</td>\n",
       "      <td>0.67</td>\n",
       "    </tr>\n",
       "    <tr>\n",
       "      <th>17</th>\n",
       "      <td>1</td>\n",
       "      <td>apple</td>\n",
       "      <td>golden_delicious</td>\n",
       "      <td>168</td>\n",
       "      <td>7.5</td>\n",
       "      <td>7.6</td>\n",
       "      <td>0.73</td>\n",
       "    </tr>\n",
       "    <tr>\n",
       "      <th>18</th>\n",
       "      <td>1</td>\n",
       "      <td>apple</td>\n",
       "      <td>cripps_pink</td>\n",
       "      <td>162</td>\n",
       "      <td>7.5</td>\n",
       "      <td>7.1</td>\n",
       "      <td>0.83</td>\n",
       "    </tr>\n",
       "    <tr>\n",
       "      <th>19</th>\n",
       "      <td>1</td>\n",
       "      <td>apple</td>\n",
       "      <td>cripps_pink</td>\n",
       "      <td>162</td>\n",
       "      <td>7.4</td>\n",
       "      <td>7.2</td>\n",
       "      <td>0.85</td>\n",
       "    </tr>\n",
       "    <tr>\n",
       "      <th>20</th>\n",
       "      <td>1</td>\n",
       "      <td>apple</td>\n",
       "      <td>cripps_pink</td>\n",
       "      <td>160</td>\n",
       "      <td>7.5</td>\n",
       "      <td>7.5</td>\n",
       "      <td>0.86</td>\n",
       "    </tr>\n",
       "    <tr>\n",
       "      <th>21</th>\n",
       "      <td>1</td>\n",
       "      <td>apple</td>\n",
       "      <td>cripps_pink</td>\n",
       "      <td>156</td>\n",
       "      <td>7.4</td>\n",
       "      <td>7.4</td>\n",
       "      <td>0.84</td>\n",
       "    </tr>\n",
       "    <tr>\n",
       "      <th>22</th>\n",
       "      <td>1</td>\n",
       "      <td>apple</td>\n",
       "      <td>cripps_pink</td>\n",
       "      <td>140</td>\n",
       "      <td>7.3</td>\n",
       "      <td>7.1</td>\n",
       "      <td>0.87</td>\n",
       "    </tr>\n",
       "    <tr>\n",
       "      <th>23</th>\n",
       "      <td>1</td>\n",
       "      <td>apple</td>\n",
       "      <td>cripps_pink</td>\n",
       "      <td>170</td>\n",
       "      <td>7.6</td>\n",
       "      <td>7.9</td>\n",
       "      <td>0.88</td>\n",
       "    </tr>\n",
       "    <tr>\n",
       "      <th>24</th>\n",
       "      <td>3</td>\n",
       "      <td>orange</td>\n",
       "      <td>spanish_jumbo</td>\n",
       "      <td>342</td>\n",
       "      <td>9.0</td>\n",
       "      <td>9.4</td>\n",
       "      <td>0.75</td>\n",
       "    </tr>\n",
       "    <tr>\n",
       "      <th>25</th>\n",
       "      <td>3</td>\n",
       "      <td>orange</td>\n",
       "      <td>spanish_jumbo</td>\n",
       "      <td>356</td>\n",
       "      <td>9.2</td>\n",
       "      <td>9.2</td>\n",
       "      <td>0.75</td>\n",
       "    </tr>\n",
       "    <tr>\n",
       "      <th>26</th>\n",
       "      <td>3</td>\n",
       "      <td>orange</td>\n",
       "      <td>spanish_jumbo</td>\n",
       "      <td>362</td>\n",
       "      <td>9.6</td>\n",
       "      <td>9.2</td>\n",
       "      <td>0.74</td>\n",
       "    </tr>\n",
       "    <tr>\n",
       "      <th>27</th>\n",
       "      <td>3</td>\n",
       "      <td>orange</td>\n",
       "      <td>selected_seconds</td>\n",
       "      <td>204</td>\n",
       "      <td>7.5</td>\n",
       "      <td>9.2</td>\n",
       "      <td>0.77</td>\n",
       "    </tr>\n",
       "    <tr>\n",
       "      <th>28</th>\n",
       "      <td>3</td>\n",
       "      <td>orange</td>\n",
       "      <td>selected_seconds</td>\n",
       "      <td>140</td>\n",
       "      <td>6.7</td>\n",
       "      <td>7.1</td>\n",
       "      <td>0.72</td>\n",
       "    </tr>\n",
       "    <tr>\n",
       "      <th>29</th>\n",
       "      <td>3</td>\n",
       "      <td>orange</td>\n",
       "      <td>selected_seconds</td>\n",
       "      <td>160</td>\n",
       "      <td>7.0</td>\n",
       "      <td>7.4</td>\n",
       "      <td>0.81</td>\n",
       "    </tr>\n",
       "    <tr>\n",
       "      <th>30</th>\n",
       "      <td>3</td>\n",
       "      <td>orange</td>\n",
       "      <td>selected_seconds</td>\n",
       "      <td>158</td>\n",
       "      <td>7.1</td>\n",
       "      <td>7.5</td>\n",
       "      <td>0.79</td>\n",
       "    </tr>\n",
       "    <tr>\n",
       "      <th>31</th>\n",
       "      <td>3</td>\n",
       "      <td>orange</td>\n",
       "      <td>selected_seconds</td>\n",
       "      <td>210</td>\n",
       "      <td>7.8</td>\n",
       "      <td>8.0</td>\n",
       "      <td>0.82</td>\n",
       "    </tr>\n",
       "    <tr>\n",
       "      <th>32</th>\n",
       "      <td>3</td>\n",
       "      <td>orange</td>\n",
       "      <td>selected_seconds</td>\n",
       "      <td>164</td>\n",
       "      <td>7.2</td>\n",
       "      <td>7.0</td>\n",
       "      <td>0.80</td>\n",
       "    </tr>\n",
       "    <tr>\n",
       "      <th>33</th>\n",
       "      <td>3</td>\n",
       "      <td>orange</td>\n",
       "      <td>turkey_navel</td>\n",
       "      <td>190</td>\n",
       "      <td>7.5</td>\n",
       "      <td>8.1</td>\n",
       "      <td>0.74</td>\n",
       "    </tr>\n",
       "    <tr>\n",
       "      <th>34</th>\n",
       "      <td>3</td>\n",
       "      <td>orange</td>\n",
       "      <td>turkey_navel</td>\n",
       "      <td>142</td>\n",
       "      <td>7.6</td>\n",
       "      <td>7.8</td>\n",
       "      <td>0.75</td>\n",
       "    </tr>\n",
       "    <tr>\n",
       "      <th>35</th>\n",
       "      <td>3</td>\n",
       "      <td>orange</td>\n",
       "      <td>turkey_navel</td>\n",
       "      <td>150</td>\n",
       "      <td>7.1</td>\n",
       "      <td>7.9</td>\n",
       "      <td>0.75</td>\n",
       "    </tr>\n",
       "    <tr>\n",
       "      <th>36</th>\n",
       "      <td>3</td>\n",
       "      <td>orange</td>\n",
       "      <td>turkey_navel</td>\n",
       "      <td>160</td>\n",
       "      <td>7.1</td>\n",
       "      <td>7.6</td>\n",
       "      <td>0.76</td>\n",
       "    </tr>\n",
       "    <tr>\n",
       "      <th>37</th>\n",
       "      <td>3</td>\n",
       "      <td>orange</td>\n",
       "      <td>turkey_navel</td>\n",
       "      <td>154</td>\n",
       "      <td>7.3</td>\n",
       "      <td>7.3</td>\n",
       "      <td>0.79</td>\n",
       "    </tr>\n",
       "    <tr>\n",
       "      <th>38</th>\n",
       "      <td>3</td>\n",
       "      <td>orange</td>\n",
       "      <td>turkey_navel</td>\n",
       "      <td>158</td>\n",
       "      <td>7.2</td>\n",
       "      <td>7.8</td>\n",
       "      <td>0.77</td>\n",
       "    </tr>\n",
       "    <tr>\n",
       "      <th>39</th>\n",
       "      <td>3</td>\n",
       "      <td>orange</td>\n",
       "      <td>turkey_navel</td>\n",
       "      <td>144</td>\n",
       "      <td>6.8</td>\n",
       "      <td>7.4</td>\n",
       "      <td>0.75</td>\n",
       "    </tr>\n",
       "    <tr>\n",
       "      <th>40</th>\n",
       "      <td>3</td>\n",
       "      <td>orange</td>\n",
       "      <td>turkey_navel</td>\n",
       "      <td>154</td>\n",
       "      <td>7.1</td>\n",
       "      <td>7.5</td>\n",
       "      <td>0.78</td>\n",
       "    </tr>\n",
       "    <tr>\n",
       "      <th>41</th>\n",
       "      <td>3</td>\n",
       "      <td>orange</td>\n",
       "      <td>turkey_navel</td>\n",
       "      <td>180</td>\n",
       "      <td>7.6</td>\n",
       "      <td>8.2</td>\n",
       "      <td>0.79</td>\n",
       "    </tr>\n",
       "    <tr>\n",
       "      <th>42</th>\n",
       "      <td>3</td>\n",
       "      <td>orange</td>\n",
       "      <td>turkey_navel</td>\n",
       "      <td>154</td>\n",
       "      <td>7.2</td>\n",
       "      <td>7.2</td>\n",
       "      <td>0.82</td>\n",
       "    </tr>\n",
       "    <tr>\n",
       "      <th>43</th>\n",
       "      <td>4</td>\n",
       "      <td>lemon</td>\n",
       "      <td>spanish_belsan</td>\n",
       "      <td>194</td>\n",
       "      <td>7.2</td>\n",
       "      <td>10.3</td>\n",
       "      <td>0.70</td>\n",
       "    </tr>\n",
       "    <tr>\n",
       "      <th>44</th>\n",
       "      <td>4</td>\n",
       "      <td>lemon</td>\n",
       "      <td>spanish_belsan</td>\n",
       "      <td>200</td>\n",
       "      <td>7.3</td>\n",
       "      <td>10.5</td>\n",
       "      <td>0.72</td>\n",
       "    </tr>\n",
       "    <tr>\n",
       "      <th>45</th>\n",
       "      <td>4</td>\n",
       "      <td>lemon</td>\n",
       "      <td>spanish_belsan</td>\n",
       "      <td>186</td>\n",
       "      <td>7.2</td>\n",
       "      <td>9.2</td>\n",
       "      <td>0.72</td>\n",
       "    </tr>\n",
       "    <tr>\n",
       "      <th>46</th>\n",
       "      <td>4</td>\n",
       "      <td>lemon</td>\n",
       "      <td>spanish_belsan</td>\n",
       "      <td>216</td>\n",
       "      <td>7.3</td>\n",
       "      <td>10.2</td>\n",
       "      <td>0.71</td>\n",
       "    </tr>\n",
       "    <tr>\n",
       "      <th>47</th>\n",
       "      <td>4</td>\n",
       "      <td>lemon</td>\n",
       "      <td>spanish_belsan</td>\n",
       "      <td>196</td>\n",
       "      <td>7.3</td>\n",
       "      <td>9.7</td>\n",
       "      <td>0.72</td>\n",
       "    </tr>\n",
       "    <tr>\n",
       "      <th>48</th>\n",
       "      <td>4</td>\n",
       "      <td>lemon</td>\n",
       "      <td>spanish_belsan</td>\n",
       "      <td>174</td>\n",
       "      <td>7.3</td>\n",
       "      <td>10.1</td>\n",
       "      <td>0.72</td>\n",
       "    </tr>\n",
       "    <tr>\n",
       "      <th>49</th>\n",
       "      <td>4</td>\n",
       "      <td>lemon</td>\n",
       "      <td>unknown</td>\n",
       "      <td>132</td>\n",
       "      <td>5.8</td>\n",
       "      <td>8.7</td>\n",
       "      <td>0.73</td>\n",
       "    </tr>\n",
       "    <tr>\n",
       "      <th>50</th>\n",
       "      <td>4</td>\n",
       "      <td>lemon</td>\n",
       "      <td>unknown</td>\n",
       "      <td>130</td>\n",
       "      <td>6.0</td>\n",
       "      <td>8.2</td>\n",
       "      <td>0.71</td>\n",
       "    </tr>\n",
       "    <tr>\n",
       "      <th>51</th>\n",
       "      <td>4</td>\n",
       "      <td>lemon</td>\n",
       "      <td>unknown</td>\n",
       "      <td>116</td>\n",
       "      <td>6.0</td>\n",
       "      <td>7.5</td>\n",
       "      <td>0.72</td>\n",
       "    </tr>\n",
       "    <tr>\n",
       "      <th>52</th>\n",
       "      <td>4</td>\n",
       "      <td>lemon</td>\n",
       "      <td>unknown</td>\n",
       "      <td>118</td>\n",
       "      <td>5.9</td>\n",
       "      <td>8.0</td>\n",
       "      <td>0.72</td>\n",
       "    </tr>\n",
       "    <tr>\n",
       "      <th>53</th>\n",
       "      <td>4</td>\n",
       "      <td>lemon</td>\n",
       "      <td>unknown</td>\n",
       "      <td>120</td>\n",
       "      <td>6.0</td>\n",
       "      <td>8.4</td>\n",
       "      <td>0.74</td>\n",
       "    </tr>\n",
       "    <tr>\n",
       "      <th>54</th>\n",
       "      <td>4</td>\n",
       "      <td>lemon</td>\n",
       "      <td>unknown</td>\n",
       "      <td>116</td>\n",
       "      <td>6.1</td>\n",
       "      <td>8.5</td>\n",
       "      <td>0.71</td>\n",
       "    </tr>\n",
       "    <tr>\n",
       "      <th>55</th>\n",
       "      <td>4</td>\n",
       "      <td>lemon</td>\n",
       "      <td>unknown</td>\n",
       "      <td>116</td>\n",
       "      <td>6.3</td>\n",
       "      <td>7.7</td>\n",
       "      <td>0.72</td>\n",
       "    </tr>\n",
       "    <tr>\n",
       "      <th>56</th>\n",
       "      <td>4</td>\n",
       "      <td>lemon</td>\n",
       "      <td>unknown</td>\n",
       "      <td>116</td>\n",
       "      <td>5.9</td>\n",
       "      <td>8.1</td>\n",
       "      <td>0.73</td>\n",
       "    </tr>\n",
       "    <tr>\n",
       "      <th>57</th>\n",
       "      <td>4</td>\n",
       "      <td>lemon</td>\n",
       "      <td>unknown</td>\n",
       "      <td>152</td>\n",
       "      <td>6.5</td>\n",
       "      <td>8.5</td>\n",
       "      <td>0.72</td>\n",
       "    </tr>\n",
       "    <tr>\n",
       "      <th>58</th>\n",
       "      <td>4</td>\n",
       "      <td>lemon</td>\n",
       "      <td>unknown</td>\n",
       "      <td>118</td>\n",
       "      <td>6.1</td>\n",
       "      <td>8.1</td>\n",
       "      <td>0.70</td>\n",
       "    </tr>\n",
       "  </tbody>\n",
       "</table>\n",
       "</div>"
      ],
      "text/plain": [
       "    fruit_label fruit_name     fruit_subtype  mass  width  height  color_score\n",
       "0             1      apple      granny_smith   192    8.4     7.3         0.55\n",
       "1             1      apple      granny_smith   180    8.0     6.8         0.59\n",
       "2             1      apple      granny_smith   176    7.4     7.2         0.60\n",
       "3             2   mandarin          mandarin    86    6.2     4.7         0.80\n",
       "4             2   mandarin          mandarin    84    6.0     4.6         0.79\n",
       "5             2   mandarin          mandarin    80    5.8     4.3         0.77\n",
       "6             2   mandarin          mandarin    80    5.9     4.3         0.81\n",
       "7             2   mandarin          mandarin    76    5.8     4.0         0.81\n",
       "8             1      apple          braeburn   178    7.1     7.8         0.92\n",
       "9             1      apple          braeburn   172    7.4     7.0         0.89\n",
       "10            1      apple          braeburn   166    6.9     7.3         0.93\n",
       "11            1      apple          braeburn   172    7.1     7.6         0.92\n",
       "12            1      apple          braeburn   154    7.0     7.1         0.88\n",
       "13            1      apple  golden_delicious   164    7.3     7.7         0.70\n",
       "14            1      apple  golden_delicious   152    7.6     7.3         0.69\n",
       "15            1      apple  golden_delicious   156    7.7     7.1         0.69\n",
       "16            1      apple  golden_delicious   156    7.6     7.5         0.67\n",
       "17            1      apple  golden_delicious   168    7.5     7.6         0.73\n",
       "18            1      apple       cripps_pink   162    7.5     7.1         0.83\n",
       "19            1      apple       cripps_pink   162    7.4     7.2         0.85\n",
       "20            1      apple       cripps_pink   160    7.5     7.5         0.86\n",
       "21            1      apple       cripps_pink   156    7.4     7.4         0.84\n",
       "22            1      apple       cripps_pink   140    7.3     7.1         0.87\n",
       "23            1      apple       cripps_pink   170    7.6     7.9         0.88\n",
       "24            3     orange     spanish_jumbo   342    9.0     9.4         0.75\n",
       "25            3     orange     spanish_jumbo   356    9.2     9.2         0.75\n",
       "26            3     orange     spanish_jumbo   362    9.6     9.2         0.74\n",
       "27            3     orange  selected_seconds   204    7.5     9.2         0.77\n",
       "28            3     orange  selected_seconds   140    6.7     7.1         0.72\n",
       "29            3     orange  selected_seconds   160    7.0     7.4         0.81\n",
       "30            3     orange  selected_seconds   158    7.1     7.5         0.79\n",
       "31            3     orange  selected_seconds   210    7.8     8.0         0.82\n",
       "32            3     orange  selected_seconds   164    7.2     7.0         0.80\n",
       "33            3     orange      turkey_navel   190    7.5     8.1         0.74\n",
       "34            3     orange      turkey_navel   142    7.6     7.8         0.75\n",
       "35            3     orange      turkey_navel   150    7.1     7.9         0.75\n",
       "36            3     orange      turkey_navel   160    7.1     7.6         0.76\n",
       "37            3     orange      turkey_navel   154    7.3     7.3         0.79\n",
       "38            3     orange      turkey_navel   158    7.2     7.8         0.77\n",
       "39            3     orange      turkey_navel   144    6.8     7.4         0.75\n",
       "40            3     orange      turkey_navel   154    7.1     7.5         0.78\n",
       "41            3     orange      turkey_navel   180    7.6     8.2         0.79\n",
       "42            3     orange      turkey_navel   154    7.2     7.2         0.82\n",
       "43            4      lemon    spanish_belsan   194    7.2    10.3         0.70\n",
       "44            4      lemon    spanish_belsan   200    7.3    10.5         0.72\n",
       "45            4      lemon    spanish_belsan   186    7.2     9.2         0.72\n",
       "46            4      lemon    spanish_belsan   216    7.3    10.2         0.71\n",
       "47            4      lemon    spanish_belsan   196    7.3     9.7         0.72\n",
       "48            4      lemon    spanish_belsan   174    7.3    10.1         0.72\n",
       "49            4      lemon           unknown   132    5.8     8.7         0.73\n",
       "50            4      lemon           unknown   130    6.0     8.2         0.71\n",
       "51            4      lemon           unknown   116    6.0     7.5         0.72\n",
       "52            4      lemon           unknown   118    5.9     8.0         0.72\n",
       "53            4      lemon           unknown   120    6.0     8.4         0.74\n",
       "54            4      lemon           unknown   116    6.1     8.5         0.71\n",
       "55            4      lemon           unknown   116    6.3     7.7         0.72\n",
       "56            4      lemon           unknown   116    5.9     8.1         0.73\n",
       "57            4      lemon           unknown   152    6.5     8.5         0.72\n",
       "58            4      lemon           unknown   118    6.1     8.1         0.70"
      ]
     },
     "execution_count": 40,
     "metadata": {},
     "output_type": "execute_result"
    }
   ],
   "source": [
    "df2"
   ]
  },
  {
   "cell_type": "code",
   "execution_count": 41,
   "metadata": {},
   "outputs": [],
   "source": [
    "df3=pd.read_csv(\"fruit.txt\",delimiter=\"\\t\")"
   ]
  },
  {
   "cell_type": "code",
   "execution_count": 42,
   "metadata": {},
   "outputs": [
    {
     "data": {
      "text/html": [
       "<div>\n",
       "<style scoped>\n",
       "    .dataframe tbody tr th:only-of-type {\n",
       "        vertical-align: middle;\n",
       "    }\n",
       "\n",
       "    .dataframe tbody tr th {\n",
       "        vertical-align: top;\n",
       "    }\n",
       "\n",
       "    .dataframe thead th {\n",
       "        text-align: right;\n",
       "    }\n",
       "</style>\n",
       "<table border=\"1\" class=\"dataframe\">\n",
       "  <thead>\n",
       "    <tr style=\"text-align: right;\">\n",
       "      <th></th>\n",
       "      <th>width</th>\n",
       "      <th>height</th>\n",
       "      <th>Target</th>\n",
       "    </tr>\n",
       "  </thead>\n",
       "  <tbody>\n",
       "    <tr>\n",
       "      <th>0</th>\n",
       "      <td>5.0</td>\n",
       "      <td>30.0</td>\n",
       "      <td>Banana</td>\n",
       "    </tr>\n",
       "    <tr>\n",
       "      <th>1</th>\n",
       "      <td>6.0</td>\n",
       "      <td>25.0</td>\n",
       "      <td>Banana</td>\n",
       "    </tr>\n",
       "    <tr>\n",
       "      <th>2</th>\n",
       "      <td>5.3</td>\n",
       "      <td>27.1</td>\n",
       "      <td>Banana</td>\n",
       "    </tr>\n",
       "    <tr>\n",
       "      <th>3</th>\n",
       "      <td>3.0</td>\n",
       "      <td>20.0</td>\n",
       "      <td>Banana</td>\n",
       "    </tr>\n",
       "    <tr>\n",
       "      <th>4</th>\n",
       "      <td>3.5</td>\n",
       "      <td>15.0</td>\n",
       "      <td>Banana</td>\n",
       "    </tr>\n",
       "    <tr>\n",
       "      <th>5</th>\n",
       "      <td>10.0</td>\n",
       "      <td>10.0</td>\n",
       "      <td>Apple</td>\n",
       "    </tr>\n",
       "    <tr>\n",
       "      <th>6</th>\n",
       "      <td>12.0</td>\n",
       "      <td>10.0</td>\n",
       "      <td>Apple</td>\n",
       "    </tr>\n",
       "    <tr>\n",
       "      <th>7</th>\n",
       "      <td>13.0</td>\n",
       "      <td>15.0</td>\n",
       "      <td>Apple</td>\n",
       "    </tr>\n",
       "    <tr>\n",
       "      <th>8</th>\n",
       "      <td>21.0</td>\n",
       "      <td>25.0</td>\n",
       "      <td>Apple</td>\n",
       "    </tr>\n",
       "    <tr>\n",
       "      <th>9</th>\n",
       "      <td>22.0</td>\n",
       "      <td>23.0</td>\n",
       "      <td>Apple</td>\n",
       "    </tr>\n",
       "  </tbody>\n",
       "</table>\n",
       "</div>"
      ],
      "text/plain": [
       "   width   height  Target\n",
       "0     5.0    30.0  Banana\n",
       "1     6.0    25.0  Banana\n",
       "2     5.3    27.1  Banana\n",
       "3     3.0    20.0  Banana\n",
       "4     3.5    15.0  Banana\n",
       "5    10.0    10.0   Apple\n",
       "6    12.0    10.0   Apple\n",
       "7    13.0    15.0   Apple\n",
       "8    21.0    25.0   Apple\n",
       "9    22.0    23.0   Apple"
      ]
     },
     "execution_count": 42,
     "metadata": {},
     "output_type": "execute_result"
    }
   ],
   "source": [
    "df3"
   ]
  },
  {
   "cell_type": "code",
   "execution_count": 43,
   "metadata": {},
   "outputs": [],
   "source": [
    "#KNN---> K nearest neighbors"
   ]
  },
  {
   "cell_type": "code",
   "execution_count": 44,
   "metadata": {},
   "outputs": [],
   "source": [
    "X2=df3.iloc[:,:-1].values"
   ]
  },
  {
   "cell_type": "code",
   "execution_count": 45,
   "metadata": {},
   "outputs": [
    {
     "data": {
      "text/plain": [
       "array([[ 5. , 30. ],\n",
       "       [ 6. , 25. ],\n",
       "       [ 5.3, 27.1],\n",
       "       [ 3. , 20. ],\n",
       "       [ 3.5, 15. ],\n",
       "       [10. , 10. ],\n",
       "       [12. , 10. ],\n",
       "       [13. , 15. ],\n",
       "       [21. , 25. ],\n",
       "       [22. , 23. ]])"
      ]
     },
     "execution_count": 45,
     "metadata": {},
     "output_type": "execute_result"
    }
   ],
   "source": [
    "X2"
   ]
  },
  {
   "cell_type": "code",
   "execution_count": 46,
   "metadata": {},
   "outputs": [],
   "source": [
    "y2=df3.iloc[:,-1].values"
   ]
  },
  {
   "cell_type": "code",
   "execution_count": 47,
   "metadata": {},
   "outputs": [
    {
     "data": {
      "text/plain": [
       "array(['Banana', 'Banana', 'Banana', 'Banana', 'Banana', 'Apple', 'Apple',\n",
       "       'Apple', 'Apple', 'Apple'], dtype=object)"
      ]
     },
     "execution_count": 47,
     "metadata": {},
     "output_type": "execute_result"
    }
   ],
   "source": [
    "y2"
   ]
  },
  {
   "cell_type": "code",
   "execution_count": 48,
   "metadata": {},
   "outputs": [],
   "source": [
    "from sklearn.neighbors import KNeighborsClassifier"
   ]
  },
  {
   "cell_type": "code",
   "execution_count": 49,
   "metadata": {},
   "outputs": [],
   "source": [
    "model2=KNeighborsClassifier()"
   ]
  },
  {
   "cell_type": "code",
   "execution_count": 50,
   "metadata": {},
   "outputs": [
    {
     "data": {
      "text/html": [
       "<style>#sk-container-id-2 {color: black;background-color: white;}#sk-container-id-2 pre{padding: 0;}#sk-container-id-2 div.sk-toggleable {background-color: white;}#sk-container-id-2 label.sk-toggleable__label {cursor: pointer;display: block;width: 100%;margin-bottom: 0;padding: 0.3em;box-sizing: border-box;text-align: center;}#sk-container-id-2 label.sk-toggleable__label-arrow:before {content: \"▸\";float: left;margin-right: 0.25em;color: #696969;}#sk-container-id-2 label.sk-toggleable__label-arrow:hover:before {color: black;}#sk-container-id-2 div.sk-estimator:hover label.sk-toggleable__label-arrow:before {color: black;}#sk-container-id-2 div.sk-toggleable__content {max-height: 0;max-width: 0;overflow: hidden;text-align: left;background-color: #f0f8ff;}#sk-container-id-2 div.sk-toggleable__content pre {margin: 0.2em;color: black;border-radius: 0.25em;background-color: #f0f8ff;}#sk-container-id-2 input.sk-toggleable__control:checked~div.sk-toggleable__content {max-height: 200px;max-width: 100%;overflow: auto;}#sk-container-id-2 input.sk-toggleable__control:checked~label.sk-toggleable__label-arrow:before {content: \"▾\";}#sk-container-id-2 div.sk-estimator input.sk-toggleable__control:checked~label.sk-toggleable__label {background-color: #d4ebff;}#sk-container-id-2 div.sk-label input.sk-toggleable__control:checked~label.sk-toggleable__label {background-color: #d4ebff;}#sk-container-id-2 input.sk-hidden--visually {border: 0;clip: rect(1px 1px 1px 1px);clip: rect(1px, 1px, 1px, 1px);height: 1px;margin: -1px;overflow: hidden;padding: 0;position: absolute;width: 1px;}#sk-container-id-2 div.sk-estimator {font-family: monospace;background-color: #f0f8ff;border: 1px dotted black;border-radius: 0.25em;box-sizing: border-box;margin-bottom: 0.5em;}#sk-container-id-2 div.sk-estimator:hover {background-color: #d4ebff;}#sk-container-id-2 div.sk-parallel-item::after {content: \"\";width: 100%;border-bottom: 1px solid gray;flex-grow: 1;}#sk-container-id-2 div.sk-label:hover label.sk-toggleable__label {background-color: #d4ebff;}#sk-container-id-2 div.sk-serial::before {content: \"\";position: absolute;border-left: 1px solid gray;box-sizing: border-box;top: 0;bottom: 0;left: 50%;z-index: 0;}#sk-container-id-2 div.sk-serial {display: flex;flex-direction: column;align-items: center;background-color: white;padding-right: 0.2em;padding-left: 0.2em;position: relative;}#sk-container-id-2 div.sk-item {position: relative;z-index: 1;}#sk-container-id-2 div.sk-parallel {display: flex;align-items: stretch;justify-content: center;background-color: white;position: relative;}#sk-container-id-2 div.sk-item::before, #sk-container-id-2 div.sk-parallel-item::before {content: \"\";position: absolute;border-left: 1px solid gray;box-sizing: border-box;top: 0;bottom: 0;left: 50%;z-index: -1;}#sk-container-id-2 div.sk-parallel-item {display: flex;flex-direction: column;z-index: 1;position: relative;background-color: white;}#sk-container-id-2 div.sk-parallel-item:first-child::after {align-self: flex-end;width: 50%;}#sk-container-id-2 div.sk-parallel-item:last-child::after {align-self: flex-start;width: 50%;}#sk-container-id-2 div.sk-parallel-item:only-child::after {width: 0;}#sk-container-id-2 div.sk-dashed-wrapped {border: 1px dashed gray;margin: 0 0.4em 0.5em 0.4em;box-sizing: border-box;padding-bottom: 0.4em;background-color: white;}#sk-container-id-2 div.sk-label label {font-family: monospace;font-weight: bold;display: inline-block;line-height: 1.2em;}#sk-container-id-2 div.sk-label-container {text-align: center;}#sk-container-id-2 div.sk-container {/* jupyter's `normalize.less` sets `[hidden] { display: none; }` but bootstrap.min.css set `[hidden] { display: none !important; }` so we also need the `!important` here to be able to override the default hidden behavior on the sphinx rendered scikit-learn.org. See: https://github.com/scikit-learn/scikit-learn/issues/21755 */display: inline-block !important;position: relative;}#sk-container-id-2 div.sk-text-repr-fallback {display: none;}</style><div id=\"sk-container-id-2\" class=\"sk-top-container\"><div class=\"sk-text-repr-fallback\"><pre>KNeighborsClassifier()</pre><b>In a Jupyter environment, please rerun this cell to show the HTML representation or trust the notebook. <br />On GitHub, the HTML representation is unable to render, please try loading this page with nbviewer.org.</b></div><div class=\"sk-container\" hidden><div class=\"sk-item\"><div class=\"sk-estimator sk-toggleable\"><input class=\"sk-toggleable__control sk-hidden--visually\" id=\"sk-estimator-id-2\" type=\"checkbox\" checked><label for=\"sk-estimator-id-2\" class=\"sk-toggleable__label sk-toggleable__label-arrow\">KNeighborsClassifier</label><div class=\"sk-toggleable__content\"><pre>KNeighborsClassifier()</pre></div></div></div></div></div>"
      ],
      "text/plain": [
       "KNeighborsClassifier()"
      ]
     },
     "execution_count": 50,
     "metadata": {},
     "output_type": "execute_result"
    }
   ],
   "source": [
    "model2.fit(X2,y2)"
   ]
  },
  {
   "cell_type": "code",
   "execution_count": 51,
   "metadata": {},
   "outputs": [
    {
     "data": {
      "text/plain": [
       "array(['Apple'], dtype=object)"
      ]
     },
     "execution_count": 51,
     "metadata": {},
     "output_type": "execute_result"
    }
   ],
   "source": [
    "model2.predict([[23,23]])"
   ]
  },
  {
   "cell_type": "code",
   "execution_count": 52,
   "metadata": {},
   "outputs": [
    {
     "data": {
      "text/plain": [
       "array(['Banana'], dtype=object)"
      ]
     },
     "execution_count": 52,
     "metadata": {},
     "output_type": "execute_result"
    }
   ],
   "source": [
    "model2.predict([[5,30]])"
   ]
  },
  {
   "cell_type": "code",
   "execution_count": 53,
   "metadata": {},
   "outputs": [
    {
     "data": {
      "text/plain": [
       "array(['Banana', 'Banana', 'Banana', 'Banana', 'Banana', 'Apple', 'Apple',\n",
       "       'Apple', 'Apple', 'Apple'], dtype=object)"
      ]
     },
     "execution_count": 53,
     "metadata": {},
     "output_type": "execute_result"
    }
   ],
   "source": [
    "y2"
   ]
  },
  {
   "cell_type": "code",
   "execution_count": 54,
   "metadata": {},
   "outputs": [],
   "source": [
    "y_pred2=model2.predict(X2)"
   ]
  },
  {
   "cell_type": "code",
   "execution_count": 55,
   "metadata": {},
   "outputs": [
    {
     "data": {
      "text/plain": [
       "array(['Banana', 'Banana', 'Banana', 'Banana', 'Apple', 'Apple', 'Apple',\n",
       "       'Apple', 'Apple', 'Apple'], dtype=object)"
      ]
     },
     "execution_count": 55,
     "metadata": {},
     "output_type": "execute_result"
    }
   ],
   "source": [
    "y_pred2"
   ]
  },
  {
   "cell_type": "code",
   "execution_count": 56,
   "metadata": {},
   "outputs": [
    {
     "data": {
      "image/png": "[encoded data removed]",
      "text/plain": [
       "<Figure size 640x480 with 1 Axes>"
      ]
     },
     "metadata": {},
     "output_type": "display_data"
    }
   ],
   "source": [
    "plt.scatter(X2[:,0],X2[:,1])\n",
    "plt.show()"
   ]
  },
  {
   "cell_type": "code",
   "execution_count": 57,
   "metadata": {},
   "outputs": [
    {
     "data": {
      "text/plain": [
       "array(['Apple'], dtype=object)"
      ]
     },
     "execution_count": 57,
     "metadata": {},
     "output_type": "execute_result"
    }
   ],
   "source": [
    "model2.predict([[17.5,22.0]])"
   ]
  },
  {
   "cell_type": "code",
   "execution_count": 58,
   "metadata": {},
   "outputs": [
    {
     "data": {
      "text/html": [
       "<div>\n",
       "<style scoped>\n",
       "    .dataframe tbody tr th:only-of-type {\n",
       "        vertical-align: middle;\n",
       "    }\n",
       "\n",
       "    .dataframe tbody tr th {\n",
       "        vertical-align: top;\n",
       "    }\n",
       "\n",
       "    .dataframe thead th {\n",
       "        text-align: right;\n",
       "    }\n",
       "</style>\n",
       "<table border=\"1\" class=\"dataframe\">\n",
       "  <thead>\n",
       "    <tr style=\"text-align: right;\">\n",
       "      <th></th>\n",
       "      <th>width</th>\n",
       "      <th>height</th>\n",
       "      <th>Target</th>\n",
       "    </tr>\n",
       "  </thead>\n",
       "  <tbody>\n",
       "    <tr>\n",
       "      <th>0</th>\n",
       "      <td>5.0</td>\n",
       "      <td>30.0</td>\n",
       "      <td>Banana</td>\n",
       "    </tr>\n",
       "    <tr>\n",
       "      <th>1</th>\n",
       "      <td>6.0</td>\n",
       "      <td>25.0</td>\n",
       "      <td>Banana</td>\n",
       "    </tr>\n",
       "    <tr>\n",
       "      <th>2</th>\n",
       "      <td>5.3</td>\n",
       "      <td>27.1</td>\n",
       "      <td>Banana</td>\n",
       "    </tr>\n",
       "    <tr>\n",
       "      <th>3</th>\n",
       "      <td>3.0</td>\n",
       "      <td>20.0</td>\n",
       "      <td>Banana</td>\n",
       "    </tr>\n",
       "    <tr>\n",
       "      <th>4</th>\n",
       "      <td>3.5</td>\n",
       "      <td>15.0</td>\n",
       "      <td>Banana</td>\n",
       "    </tr>\n",
       "    <tr>\n",
       "      <th>5</th>\n",
       "      <td>10.0</td>\n",
       "      <td>10.0</td>\n",
       "      <td>Apple</td>\n",
       "    </tr>\n",
       "    <tr>\n",
       "      <th>6</th>\n",
       "      <td>12.0</td>\n",
       "      <td>10.0</td>\n",
       "      <td>Apple</td>\n",
       "    </tr>\n",
       "    <tr>\n",
       "      <th>7</th>\n",
       "      <td>13.0</td>\n",
       "      <td>15.0</td>\n",
       "      <td>Apple</td>\n",
       "    </tr>\n",
       "    <tr>\n",
       "      <th>8</th>\n",
       "      <td>21.0</td>\n",
       "      <td>25.0</td>\n",
       "      <td>Apple</td>\n",
       "    </tr>\n",
       "    <tr>\n",
       "      <th>9</th>\n",
       "      <td>22.0</td>\n",
       "      <td>23.0</td>\n",
       "      <td>Apple</td>\n",
       "    </tr>\n",
       "  </tbody>\n",
       "</table>\n",
       "</div>"
      ],
      "text/plain": [
       "   width   height  Target\n",
       "0     5.0    30.0  Banana\n",
       "1     6.0    25.0  Banana\n",
       "2     5.3    27.1  Banana\n",
       "3     3.0    20.0  Banana\n",
       "4     3.5    15.0  Banana\n",
       "5    10.0    10.0   Apple\n",
       "6    12.0    10.0   Apple\n",
       "7    13.0    15.0   Apple\n",
       "8    21.0    25.0   Apple\n",
       "9    22.0    23.0   Apple"
      ]
     },
     "execution_count": 58,
     "metadata": {},
     "output_type": "execute_result"
    }
   ],
   "source": [
    "\n",
    "pd.read_excel(\"Fruit Dataset.xlsx\")"
   ]
  },
  {
   "cell_type": "code",
   "execution_count": 59,
   "metadata": {},
   "outputs": [
    {
     "name": "stdout",
     "output_type": "stream",
     "text": [
      "Requirement already satisfied: openpyxl in c:\\users\\dell\\appdata\\local\\programs\\python\\python311\\lib\\site-packages (3.1.1)\n",
      "Requirement already satisfied: et-xmlfile in c:\\users\\dell\\appdata\\local\\programs\\python\\python311\\lib\\site-packages (from openpyxl) (1.1.0)\n",
      "Note: you may need to restart the kernel to use updated packages.\n"
     ]
    },
    {
     "name": "stderr",
     "output_type": "stream",
     "text": [
      "\n",
      "[notice] A new release of pip available: 22.3.1 -> 23.0.1\n",
      "[notice] To update, run: python.exe -m pip install --upgrade pip\n"
     ]
    }
   ],
   "source": [
    "pip install openpyxl"
   ]
  },
  {
   "cell_type": "code",
   "execution_count": 60,
   "metadata": {},
   "outputs": [],
   "source": [
    "df=pd.read_csv(\"fruit_dataset_1500.csv\")"
   ]
  },
  {
   "cell_type": "code",
   "execution_count": 61,
   "metadata": {},
   "outputs": [
    {
     "data": {
      "text/html": [
       "<div>\n",
       "<style scoped>\n",
       "    .dataframe tbody tr th:only-of-type {\n",
       "        vertical-align: middle;\n",
       "    }\n",
       "\n",
       "    .dataframe tbody tr th {\n",
       "        vertical-align: top;\n",
       "    }\n",
       "\n",
       "    .dataframe thead th {\n",
       "        text-align: right;\n",
       "    }\n",
       "</style>\n",
       "<table border=\"1\" class=\"dataframe\">\n",
       "  <thead>\n",
       "    <tr style=\"text-align: right;\">\n",
       "      <th></th>\n",
       "      <th>x</th>\n",
       "      <th>y</th>\n",
       "      <th>class</th>\n",
       "    </tr>\n",
       "  </thead>\n",
       "  <tbody>\n",
       "    <tr>\n",
       "      <th>0</th>\n",
       "      <td>4.194795</td>\n",
       "      <td>-0.938062</td>\n",
       "      <td>apple</td>\n",
       "    </tr>\n",
       "    <tr>\n",
       "      <th>1</th>\n",
       "      <td>8.269129</td>\n",
       "      <td>-4.450061</td>\n",
       "      <td>apple</td>\n",
       "    </tr>\n",
       "    <tr>\n",
       "      <th>2</th>\n",
       "      <td>8.451618</td>\n",
       "      <td>3.547347</td>\n",
       "      <td>apple</td>\n",
       "    </tr>\n",
       "    <tr>\n",
       "      <th>3</th>\n",
       "      <td>7.127931</td>\n",
       "      <td>-4.404420</td>\n",
       "      <td>apple</td>\n",
       "    </tr>\n",
       "    <tr>\n",
       "      <th>4</th>\n",
       "      <td>5.993756</td>\n",
       "      <td>5.669073</td>\n",
       "      <td>apple</td>\n",
       "    </tr>\n",
       "    <tr>\n",
       "      <th>...</th>\n",
       "      <td>...</td>\n",
       "      <td>...</td>\n",
       "      <td>...</td>\n",
       "    </tr>\n",
       "    <tr>\n",
       "      <th>1495</th>\n",
       "      <td>5.723135</td>\n",
       "      <td>10.423754</td>\n",
       "      <td>orange</td>\n",
       "    </tr>\n",
       "    <tr>\n",
       "      <th>1496</th>\n",
       "      <td>5.526111</td>\n",
       "      <td>6.526867</td>\n",
       "      <td>orange</td>\n",
       "    </tr>\n",
       "    <tr>\n",
       "      <th>1497</th>\n",
       "      <td>11.748750</td>\n",
       "      <td>10.888969</td>\n",
       "      <td>orange</td>\n",
       "    </tr>\n",
       "    <tr>\n",
       "      <th>1498</th>\n",
       "      <td>11.408684</td>\n",
       "      <td>9.115518</td>\n",
       "      <td>orange</td>\n",
       "    </tr>\n",
       "    <tr>\n",
       "      <th>1499</th>\n",
       "      <td>11.371411</td>\n",
       "      <td>4.657548</td>\n",
       "      <td>orange</td>\n",
       "    </tr>\n",
       "  </tbody>\n",
       "</table>\n",
       "<p>1500 rows × 3 columns</p>\n",
       "</div>"
      ],
      "text/plain": [
       "              x          y   class\n",
       "0      4.194795  -0.938062   apple\n",
       "1      8.269129  -4.450061   apple\n",
       "2      8.451618   3.547347   apple\n",
       "3      7.127931  -4.404420   apple\n",
       "4      5.993756   5.669073   apple\n",
       "...         ...        ...     ...\n",
       "1495   5.723135  10.423754  orange\n",
       "1496   5.526111   6.526867  orange\n",
       "1497  11.748750  10.888969  orange\n",
       "1498  11.408684   9.115518  orange\n",
       "1499  11.371411   4.657548  orange\n",
       "\n",
       "[1500 rows x 3 columns]"
      ]
     },
     "execution_count": 61,
     "metadata": {},
     "output_type": "execute_result"
    }
   ],
   "source": [
    "df"
   ]
  },
  {
   "cell_type": "code",
   "execution_count": 62,
   "metadata": {},
   "outputs": [],
   "source": [
    "X=df.iloc[:,:-1].values"
   ]
  },
  {
   "cell_type": "code",
   "execution_count": 63,
   "metadata": {},
   "outputs": [
    {
     "data": {
      "text/plain": [
       "array([[ 4.19479549, -0.93806173],\n",
       "       [ 8.2691289 , -4.45006093],\n",
       "       [ 8.45161823,  3.54734706],\n",
       "       ...,\n",
       "       [11.74875014, 10.88896908],\n",
       "       [11.40868424,  9.11551786],\n",
       "       [11.37141056,  4.6575478 ]])"
      ]
     },
     "execution_count": 63,
     "metadata": {},
     "output_type": "execute_result"
    }
   ],
   "source": [
    "X"
   ]
  },
  {
   "cell_type": "code",
   "execution_count": 64,
   "metadata": {},
   "outputs": [],
   "source": [
    "y=df.iloc[:,-1].values"
   ]
  },
  {
   "cell_type": "code",
   "execution_count": 65,
   "metadata": {},
   "outputs": [
    {
     "data": {
      "text/plain": [
       "array(['apple', 'apple', 'apple', ..., 'orange', 'orange', 'orange'],\n",
       "      dtype=object)"
      ]
     },
     "execution_count": 65,
     "metadata": {},
     "output_type": "execute_result"
    }
   ],
   "source": [
    "y"
   ]
  },
  {
   "cell_type": "code",
   "execution_count": 66,
   "metadata": {},
   "outputs": [],
   "source": [
    "# KNN"
   ]
  },
  {
   "cell_type": "code",
   "execution_count": 67,
   "metadata": {},
   "outputs": [],
   "source": [
    "from sklearn.neighbors import KNeighborsClassifier"
   ]
  },
  {
   "cell_type": "code",
   "execution_count": 68,
   "metadata": {},
   "outputs": [],
   "source": [
    "model3=KNeighborsClassifier()"
   ]
  },
  {
   "cell_type": "code",
   "execution_count": 69,
   "metadata": {},
   "outputs": [
    {
     "data": {
      "text/html": [
       "<style>#sk-container-id-3 {color: black;background-color: white;}#sk-container-id-3 pre{padding: 0;}#sk-container-id-3 div.sk-toggleable {background-color: white;}#sk-container-id-3 label.sk-toggleable__label {cursor: pointer;display: block;width: 100%;margin-bottom: 0;padding: 0.3em;box-sizing: border-box;text-align: center;}#sk-container-id-3 label.sk-toggleable__label-arrow:before {content: \"▸\";float: left;margin-right: 0.25em;color: #696969;}#sk-container-id-3 label.sk-toggleable__label-arrow:hover:before {color: black;}#sk-container-id-3 div.sk-estimator:hover label.sk-toggleable__label-arrow:before {color: black;}#sk-container-id-3 div.sk-toggleable__content {max-height: 0;max-width: 0;overflow: hidden;text-align: left;background-color: #f0f8ff;}#sk-container-id-3 div.sk-toggleable__content pre {margin: 0.2em;color: black;border-radius: 0.25em;background-color: #f0f8ff;}#sk-container-id-3 input.sk-toggleable__control:checked~div.sk-toggleable__content {max-height: 200px;max-width: 100%;overflow: auto;}#sk-container-id-3 input.sk-toggleable__control:checked~label.sk-toggleable__label-arrow:before {content: \"▾\";}#sk-container-id-3 div.sk-estimator input.sk-toggleable__control:checked~label.sk-toggleable__label {background-color: #d4ebff;}#sk-container-id-3 div.sk-label input.sk-toggleable__control:checked~label.sk-toggleable__label {background-color: #d4ebff;}#sk-container-id-3 input.sk-hidden--visually {border: 0;clip: rect(1px 1px 1px 1px);clip: rect(1px, 1px, 1px, 1px);height: 1px;margin: -1px;overflow: hidden;padding: 0;position: absolute;width: 1px;}#sk-container-id-3 div.sk-estimator {font-family: monospace;background-color: #f0f8ff;border: 1px dotted black;border-radius: 0.25em;box-sizing: border-box;margin-bottom: 0.5em;}#sk-container-id-3 div.sk-estimator:hover {background-color: #d4ebff;}#sk-container-id-3 div.sk-parallel-item::after {content: \"\";width: 100%;border-bottom: 1px solid gray;flex-grow: 1;}#sk-container-id-3 div.sk-label:hover label.sk-toggleable__label {background-color: #d4ebff;}#sk-container-id-3 div.sk-serial::before {content: \"\";position: absolute;border-left: 1px solid gray;box-sizing: border-box;top: 0;bottom: 0;left: 50%;z-index: 0;}#sk-container-id-3 div.sk-serial {display: flex;flex-direction: column;align-items: center;background-color: white;padding-right: 0.2em;padding-left: 0.2em;position: relative;}#sk-container-id-3 div.sk-item {position: relative;z-index: 1;}#sk-container-id-3 div.sk-parallel {display: flex;align-items: stretch;justify-content: center;background-color: white;position: relative;}#sk-container-id-3 div.sk-item::before, #sk-container-id-3 div.sk-parallel-item::before {content: \"\";position: absolute;border-left: 1px solid gray;box-sizing: border-box;top: 0;bottom: 0;left: 50%;z-index: -1;}#sk-container-id-3 div.sk-parallel-item {display: flex;flex-direction: column;z-index: 1;position: relative;background-color: white;}#sk-container-id-3 div.sk-parallel-item:first-child::after {align-self: flex-end;width: 50%;}#sk-container-id-3 div.sk-parallel-item:last-child::after {align-self: flex-start;width: 50%;}#sk-container-id-3 div.sk-parallel-item:only-child::after {width: 0;}#sk-container-id-3 div.sk-dashed-wrapped {border: 1px dashed gray;margin: 0 0.4em 0.5em 0.4em;box-sizing: border-box;padding-bottom: 0.4em;background-color: white;}#sk-container-id-3 div.sk-label label {font-family: monospace;font-weight: bold;display: inline-block;line-height: 1.2em;}#sk-container-id-3 div.sk-label-container {text-align: center;}#sk-container-id-3 div.sk-container {/* jupyter's `normalize.less` sets `[hidden] { display: none; }` but bootstrap.min.css set `[hidden] { display: none !important; }` so we also need the `!important` here to be able to override the default hidden behavior on the sphinx rendered scikit-learn.org. See: https://github.com/scikit-learn/scikit-learn/issues/21755 */display: inline-block !important;position: relative;}#sk-container-id-3 div.sk-text-repr-fallback {display: none;}</style><div id=\"sk-container-id-3\" class=\"sk-top-container\"><div class=\"sk-text-repr-fallback\"><pre>KNeighborsClassifier()</pre><b>In a Jupyter environment, please rerun this cell to show the HTML representation or trust the notebook. <br />On GitHub, the HTML representation is unable to render, please try loading this page with nbviewer.org.</b></div><div class=\"sk-container\" hidden><div class=\"sk-item\"><div class=\"sk-estimator sk-toggleable\"><input class=\"sk-toggleable__control sk-hidden--visually\" id=\"sk-estimator-id-3\" type=\"checkbox\" checked><label for=\"sk-estimator-id-3\" class=\"sk-toggleable__label sk-toggleable__label-arrow\">KNeighborsClassifier</label><div class=\"sk-toggleable__content\"><pre>KNeighborsClassifier()</pre></div></div></div></div></div>"
      ],
      "text/plain": [
       "KNeighborsClassifier()"
      ]
     },
     "execution_count": 69,
     "metadata": {},
     "output_type": "execute_result"
    }
   ],
   "source": [
    "model3.fit(X,y)"
   ]
  },
  {
   "cell_type": "code",
   "execution_count": 70,
   "metadata": {},
   "outputs": [],
   "source": [
    "sample=[[4.194795,-0.938062]]\n"
   ]
  },
  {
   "cell_type": "code",
   "execution_count": 71,
   "metadata": {},
   "outputs": [
    {
     "data": {
      "text/plain": [
       "array(['apple'], dtype=object)"
      ]
     },
     "execution_count": 71,
     "metadata": {},
     "output_type": "execute_result"
    }
   ],
   "source": [
    "model3.predict(sample)"
   ]
  },
  {
   "cell_type": "code",
   "execution_count": 72,
   "metadata": {},
   "outputs": [],
   "source": [
    "sample=[[5.194,-1.9386]]"
   ]
  },
  {
   "cell_type": "code",
   "execution_count": 73,
   "metadata": {},
   "outputs": [
    {
     "data": {
      "text/plain": [
       "array(['banana'], dtype=object)"
      ]
     },
     "execution_count": 73,
     "metadata": {},
     "output_type": "execute_result"
    }
   ],
   "source": [
    "model3.predict(sample)"
   ]
  },
  {
   "cell_type": "code",
   "execution_count": 74,
   "metadata": {},
   "outputs": [
    {
     "data": {
      "image/png": "[encoded data removed]",
      "text/plain": [
       "<Figure size 640x480 with 1 Axes>"
      ]
     },
     "metadata": {},
     "output_type": "display_data"
    }
   ],
   "source": [
    "plt.scatter(df.iloc[:,0],df.iloc[:,1])\n",
    "plt.show()"
   ]
  },
  {
   "cell_type": "code",
   "execution_count": 75,
   "metadata": {},
   "outputs": [
    {
     "name": "stdout",
     "output_type": "stream",
     "text": [
      "Requirement already satisfied: seaborn in c:\\users\\dell\\appdata\\local\\programs\\python\\python311\\lib\\site-packages (0.12.2)\n",
      "Requirement already satisfied: numpy!=1.24.0,>=1.17 in c:\\users\\dell\\appdata\\local\\programs\\python\\python311\\lib\\site-packages (from seaborn) (1.24.2)\n",
      "Requirement already satisfied: pandas>=0.25 in c:\\users\\dell\\appdata\\local\\programs\\python\\python311\\lib\\site-packages (from seaborn) (1.5.3)\n",
      "Requirement already satisfied: matplotlib!=3.6.1,>=3.1 in c:\\users\\dell\\appdata\\local\\programs\\python\\python311\\lib\\site-packages (from seaborn) (3.7.0)\n",
      "Requirement already satisfied: contourpy>=1.0.1 in c:\\users\\dell\\appdata\\local\\programs\\python\\python311\\lib\\site-packages (from matplotlib!=3.6.1,>=3.1->seaborn) (1.0.7)\n",
      "Requirement already satisfied: cycler>=0.10 in c:\\users\\dell\\appdata\\local\\programs\\python\\python311\\lib\\site-packages (from matplotlib!=3.6.1,>=3.1->seaborn) (0.11.0)\n",
      "Requirement already satisfied: fonttools>=4.22.0 in c:\\users\\dell\\appdata\\local\\programs\\python\\python311\\lib\\site-packages (from matplotlib!=3.6.1,>=3.1->seaborn) (4.38.0)\n",
      "Requirement already satisfied: kiwisolver>=1.0.1 in c:\\users\\dell\\appdata\\local\\programs\\python\\python311\\lib\\site-packages (from matplotlib!=3.6.1,>=3.1->seaborn) (1.4.4)\n",
      "Requirement already satisfied: packaging>=20.0 in c:\\users\\dell\\appdata\\roaming\\python\\python311\\site-packages (from matplotlib!=3.6.1,>=3.1->seaborn) (23.0)\n",
      "Requirement already satisfied: pillow>=6.2.0 in c:\\users\\dell\\appdata\\local\\programs\\python\\python311\\lib\\site-packages (from matplotlib!=3.6.1,>=3.1->seaborn) (9.4.0)\n",
      "Requirement already satisfied: pyparsing>=2.3.1 in c:\\users\\dell\\appdata\\local\\programs\\python\\python311\\lib\\site-packages (from matplotlib!=3.6.1,>=3.1->seaborn) (3.0.9)\n",
      "Requirement already satisfied: python-dateutil>=2.7 in c:\\users\\dell\\appdata\\roaming\\python\\python311\\site-packages (from matplotlib!=3.6.1,>=3.1->seaborn) (2.8.2)\n",
      "Requirement already satisfied: pytz>=2020.1 in c:\\users\\dell\\appdata\\local\\programs\\python\\python311\\lib\\site-packages (from pandas>=0.25->seaborn) (2022.7.1)\n",
      "Requirement already satisfied: six>=1.5 in c:\\users\\dell\\appdata\\roaming\\python\\python311\\site-packages (from python-dateutil>=2.7->matplotlib!=3.6.1,>=3.1->seaborn) (1.16.0)\n",
      "Note: you may need to restart the kernel to use updated packages.\n"
     ]
    },
    {
     "name": "stderr",
     "output_type": "stream",
     "text": [
      "\n",
      "[notice] A new release of pip available: 22.3.1 -> 23.0.1\n",
      "[notice] To update, run: python.exe -m pip install --upgrade pip\n"
     ]
    }
   ],
   "source": [
    "pip install seaborn"
   ]
  },
  {
   "cell_type": "code",
   "execution_count": 76,
   "metadata": {},
   "outputs": [],
   "source": [
    "import seaborn as sn"
   ]
  },
  {
   "cell_type": "code",
   "execution_count": 77,
   "metadata": {},
   "outputs": [
    {
     "data": {
      "image/png": "[encoded data removed]",
      "text/plain": [
       "<Figure size 640x480 with 1 Axes>"
      ]
     },
     "metadata": {},
     "output_type": "display_data"
    }
   ],
   "source": [
    "sn.scatterplot(x=df.iloc[:,0],y=df.iloc[:,1])\n",
    "plt.show()"
   ]
  },
  {
   "cell_type": "code",
   "execution_count": 78,
   "metadata": {},
   "outputs": [
    {
     "data": {
      "image/png": "[encoded data removed]",
      "text/plain": [
       "<Figure size 500x500 with 1 Axes>"
      ]
     },
     "metadata": {},
     "output_type": "display_data"
    }
   ],
   "source": [
    "plt.figure(figsize=(5,5))\n",
    "sn.scatterplot(x=df.iloc[:,0],y=df.iloc[:,1],hue=df['class'])\n",
    "plt.show()"
   ]
  },
  {
   "cell_type": "code",
   "execution_count": 79,
   "metadata": {},
   "outputs": [],
   "source": [
    "# hoe does K-NN work?\n",
    "# 1> select the number K of the neighbors\n",
    "# 2> calculate the Euclidean distance of K number of neighbors\n",
    "# 3> take the K nearest neighbors as per the calculated Euclidean distance\n",
    "# 4> Among these K neighbors count the number of the data points in each category \n",
    "# 5> Assign the new data points to that category for which the number of the neighbor is maximum\n",
    "# 6> our model is ready."
   ]
  },
  {
   "cell_type": "code",
   "execution_count": 80,
   "metadata": {},
   "outputs": [],
   "source": [
    "# Bais-> Actual Data-Training Data=100-90=10(high)\n"
   ]
  },
  {
   "cell_type": "code",
   "execution_count": 81,
   "metadata": {},
   "outputs": [],
   "source": [
    "#varience-> Training Score -Testing Score\n",
    "           #  90-70\n",
    "           #  20(high)\n",
    "# The model which accept in the market must have Bais-Varience difference less Than 10"
   ]
  },
  {
   "cell_type": "code",
   "execution_count": 82,
   "metadata": {},
   "outputs": [],
   "source": [
    "# Underfitting-> Model work well with Testing Data but Worst with Training Data\n",
    "\n",
    "# Overfitting-> Model work well with Training Data but Worst with Testing Data "
   ]
  },
  {
   "cell_type": "code",
   "execution_count": 83,
   "metadata": {},
   "outputs": [],
   "source": [
    "df=pd.read_csv(\"fruit.txt\",delimiter=\"\\t\")"
   ]
  },
  {
   "cell_type": "code",
   "execution_count": 84,
   "metadata": {},
   "outputs": [
    {
     "data": {
      "text/html": [
       "<div>\n",
       "<style scoped>\n",
       "    .dataframe tbody tr th:only-of-type {\n",
       "        vertical-align: middle;\n",
       "    }\n",
       "\n",
       "    .dataframe tbody tr th {\n",
       "        vertical-align: top;\n",
       "    }\n",
       "\n",
       "    .dataframe thead th {\n",
       "        text-align: right;\n",
       "    }\n",
       "</style>\n",
       "<table border=\"1\" class=\"dataframe\">\n",
       "  <thead>\n",
       "    <tr style=\"text-align: right;\">\n",
       "      <th></th>\n",
       "      <th>width</th>\n",
       "      <th>height</th>\n",
       "      <th>Target</th>\n",
       "    </tr>\n",
       "  </thead>\n",
       "  <tbody>\n",
       "    <tr>\n",
       "      <th>0</th>\n",
       "      <td>5.0</td>\n",
       "      <td>30.0</td>\n",
       "      <td>Banana</td>\n",
       "    </tr>\n",
       "    <tr>\n",
       "      <th>1</th>\n",
       "      <td>6.0</td>\n",
       "      <td>25.0</td>\n",
       "      <td>Banana</td>\n",
       "    </tr>\n",
       "    <tr>\n",
       "      <th>2</th>\n",
       "      <td>5.3</td>\n",
       "      <td>27.1</td>\n",
       "      <td>Banana</td>\n",
       "    </tr>\n",
       "    <tr>\n",
       "      <th>3</th>\n",
       "      <td>3.0</td>\n",
       "      <td>20.0</td>\n",
       "      <td>Banana</td>\n",
       "    </tr>\n",
       "    <tr>\n",
       "      <th>4</th>\n",
       "      <td>3.5</td>\n",
       "      <td>15.0</td>\n",
       "      <td>Banana</td>\n",
       "    </tr>\n",
       "    <tr>\n",
       "      <th>5</th>\n",
       "      <td>10.0</td>\n",
       "      <td>10.0</td>\n",
       "      <td>Apple</td>\n",
       "    </tr>\n",
       "    <tr>\n",
       "      <th>6</th>\n",
       "      <td>12.0</td>\n",
       "      <td>10.0</td>\n",
       "      <td>Apple</td>\n",
       "    </tr>\n",
       "    <tr>\n",
       "      <th>7</th>\n",
       "      <td>13.0</td>\n",
       "      <td>15.0</td>\n",
       "      <td>Apple</td>\n",
       "    </tr>\n",
       "    <tr>\n",
       "      <th>8</th>\n",
       "      <td>21.0</td>\n",
       "      <td>25.0</td>\n",
       "      <td>Apple</td>\n",
       "    </tr>\n",
       "    <tr>\n",
       "      <th>9</th>\n",
       "      <td>22.0</td>\n",
       "      <td>23.0</td>\n",
       "      <td>Apple</td>\n",
       "    </tr>\n",
       "  </tbody>\n",
       "</table>\n",
       "</div>"
      ],
      "text/plain": [
       "   width   height  Target\n",
       "0     5.0    30.0  Banana\n",
       "1     6.0    25.0  Banana\n",
       "2     5.3    27.1  Banana\n",
       "3     3.0    20.0  Banana\n",
       "4     3.5    15.0  Banana\n",
       "5    10.0    10.0   Apple\n",
       "6    12.0    10.0   Apple\n",
       "7    13.0    15.0   Apple\n",
       "8    21.0    25.0   Apple\n",
       "9    22.0    23.0   Apple"
      ]
     },
     "execution_count": 84,
     "metadata": {},
     "output_type": "execute_result"
    }
   ],
   "source": [
    "df"
   ]
  },
  {
   "cell_type": "code",
   "execution_count": 85,
   "metadata": {},
   "outputs": [],
   "source": [
    "from sklearn.neighbors import KNeighborsClassifier"
   ]
  },
  {
   "cell_type": "code",
   "execution_count": 86,
   "metadata": {},
   "outputs": [],
   "source": [
    "model4=KNeighborsClassifier()"
   ]
  },
  {
   "cell_type": "code",
   "execution_count": 87,
   "metadata": {},
   "outputs": [],
   "source": [
    "X=df.iloc[:,:-1].values"
   ]
  },
  {
   "cell_type": "code",
   "execution_count": 88,
   "metadata": {},
   "outputs": [
    {
     "data": {
      "text/plain": [
       "array([[ 5. , 30. ],\n",
       "       [ 6. , 25. ],\n",
       "       [ 5.3, 27.1],\n",
       "       [ 3. , 20. ],\n",
       "       [ 3.5, 15. ],\n",
       "       [10. , 10. ],\n",
       "       [12. , 10. ],\n",
       "       [13. , 15. ],\n",
       "       [21. , 25. ],\n",
       "       [22. , 23. ]])"
      ]
     },
     "execution_count": 88,
     "metadata": {},
     "output_type": "execute_result"
    }
   ],
   "source": [
    "X"
   ]
  },
  {
   "cell_type": "code",
   "execution_count": 89,
   "metadata": {},
   "outputs": [],
   "source": [
    "y=df.iloc[:,-1].values"
   ]
  },
  {
   "cell_type": "code",
   "execution_count": 90,
   "metadata": {},
   "outputs": [
    {
     "data": {
      "text/plain": [
       "array(['Banana', 'Banana', 'Banana', 'Banana', 'Banana', 'Apple', 'Apple',\n",
       "       'Apple', 'Apple', 'Apple'], dtype=object)"
      ]
     },
     "execution_count": 90,
     "metadata": {},
     "output_type": "execute_result"
    }
   ],
   "source": [
    "y"
   ]
  },
  {
   "cell_type": "code",
   "execution_count": 91,
   "metadata": {},
   "outputs": [
    {
     "data": {
      "text/html": [
       "<style>#sk-container-id-4 {color: black;background-color: white;}#sk-container-id-4 pre{padding: 0;}#sk-container-id-4 div.sk-toggleable {background-color: white;}#sk-container-id-4 label.sk-toggleable__label {cursor: pointer;display: block;width: 100%;margin-bottom: 0;padding: 0.3em;box-sizing: border-box;text-align: center;}#sk-container-id-4 label.sk-toggleable__label-arrow:before {content: \"▸\";float: left;margin-right: 0.25em;color: #696969;}#sk-container-id-4 label.sk-toggleable__label-arrow:hover:before {color: black;}#sk-container-id-4 div.sk-estimator:hover label.sk-toggleable__label-arrow:before {color: black;}#sk-container-id-4 div.sk-toggleable__content {max-height: 0;max-width: 0;overflow: hidden;text-align: left;background-color: #f0f8ff;}#sk-container-id-4 div.sk-toggleable__content pre {margin: 0.2em;color: black;border-radius: 0.25em;background-color: #f0f8ff;}#sk-container-id-4 input.sk-toggleable__control:checked~div.sk-toggleable__content {max-height: 200px;max-width: 100%;overflow: auto;}#sk-container-id-4 input.sk-toggleable__control:checked~label.sk-toggleable__label-arrow:before {content: \"▾\";}#sk-container-id-4 div.sk-estimator input.sk-toggleable__control:checked~label.sk-toggleable__label {background-color: #d4ebff;}#sk-container-id-4 div.sk-label input.sk-toggleable__control:checked~label.sk-toggleable__label {background-color: #d4ebff;}#sk-container-id-4 input.sk-hidden--visually {border: 0;clip: rect(1px 1px 1px 1px);clip: rect(1px, 1px, 1px, 1px);height: 1px;margin: -1px;overflow: hidden;padding: 0;position: absolute;width: 1px;}#sk-container-id-4 div.sk-estimator {font-family: monospace;background-color: #f0f8ff;border: 1px dotted black;border-radius: 0.25em;box-sizing: border-box;margin-bottom: 0.5em;}#sk-container-id-4 div.sk-estimator:hover {background-color: #d4ebff;}#sk-container-id-4 div.sk-parallel-item::after {content: \"\";width: 100%;border-bottom: 1px solid gray;flex-grow: 1;}#sk-container-id-4 div.sk-label:hover label.sk-toggleable__label {background-color: #d4ebff;}#sk-container-id-4 div.sk-serial::before {content: \"\";position: absolute;border-left: 1px solid gray;box-sizing: border-box;top: 0;bottom: 0;left: 50%;z-index: 0;}#sk-container-id-4 div.sk-serial {display: flex;flex-direction: column;align-items: center;background-color: white;padding-right: 0.2em;padding-left: 0.2em;position: relative;}#sk-container-id-4 div.sk-item {position: relative;z-index: 1;}#sk-container-id-4 div.sk-parallel {display: flex;align-items: stretch;justify-content: center;background-color: white;position: relative;}#sk-container-id-4 div.sk-item::before, #sk-container-id-4 div.sk-parallel-item::before {content: \"\";position: absolute;border-left: 1px solid gray;box-sizing: border-box;top: 0;bottom: 0;left: 50%;z-index: -1;}#sk-container-id-4 div.sk-parallel-item {display: flex;flex-direction: column;z-index: 1;position: relative;background-color: white;}#sk-container-id-4 div.sk-parallel-item:first-child::after {align-self: flex-end;width: 50%;}#sk-container-id-4 div.sk-parallel-item:last-child::after {align-self: flex-start;width: 50%;}#sk-container-id-4 div.sk-parallel-item:only-child::after {width: 0;}#sk-container-id-4 div.sk-dashed-wrapped {border: 1px dashed gray;margin: 0 0.4em 0.5em 0.4em;box-sizing: border-box;padding-bottom: 0.4em;background-color: white;}#sk-container-id-4 div.sk-label label {font-family: monospace;font-weight: bold;display: inline-block;line-height: 1.2em;}#sk-container-id-4 div.sk-label-container {text-align: center;}#sk-container-id-4 div.sk-container {/* jupyter's `normalize.less` sets `[hidden] { display: none; }` but bootstrap.min.css set `[hidden] { display: none !important; }` so we also need the `!important` here to be able to override the default hidden behavior on the sphinx rendered scikit-learn.org. See: https://github.com/scikit-learn/scikit-learn/issues/21755 */display: inline-block !important;position: relative;}#sk-container-id-4 div.sk-text-repr-fallback {display: none;}</style><div id=\"sk-container-id-4\" class=\"sk-top-container\"><div class=\"sk-text-repr-fallback\"><pre>KNeighborsClassifier()</pre><b>In a Jupyter environment, please rerun this cell to show the HTML representation or trust the notebook. <br />On GitHub, the HTML representation is unable to render, please try loading this page with nbviewer.org.</b></div><div class=\"sk-container\" hidden><div class=\"sk-item\"><div class=\"sk-estimator sk-toggleable\"><input class=\"sk-toggleable__control sk-hidden--visually\" id=\"sk-estimator-id-4\" type=\"checkbox\" checked><label for=\"sk-estimator-id-4\" class=\"sk-toggleable__label sk-toggleable__label-arrow\">KNeighborsClassifier</label><div class=\"sk-toggleable__content\"><pre>KNeighborsClassifier()</pre></div></div></div></div></div>"
      ],
      "text/plain": [
       "KNeighborsClassifier()"
      ]
     },
     "execution_count": 91,
     "metadata": {},
     "output_type": "execute_result"
    }
   ],
   "source": [
    "model4.fit(X,y)"
   ]
  },
  {
   "cell_type": "code",
   "execution_count": 92,
   "metadata": {},
   "outputs": [
    {
     "data": {
      "text/plain": [
       "array(['Banana'], dtype=object)"
      ]
     },
     "execution_count": 92,
     "metadata": {},
     "output_type": "execute_result"
    }
   ],
   "source": [
    "model4.predict([[5,30]])"
   ]
  },
  {
   "cell_type": "code",
   "execution_count": 93,
   "metadata": {},
   "outputs": [],
   "source": [
    "y_pred=model4.predict(X)"
   ]
  },
  {
   "cell_type": "code",
   "execution_count": 94,
   "metadata": {},
   "outputs": [
    {
     "data": {
      "text/plain": [
       "array(['Banana', 'Banana', 'Banana', 'Banana', 'Apple', 'Apple', 'Apple',\n",
       "       'Apple', 'Apple', 'Apple'], dtype=object)"
      ]
     },
     "execution_count": 94,
     "metadata": {},
     "output_type": "execute_result"
    }
   ],
   "source": [
    "y_pred"
   ]
  },
  {
   "cell_type": "code",
   "execution_count": 95,
   "metadata": {},
   "outputs": [
    {
     "data": {
      "text/plain": [
       "array(['Banana', 'Banana', 'Banana', 'Banana', 'Banana', 'Apple', 'Apple',\n",
       "       'Apple', 'Apple', 'Apple'], dtype=object)"
      ]
     },
     "execution_count": 95,
     "metadata": {},
     "output_type": "execute_result"
    }
   ],
   "source": [
    "y"
   ]
  },
  {
   "cell_type": "code",
   "execution_count": 96,
   "metadata": {},
   "outputs": [],
   "source": [
    "from sklearn.metrics import accuracy_score"
   ]
  },
  {
   "cell_type": "code",
   "execution_count": 97,
   "metadata": {},
   "outputs": [
    {
     "data": {
      "text/plain": [
       "0.9"
      ]
     },
     "execution_count": 97,
     "metadata": {},
     "output_type": "execute_result"
    }
   ],
   "source": [
    "accuracy_score(y_pred,y)"
   ]
  },
  {
   "cell_type": "code",
   "execution_count": 98,
   "metadata": {},
   "outputs": [
    {
     "name": "stdout",
     "output_type": "stream",
     "text": [
      "Training Score of 1 neighbors= 1.0\n",
      "Training Score of 2 neighbors= 1.0\n",
      "Training Score of 3 neighbors= 1.0\n",
      "Training Score of 4 neighbors= 0.9\n",
      "Training Score of 5 neighbors= 0.9\n",
      "Training Score of 6 neighbors= 0.9\n",
      "Training Score of 7 neighbors= 1.0\n",
      "Training Score of 8 neighbors= 1.0\n",
      "Training Score of 9 neighbors= 1.0\n"
     ]
    }
   ],
   "source": [
    "from sklearn.neighbors import KNeighborsClassifier\n",
    "from sklearn.metrics import accuracy_score\n",
    "for i in range(1,10):\n",
    "    model4=KNeighborsClassifier(n_neighbors=i)\n",
    "    model4.fit(X,y)\n",
    "    y_pred=model4.predict(X)\n",
    "    print(f\"Training Score of {i} neighbors=\",accuracy_score(y_pred,y))"
   ]
  },
  {
   "cell_type": "code",
   "execution_count": 99,
   "metadata": {},
   "outputs": [],
   "source": [
    "df_test=pd.read_csv(\"testing.fruit.txt\")"
   ]
  },
  {
   "cell_type": "code",
   "execution_count": 100,
   "metadata": {},
   "outputs": [
    {
     "data": {
      "text/html": [
       "<div>\n",
       "<style scoped>\n",
       "    .dataframe tbody tr th:only-of-type {\n",
       "        vertical-align: middle;\n",
       "    }\n",
       "\n",
       "    .dataframe tbody tr th {\n",
       "        vertical-align: top;\n",
       "    }\n",
       "\n",
       "    .dataframe thead th {\n",
       "        text-align: right;\n",
       "    }\n",
       "</style>\n",
       "<table border=\"1\" class=\"dataframe\">\n",
       "  <thead>\n",
       "    <tr style=\"text-align: right;\">\n",
       "      <th></th>\n",
       "      <th>width</th>\n",
       "      <th>height</th>\n",
       "      <th>Target</th>\n",
       "    </tr>\n",
       "  </thead>\n",
       "  <tbody>\n",
       "    <tr>\n",
       "      <th>0</th>\n",
       "      <td>5.3</td>\n",
       "      <td>21</td>\n",
       "      <td>Banana</td>\n",
       "    </tr>\n",
       "    <tr>\n",
       "      <th>1</th>\n",
       "      <td>34.5</td>\n",
       "      <td>23</td>\n",
       "      <td>Banana</td>\n",
       "    </tr>\n",
       "    <tr>\n",
       "      <th>2</th>\n",
       "      <td>23.5</td>\n",
       "      <td>21</td>\n",
       "      <td>Apple</td>\n",
       "    </tr>\n",
       "    <tr>\n",
       "      <th>3</th>\n",
       "      <td>21.3</td>\n",
       "      <td>21</td>\n",
       "      <td>Apple</td>\n",
       "    </tr>\n",
       "  </tbody>\n",
       "</table>\n",
       "</div>"
      ],
      "text/plain": [
       "   width  height  Target\n",
       "0    5.3      21  Banana\n",
       "1   34.5      23  Banana\n",
       "2   23.5      21   Apple\n",
       "3   21.3      21   Apple"
      ]
     },
     "execution_count": 100,
     "metadata": {},
     "output_type": "execute_result"
    }
   ],
   "source": [
    "df_test"
   ]
  },
  {
   "cell_type": "code",
   "execution_count": 101,
   "metadata": {},
   "outputs": [
    {
     "data": {
      "text/plain": [
       "array([[ 5.3, 21. ],\n",
       "       [34.5, 23. ],\n",
       "       [23.5, 21. ],\n",
       "       [21.3, 21. ]])"
      ]
     },
     "execution_count": 101,
     "metadata": {},
     "output_type": "execute_result"
    }
   ],
   "source": [
    "x_test=df_test.iloc[:,:-1].values\n",
    "x_test"
   ]
  },
  {
   "cell_type": "code",
   "execution_count": 102,
   "metadata": {},
   "outputs": [
    {
     "data": {
      "text/plain": [
       "array(['Banana', 'Banana', 'Apple', 'Apple'], dtype=object)"
      ]
     },
     "execution_count": 102,
     "metadata": {},
     "output_type": "execute_result"
    }
   ],
   "source": [
    "y_test=df_test.iloc[:,-1].values\n",
    "y_test"
   ]
  },
  {
   "cell_type": "code",
   "execution_count": 103,
   "metadata": {},
   "outputs": [],
   "source": [
    "x_test_pred=model4.predict(x_test)\n"
   ]
  },
  {
   "cell_type": "code",
   "execution_count": 104,
   "metadata": {},
   "outputs": [
    {
     "data": {
      "text/plain": [
       "array(['Banana', 'Apple', 'Apple', 'Apple'], dtype=object)"
      ]
     },
     "execution_count": 104,
     "metadata": {},
     "output_type": "execute_result"
    }
   ],
   "source": [
    "x_test_pred"
   ]
  },
  {
   "cell_type": "code",
   "execution_count": 105,
   "metadata": {},
   "outputs": [
    {
     "data": {
      "text/plain": [
       "array(['Banana', 'Banana', 'Apple', 'Apple'], dtype=object)"
      ]
     },
     "execution_count": 105,
     "metadata": {},
     "output_type": "execute_result"
    }
   ],
   "source": [
    "y_test"
   ]
  },
  {
   "cell_type": "code",
   "execution_count": 106,
   "metadata": {},
   "outputs": [
    {
     "data": {
      "text/plain": [
       "0.75"
      ]
     },
     "execution_count": 106,
     "metadata": {},
     "output_type": "execute_result"
    }
   ],
   "source": [
    "accuracy_score(x_test_pred,y_test)"
   ]
  },
  {
   "cell_type": "code",
   "execution_count": 107,
   "metadata": {},
   "outputs": [
    {
     "name": "stdout",
     "output_type": "stream",
     "text": [
      "-----------------itration number1------------------\n",
      "Training Score of 1 neighbors= 1.0\n",
      "Testing Score of 1 neighbors= 0.75\n",
      "-----------------itration number2------------------\n",
      "Training Score of 2 neighbors= 1.0\n",
      "Testing Score of 2 neighbors= 0.75\n",
      "-----------------itration number3------------------\n",
      "Training Score of 3 neighbors= 1.0\n",
      "Testing Score of 3 neighbors= 0.75\n",
      "-----------------itration number4------------------\n",
      "Training Score of 4 neighbors= 0.9\n",
      "Testing Score of 4 neighbors= 0.75\n",
      "-----------------itration number5------------------\n",
      "Training Score of 5 neighbors= 0.9\n",
      "Testing Score of 5 neighbors= 0.75\n",
      "-----------------itration number6------------------\n",
      "Training Score of 6 neighbors= 0.9\n",
      "Testing Score of 6 neighbors= 0.75\n",
      "-----------------itration number7------------------\n",
      "Training Score of 7 neighbors= 1.0\n",
      "Testing Score of 7 neighbors= 0.75\n",
      "-----------------itration number8------------------\n",
      "Training Score of 8 neighbors= 1.0\n",
      "Testing Score of 8 neighbors= 0.75\n",
      "-----------------itration number9------------------\n",
      "Training Score of 9 neighbors= 1.0\n",
      "Testing Score of 9 neighbors= 0.75\n"
     ]
    }
   ],
   "source": [
    "from sklearn.neighbors import KNeighborsClassifier\n",
    "from sklearn.metrics import accuracy_score\n",
    "for i in range (1,10):\n",
    "    print(f\"-----------------itration number{i}------------------\")\n",
    "    model4=KNeighborsClassifier(n_neighbors=i)\n",
    "    model4.fit(X,y)\n",
    "    y_pred=model4.predict(X)\n",
    "    x_test_pred=model4.predict(x_test)\n",
    "    print(f\"Training Score of {i} neighbors=\",accuracy_score(y_pred,y))\n",
    "    print(f\"Testing Score of {i} neighbors=\",accuracy_score(x_test_pred,y_test))\n"
   ]
  },
  {
   "attachments": {},
   "cell_type": "markdown",
   "metadata": {},
   "source": [
    "# Sklean Score:- Inside sklearn we have few method to calculate score of a model belongs to classification\n",
    "1> Precision Score \n",
    "\n",
    "2> recall Score \n",
    "\n",
    "3> accuracy Score \n",
    "\n",
    "4> F1 Score \n",
    "\n",
    "   classification Report"
   ]
  },
  {
   "cell_type": "code",
   "execution_count": 108,
   "metadata": {},
   "outputs": [],
   "source": [
    "df=pd.read_csv(\"fruit_dataset_1500.csv\")"
   ]
  },
  {
   "cell_type": "code",
   "execution_count": 109,
   "metadata": {},
   "outputs": [
    {
     "data": {
      "text/html": [
       "<div>\n",
       "<style scoped>\n",
       "    .dataframe tbody tr th:only-of-type {\n",
       "        vertical-align: middle;\n",
       "    }\n",
       "\n",
       "    .dataframe tbody tr th {\n",
       "        vertical-align: top;\n",
       "    }\n",
       "\n",
       "    .dataframe thead th {\n",
       "        text-align: right;\n",
       "    }\n",
       "</style>\n",
       "<table border=\"1\" class=\"dataframe\">\n",
       "  <thead>\n",
       "    <tr style=\"text-align: right;\">\n",
       "      <th></th>\n",
       "      <th>x</th>\n",
       "      <th>y</th>\n",
       "      <th>class</th>\n",
       "    </tr>\n",
       "  </thead>\n",
       "  <tbody>\n",
       "    <tr>\n",
       "      <th>0</th>\n",
       "      <td>4.194795</td>\n",
       "      <td>-0.938062</td>\n",
       "      <td>apple</td>\n",
       "    </tr>\n",
       "    <tr>\n",
       "      <th>1</th>\n",
       "      <td>8.269129</td>\n",
       "      <td>-4.450061</td>\n",
       "      <td>apple</td>\n",
       "    </tr>\n",
       "    <tr>\n",
       "      <th>2</th>\n",
       "      <td>8.451618</td>\n",
       "      <td>3.547347</td>\n",
       "      <td>apple</td>\n",
       "    </tr>\n",
       "    <tr>\n",
       "      <th>3</th>\n",
       "      <td>7.127931</td>\n",
       "      <td>-4.404420</td>\n",
       "      <td>apple</td>\n",
       "    </tr>\n",
       "    <tr>\n",
       "      <th>4</th>\n",
       "      <td>5.993756</td>\n",
       "      <td>5.669073</td>\n",
       "      <td>apple</td>\n",
       "    </tr>\n",
       "    <tr>\n",
       "      <th>...</th>\n",
       "      <td>...</td>\n",
       "      <td>...</td>\n",
       "      <td>...</td>\n",
       "    </tr>\n",
       "    <tr>\n",
       "      <th>1495</th>\n",
       "      <td>5.723135</td>\n",
       "      <td>10.423754</td>\n",
       "      <td>orange</td>\n",
       "    </tr>\n",
       "    <tr>\n",
       "      <th>1496</th>\n",
       "      <td>5.526111</td>\n",
       "      <td>6.526867</td>\n",
       "      <td>orange</td>\n",
       "    </tr>\n",
       "    <tr>\n",
       "      <th>1497</th>\n",
       "      <td>11.748750</td>\n",
       "      <td>10.888969</td>\n",
       "      <td>orange</td>\n",
       "    </tr>\n",
       "    <tr>\n",
       "      <th>1498</th>\n",
       "      <td>11.408684</td>\n",
       "      <td>9.115518</td>\n",
       "      <td>orange</td>\n",
       "    </tr>\n",
       "    <tr>\n",
       "      <th>1499</th>\n",
       "      <td>11.371411</td>\n",
       "      <td>4.657548</td>\n",
       "      <td>orange</td>\n",
       "    </tr>\n",
       "  </tbody>\n",
       "</table>\n",
       "<p>1500 rows × 3 columns</p>\n",
       "</div>"
      ],
      "text/plain": [
       "              x          y   class\n",
       "0      4.194795  -0.938062   apple\n",
       "1      8.269129  -4.450061   apple\n",
       "2      8.451618   3.547347   apple\n",
       "3      7.127931  -4.404420   apple\n",
       "4      5.993756   5.669073   apple\n",
       "...         ...        ...     ...\n",
       "1495   5.723135  10.423754  orange\n",
       "1496   5.526111   6.526867  orange\n",
       "1497  11.748750  10.888969  orange\n",
       "1498  11.408684   9.115518  orange\n",
       "1499  11.371411   4.657548  orange\n",
       "\n",
       "[1500 rows x 3 columns]"
      ]
     },
     "execution_count": 109,
     "metadata": {},
     "output_type": "execute_result"
    }
   ],
   "source": [
    "df"
   ]
  },
  {
   "cell_type": "code",
   "execution_count": 110,
   "metadata": {},
   "outputs": [],
   "source": [
    "x5=df.iloc[:,:-1].values"
   ]
  },
  {
   "cell_type": "code",
   "execution_count": 111,
   "metadata": {},
   "outputs": [
    {
     "data": {
      "text/plain": [
       "array([[ 4.19479549, -0.93806173],\n",
       "       [ 8.2691289 , -4.45006093],\n",
       "       [ 8.45161823,  3.54734706],\n",
       "       ...,\n",
       "       [11.74875014, 10.88896908],\n",
       "       [11.40868424,  9.11551786],\n",
       "       [11.37141056,  4.6575478 ]])"
      ]
     },
     "execution_count": 111,
     "metadata": {},
     "output_type": "execute_result"
    }
   ],
   "source": [
    "x5"
   ]
  },
  {
   "cell_type": "code",
   "execution_count": 112,
   "metadata": {},
   "outputs": [],
   "source": [
    "Y5=df.iloc[:,-1].values"
   ]
  },
  {
   "cell_type": "code",
   "execution_count": 113,
   "metadata": {},
   "outputs": [
    {
     "data": {
      "text/plain": [
       "array(['apple', 'apple', 'apple', ..., 'orange', 'orange', 'orange'],\n",
       "      dtype=object)"
      ]
     },
     "execution_count": 113,
     "metadata": {},
     "output_type": "execute_result"
    }
   ],
   "source": [
    "Y5"
   ]
  },
  {
   "cell_type": "code",
   "execution_count": 114,
   "metadata": {},
   "outputs": [],
   "source": [
    "from sklearn.neighbors import KNeighborsClassifier"
   ]
  },
  {
   "cell_type": "code",
   "execution_count": 115,
   "metadata": {},
   "outputs": [
    {
     "data": {
      "text/plain": [
       "apple     500\n",
       "banana    500\n",
       "orange    500\n",
       "Name: class, dtype: int64"
      ]
     },
     "execution_count": 115,
     "metadata": {},
     "output_type": "execute_result"
    }
   ],
   "source": [
    "df['class'].value_counts()"
   ]
  },
  {
   "cell_type": "code",
   "execution_count": 116,
   "metadata": {},
   "outputs": [
    {
     "data": {
      "text/plain": [
       "Index(['apple', 'banana', 'orange'], dtype='object')"
      ]
     },
     "execution_count": 116,
     "metadata": {},
     "output_type": "execute_result"
    }
   ],
   "source": [
    "df['class'].value_counts().index"
   ]
  },
  {
   "cell_type": "code",
   "execution_count": 117,
   "metadata": {},
   "outputs": [
    {
     "data": {
      "text/plain": [
       "array([500, 500, 500], dtype=int64)"
      ]
     },
     "execution_count": 117,
     "metadata": {},
     "output_type": "execute_result"
    }
   ],
   "source": [
    "df['class'].value_counts().values"
   ]
  },
  {
   "cell_type": "code",
   "execution_count": 118,
   "metadata": {},
   "outputs": [],
   "source": [
    "model5=KNeighborsClassifier()   # untrained model"
   ]
  },
  {
   "cell_type": "code",
   "execution_count": 119,
   "metadata": {},
   "outputs": [
    {
     "data": {
      "text/html": [
       "<style>#sk-container-id-5 {color: black;background-color: white;}#sk-container-id-5 pre{padding: 0;}#sk-container-id-5 div.sk-toggleable {background-color: white;}#sk-container-id-5 label.sk-toggleable__label {cursor: pointer;display: block;width: 100%;margin-bottom: 0;padding: 0.3em;box-sizing: border-box;text-align: center;}#sk-container-id-5 label.sk-toggleable__label-arrow:before {content: \"▸\";float: left;margin-right: 0.25em;color: #696969;}#sk-container-id-5 label.sk-toggleable__label-arrow:hover:before {color: black;}#sk-container-id-5 div.sk-estimator:hover label.sk-toggleable__label-arrow:before {color: black;}#sk-container-id-5 div.sk-toggleable__content {max-height: 0;max-width: 0;overflow: hidden;text-align: left;background-color: #f0f8ff;}#sk-container-id-5 div.sk-toggleable__content pre {margin: 0.2em;color: black;border-radius: 0.25em;background-color: #f0f8ff;}#sk-container-id-5 input.sk-toggleable__control:checked~div.sk-toggleable__content {max-height: 200px;max-width: 100%;overflow: auto;}#sk-container-id-5 input.sk-toggleable__control:checked~label.sk-toggleable__label-arrow:before {content: \"▾\";}#sk-container-id-5 div.sk-estimator input.sk-toggleable__control:checked~label.sk-toggleable__label {background-color: #d4ebff;}#sk-container-id-5 div.sk-label input.sk-toggleable__control:checked~label.sk-toggleable__label {background-color: #d4ebff;}#sk-container-id-5 input.sk-hidden--visually {border: 0;clip: rect(1px 1px 1px 1px);clip: rect(1px, 1px, 1px, 1px);height: 1px;margin: -1px;overflow: hidden;padding: 0;position: absolute;width: 1px;}#sk-container-id-5 div.sk-estimator {font-family: monospace;background-color: #f0f8ff;border: 1px dotted black;border-radius: 0.25em;box-sizing: border-box;margin-bottom: 0.5em;}#sk-container-id-5 div.sk-estimator:hover {background-color: #d4ebff;}#sk-container-id-5 div.sk-parallel-item::after {content: \"\";width: 100%;border-bottom: 1px solid gray;flex-grow: 1;}#sk-container-id-5 div.sk-label:hover label.sk-toggleable__label {background-color: #d4ebff;}#sk-container-id-5 div.sk-serial::before {content: \"\";position: absolute;border-left: 1px solid gray;box-sizing: border-box;top: 0;bottom: 0;left: 50%;z-index: 0;}#sk-container-id-5 div.sk-serial {display: flex;flex-direction: column;align-items: center;background-color: white;padding-right: 0.2em;padding-left: 0.2em;position: relative;}#sk-container-id-5 div.sk-item {position: relative;z-index: 1;}#sk-container-id-5 div.sk-parallel {display: flex;align-items: stretch;justify-content: center;background-color: white;position: relative;}#sk-container-id-5 div.sk-item::before, #sk-container-id-5 div.sk-parallel-item::before {content: \"\";position: absolute;border-left: 1px solid gray;box-sizing: border-box;top: 0;bottom: 0;left: 50%;z-index: -1;}#sk-container-id-5 div.sk-parallel-item {display: flex;flex-direction: column;z-index: 1;position: relative;background-color: white;}#sk-container-id-5 div.sk-parallel-item:first-child::after {align-self: flex-end;width: 50%;}#sk-container-id-5 div.sk-parallel-item:last-child::after {align-self: flex-start;width: 50%;}#sk-container-id-5 div.sk-parallel-item:only-child::after {width: 0;}#sk-container-id-5 div.sk-dashed-wrapped {border: 1px dashed gray;margin: 0 0.4em 0.5em 0.4em;box-sizing: border-box;padding-bottom: 0.4em;background-color: white;}#sk-container-id-5 div.sk-label label {font-family: monospace;font-weight: bold;display: inline-block;line-height: 1.2em;}#sk-container-id-5 div.sk-label-container {text-align: center;}#sk-container-id-5 div.sk-container {/* jupyter's `normalize.less` sets `[hidden] { display: none; }` but bootstrap.min.css set `[hidden] { display: none !important; }` so we also need the `!important` here to be able to override the default hidden behavior on the sphinx rendered scikit-learn.org. See: https://github.com/scikit-learn/scikit-learn/issues/21755 */display: inline-block !important;position: relative;}#sk-container-id-5 div.sk-text-repr-fallback {display: none;}</style><div id=\"sk-container-id-5\" class=\"sk-top-container\"><div class=\"sk-text-repr-fallback\"><pre>KNeighborsClassifier()</pre><b>In a Jupyter environment, please rerun this cell to show the HTML representation or trust the notebook. <br />On GitHub, the HTML representation is unable to render, please try loading this page with nbviewer.org.</b></div><div class=\"sk-container\" hidden><div class=\"sk-item\"><div class=\"sk-estimator sk-toggleable\"><input class=\"sk-toggleable__control sk-hidden--visually\" id=\"sk-estimator-id-5\" type=\"checkbox\" checked><label for=\"sk-estimator-id-5\" class=\"sk-toggleable__label sk-toggleable__label-arrow\">KNeighborsClassifier</label><div class=\"sk-toggleable__content\"><pre>KNeighborsClassifier()</pre></div></div></div></div></div>"
      ],
      "text/plain": [
       "KNeighborsClassifier()"
      ]
     },
     "execution_count": 119,
     "metadata": {},
     "output_type": "execute_result"
    }
   ],
   "source": [
    "model5.fit(x5,Y5)"
   ]
  },
  {
   "cell_type": "code",
   "execution_count": 120,
   "metadata": {},
   "outputs": [],
   "source": [
    "y_pred5=model5.predict(x5)"
   ]
  },
  {
   "cell_type": "code",
   "execution_count": 121,
   "metadata": {},
   "outputs": [
    {
     "data": {
      "text/plain": [
       "array(['apple', 'apple', 'apple', ..., 'orange', 'orange', 'apple'],\n",
       "      dtype=object)"
      ]
     },
     "execution_count": 121,
     "metadata": {},
     "output_type": "execute_result"
    }
   ],
   "source": [
    "y_pred5"
   ]
  },
  {
   "cell_type": "code",
   "execution_count": 122,
   "metadata": {},
   "outputs": [],
   "source": [
    "from sklearn.metrics import accuracy_score"
   ]
  },
  {
   "cell_type": "code",
   "execution_count": 123,
   "metadata": {},
   "outputs": [
    {
     "data": {
      "text/plain": [
       "0.8673333333333333"
      ]
     },
     "execution_count": 123,
     "metadata": {},
     "output_type": "execute_result"
    }
   ],
   "source": [
    "accuracy_score(y_pred5,Y5)"
   ]
  },
  {
   "cell_type": "code",
   "execution_count": 124,
   "metadata": {},
   "outputs": [],
   "source": [
    "from sklearn.metrics import accuracy_score,classification_report"
   ]
  },
  {
   "cell_type": "code",
   "execution_count": 125,
   "metadata": {},
   "outputs": [
    {
     "name": "stdout",
     "output_type": "stream",
     "text": [
      "              precision    recall  f1-score   support\n",
      "\n",
      "       apple       0.87      0.83      0.85       526\n",
      "      banana       0.90      0.89      0.89       504\n",
      "      orange       0.83      0.89      0.86       470\n",
      "\n",
      "    accuracy                           0.87      1500\n",
      "   macro avg       0.87      0.87      0.87      1500\n",
      "weighted avg       0.87      0.87      0.87      1500\n",
      "\n"
     ]
    }
   ],
   "source": [
    "print(classification_report(y_pred5,Y5))"
   ]
  },
  {
   "attachments": {},
   "cell_type": "markdown",
   "metadata": {},
   "source": [
    "# Confusion matrix:-\n",
    "# There are Two types\n",
    "\n",
    "# 1>.Multi class confusion matrix\n",
    "\n",
    "# 2>.Binary class confusion matrix"
   ]
  },
  {
   "cell_type": "code",
   "execution_count": 126,
   "metadata": {},
   "outputs": [
    {
     "data": {
      "text/plain": [
       "apple     500\n",
       "banana    500\n",
       "orange    500\n",
       "Name: class, dtype: int64"
      ]
     },
     "execution_count": 126,
     "metadata": {},
     "output_type": "execute_result"
    }
   ],
   "source": [
    "df['class'].value_counts()"
   ]
  },
  {
   "cell_type": "code",
   "execution_count": 127,
   "metadata": {},
   "outputs": [],
   "source": [
    "from sklearn.metrics import ConfusionMatrixDisplay,confusion_matrix"
   ]
  },
  {
   "cell_type": "code",
   "execution_count": 128,
   "metadata": {},
   "outputs": [
    {
     "data": {
      "image/png": "[encoded data removed]",
      "text/plain": [
       "<Figure size 640x480 with 2 Axes>"
      ]
     },
     "metadata": {},
     "output_type": "display_data"
    }
   ],
   "source": [
    "score=confusion_matrix(y_pred5,Y5)\n",
    "cm_display=ConfusionMatrixDisplay(score).plot()"
   ]
  },
  {
   "cell_type": "code",
   "execution_count": 129,
   "metadata": {},
   "outputs": [],
   "source": [
    "import pandas as pd"
   ]
  },
  {
   "cell_type": "code",
   "execution_count": 130,
   "metadata": {},
   "outputs": [],
   "source": [
    "df5=pd.read_csv(\"fruit_dataset_1500.csv\")"
   ]
  },
  {
   "cell_type": "code",
   "execution_count": 131,
   "metadata": {},
   "outputs": [
    {
     "data": {
      "text/html": [
       "<div>\n",
       "<style scoped>\n",
       "    .dataframe tbody tr th:only-of-type {\n",
       "        vertical-align: middle;\n",
       "    }\n",
       "\n",
       "    .dataframe tbody tr th {\n",
       "        vertical-align: top;\n",
       "    }\n",
       "\n",
       "    .dataframe thead th {\n",
       "        text-align: right;\n",
       "    }\n",
       "</style>\n",
       "<table border=\"1\" class=\"dataframe\">\n",
       "  <thead>\n",
       "    <tr style=\"text-align: right;\">\n",
       "      <th></th>\n",
       "      <th>x</th>\n",
       "      <th>y</th>\n",
       "      <th>class</th>\n",
       "    </tr>\n",
       "  </thead>\n",
       "  <tbody>\n",
       "    <tr>\n",
       "      <th>0</th>\n",
       "      <td>4.194795</td>\n",
       "      <td>-0.938062</td>\n",
       "      <td>apple</td>\n",
       "    </tr>\n",
       "    <tr>\n",
       "      <th>1</th>\n",
       "      <td>8.269129</td>\n",
       "      <td>-4.450061</td>\n",
       "      <td>apple</td>\n",
       "    </tr>\n",
       "    <tr>\n",
       "      <th>2</th>\n",
       "      <td>8.451618</td>\n",
       "      <td>3.547347</td>\n",
       "      <td>apple</td>\n",
       "    </tr>\n",
       "    <tr>\n",
       "      <th>3</th>\n",
       "      <td>7.127931</td>\n",
       "      <td>-4.404420</td>\n",
       "      <td>apple</td>\n",
       "    </tr>\n",
       "    <tr>\n",
       "      <th>4</th>\n",
       "      <td>5.993756</td>\n",
       "      <td>5.669073</td>\n",
       "      <td>apple</td>\n",
       "    </tr>\n",
       "    <tr>\n",
       "      <th>...</th>\n",
       "      <td>...</td>\n",
       "      <td>...</td>\n",
       "      <td>...</td>\n",
       "    </tr>\n",
       "    <tr>\n",
       "      <th>1495</th>\n",
       "      <td>5.723135</td>\n",
       "      <td>10.423754</td>\n",
       "      <td>orange</td>\n",
       "    </tr>\n",
       "    <tr>\n",
       "      <th>1496</th>\n",
       "      <td>5.526111</td>\n",
       "      <td>6.526867</td>\n",
       "      <td>orange</td>\n",
       "    </tr>\n",
       "    <tr>\n",
       "      <th>1497</th>\n",
       "      <td>11.748750</td>\n",
       "      <td>10.888969</td>\n",
       "      <td>orange</td>\n",
       "    </tr>\n",
       "    <tr>\n",
       "      <th>1498</th>\n",
       "      <td>11.408684</td>\n",
       "      <td>9.115518</td>\n",
       "      <td>orange</td>\n",
       "    </tr>\n",
       "    <tr>\n",
       "      <th>1499</th>\n",
       "      <td>11.371411</td>\n",
       "      <td>4.657548</td>\n",
       "      <td>orange</td>\n",
       "    </tr>\n",
       "  </tbody>\n",
       "</table>\n",
       "<p>1500 rows × 3 columns</p>\n",
       "</div>"
      ],
      "text/plain": [
       "              x          y   class\n",
       "0      4.194795  -0.938062   apple\n",
       "1      8.269129  -4.450061   apple\n",
       "2      8.451618   3.547347   apple\n",
       "3      7.127931  -4.404420   apple\n",
       "4      5.993756   5.669073   apple\n",
       "...         ...        ...     ...\n",
       "1495   5.723135  10.423754  orange\n",
       "1496   5.526111   6.526867  orange\n",
       "1497  11.748750  10.888969  orange\n",
       "1498  11.408684   9.115518  orange\n",
       "1499  11.371411   4.657548  orange\n",
       "\n",
       "[1500 rows x 3 columns]"
      ]
     },
     "execution_count": 131,
     "metadata": {},
     "output_type": "execute_result"
    }
   ],
   "source": [
    "df5"
   ]
  },
  {
   "cell_type": "code",
   "execution_count": 132,
   "metadata": {},
   "outputs": [],
   "source": [
    "x=df5.iloc[:,:-1].values"
   ]
  },
  {
   "cell_type": "code",
   "execution_count": 133,
   "metadata": {},
   "outputs": [
    {
     "data": {
      "text/plain": [
       "array([[ 4.19479549, -0.93806173],\n",
       "       [ 8.2691289 , -4.45006093],\n",
       "       [ 8.45161823,  3.54734706],\n",
       "       ...,\n",
       "       [11.74875014, 10.88896908],\n",
       "       [11.40868424,  9.11551786],\n",
       "       [11.37141056,  4.6575478 ]])"
      ]
     },
     "execution_count": 133,
     "metadata": {},
     "output_type": "execute_result"
    }
   ],
   "source": [
    "x"
   ]
  },
  {
   "cell_type": "code",
   "execution_count": 134,
   "metadata": {},
   "outputs": [],
   "source": [
    "y=df5.iloc[:,-1].values"
   ]
  },
  {
   "cell_type": "code",
   "execution_count": 135,
   "metadata": {},
   "outputs": [
    {
     "data": {
      "text/plain": [
       "array(['apple', 'apple', 'apple', ..., 'orange', 'orange', 'orange'],\n",
       "      dtype=object)"
      ]
     },
     "execution_count": 135,
     "metadata": {},
     "output_type": "execute_result"
    }
   ],
   "source": [
    "y"
   ]
  },
  {
   "cell_type": "code",
   "execution_count": 136,
   "metadata": {},
   "outputs": [],
   "source": [
    "from sklearn.neighbors import KNeighborsClassifier"
   ]
  },
  {
   "cell_type": "code",
   "execution_count": 137,
   "metadata": {},
   "outputs": [],
   "source": [
    "model5=KNeighborsClassifier()"
   ]
  },
  {
   "cell_type": "code",
   "execution_count": 138,
   "metadata": {},
   "outputs": [
    {
     "data": {
      "text/html": [
       "<style>#sk-container-id-6 {color: black;background-color: white;}#sk-container-id-6 pre{padding: 0;}#sk-container-id-6 div.sk-toggleable {background-color: white;}#sk-container-id-6 label.sk-toggleable__label {cursor: pointer;display: block;width: 100%;margin-bottom: 0;padding: 0.3em;box-sizing: border-box;text-align: center;}#sk-container-id-6 label.sk-toggleable__label-arrow:before {content: \"▸\";float: left;margin-right: 0.25em;color: #696969;}#sk-container-id-6 label.sk-toggleable__label-arrow:hover:before {color: black;}#sk-container-id-6 div.sk-estimator:hover label.sk-toggleable__label-arrow:before {color: black;}#sk-container-id-6 div.sk-toggleable__content {max-height: 0;max-width: 0;overflow: hidden;text-align: left;background-color: #f0f8ff;}#sk-container-id-6 div.sk-toggleable__content pre {margin: 0.2em;color: black;border-radius: 0.25em;background-color: #f0f8ff;}#sk-container-id-6 input.sk-toggleable__control:checked~div.sk-toggleable__content {max-height: 200px;max-width: 100%;overflow: auto;}#sk-container-id-6 input.sk-toggleable__control:checked~label.sk-toggleable__label-arrow:before {content: \"▾\";}#sk-container-id-6 div.sk-estimator input.sk-toggleable__control:checked~label.sk-toggleable__label {background-color: #d4ebff;}#sk-container-id-6 div.sk-label input.sk-toggleable__control:checked~label.sk-toggleable__label {background-color: #d4ebff;}#sk-container-id-6 input.sk-hidden--visually {border: 0;clip: rect(1px 1px 1px 1px);clip: rect(1px, 1px, 1px, 1px);height: 1px;margin: -1px;overflow: hidden;padding: 0;position: absolute;width: 1px;}#sk-container-id-6 div.sk-estimator {font-family: monospace;background-color: #f0f8ff;border: 1px dotted black;border-radius: 0.25em;box-sizing: border-box;margin-bottom: 0.5em;}#sk-container-id-6 div.sk-estimator:hover {background-color: #d4ebff;}#sk-container-id-6 div.sk-parallel-item::after {content: \"\";width: 100%;border-bottom: 1px solid gray;flex-grow: 1;}#sk-container-id-6 div.sk-label:hover label.sk-toggleable__label {background-color: #d4ebff;}#sk-container-id-6 div.sk-serial::before {content: \"\";position: absolute;border-left: 1px solid gray;box-sizing: border-box;top: 0;bottom: 0;left: 50%;z-index: 0;}#sk-container-id-6 div.sk-serial {display: flex;flex-direction: column;align-items: center;background-color: white;padding-right: 0.2em;padding-left: 0.2em;position: relative;}#sk-container-id-6 div.sk-item {position: relative;z-index: 1;}#sk-container-id-6 div.sk-parallel {display: flex;align-items: stretch;justify-content: center;background-color: white;position: relative;}#sk-container-id-6 div.sk-item::before, #sk-container-id-6 div.sk-parallel-item::before {content: \"\";position: absolute;border-left: 1px solid gray;box-sizing: border-box;top: 0;bottom: 0;left: 50%;z-index: -1;}#sk-container-id-6 div.sk-parallel-item {display: flex;flex-direction: column;z-index: 1;position: relative;background-color: white;}#sk-container-id-6 div.sk-parallel-item:first-child::after {align-self: flex-end;width: 50%;}#sk-container-id-6 div.sk-parallel-item:last-child::after {align-self: flex-start;width: 50%;}#sk-container-id-6 div.sk-parallel-item:only-child::after {width: 0;}#sk-container-id-6 div.sk-dashed-wrapped {border: 1px dashed gray;margin: 0 0.4em 0.5em 0.4em;box-sizing: border-box;padding-bottom: 0.4em;background-color: white;}#sk-container-id-6 div.sk-label label {font-family: monospace;font-weight: bold;display: inline-block;line-height: 1.2em;}#sk-container-id-6 div.sk-label-container {text-align: center;}#sk-container-id-6 div.sk-container {/* jupyter's `normalize.less` sets `[hidden] { display: none; }` but bootstrap.min.css set `[hidden] { display: none !important; }` so we also need the `!important` here to be able to override the default hidden behavior on the sphinx rendered scikit-learn.org. See: https://github.com/scikit-learn/scikit-learn/issues/21755 */display: inline-block !important;position: relative;}#sk-container-id-6 div.sk-text-repr-fallback {display: none;}</style><div id=\"sk-container-id-6\" class=\"sk-top-container\"><div class=\"sk-text-repr-fallback\"><pre>KNeighborsClassifier()</pre><b>In a Jupyter environment, please rerun this cell to show the HTML representation or trust the notebook. <br />On GitHub, the HTML representation is unable to render, please try loading this page with nbviewer.org.</b></div><div class=\"sk-container\" hidden><div class=\"sk-item\"><div class=\"sk-estimator sk-toggleable\"><input class=\"sk-toggleable__control sk-hidden--visually\" id=\"sk-estimator-id-6\" type=\"checkbox\" checked><label for=\"sk-estimator-id-6\" class=\"sk-toggleable__label sk-toggleable__label-arrow\">KNeighborsClassifier</label><div class=\"sk-toggleable__content\"><pre>KNeighborsClassifier()</pre></div></div></div></div></div>"
      ],
      "text/plain": [
       "KNeighborsClassifier()"
      ]
     },
     "execution_count": 138,
     "metadata": {},
     "output_type": "execute_result"
    }
   ],
   "source": [
    "model5.fit(x,y)"
   ]
  },
  {
   "cell_type": "code",
   "execution_count": 139,
   "metadata": {},
   "outputs": [],
   "source": [
    "from sklearn.model_selection import train_test_split"
   ]
  },
  {
   "cell_type": "code",
   "execution_count": 140,
   "metadata": {},
   "outputs": [
    {
     "data": {
      "text/plain": [
       "1500"
      ]
     },
     "execution_count": 140,
     "metadata": {},
     "output_type": "execute_result"
    }
   ],
   "source": [
    "len(x)"
   ]
  },
  {
   "cell_type": "code",
   "execution_count": 141,
   "metadata": {},
   "outputs": [
    {
     "data": {
      "text/plain": [
       "1500"
      ]
     },
     "execution_count": 141,
     "metadata": {},
     "output_type": "execute_result"
    }
   ],
   "source": [
    "len(y)"
   ]
  },
  {
   "cell_type": "code",
   "execution_count": 142,
   "metadata": {},
   "outputs": [
    {
     "data": {
      "text/plain": [
       "[array([[-3.66083094,  8.33116848],\n",
       "        [ 7.99634938,  1.96150851],\n",
       "        [11.15375075,  9.99475911],\n",
       "        ...,\n",
       "        [ 1.39347256,  7.16174841],\n",
       "        [ 9.73604674,  2.84784653],\n",
       "        [-2.03286289,  3.45464235]]),\n",
       " array([[ 1.03894294e+01,  1.08192492e+01],\n",
       "        [ 1.85936502e+00,  1.01573083e+01],\n",
       "        [ 4.51018987e+00,  1.07269971e+01],\n",
       "        [ 9.33800239e+00,  3.56851938e+00],\n",
       "        [ 9.02050445e-02,  1.65051748e-01],\n",
       "        [-1.08171231e+00,  6.54161402e+00],\n",
       "        [-2.80660415e-01, -7.03090759e-01],\n",
       "        [ 1.17789610e+01,  8.32024811e+00],\n",
       "        [ 1.84756436e+01,  3.78960741e+00],\n",
       "        [ 5.56962328e+00, -4.38320069e+00],\n",
       "        [ 2.31241507e+00,  2.97754505e+00],\n",
       "        [ 6.87898305e+00,  1.08266674e+01],\n",
       "        [ 8.15121624e+00,  5.30308683e+00],\n",
       "        [ 7.97605301e+00, -5.74003161e+00],\n",
       "        [ 1.08674228e+01, -1.08255676e-01],\n",
       "        [-5.50853739e+00,  5.11074067e+00],\n",
       "        [-5.50824192e+00,  9.64909893e+00],\n",
       "        [ 3.79582522e+00,  1.53935373e+00],\n",
       "        [ 1.25101903e+01,  2.33939473e+00],\n",
       "        [ 5.65325485e+00,  7.56050745e+00],\n",
       "        [-2.72781756e+00,  1.09602073e+01],\n",
       "        [ 1.66727712e+00,  1.16644257e+01],\n",
       "        [-1.55756057e+00, -1.63066157e+00],\n",
       "        [ 1.47411384e+01, -1.51866797e+00],\n",
       "        [ 9.33390586e+00, -1.61620110e+00],\n",
       "        [ 3.20393630e+00,  6.43374261e+00],\n",
       "        [ 7.73844223e+00,  1.13221376e+01],\n",
       "        [ 1.54588015e+01, -4.60046224e-01],\n",
       "        [ 4.18862575e+00,  1.15992022e+01],\n",
       "        [ 3.37536362e+00,  1.52792919e+01],\n",
       "        [ 4.92830322e+00,  8.39600259e+00],\n",
       "        [ 1.39611692e+01,  2.28367495e+00],\n",
       "        [-4.36789675e+00,  2.42226683e+00],\n",
       "        [ 1.22587967e+01,  2.88834919e+00],\n",
       "        [-2.86379579e+00,  3.47194971e+00],\n",
       "        [-1.23122727e+00,  8.36746244e+00],\n",
       "        [-2.28198330e+00,  5.82623544e+00],\n",
       "        [ 1.08384841e+01, -4.04454451e+00],\n",
       "        [ 5.62129603e+00,  1.19197831e+00],\n",
       "        [ 1.63494520e+01, -9.28671848e-01],\n",
       "        [ 9.02143843e+00, -4.44667030e+00],\n",
       "        [ 1.08459196e+01,  1.08108905e+01],\n",
       "        [ 1.35620320e+01,  4.77229388e+00],\n",
       "        [ 5.39982847e-01,  2.83195781e+00],\n",
       "        [ 8.17322578e+00,  1.01896381e+01],\n",
       "        [ 1.34775873e+01,  4.27735615e+00],\n",
       "        [ 7.71673044e+00,  6.33393146e+00],\n",
       "        [-3.68928454e+00,  5.02299001e+00],\n",
       "        [ 1.19251694e+01,  4.71788749e+00],\n",
       "        [ 9.61942066e+00,  3.42592867e+00],\n",
       "        [ 1.02087701e+01, -5.79068841e+00],\n",
       "        [-2.41683873e-01,  3.78547271e+00],\n",
       "        [ 6.39540981e+00,  1.07625689e+00],\n",
       "        [ 4.12648598e+00,  2.71992948e+00],\n",
       "        [ 8.28873082e+00,  1.07838597e+00],\n",
       "        [ 9.56564823e+00,  8.34074920e+00],\n",
       "        [ 8.01306068e+00,  1.13291739e+00],\n",
       "        [-2.59819183e+00,  2.72668476e+00],\n",
       "        [ 5.70937344e+00,  1.27772106e+00],\n",
       "        [ 7.82604363e-01,  1.46586373e+01],\n",
       "        [ 7.21896508e+00,  1.74218192e+00],\n",
       "        [ 1.24149305e+01,  1.09500791e+01],\n",
       "        [ 1.04141069e+01,  1.87713766e+01],\n",
       "        [-1.25317082e+00,  4.10175830e+00],\n",
       "        [ 1.45994803e+01,  5.29374630e+00],\n",
       "        [ 1.08476012e+01,  8.01473232e+00],\n",
       "        [ 1.00438299e+01,  5.60922497e+00],\n",
       "        [ 1.62893993e+00,  6.62685085e-01],\n",
       "        [-3.23903736e+00,  5.97227747e+00],\n",
       "        [ 2.96994282e+00,  5.68573145e+00],\n",
       "        [ 9.49879740e+00,  1.22309595e+01],\n",
       "        [ 5.82197563e+00,  6.93589242e+00],\n",
       "        [ 1.10463822e+01,  1.70426716e+01],\n",
       "        [ 9.91381028e+00,  6.15867017e+00],\n",
       "        [ 3.40226202e-01,  9.77826893e+00],\n",
       "        [ 1.09961017e+01,  1.20657478e+01],\n",
       "        [-3.17467067e+00, -2.52401356e+00],\n",
       "        [ 4.46993817e+00,  8.89185790e+00],\n",
       "        [ 1.11087548e+01,  4.66618452e+00],\n",
       "        [ 6.46840846e+00,  1.36872589e+01],\n",
       "        [ 3.89835052e+00,  5.11462509e+00],\n",
       "        [ 7.59936873e+00,  5.67164141e+00],\n",
       "        [-2.50596495e+00,  7.18714039e+00],\n",
       "        [-6.81882517e-01,  3.75878512e+00],\n",
       "        [ 9.68444406e-02,  1.02723232e+01],\n",
       "        [-1.35783482e+00,  1.53522976e-01],\n",
       "        [ 1.15010680e+01,  1.63480831e+01],\n",
       "        [ 9.21462000e+00,  1.02629138e+00],\n",
       "        [ 7.66125699e-01,  6.34008917e+00],\n",
       "        [ 8.69462966e+00, -3.89505205e+00],\n",
       "        [ 1.53344440e+01,  8.03590983e+00],\n",
       "        [ 1.91230486e+01, -1.91296132e+00],\n",
       "        [-3.66009882e+00,  7.10063580e+00],\n",
       "        [-3.98133890e+00,  4.35136956e+00],\n",
       "        [ 1.25534649e+01,  3.33289947e+00],\n",
       "        [ 1.20270346e+01,  1.43472581e+00],\n",
       "        [-8.26381469e-01, -1.28723640e+00],\n",
       "        [ 7.69184692e+00,  4.10959424e+00],\n",
       "        [ 1.46407638e+01,  1.10013039e+01],\n",
       "        [ 5.17553098e+00,  8.40928377e+00],\n",
       "        [ 1.03652682e+01,  1.21426547e+01],\n",
       "        [ 9.62878591e+00,  1.01182853e+01],\n",
       "        [-3.21812950e+00,  5.92906295e+00],\n",
       "        [ 5.72313537e+00,  1.04237541e+01],\n",
       "        [ 1.04376070e+01,  8.24343812e+00],\n",
       "        [-6.20098829e-01,  7.05661946e+00],\n",
       "        [ 6.83742573e+00,  1.26303447e+01],\n",
       "        [-3.67185519e-01,  5.80221872e+00],\n",
       "        [ 7.30432970e+00,  3.73692729e+00],\n",
       "        [ 1.01667619e+01,  1.15070475e+01],\n",
       "        [ 1.32976308e+01,  2.38708195e+00],\n",
       "        [ 1.27218764e+01, -4.42044988e+00],\n",
       "        [ 7.39792546e+00, -4.46586447e+00],\n",
       "        [ 8.64520777e+00, -2.18523929e+00],\n",
       "        [ 1.26085886e+01,  7.67969974e+00],\n",
       "        [ 6.25400730e+00,  3.03369982e+00],\n",
       "        [ 1.91933303e-02,  1.08941801e+01],\n",
       "        [ 6.41320731e-01,  5.87045321e+00],\n",
       "        [ 1.40653960e+01,  4.80770983e+00],\n",
       "        [ 1.42079174e+01, -6.67674708e+00],\n",
       "        [ 1.70102798e+01, -2.85289908e+00],\n",
       "        [ 1.12199099e+01,  1.32564998e+01],\n",
       "        [ 7.67493029e+00,  1.25645930e+01],\n",
       "        [ 1.13078774e+01, -4.51014856e+00],\n",
       "        [ 7.10196705e+00,  1.34973149e+01],\n",
       "        [ 9.83139173e+00, -1.53044650e+00],\n",
       "        [ 1.03176639e+01,  2.18646205e+00],\n",
       "        [ 4.39666842e+00,  1.03356168e+00],\n",
       "        [ 1.33078563e+01,  7.34397357e+00],\n",
       "        [ 2.80433849e+00,  9.56432537e+00],\n",
       "        [ 5.96727786e+00,  6.16396036e-01],\n",
       "        [-1.16490061e+00,  8.52351151e+00],\n",
       "        [ 2.56892207e+00,  7.60636327e-01],\n",
       "        [-1.74552355e+00,  3.84889907e+00],\n",
       "        [ 1.24016928e+01,  8.72142500e+00],\n",
       "        [ 7.51254651e+00,  4.17395238e-01],\n",
       "        [ 3.79917093e+00, -3.98409818e+00],\n",
       "        [ 7.80231167e+00,  9.08914471e+00],\n",
       "        [ 2.41321840e+00,  8.03195523e+00],\n",
       "        [ 1.34416215e+01,  8.68080048e+00],\n",
       "        [ 3.35911018e+00,  2.52527357e-01],\n",
       "        [ 1.29943388e+01,  5.21475484e+00],\n",
       "        [-2.78142483e+00,  1.27781263e+00],\n",
       "        [ 3.56456943e+00, -2.50795549e+00],\n",
       "        [ 1.10405180e+01, -2.04294918e+00],\n",
       "        [ 9.45754105e+00,  1.41173699e+01],\n",
       "        [ 6.82242094e+00,  1.33104354e+01],\n",
       "        [ 1.02915876e+01,  8.55794603e+00],\n",
       "        [ 2.34607232e+00,  6.57354471e+00],\n",
       "        [ 1.61734824e+01,  6.06011863e+00],\n",
       "        [ 4.12936437e+00,  6.79576699e+00],\n",
       "        [ 5.36209276e+00, -1.79661103e+00],\n",
       "        [ 1.31545915e+01,  4.30717085e+00],\n",
       "        [ 9.65694389e+00,  4.60165068e+00],\n",
       "        [ 3.39248179e+00,  4.06218316e-01],\n",
       "        [ 3.64537688e+00,  3.16919630e+00],\n",
       "        [ 1.24082871e+01,  4.65464634e+00],\n",
       "        [ 3.65959234e-01,  2.81945503e+00],\n",
       "        [ 1.04836758e+01, -5.20651311e+00],\n",
       "        [ 9.65080916e+00,  1.29112757e+01],\n",
       "        [-4.64380091e-01,  8.12620133e+00],\n",
       "        [ 1.05300745e+01,  8.85966640e+00],\n",
       "        [ 1.22844396e+01,  1.51848267e+00],\n",
       "        [ 7.36339147e+00,  1.17009942e+01],\n",
       "        [-9.56846681e-01,  6.42952147e+00],\n",
       "        [ 1.06566398e+01,  7.85415909e+00],\n",
       "        [ 7.70828184e-01,  3.53823264e+00],\n",
       "        [ 1.91397307e+01,  5.24730903e+00],\n",
       "        [ 3.48463402e+00,  1.31726711e+00],\n",
       "        [-1.48653820e+00,  7.30422787e+00],\n",
       "        [ 1.17164748e+01,  6.38958005e+00],\n",
       "        [ 1.74233229e+01, -5.57903068e-01],\n",
       "        [ 9.97652737e+00,  1.64430682e+00],\n",
       "        [ 4.00630876e+00,  1.75463616e+00],\n",
       "        [ 7.96256609e+00, -4.13587050e+00],\n",
       "        [ 4.58515388e+00,  1.49147429e+01],\n",
       "        [ 8.93592495e-01,  4.89192054e+00],\n",
       "        [-1.84284981e+00,  1.22746275e+01],\n",
       "        [ 1.67433800e+01, -1.94422931e+00],\n",
       "        [ 8.83331905e+00, -9.55895490e+00],\n",
       "        [-7.33272651e-01,  1.36522602e+00],\n",
       "        [-3.88907508e+00,  9.45615279e+00],\n",
       "        [ 8.06779557e+00,  3.60794708e+00],\n",
       "        [ 1.40284285e+01, -5.06703506e+00],\n",
       "        [ 1.14155770e+01,  1.09358693e+01],\n",
       "        [ 1.46543050e+01,  1.19228840e+01],\n",
       "        [ 6.06216993e+00,  1.74012893e+00],\n",
       "        [ 1.10704257e+01,  7.07397323e+00],\n",
       "        [ 1.20462063e+01, -2.49557447e+00],\n",
       "        [ 1.38975352e+01,  3.34462685e+00],\n",
       "        [ 1.35619289e+01, -3.42516875e+00],\n",
       "        [ 4.31088268e+00,  9.32010587e+00],\n",
       "        [ 1.53105950e+01,  3.09613223e+00],\n",
       "        [ 2.44111781e+00,  1.68491351e+00],\n",
       "        [ 6.21463159e+00,  1.00273375e+01],\n",
       "        [ 8.45633248e+00,  1.19622608e+01],\n",
       "        [ 7.13734448e+00,  3.74699146e+00],\n",
       "        [ 7.05074536e+00,  6.54224064e+00],\n",
       "        [ 9.07504639e+00,  9.09628304e+00],\n",
       "        [-1.55118811e+00,  6.47232487e+00],\n",
       "        [ 1.99647261e+01,  6.01403154e+00],\n",
       "        [ 4.66410384e+00,  1.54670152e+01],\n",
       "        [ 1.41620826e+01, -4.27649937e+00],\n",
       "        [ 2.14835946e+00,  4.01901228e+00],\n",
       "        [ 1.61247906e+01,  1.08876997e+01],\n",
       "        [ 4.61574231e+00,  1.68062269e+00],\n",
       "        [ 6.05287993e+00,  1.21590935e+01],\n",
       "        [ 1.90027172e+00,  1.04873825e+01],\n",
       "        [ 1.32569763e+01,  3.22458223e+00],\n",
       "        [ 7.67949218e+00, -2.84509400e+00],\n",
       "        [ 9.71360853e+00,  7.50107545e-01],\n",
       "        [-3.27706689e+00, -1.96063828e+00],\n",
       "        [ 9.06386345e+00,  2.25879139e-01],\n",
       "        [-3.74681875e+00,  4.08387769e+00],\n",
       "        [ 1.63908849e+01,  1.27346145e+01],\n",
       "        [ 7.93367434e-01,  6.22456233e+00],\n",
       "        [ 1.42329897e+01,  1.03612266e+01],\n",
       "        [ 8.28050502e+00,  1.29827482e+01],\n",
       "        [-6.10242301e+00,  4.22657651e+00],\n",
       "        [ 1.69437956e+01,  5.21881427e+00],\n",
       "        [ 1.14164446e+01,  1.20441125e+01],\n",
       "        [ 2.41891679e+00,  5.88596331e+00],\n",
       "        [ 1.66184717e+00,  1.53314410e+01],\n",
       "        [ 5.05230811e+00,  2.62158496e+00],\n",
       "        [-5.03787614e+00,  9.18150508e+00],\n",
       "        [-3.79141916e+00,  4.09313443e+00],\n",
       "        [ 1.19654541e+01,  3.16215257e+00],\n",
       "        [ 1.58461428e+01, -7.07880314e+00],\n",
       "        [ 3.46167700e+00,  4.15435359e+00],\n",
       "        [ 9.72691182e+00,  2.44211503e+00],\n",
       "        [ 7.41590361e+00,  1.83540811e+00],\n",
       "        [ 2.05161771e+00,  4.14362108e+00],\n",
       "        [ 1.33158177e+01,  3.57420389e-01],\n",
       "        [-3.65460926e+00,  9.33668937e+00],\n",
       "        [ 1.29230632e+01,  1.28816124e+01],\n",
       "        [ 7.37937410e+00,  2.59545370e+00],\n",
       "        [-3.28999652e+00, -1.10259870e+00],\n",
       "        [ 1.34558463e+01,  1.15879752e+01],\n",
       "        [ 8.26912890e+00, -4.45006093e+00],\n",
       "        [ 1.28275629e+01,  7.42083636e+00],\n",
       "        [ 1.52440636e+01,  1.10949988e+01],\n",
       "        [ 9.42415887e+00, -2.14791307e+00],\n",
       "        [ 1.04228863e+01,  4.04758154e+00],\n",
       "        [ 9.66957799e+00,  1.03528352e+01],\n",
       "        [ 1.03862638e+01,  1.12536624e+00],\n",
       "        [-4.49202843e+00,  8.57890913e-01],\n",
       "        [ 5.06525753e+00,  6.57715492e+00],\n",
       "        [ 8.04287023e+00,  3.16247059e+00],\n",
       "        [ 4.23700730e+00,  1.04342499e+00],\n",
       "        [ 1.10571121e+01,  1.09970980e+01],\n",
       "        [ 6.60187439e+00,  1.79634544e+01],\n",
       "        [ 1.35336435e-01,  3.41282474e+00],\n",
       "        [ 1.12203867e+01,  7.62917031e+00],\n",
       "        [-4.15906633e+00,  9.88638994e+00],\n",
       "        [ 9.74557359e+00,  9.65014706e-01],\n",
       "        [ 3.68516886e+00,  2.28969793e+00],\n",
       "        [ 7.19804247e+00, -6.69445791e+00],\n",
       "        [ 6.21193786e-02,  7.85038463e+00],\n",
       "        [ 1.90759281e-01,  9.82837865e+00],\n",
       "        [ 6.80355795e+00,  1.93786183e+00],\n",
       "        [ 1.16517831e+01,  1.37911944e+01],\n",
       "        [ 1.13419337e+01,  4.20415979e+00],\n",
       "        [ 1.57450010e+01,  5.20049428e+00],\n",
       "        [ 1.11982757e+01,  8.58236905e+00],\n",
       "        [ 9.90587276e+00,  8.79918873e+00],\n",
       "        [ 8.37305255e+00,  2.94913891e+00],\n",
       "        [ 1.13340084e+01,  1.54931721e+01],\n",
       "        [ 4.49676992e+00,  1.03023238e+01],\n",
       "        [ 1.36725916e+01, -4.96789229e-01],\n",
       "        [ 8.85548424e-01,  1.70202204e+00],\n",
       "        [ 2.33455729e-01,  7.93589597e+00],\n",
       "        [ 6.72398039e+00,  8.65874598e+00],\n",
       "        [ 1.60447958e+00,  1.65551479e+00],\n",
       "        [ 5.43188235e+00,  1.15921684e+01],\n",
       "        [-1.09405212e+00,  4.03582699e+00],\n",
       "        [ 3.74694700e+00,  8.11532279e+00],\n",
       "        [-6.75419120e-01,  3.59833266e+00],\n",
       "        [ 4.71654708e+00,  8.13598099e+00],\n",
       "        [ 1.31861233e+01,  1.68639934e+00],\n",
       "        [ 6.16943497e-01,  4.82542586e+00],\n",
       "        [ 1.06985744e+01, -5.74195502e+00],\n",
       "        [ 2.04124850e-01,  2.80081427e+00],\n",
       "        [ 1.02130416e+01, -2.09514341e+00],\n",
       "        [ 8.60495330e+00,  1.22473621e+01],\n",
       "        [ 3.10268024e+00, -1.98765039e+00],\n",
       "        [ 5.16931482e-01,  3.80397283e+00],\n",
       "        [ 4.66759789e+00,  7.18231157e+00],\n",
       "        [ 5.89000518e+00,  9.74917836e+00],\n",
       "        [-2.86512504e+00,  6.83580361e+00],\n",
       "        [ 8.67923257e+00,  1.25974670e+01],\n",
       "        [ 7.07909350e+00,  1.64996388e+01],\n",
       "        [ 3.18665415e+00,  1.29649296e+01],\n",
       "        [ 1.02229751e+01, -1.44331938e+00],\n",
       "        [-1.01665615e-01,  1.08763169e+01],\n",
       "        [ 4.23794752e+00,  1.09931308e+01],\n",
       "        [ 4.99930678e+00,  8.90750119e+00],\n",
       "        [ 3.78283548e+00,  1.39030220e+01],\n",
       "        [ 1.05033132e+01,  5.12743162e+00],\n",
       "        [ 1.11716763e+01, -2.78948414e+00],\n",
       "        [ 1.30107718e+01,  7.87872373e+00],\n",
       "        [ 8.58907893e+00,  9.05074159e+00],\n",
       "        [ 2.15877445e+00,  8.03023301e+00],\n",
       "        [ 1.22632472e+01, -7.32645705e-01],\n",
       "        [ 1.27519553e+01, -1.86161573e+00],\n",
       "        [ 1.39526081e+00,  1.21711006e+01],\n",
       "        [ 7.33365039e+00,  6.90259608e+00],\n",
       "        [ 9.67382743e+00,  9.29213228e+00],\n",
       "        [ 2.36823528e+00,  6.61049452e+00],\n",
       "        [ 6.43787069e+00,  1.57100879e+01],\n",
       "        [ 2.94091711e+00,  1.29920570e+00],\n",
       "        [ 5.70183320e+00,  2.64395165e+00],\n",
       "        [ 8.98131138e-01,  5.49075082e+00],\n",
       "        [ 2.90411400e+00,  9.87564762e-01],\n",
       "        [ 9.82841487e+00,  1.06105183e+01],\n",
       "        [ 6.16985599e+00,  3.72410505e+00],\n",
       "        [ 8.19914536e+00, -2.73351974e+00],\n",
       "        [ 8.98843637e+00, -3.87256536e+00],\n",
       "        [ 4.41412036e+00,  1.15345239e+01],\n",
       "        [ 1.66740949e+00,  3.56524721e+00],\n",
       "        [-3.20793538e+00,  1.41801673e+01],\n",
       "        [ 9.04578914e+00,  9.06474345e+00],\n",
       "        [ 4.31131110e+00,  6.58167346e+00],\n",
       "        [ 1.22279721e+01,  3.45968098e+00],\n",
       "        [ 1.53196297e+01,  1.83547580e+01],\n",
       "        [ 4.66729991e+00, -1.34656527e+00],\n",
       "        [ 9.75086690e+00,  1.18833103e+01],\n",
       "        [ 8.90574480e+00,  8.93409039e+00],\n",
       "        [ 7.27808628e+00,  2.97307475e+00],\n",
       "        [ 4.37340377e+00,  8.36372351e+00],\n",
       "        [ 1.24638477e+01,  1.12512890e+01],\n",
       "        [ 5.49735082e+00,  5.70654175e-01],\n",
       "        [-4.49319597e-01,  3.92893108e+00],\n",
       "        [-3.10695858e+00,  9.41519529e+00],\n",
       "        [ 1.23719401e+01,  7.88464747e+00],\n",
       "        [ 9.92699832e+00,  9.37570766e+00],\n",
       "        [ 7.84997488e+00,  5.74561056e-01],\n",
       "        [ 5.60091641e-01,  5.13775750e+00],\n",
       "        [ 1.22571852e+01,  9.04976715e+00],\n",
       "        [ 1.17624300e+01,  3.72800095e+00],\n",
       "        [ 9.20970750e+00,  1.59114737e+01],\n",
       "        [ 3.86155606e+00,  3.64428772e+00],\n",
       "        [ 1.02937818e+01,  9.37910626e+00],\n",
       "        [ 1.10396667e+01,  1.03582586e+01],\n",
       "        [ 1.47880508e+01,  4.88960193e+00],\n",
       "        [ 1.18562183e+01,  9.63744958e+00],\n",
       "        [ 1.11142428e+01,  4.95530626e+00],\n",
       "        [ 2.94058731e+00,  1.00440466e+01],\n",
       "        [ 7.20674054e+00,  1.04538098e+01],\n",
       "        [ 9.94675530e+00,  6.61604042e+00],\n",
       "        [ 9.48893571e+00,  1.18941823e+01],\n",
       "        [ 4.41556324e+00,  6.76791823e+00],\n",
       "        [ 6.04207742e+00,  5.69050177e+00],\n",
       "        [-5.47529692e+00,  8.15211439e+00],\n",
       "        [ 1.63897183e+01,  6.14494810e+00],\n",
       "        [ 3.67303539e+00,  1.23534903e+01],\n",
       "        [-5.71811694e+00,  2.93180042e+00],\n",
       "        [ 7.59596648e+00,  8.95549398e+00],\n",
       "        [ 6.68205798e+00,  9.60817696e+00],\n",
       "        [ 8.73337495e+00,  1.31991533e+00],\n",
       "        [ 1.21435666e+01,  1.03437474e+01],\n",
       "        [ 4.56274501e+00,  7.52271933e+00],\n",
       "        [ 7.16092734e+00,  5.00516102e+00],\n",
       "        [-7.60735463e+00, -1.31789063e+00],\n",
       "        [ 5.86929809e+00,  1.21101207e+01],\n",
       "        [ 1.41218610e-01,  5.03803240e+00],\n",
       "        [ 2.26588618e+00,  6.37521974e+00],\n",
       "        [ 6.35310285e+00,  1.26863407e+01],\n",
       "        [ 2.93221317e+00,  9.63168739e+00],\n",
       "        [ 1.04197106e+01,  9.16525575e+00],\n",
       "        [ 5.59507778e+00,  6.28500134e-01],\n",
       "        [ 1.51241034e+01, -2.36190610e+00],\n",
       "        [ 1.23280704e+01, -1.12452116e+00],\n",
       "        [-6.98560137e-01,  4.85167536e+00],\n",
       "        [ 7.84628572e+00,  1.44898188e+00],\n",
       "        [ 3.51882995e+00, -1.77506598e-01]]),\n",
       " array(['banana', 'banana', 'orange', ..., 'banana', 'apple', 'banana'],\n",
       "       dtype=object),\n",
       " array(['orange', 'banana', 'orange', 'apple', 'banana', 'banana',\n",
       "        'banana', 'orange', 'apple', 'orange', 'banana', 'orange',\n",
       "        'orange', 'apple', 'apple', 'banana', 'banana', 'apple', 'apple',\n",
       "        'orange', 'banana', 'banana', 'banana', 'apple', 'apple', 'banana',\n",
       "        'orange', 'apple', 'banana', 'orange', 'orange', 'apple', 'banana',\n",
       "        'apple', 'banana', 'banana', 'banana', 'apple', 'apple', 'apple',\n",
       "        'apple', 'orange', 'orange', 'apple', 'orange', 'apple', 'orange',\n",
       "        'banana', 'apple', 'apple', 'apple', 'banana', 'apple', 'banana',\n",
       "        'apple', 'orange', 'apple', 'banana', 'banana', 'orange', 'apple',\n",
       "        'orange', 'orange', 'banana', 'orange', 'orange', 'orange',\n",
       "        'banana', 'banana', 'banana', 'apple', 'banana', 'orange', 'apple',\n",
       "        'banana', 'orange', 'banana', 'orange', 'apple', 'orange',\n",
       "        'banana', 'apple', 'banana', 'banana', 'banana', 'banana',\n",
       "        'orange', 'apple', 'banana', 'apple', 'orange', 'apple', 'banana',\n",
       "        'banana', 'orange', 'apple', 'banana', 'apple', 'orange', 'orange',\n",
       "        'orange', 'orange', 'banana', 'orange', 'orange', 'banana',\n",
       "        'orange', 'banana', 'banana', 'orange', 'apple', 'apple', 'apple',\n",
       "        'apple', 'orange', 'orange', 'orange', 'banana', 'apple', 'apple',\n",
       "        'apple', 'orange', 'orange', 'apple', 'orange', 'apple', 'apple',\n",
       "        'apple', 'orange', 'orange', 'orange', 'banana', 'banana',\n",
       "        'banana', 'orange', 'apple', 'banana', 'orange', 'banana',\n",
       "        'orange', 'banana', 'apple', 'banana', 'apple', 'apple', 'orange',\n",
       "        'orange', 'orange', 'banana', 'orange', 'banana', 'banana',\n",
       "        'apple', 'orange', 'banana', 'banana', 'apple', 'banana', 'apple',\n",
       "        'orange', 'banana', 'orange', 'apple', 'orange', 'banana',\n",
       "        'orange', 'banana', 'apple', 'banana', 'banana', 'orange', 'apple',\n",
       "        'apple', 'banana', 'apple', 'orange', 'banana', 'banana', 'apple',\n",
       "        'apple', 'banana', 'banana', 'apple', 'apple', 'orange', 'orange',\n",
       "        'apple', 'apple', 'apple', 'apple', 'apple', 'orange', 'apple',\n",
       "        'banana', 'orange', 'orange', 'orange', 'orange', 'orange',\n",
       "        'banana', 'orange', 'orange', 'apple', 'apple', 'orange', 'banana',\n",
       "        'orange', 'banana', 'orange', 'apple', 'orange', 'banana', 'apple',\n",
       "        'banana', 'orange', 'banana', 'orange', 'orange', 'banana',\n",
       "        'orange', 'orange', 'banana', 'banana', 'banana', 'banana',\n",
       "        'banana', 'orange', 'apple', 'banana', 'apple', 'apple', 'banana',\n",
       "        'apple', 'banana', 'orange', 'apple', 'banana', 'orange', 'apple',\n",
       "        'apple', 'orange', 'apple', 'apple', 'orange', 'apple', 'banana',\n",
       "        'banana', 'apple', 'banana', 'orange', 'orange', 'banana',\n",
       "        'orange', 'banana', 'apple', 'apple', 'apple', 'banana', 'banana',\n",
       "        'apple', 'orange', 'apple', 'apple', 'orange', 'orange', 'apple',\n",
       "        'orange', 'orange', 'apple', 'apple', 'banana', 'orange', 'banana',\n",
       "        'orange', 'banana', 'banana', 'banana', 'banana', 'apple',\n",
       "        'banana', 'apple', 'banana', 'apple', 'orange', 'banana', 'banana',\n",
       "        'banana', 'orange', 'banana', 'apple', 'orange', 'orange', 'apple',\n",
       "        'banana', 'orange', 'banana', 'orange', 'orange', 'apple',\n",
       "        'orange', 'orange', 'banana', 'apple', 'apple', 'banana', 'apple',\n",
       "        'orange', 'banana', 'orange', 'banana', 'apple', 'banana', 'apple',\n",
       "        'orange', 'apple', 'banana', 'apple', 'banana', 'banana', 'banana',\n",
       "        'orange', 'banana', 'apple', 'orange', 'apple', 'orange', 'banana',\n",
       "        'orange', 'banana', 'orange', 'apple', 'banana', 'banana',\n",
       "        'orange', 'orange', 'apple', 'banana', 'orange', 'apple', 'orange',\n",
       "        'banana', 'orange', 'orange', 'orange', 'orange', 'apple',\n",
       "        'banana', 'orange', 'apple', 'orange', 'orange', 'apple', 'banana',\n",
       "        'apple', 'orange', 'banana', 'orange', 'banana', 'banana',\n",
       "        'orange', 'banana', 'apple', 'banana', 'orange', 'banana',\n",
       "        'banana', 'orange', 'banana', 'orange', 'apple', 'apple', 'apple',\n",
       "        'banana', 'apple', 'banana'], dtype=object)]"
      ]
     },
     "execution_count": 142,
     "metadata": {},
     "output_type": "execute_result"
    }
   ],
   "source": [
    "train_test_split(x,y)"
   ]
  },
  {
   "cell_type": "code",
   "execution_count": 143,
   "metadata": {},
   "outputs": [],
   "source": [
    "x_train5,x_test5,y_train5,y_test5=train_test_split(x,y)"
   ]
  },
  {
   "cell_type": "code",
   "execution_count": 144,
   "metadata": {},
   "outputs": [
    {
     "data": {
      "text/plain": [
       "1125"
      ]
     },
     "execution_count": 144,
     "metadata": {},
     "output_type": "execute_result"
    }
   ],
   "source": [
    "len(x_train5)"
   ]
  },
  {
   "cell_type": "code",
   "execution_count": 145,
   "metadata": {},
   "outputs": [
    {
     "data": {
      "text/plain": [
       "1125"
      ]
     },
     "execution_count": 145,
     "metadata": {},
     "output_type": "execute_result"
    }
   ],
   "source": [
    "len(y_train5)"
   ]
  },
  {
   "cell_type": "code",
   "execution_count": 146,
   "metadata": {},
   "outputs": [
    {
     "data": {
      "text/plain": [
       "375"
      ]
     },
     "execution_count": 146,
     "metadata": {},
     "output_type": "execute_result"
    }
   ],
   "source": [
    "len(x_test5)"
   ]
  },
  {
   "cell_type": "code",
   "execution_count": 147,
   "metadata": {},
   "outputs": [
    {
     "data": {
      "text/plain": [
       "375"
      ]
     },
     "execution_count": 147,
     "metadata": {},
     "output_type": "execute_result"
    }
   ],
   "source": [
    "len(y_test5)"
   ]
  },
  {
   "cell_type": "code",
   "execution_count": null,
   "metadata": {},
   "outputs": [],
   "source": []
  },
  {
   "cell_type": "code",
   "execution_count": 148,
   "metadata": {},
   "outputs": [],
   "source": [
    "from sklearn.neighbors import KNeighborsClassifier"
   ]
  },
  {
   "cell_type": "code",
   "execution_count": 149,
   "metadata": {},
   "outputs": [],
   "source": [
    "model5=KNeighborsClassifier()"
   ]
  },
  {
   "cell_type": "code",
   "execution_count": 150,
   "metadata": {},
   "outputs": [
    {
     "data": {
      "text/html": [
       "<style>#sk-container-id-7 {color: black;background-color: white;}#sk-container-id-7 pre{padding: 0;}#sk-container-id-7 div.sk-toggleable {background-color: white;}#sk-container-id-7 label.sk-toggleable__label {cursor: pointer;display: block;width: 100%;margin-bottom: 0;padding: 0.3em;box-sizing: border-box;text-align: center;}#sk-container-id-7 label.sk-toggleable__label-arrow:before {content: \"▸\";float: left;margin-right: 0.25em;color: #696969;}#sk-container-id-7 label.sk-toggleable__label-arrow:hover:before {color: black;}#sk-container-id-7 div.sk-estimator:hover label.sk-toggleable__label-arrow:before {color: black;}#sk-container-id-7 div.sk-toggleable__content {max-height: 0;max-width: 0;overflow: hidden;text-align: left;background-color: #f0f8ff;}#sk-container-id-7 div.sk-toggleable__content pre {margin: 0.2em;color: black;border-radius: 0.25em;background-color: #f0f8ff;}#sk-container-id-7 input.sk-toggleable__control:checked~div.sk-toggleable__content {max-height: 200px;max-width: 100%;overflow: auto;}#sk-container-id-7 input.sk-toggleable__control:checked~label.sk-toggleable__label-arrow:before {content: \"▾\";}#sk-container-id-7 div.sk-estimator input.sk-toggleable__control:checked~label.sk-toggleable__label {background-color: #d4ebff;}#sk-container-id-7 div.sk-label input.sk-toggleable__control:checked~label.sk-toggleable__label {background-color: #d4ebff;}#sk-container-id-7 input.sk-hidden--visually {border: 0;clip: rect(1px 1px 1px 1px);clip: rect(1px, 1px, 1px, 1px);height: 1px;margin: -1px;overflow: hidden;padding: 0;position: absolute;width: 1px;}#sk-container-id-7 div.sk-estimator {font-family: monospace;background-color: #f0f8ff;border: 1px dotted black;border-radius: 0.25em;box-sizing: border-box;margin-bottom: 0.5em;}#sk-container-id-7 div.sk-estimator:hover {background-color: #d4ebff;}#sk-container-id-7 div.sk-parallel-item::after {content: \"\";width: 100%;border-bottom: 1px solid gray;flex-grow: 1;}#sk-container-id-7 div.sk-label:hover label.sk-toggleable__label {background-color: #d4ebff;}#sk-container-id-7 div.sk-serial::before {content: \"\";position: absolute;border-left: 1px solid gray;box-sizing: border-box;top: 0;bottom: 0;left: 50%;z-index: 0;}#sk-container-id-7 div.sk-serial {display: flex;flex-direction: column;align-items: center;background-color: white;padding-right: 0.2em;padding-left: 0.2em;position: relative;}#sk-container-id-7 div.sk-item {position: relative;z-index: 1;}#sk-container-id-7 div.sk-parallel {display: flex;align-items: stretch;justify-content: center;background-color: white;position: relative;}#sk-container-id-7 div.sk-item::before, #sk-container-id-7 div.sk-parallel-item::before {content: \"\";position: absolute;border-left: 1px solid gray;box-sizing: border-box;top: 0;bottom: 0;left: 50%;z-index: -1;}#sk-container-id-7 div.sk-parallel-item {display: flex;flex-direction: column;z-index: 1;position: relative;background-color: white;}#sk-container-id-7 div.sk-parallel-item:first-child::after {align-self: flex-end;width: 50%;}#sk-container-id-7 div.sk-parallel-item:last-child::after {align-self: flex-start;width: 50%;}#sk-container-id-7 div.sk-parallel-item:only-child::after {width: 0;}#sk-container-id-7 div.sk-dashed-wrapped {border: 1px dashed gray;margin: 0 0.4em 0.5em 0.4em;box-sizing: border-box;padding-bottom: 0.4em;background-color: white;}#sk-container-id-7 div.sk-label label {font-family: monospace;font-weight: bold;display: inline-block;line-height: 1.2em;}#sk-container-id-7 div.sk-label-container {text-align: center;}#sk-container-id-7 div.sk-container {/* jupyter's `normalize.less` sets `[hidden] { display: none; }` but bootstrap.min.css set `[hidden] { display: none !important; }` so we also need the `!important` here to be able to override the default hidden behavior on the sphinx rendered scikit-learn.org. See: https://github.com/scikit-learn/scikit-learn/issues/21755 */display: inline-block !important;position: relative;}#sk-container-id-7 div.sk-text-repr-fallback {display: none;}</style><div id=\"sk-container-id-7\" class=\"sk-top-container\"><div class=\"sk-text-repr-fallback\"><pre>KNeighborsClassifier()</pre><b>In a Jupyter environment, please rerun this cell to show the HTML representation or trust the notebook. <br />On GitHub, the HTML representation is unable to render, please try loading this page with nbviewer.org.</b></div><div class=\"sk-container\" hidden><div class=\"sk-item\"><div class=\"sk-estimator sk-toggleable\"><input class=\"sk-toggleable__control sk-hidden--visually\" id=\"sk-estimator-id-7\" type=\"checkbox\" checked><label for=\"sk-estimator-id-7\" class=\"sk-toggleable__label sk-toggleable__label-arrow\">KNeighborsClassifier</label><div class=\"sk-toggleable__content\"><pre>KNeighborsClassifier()</pre></div></div></div></div></div>"
      ],
      "text/plain": [
       "KNeighborsClassifier()"
      ]
     },
     "execution_count": 150,
     "metadata": {},
     "output_type": "execute_result"
    }
   ],
   "source": [
    "model5.fit(x,y)"
   ]
  },
  {
   "cell_type": "code",
   "execution_count": 151,
   "metadata": {},
   "outputs": [],
   "source": [
    "x_train_pred5=model5.predict(x_train5)"
   ]
  },
  {
   "cell_type": "code",
   "execution_count": 152,
   "metadata": {},
   "outputs": [
    {
     "data": {
      "text/plain": [
       "array(['apple', 'apple', 'banana', ..., 'banana', 'apple', 'orange'],\n",
       "      dtype=object)"
      ]
     },
     "execution_count": 152,
     "metadata": {},
     "output_type": "execute_result"
    }
   ],
   "source": [
    "x_train_pred5"
   ]
  },
  {
   "cell_type": "code",
   "execution_count": 153,
   "metadata": {},
   "outputs": [
    {
     "data": {
      "text/plain": [
       "array(['apple', 'apple', 'apple', ..., 'orange', 'orange', 'orange'],\n",
       "      dtype=object)"
      ]
     },
     "execution_count": 153,
     "metadata": {},
     "output_type": "execute_result"
    }
   ],
   "source": [
    "y"
   ]
  },
  {
   "cell_type": "code",
   "execution_count": 154,
   "metadata": {},
   "outputs": [],
   "source": [
    "from sklearn.metrics import accuracy_score"
   ]
  },
  {
   "cell_type": "code",
   "execution_count": 155,
   "metadata": {},
   "outputs": [
    {
     "data": {
      "text/plain": [
       "0.8684444444444445"
      ]
     },
     "execution_count": 155,
     "metadata": {},
     "output_type": "execute_result"
    }
   ],
   "source": [
    "accuracy_score(x_train_pred5,y_train5)"
   ]
  },
  {
   "cell_type": "code",
   "execution_count": 156,
   "metadata": {},
   "outputs": [],
   "source": [
    "x_test_pred5=model5.predict(x_test5)"
   ]
  },
  {
   "cell_type": "code",
   "execution_count": 157,
   "metadata": {},
   "outputs": [
    {
     "data": {
      "text/plain": [
       "0.864"
      ]
     },
     "execution_count": 157,
     "metadata": {},
     "output_type": "execute_result"
    }
   ],
   "source": [
    "accuracy_score(x_test_pred5,y_test5)"
   ]
  },
  {
   "cell_type": "code",
   "execution_count": 158,
   "metadata": {},
   "outputs": [],
   "source": [
    "import numpy as np"
   ]
  },
  {
   "cell_type": "code",
   "execution_count": 159,
   "metadata": {},
   "outputs": [
    {
     "name": "stdout",
     "output_type": "stream",
     "text": [
      "[4 0 1 4 6]\n"
     ]
    }
   ],
   "source": [
    "a=np.array([4,0,1,4,6])\n",
    "print(a)"
   ]
  },
  {
   "cell_type": "code",
   "execution_count": 160,
   "metadata": {},
   "outputs": [
    {
     "data": {
      "text/plain": [
       "6"
      ]
     },
     "execution_count": 160,
     "metadata": {},
     "output_type": "execute_result"
    }
   ],
   "source": [
    "np.max(a)"
   ]
  },
  {
   "cell_type": "code",
   "execution_count": 161,
   "metadata": {},
   "outputs": [
    {
     "data": {
      "text/plain": [
       "0"
      ]
     },
     "execution_count": 161,
     "metadata": {},
     "output_type": "execute_result"
    }
   ],
   "source": [
    "np.min(a)"
   ]
  },
  {
   "cell_type": "code",
   "execution_count": 162,
   "metadata": {},
   "outputs": [],
   "source": [
    "from sklearn.preprocessing import MinMaxScaler"
   ]
  },
  {
   "cell_type": "code",
   "execution_count": 163,
   "metadata": {},
   "outputs": [],
   "source": [
    "sc5=MinMaxScaler()"
   ]
  },
  {
   "cell_type": "code",
   "execution_count": 164,
   "metadata": {},
   "outputs": [],
   "source": [
    "x_train_sc5=sc5.fit_transform(x_train5)"
   ]
  },
  {
   "cell_type": "code",
   "execution_count": 165,
   "metadata": {},
   "outputs": [
    {
     "data": {
      "text/plain": [
       "array([[0.59163002, 0.53044594],\n",
       "       [0.68212617, 0.34988048],\n",
       "       [0.28918883, 0.41103646],\n",
       "       ...,\n",
       "       [0.26817147, 0.35705098],\n",
       "       [0.57543863, 0.30789127],\n",
       "       [0.6453327 , 0.52037845]])"
      ]
     },
     "execution_count": 165,
     "metadata": {},
     "output_type": "execute_result"
    }
   ],
   "source": [
    "x_train_sc5"
   ]
  },
  {
   "cell_type": "code",
   "execution_count": 166,
   "metadata": {},
   "outputs": [],
   "source": [
    "y_test_sc5=sc5.fit_transform(x_test5)"
   ]
  },
  {
   "cell_type": "code",
   "execution_count": 167,
   "metadata": {},
   "outputs": [
    {
     "data": {
      "text/plain": [
       "array([[0.20564478, 0.33235398],\n",
       "       [0.51378461, 0.50785264],\n",
       "       [0.68851978, 0.48925383],\n",
       "       [0.73196218, 0.28434825],\n",
       "       [0.43264159, 0.35375686],\n",
       "       [0.45909104, 0.26126874],\n",
       "       [0.57191301, 0.6919784 ],\n",
       "       [0.77780892, 0.21700139],\n",
       "       [0.58504748, 0.29894139],\n",
       "       [0.3180744 , 0.12779823],\n",
       "       [0.68892277, 0.71890319],\n",
       "       [0.59841137, 0.40520525],\n",
       "       [0.45718813, 0.41254073],\n",
       "       [0.88471787, 0.47600477],\n",
       "       [0.72065015, 0.56031004],\n",
       "       [0.63738808, 0.31362038],\n",
       "       [0.28995635, 0.51229577],\n",
       "       [0.71040998, 0.10661362],\n",
       "       [0.54850566, 0.36215666],\n",
       "       [0.48217562, 0.68729705],\n",
       "       [0.6552929 , 0.53740745],\n",
       "       [0.2507754 , 0.42532269],\n",
       "       [0.63034461, 0.62264709],\n",
       "       [0.27857812, 0.37049745],\n",
       "       [0.25761299, 0.46525287],\n",
       "       [0.34370996, 0.48459805],\n",
       "       [0.55285372, 0.43093768],\n",
       "       [0.49476133, 0.30422933],\n",
       "       [0.4402702 , 0.9372322 ],\n",
       "       [0.1860791 , 0.24146973],\n",
       "       [0.67051723, 0.63389463],\n",
       "       [0.66626875, 0.51488399],\n",
       "       [0.61905515, 0.28377392],\n",
       "       [0.36370313, 0.11709194],\n",
       "       [0.63189576, 0.19610821],\n",
       "       [0.76571209, 0.99600773],\n",
       "       [0.73083247, 0.64145519],\n",
       "       [0.40305179, 0.11112904],\n",
       "       [0.53753501, 0.73343506],\n",
       "       [0.51466765, 0.10182083],\n",
       "       [0.72640103, 0.33201773],\n",
       "       [0.6578294 , 0.73918458],\n",
       "       [0.67811111, 0.22002136],\n",
       "       [0.62012318, 0.49908882],\n",
       "       [0.74388934, 0.82215899],\n",
       "       [0.7804456 , 0.39277082],\n",
       "       [0.63306789, 0.35438307],\n",
       "       [0.64945623, 0.65441829],\n",
       "       [0.20272175, 0.55340285],\n",
       "       [0.47489093, 0.49292506],\n",
       "       [0.67994164, 0.79477333],\n",
       "       [0.55600911, 0.44340422],\n",
       "       [0.59516128, 0.597282  ],\n",
       "       [0.18666171, 0.61607604],\n",
       "       [0.72686461, 0.69291855],\n",
       "       [0.22992644, 0.46225572],\n",
       "       [0.19386491, 0.64308088],\n",
       "       [0.45551015, 0.6141703 ],\n",
       "       [0.64139513, 0.20692719],\n",
       "       [0.6491873 , 0.33123573],\n",
       "       [0.34041109, 0.43939871],\n",
       "       [0.2005964 , 0.58510173],\n",
       "       [0.72012747, 0.54123223],\n",
       "       [0.7442682 , 0.59313965],\n",
       "       [0.43091189, 0.44957238],\n",
       "       [0.58544487, 0.44695865],\n",
       "       [0.64368494, 0.53834683],\n",
       "       [0.85616828, 0.        ],\n",
       "       [0.77640114, 0.47133426],\n",
       "       [0.65677397, 0.14438651],\n",
       "       [0.56113438, 0.10392013],\n",
       "       [0.58746809, 0.2302497 ],\n",
       "       [0.55689463, 0.04424303],\n",
       "       [0.42447198, 0.33392314],\n",
       "       [0.62831702, 0.23845387],\n",
       "       [0.5092086 , 0.17379747],\n",
       "       [0.26276678, 0.62111832],\n",
       "       [0.70344095, 0.39722427],\n",
       "       [0.24715912, 0.44220143],\n",
       "       [0.70596547, 0.4887169 ],\n",
       "       [0.42726354, 0.18178883],\n",
       "       [0.47639149, 0.54613005],\n",
       "       [0.44264052, 0.6193314 ],\n",
       "       [0.59460752, 0.23536387],\n",
       "       [0.59686738, 0.63654012],\n",
       "       [0.34179794, 0.47307296],\n",
       "       [0.57480849, 0.6998596 ],\n",
       "       [0.77699849, 0.14356151],\n",
       "       [0.75727577, 0.84100485],\n",
       "       [0.68379686, 0.85914992],\n",
       "       [0.64590386, 0.22398159],\n",
       "       [0.70683146, 0.68636175],\n",
       "       [0.66728803, 0.60938639],\n",
       "       [0.42387704, 0.49674808],\n",
       "       [0.73461533, 0.44406696],\n",
       "       [0.584528  , 0.4250266 ],\n",
       "       [0.68893712, 1.        ],\n",
       "       [0.64831541, 0.34630512],\n",
       "       [0.58120424, 0.61577089],\n",
       "       [0.69344731, 0.62227924],\n",
       "       [0.47743839, 0.30417568],\n",
       "       [0.82750395, 0.64501575],\n",
       "       [0.56678365, 0.36648461],\n",
       "       [0.5969076 , 0.65903292],\n",
       "       [0.68447368, 0.29888865],\n",
       "       [0.53391689, 0.90656714],\n",
       "       [0.39912274, 0.49312127],\n",
       "       [0.49387713, 0.58564762],\n",
       "       [0.75628396, 0.36299897],\n",
       "       [0.45467599, 0.22315214],\n",
       "       [0.64281214, 0.74880171],\n",
       "       [0.69229764, 0.67903881],\n",
       "       [0.66549499, 0.32629098],\n",
       "       [0.23693758, 0.52263858],\n",
       "       [0.6613556 , 0.74461016],\n",
       "       [0.492475  , 0.74256995],\n",
       "       [1.        , 0.52071986],\n",
       "       [0.63981098, 0.79503265],\n",
       "       [0.76574779, 0.40977966],\n",
       "       [0.51908185, 0.62028425],\n",
       "       [0.1985941 , 0.57998798],\n",
       "       [0.61424906, 0.25486394],\n",
       "       [0.4171701 , 0.36040004],\n",
       "       [0.16566346, 0.49094038],\n",
       "       [0.47006028, 0.3783935 ],\n",
       "       [0.33414452, 0.49990827],\n",
       "       [0.54037751, 0.35860504],\n",
       "       [0.55333699, 0.47610088],\n",
       "       [0.86759983, 0.5225528 ],\n",
       "       [0.45077966, 0.71874541],\n",
       "       [0.60507063, 0.73982509],\n",
       "       [0.0671037 , 0.51581541],\n",
       "       [0.24072721, 0.50880184],\n",
       "       [0.7901966 , 0.46298792],\n",
       "       [0.62440656, 0.91435461],\n",
       "       [0.57893702, 0.65089069],\n",
       "       [0.62888695, 0.42345851],\n",
       "       [0.63242493, 0.57172556],\n",
       "       [0.47768581, 0.56493995],\n",
       "       [0.64046644, 0.69327998],\n",
       "       [0.20996854, 0.33976726],\n",
       "       [0.24798621, 0.6776169 ],\n",
       "       [0.42663674, 0.73894976],\n",
       "       [0.19427629, 0.65598877],\n",
       "       [0.65979252, 0.22413086],\n",
       "       [0.69809386, 0.75501284],\n",
       "       [0.31470758, 0.37522582],\n",
       "       [0.26936383, 0.53724446],\n",
       "       [0.38698919, 0.51450445],\n",
       "       [0.17416308, 0.43178672],\n",
       "       [0.42125378, 0.29768949],\n",
       "       [0.58203291, 0.3595455 ],\n",
       "       [0.70288143, 0.41568024],\n",
       "       [0.55816255, 0.60228128],\n",
       "       [0.77496707, 0.66666408],\n",
       "       [0.57838545, 0.39887023],\n",
       "       [0.64326254, 0.42713895],\n",
       "       [0.70136544, 0.5671735 ],\n",
       "       [0.52867321, 0.82589455],\n",
       "       [0.15753393, 0.67472882],\n",
       "       [0.44269023, 0.3513179 ],\n",
       "       [0.32613602, 0.28492915],\n",
       "       [0.66854683, 0.88516954],\n",
       "       [0.64082151, 0.46234511],\n",
       "       [0.55694928, 0.39977687],\n",
       "       [0.62372833, 0.11496644],\n",
       "       [0.50958656, 0.53663686],\n",
       "       [0.50892992, 0.26545885],\n",
       "       [0.41414063, 0.40889847],\n",
       "       [0.80067489, 0.23883453],\n",
       "       [0.61133558, 0.72723858],\n",
       "       [0.69920805, 0.22895355],\n",
       "       [0.87374515, 0.24459909],\n",
       "       [0.45705448, 0.41079811],\n",
       "       [0.50020591, 0.58222531],\n",
       "       [0.35954605, 0.38619428],\n",
       "       [0.20751689, 0.717436  ],\n",
       "       [0.45712585, 0.70619442],\n",
       "       [0.6019977 , 0.2037265 ],\n",
       "       [0.26493865, 0.5985057 ],\n",
       "       [0.08439276, 0.61408883],\n",
       "       [0.4947425 , 0.35024952],\n",
       "       [0.39702405, 0.65837387],\n",
       "       [0.63835595, 0.31308951],\n",
       "       [0.73612315, 0.5978464 ],\n",
       "       [0.67493722, 0.59390423],\n",
       "       [0.23842228, 0.76971228],\n",
       "       [0.55998944, 0.04540612],\n",
       "       [0.46566216, 0.89667788],\n",
       "       [0.43363264, 0.60429107],\n",
       "       [0.69859271, 0.89771818],\n",
       "       [0.27547992, 0.49626415],\n",
       "       [0.56346658, 0.62340423],\n",
       "       [0.54772318, 0.89440696],\n",
       "       [0.73842431, 0.71166111],\n",
       "       [0.06140998, 0.39223798],\n",
       "       [0.81859271, 0.24441756],\n",
       "       [0.59793209, 0.42261646],\n",
       "       [0.57139889, 0.44497779],\n",
       "       [0.65987624, 0.75388633],\n",
       "       [0.43763509, 0.42647192],\n",
       "       [0.63957159, 0.75584957],\n",
       "       [0.66411747, 0.39708397],\n",
       "       [0.70992884, 0.54618644],\n",
       "       [0.58280287, 0.83619578],\n",
       "       [0.58426772, 0.44836068],\n",
       "       [0.76247211, 0.3489082 ],\n",
       "       [0.71307658, 0.71460276],\n",
       "       [0.77780548, 0.58371329],\n",
       "       [0.80478886, 0.86670887],\n",
       "       [0.15945125, 0.69006103],\n",
       "       [0.86603622, 0.55444927],\n",
       "       [0.33394347, 0.47807186],\n",
       "       [0.24180555, 0.52046496],\n",
       "       [0.64899567, 0.52647233],\n",
       "       [0.32873179, 0.615091  ],\n",
       "       [0.24838533, 0.21668001],\n",
       "       [0.25901542, 0.44466615],\n",
       "       [0.62937067, 0.21072428],\n",
       "       [0.76106558, 0.57788374],\n",
       "       [0.4646403 , 0.41833254],\n",
       "       [0.28873421, 0.54971189],\n",
       "       [0.32233929, 0.48586925],\n",
       "       [0.65773603, 0.62281007],\n",
       "       [0.69090578, 0.44321752],\n",
       "       [0.16374063, 0.45459353],\n",
       "       [0.30592962, 0.28809797],\n",
       "       [0.66832567, 0.31788907],\n",
       "       [0.5726699 , 0.70553648],\n",
       "       [0.52216394, 0.48675924],\n",
       "       [0.55146418, 0.7502088 ],\n",
       "       [0.2891083 , 0.23363295],\n",
       "       [0.77097683, 0.59748133],\n",
       "       [0.40518   , 0.66459895],\n",
       "       [0.39040685, 0.40569814],\n",
       "       [0.55669366, 0.61087754],\n",
       "       [0.43533959, 0.34275583],\n",
       "       [0.62697393, 0.63943215],\n",
       "       [0.49182241, 0.74355768],\n",
       "       [0.30642625, 0.41231061],\n",
       "       [0.81045069, 0.73829337],\n",
       "       [0.75059372, 0.29461628],\n",
       "       [0.45181705, 0.29895216],\n",
       "       [0.37580826, 0.83071017],\n",
       "       [0.53577727, 0.77639826],\n",
       "       [0.70346829, 0.86561883],\n",
       "       [0.81357823, 0.62956205],\n",
       "       [0.55079873, 0.81834022],\n",
       "       [0.15787098, 0.32348004],\n",
       "       [0.40731145, 0.40045231],\n",
       "       [0.75605886, 0.5737014 ],\n",
       "       [0.78026217, 0.26177565],\n",
       "       [0.72573205, 0.42706971],\n",
       "       [0.68229832, 0.27722816],\n",
       "       [0.32517603, 0.51500955],\n",
       "       [0.65843162, 0.30129865],\n",
       "       [0.67054115, 0.28063264],\n",
       "       [0.53667259, 0.40626113],\n",
       "       [0.81448131, 0.58059847],\n",
       "       [0.27919202, 0.42464422],\n",
       "       [0.66275602, 0.71793298],\n",
       "       [0.3337051 , 0.34922537],\n",
       "       [0.67999964, 0.30839875],\n",
       "       [0.30771115, 0.48190304],\n",
       "       [0.34022115, 0.66731912],\n",
       "       [0.67970868, 0.5113511 ],\n",
       "       [0.33361769, 0.396555  ],\n",
       "       [0.51276551, 0.33943834],\n",
       "       [0.58261773, 0.37532529],\n",
       "       [0.        , 0.51330207],\n",
       "       [0.70517725, 0.47928893],\n",
       "       [0.61862964, 0.5687362 ],\n",
       "       [0.59165484, 0.72482197],\n",
       "       [0.60380713, 0.52630508],\n",
       "       [0.57968986, 0.58422241],\n",
       "       [0.30312438, 0.50398355],\n",
       "       [0.35702301, 0.36005987],\n",
       "       [0.8763865 , 0.77384419],\n",
       "       [0.70969024, 0.83002821],\n",
       "       [0.55362433, 0.25590176],\n",
       "       [0.21443061, 0.333644  ],\n",
       "       [0.24714046, 0.3494431 ],\n",
       "       [0.07930139, 0.69434555],\n",
       "       [0.1528614 , 0.65531228],\n",
       "       [0.69401787, 0.58032883],\n",
       "       [0.71413163, 0.61244123],\n",
       "       [0.36819507, 0.14859049],\n",
       "       [0.80372617, 0.31270195],\n",
       "       [0.65296979, 0.60464961],\n",
       "       [0.50163241, 0.33126747],\n",
       "       [0.58357333, 0.37258396],\n",
       "       [0.38191011, 0.5350848 ],\n",
       "       [0.71820835, 0.06470426],\n",
       "       [0.17285722, 0.49988047],\n",
       "       [0.72204994, 0.73207337],\n",
       "       [0.11040686, 0.48479475],\n",
       "       [0.33852744, 0.41081244],\n",
       "       [0.73113714, 0.31602076],\n",
       "       [0.32432471, 0.47344739],\n",
       "       [0.73178426, 0.34192576],\n",
       "       [0.69091792, 0.47861291],\n",
       "       [0.47279663, 0.45895508],\n",
       "       [0.36181614, 0.40451433],\n",
       "       [0.23178652, 0.41892946],\n",
       "       [0.51117241, 0.30604855],\n",
       "       [0.26209804, 0.62052529],\n",
       "       [0.3917021 , 0.51122666],\n",
       "       [0.81866901, 0.3143184 ],\n",
       "       [0.9566578 , 0.34623594],\n",
       "       [0.48862472, 0.77093365],\n",
       "       [0.68854805, 0.95934388],\n",
       "       [0.50019611, 0.09060315],\n",
       "       [0.21723224, 0.56459296],\n",
       "       [0.65385354, 0.69585978],\n",
       "       [0.93319275, 0.20057125],\n",
       "       [0.24115758, 0.16405835],\n",
       "       [0.46395462, 0.69796973],\n",
       "       [0.55415394, 0.01528593],\n",
       "       [0.28708801, 0.43779257],\n",
       "       [0.42287025, 0.5141392 ],\n",
       "       [0.58166583, 0.42999321],\n",
       "       [0.52715475, 0.32698828],\n",
       "       [0.27485896, 0.56313641],\n",
       "       [0.19039391, 0.51734054],\n",
       "       [0.34017566, 0.69322785],\n",
       "       [0.40071428, 0.66191987],\n",
       "       [0.74985663, 0.21886537],\n",
       "       [0.53759845, 0.62590375],\n",
       "       [0.64815408, 0.1988032 ],\n",
       "       [0.82614615, 0.69199491],\n",
       "       [0.63965833, 0.88845341],\n",
       "       [0.5657593 , 0.69719757],\n",
       "       [0.65984766, 0.73256992],\n",
       "       [0.48621429, 0.17918124],\n",
       "       [0.73729007, 0.52258967],\n",
       "       [0.53484822, 0.46817368],\n",
       "       [0.55895696, 0.24686491],\n",
       "       [0.1558887 , 0.53626317],\n",
       "       [0.36158433, 0.36740978],\n",
       "       [0.30965928, 0.40766969],\n",
       "       [0.26723785, 0.19985873],\n",
       "       [0.62760443, 0.87327571],\n",
       "       [0.42312777, 0.43327427],\n",
       "       [0.44370369, 0.63723504],\n",
       "       [0.80018938, 0.67093471],\n",
       "       [0.66618384, 0.50436382],\n",
       "       [0.75218983, 0.62679847],\n",
       "       [0.75296489, 0.40959222],\n",
       "       [0.6427877 , 0.39479637],\n",
       "       [0.40208131, 0.52900737],\n",
       "       [0.17393994, 0.48130479],\n",
       "       [0.74064488, 0.42121923],\n",
       "       [0.43008554, 0.40757689],\n",
       "       [0.84905629, 0.5183041 ],\n",
       "       [0.45437023, 0.40501319],\n",
       "       [0.08460401, 0.34057734],\n",
       "       [0.73587905, 0.62839658],\n",
       "       [0.66505601, 0.37338269],\n",
       "       [0.70629765, 0.9104623 ],\n",
       "       [0.44927268, 0.24422564],\n",
       "       [0.49003776, 0.21007997],\n",
       "       [0.71603838, 0.39446576],\n",
       "       [0.70765296, 0.6806696 ],\n",
       "       [0.6365552 , 0.74567913],\n",
       "       [0.56015501, 0.408736  ],\n",
       "       [0.64471922, 0.86651959],\n",
       "       [0.66166355, 0.23443368],\n",
       "       [0.73385852, 0.2653961 ],\n",
       "       [0.38210397, 0.54413394],\n",
       "       [0.67623766, 0.54925508],\n",
       "       [0.54426865, 0.33078117],\n",
       "       [0.57231801, 0.47202557],\n",
       "       [0.59155909, 0.10454866],\n",
       "       [0.29567479, 0.35070408],\n",
       "       [0.54410208, 0.16609962]])"
      ]
     },
     "execution_count": 167,
     "metadata": {},
     "output_type": "execute_result"
    }
   ],
   "source": [
    "y_test_sc5"
   ]
  },
  {
   "cell_type": "code",
   "execution_count": 168,
   "metadata": {},
   "outputs": [],
   "source": [
    "# LinearRegression"
   ]
  },
  {
   "cell_type": "code",
   "execution_count": 169,
   "metadata": {},
   "outputs": [],
   "source": [
    "import pandas"
   ]
  },
  {
   "cell_type": "code",
   "execution_count": 170,
   "metadata": {},
   "outputs": [],
   "source": [
    "#import Data\n",
    "df=pd.read_csv(\"iris.dataset1.csv\",header=None)\n",
    "df\n",
    "x=df.iloc[:,:-1].values\n",
    "y=df.iloc[:,-1].values"
   ]
  },
  {
   "cell_type": "code",
   "execution_count": 171,
   "metadata": {},
   "outputs": [
    {
     "data": {
      "text/plain": [
       "array([[0.22222222, 0.625     , 0.06779661, 0.04166667],\n",
       "       [0.16666667, 0.41666667, 0.06779661, 0.04166667],\n",
       "       [0.11111111, 0.5       , 0.05084746, 0.04166667],\n",
       "       [0.08333333, 0.45833333, 0.08474576, 0.04166667],\n",
       "       [0.19444444, 0.66666667, 0.06779661, 0.04166667],\n",
       "       [0.30555556, 0.79166667, 0.11864407, 0.125     ],\n",
       "       [0.08333333, 0.58333333, 0.06779661, 0.08333333],\n",
       "       [0.19444444, 0.58333333, 0.08474576, 0.04166667],\n",
       "       [0.02777778, 0.375     , 0.06779661, 0.04166667],\n",
       "       [0.16666667, 0.45833333, 0.08474576, 0.        ],\n",
       "       [0.30555556, 0.70833333, 0.08474576, 0.04166667],\n",
       "       [0.13888889, 0.58333333, 0.10169492, 0.04166667],\n",
       "       [0.13888889, 0.41666667, 0.06779661, 0.        ],\n",
       "       [0.        , 0.41666667, 0.01694915, 0.        ],\n",
       "       [0.41666667, 0.83333333, 0.03389831, 0.04166667],\n",
       "       [0.38888889, 1.        , 0.08474576, 0.125     ],\n",
       "       [0.30555556, 0.79166667, 0.05084746, 0.125     ],\n",
       "       [0.22222222, 0.625     , 0.06779661, 0.08333333],\n",
       "       [0.38888889, 0.75      , 0.11864407, 0.08333333],\n",
       "       [0.22222222, 0.75      , 0.08474576, 0.08333333],\n",
       "       [0.30555556, 0.58333333, 0.11864407, 0.04166667],\n",
       "       [0.22222222, 0.70833333, 0.08474576, 0.125     ],\n",
       "       [0.08333333, 0.66666667, 0.        , 0.04166667],\n",
       "       [0.22222222, 0.54166667, 0.11864407, 0.16666667],\n",
       "       [0.13888889, 0.58333333, 0.15254237, 0.04166667],\n",
       "       [0.19444444, 0.41666667, 0.10169492, 0.04166667],\n",
       "       [0.19444444, 0.58333333, 0.10169492, 0.125     ],\n",
       "       [0.25      , 0.625     , 0.08474576, 0.04166667],\n",
       "       [0.25      , 0.58333333, 0.06779661, 0.04166667],\n",
       "       [0.11111111, 0.5       , 0.10169492, 0.04166667],\n",
       "       [0.13888889, 0.45833333, 0.10169492, 0.04166667],\n",
       "       [0.30555556, 0.58333333, 0.08474576, 0.125     ],\n",
       "       [0.25      , 0.875     , 0.08474576, 0.        ],\n",
       "       [0.33333333, 0.91666667, 0.06779661, 0.04166667],\n",
       "       [0.16666667, 0.45833333, 0.08474576, 0.        ],\n",
       "       [0.19444444, 0.5       , 0.03389831, 0.04166667],\n",
       "       [0.33333333, 0.625     , 0.05084746, 0.04166667],\n",
       "       [0.16666667, 0.45833333, 0.08474576, 0.        ],\n",
       "       [0.02777778, 0.41666667, 0.05084746, 0.04166667],\n",
       "       [0.22222222, 0.58333333, 0.08474576, 0.04166667],\n",
       "       [0.19444444, 0.625     , 0.05084746, 0.08333333],\n",
       "       [0.05555556, 0.125     , 0.05084746, 0.08333333],\n",
       "       [0.02777778, 0.5       , 0.05084746, 0.04166667],\n",
       "       [0.19444444, 0.625     , 0.10169492, 0.20833333],\n",
       "       [0.22222222, 0.75      , 0.15254237, 0.125     ],\n",
       "       [0.13888889, 0.41666667, 0.06779661, 0.08333333],\n",
       "       [0.22222222, 0.75      , 0.10169492, 0.04166667],\n",
       "       [0.08333333, 0.5       , 0.06779661, 0.04166667],\n",
       "       [0.27777778, 0.70833333, 0.08474576, 0.04166667],\n",
       "       [0.19444444, 0.54166667, 0.06779661, 0.04166667],\n",
       "       [0.75      , 0.5       , 0.62711864, 0.54166667],\n",
       "       [0.58333333, 0.5       , 0.59322034, 0.58333333],\n",
       "       [0.72222222, 0.45833333, 0.66101695, 0.58333333],\n",
       "       [0.33333333, 0.125     , 0.50847458, 0.5       ],\n",
       "       [0.61111111, 0.33333333, 0.61016949, 0.58333333],\n",
       "       [0.38888889, 0.33333333, 0.59322034, 0.5       ],\n",
       "       [0.55555556, 0.54166667, 0.62711864, 0.625     ],\n",
       "       [0.16666667, 0.16666667, 0.38983051, 0.375     ],\n",
       "       [0.63888889, 0.375     , 0.61016949, 0.5       ],\n",
       "       [0.25      , 0.29166667, 0.49152542, 0.54166667],\n",
       "       [0.19444444, 0.        , 0.42372881, 0.375     ],\n",
       "       [0.44444444, 0.41666667, 0.54237288, 0.58333333],\n",
       "       [0.47222222, 0.08333333, 0.50847458, 0.375     ],\n",
       "       [0.5       , 0.375     , 0.62711864, 0.54166667],\n",
       "       [0.36111111, 0.375     , 0.44067797, 0.5       ],\n",
       "       [0.66666667, 0.45833333, 0.57627119, 0.54166667],\n",
       "       [0.36111111, 0.41666667, 0.59322034, 0.58333333],\n",
       "       [0.41666667, 0.29166667, 0.52542373, 0.375     ],\n",
       "       [0.52777778, 0.08333333, 0.59322034, 0.58333333],\n",
       "       [0.36111111, 0.20833333, 0.49152542, 0.41666667],\n",
       "       [0.44444444, 0.5       , 0.6440678 , 0.70833333],\n",
       "       [0.5       , 0.33333333, 0.50847458, 0.5       ],\n",
       "       [0.55555556, 0.20833333, 0.66101695, 0.58333333],\n",
       "       [0.5       , 0.33333333, 0.62711864, 0.45833333],\n",
       "       [0.58333333, 0.375     , 0.55932203, 0.5       ],\n",
       "       [0.63888889, 0.41666667, 0.57627119, 0.54166667],\n",
       "       [0.69444444, 0.33333333, 0.6440678 , 0.54166667],\n",
       "       [0.66666667, 0.41666667, 0.6779661 , 0.66666667],\n",
       "       [0.47222222, 0.375     , 0.59322034, 0.58333333],\n",
       "       [0.38888889, 0.25      , 0.42372881, 0.375     ],\n",
       "       [0.33333333, 0.16666667, 0.47457627, 0.41666667],\n",
       "       [0.33333333, 0.16666667, 0.45762712, 0.375     ],\n",
       "       [0.41666667, 0.29166667, 0.49152542, 0.45833333],\n",
       "       [0.47222222, 0.29166667, 0.69491525, 0.625     ],\n",
       "       [0.30555556, 0.41666667, 0.59322034, 0.58333333],\n",
       "       [0.47222222, 0.58333333, 0.59322034, 0.625     ],\n",
       "       [0.66666667, 0.45833333, 0.62711864, 0.58333333],\n",
       "       [0.55555556, 0.125     , 0.57627119, 0.5       ],\n",
       "       [0.36111111, 0.41666667, 0.52542373, 0.5       ],\n",
       "       [0.33333333, 0.20833333, 0.50847458, 0.5       ],\n",
       "       [0.33333333, 0.25      , 0.57627119, 0.45833333],\n",
       "       [0.5       , 0.41666667, 0.61016949, 0.54166667],\n",
       "       [0.41666667, 0.25      , 0.50847458, 0.45833333],\n",
       "       [0.19444444, 0.125     , 0.38983051, 0.375     ],\n",
       "       [0.36111111, 0.29166667, 0.54237288, 0.5       ],\n",
       "       [0.38888889, 0.41666667, 0.54237288, 0.45833333],\n",
       "       [0.38888889, 0.375     , 0.54237288, 0.5       ],\n",
       "       [0.52777778, 0.375     , 0.55932203, 0.5       ],\n",
       "       [0.22222222, 0.20833333, 0.33898305, 0.41666667],\n",
       "       [0.38888889, 0.33333333, 0.52542373, 0.5       ],\n",
       "       [0.55555556, 0.54166667, 0.84745763, 1.        ],\n",
       "       [0.41666667, 0.29166667, 0.69491525, 0.75      ],\n",
       "       [0.77777778, 0.41666667, 0.83050847, 0.83333333],\n",
       "       [0.55555556, 0.375     , 0.77966102, 0.70833333],\n",
       "       [0.61111111, 0.41666667, 0.81355932, 0.875     ],\n",
       "       [0.91666667, 0.41666667, 0.94915254, 0.83333333],\n",
       "       [0.16666667, 0.20833333, 0.59322034, 0.66666667],\n",
       "       [0.83333333, 0.375     , 0.89830508, 0.70833333],\n",
       "       [0.66666667, 0.20833333, 0.81355932, 0.70833333],\n",
       "       [0.80555556, 0.66666667, 0.86440678, 1.        ],\n",
       "       [0.61111111, 0.5       , 0.69491525, 0.79166667],\n",
       "       [0.58333333, 0.29166667, 0.72881356, 0.75      ],\n",
       "       [0.69444444, 0.41666667, 0.76271186, 0.83333333],\n",
       "       [0.38888889, 0.20833333, 0.6779661 , 0.79166667],\n",
       "       [0.41666667, 0.33333333, 0.69491525, 0.95833333],\n",
       "       [0.58333333, 0.5       , 0.72881356, 0.91666667],\n",
       "       [0.61111111, 0.41666667, 0.76271186, 0.70833333],\n",
       "       [0.94444444, 0.75      , 0.96610169, 0.875     ],\n",
       "       [0.94444444, 0.25      , 1.        , 0.91666667],\n",
       "       [0.47222222, 0.08333333, 0.6779661 , 0.58333333],\n",
       "       [0.72222222, 0.5       , 0.79661017, 0.91666667],\n",
       "       [0.36111111, 0.33333333, 0.66101695, 0.79166667],\n",
       "       [0.94444444, 0.33333333, 0.96610169, 0.79166667],\n",
       "       [0.55555556, 0.29166667, 0.66101695, 0.70833333],\n",
       "       [0.66666667, 0.54166667, 0.79661017, 0.83333333],\n",
       "       [0.80555556, 0.5       , 0.84745763, 0.70833333],\n",
       "       [0.52777778, 0.33333333, 0.6440678 , 0.70833333],\n",
       "       [0.5       , 0.41666667, 0.66101695, 0.70833333],\n",
       "       [0.58333333, 0.33333333, 0.77966102, 0.83333333],\n",
       "       [0.80555556, 0.41666667, 0.81355932, 0.625     ],\n",
       "       [0.86111111, 0.33333333, 0.86440678, 0.75      ],\n",
       "       [1.        , 0.75      , 0.91525424, 0.79166667],\n",
       "       [0.58333333, 0.33333333, 0.77966102, 0.875     ],\n",
       "       [0.55555556, 0.33333333, 0.69491525, 0.58333333],\n",
       "       [0.5       , 0.25      , 0.77966102, 0.54166667],\n",
       "       [0.94444444, 0.41666667, 0.86440678, 0.91666667],\n",
       "       [0.55555556, 0.58333333, 0.77966102, 0.95833333],\n",
       "       [0.58333333, 0.45833333, 0.76271186, 0.70833333],\n",
       "       [0.47222222, 0.41666667, 0.6440678 , 0.70833333],\n",
       "       [0.72222222, 0.45833333, 0.74576271, 0.83333333],\n",
       "       [0.66666667, 0.45833333, 0.77966102, 0.95833333],\n",
       "       [0.72222222, 0.45833333, 0.69491525, 0.91666667],\n",
       "       [0.41666667, 0.29166667, 0.69491525, 0.75      ],\n",
       "       [0.69444444, 0.5       , 0.83050847, 0.91666667],\n",
       "       [0.66666667, 0.54166667, 0.79661017, 1.        ],\n",
       "       [0.66666667, 0.41666667, 0.71186441, 0.91666667],\n",
       "       [0.55555556, 0.20833333, 0.6779661 , 0.75      ],\n",
       "       [0.61111111, 0.41666667, 0.71186441, 0.79166667],\n",
       "       [0.52777778, 0.58333333, 0.74576271, 0.91666667],\n",
       "       [0.44444444, 0.41666667, 0.69491525, 0.70833333]])"
      ]
     },
     "execution_count": 171,
     "metadata": {},
     "output_type": "execute_result"
    }
   ],
   "source": [
    "#Scaling Data \n",
    "from sklearn.preprocessing import MinMaxScaler\n",
    "sc=MinMaxScaler()\n",
    "x_sc=sc.fit_transform(x)\n",
    "x_sc"
   ]
  },
  {
   "cell_type": "code",
   "execution_count": 172,
   "metadata": {},
   "outputs": [
    {
     "data": {
      "text/plain": [
       "array(['Iris-setosa', 'Iris-setosa', 'Iris-virginica', 'Iris-versicolor',\n",
       "       'Iris-versicolor', 'Iris-setosa', 'Iris-setosa', 'Iris-versicolor',\n",
       "       'Iris-virginica', 'Iris-virginica', 'Iris-versicolor',\n",
       "       'Iris-virginica', 'Iris-versicolor', 'Iris-virginica',\n",
       "       'Iris-versicolor', 'Iris-setosa', 'Iris-virginica',\n",
       "       'Iris-versicolor', 'Iris-setosa', 'Iris-setosa', 'Iris-setosa',\n",
       "       'Iris-versicolor', 'Iris-virginica', 'Iris-setosa', 'Iris-setosa',\n",
       "       'Iris-setosa', 'Iris-versicolor', 'Iris-setosa', 'Iris-versicolor',\n",
       "       'Iris-virginica', 'Iris-setosa', 'Iris-versicolor',\n",
       "       'Iris-virginica', 'Iris-setosa', 'Iris-virginica',\n",
       "       'Iris-virginica', 'Iris-versicolor', 'Iris-versicolor',\n",
       "       'Iris-virginica', 'Iris-versicolor', 'Iris-setosa',\n",
       "       'Iris-versicolor', 'Iris-virginica', 'Iris-setosa', 'Iris-setosa',\n",
       "       'Iris-versicolor', 'Iris-versicolor', 'Iris-setosa',\n",
       "       'Iris-virginica', 'Iris-setosa', 'Iris-setosa', 'Iris-versicolor',\n",
       "       'Iris-versicolor', 'Iris-virginica', 'Iris-versicolor',\n",
       "       'Iris-virginica', 'Iris-virginica', 'Iris-versicolor',\n",
       "       'Iris-setosa', 'Iris-setosa', 'Iris-virginica', 'Iris-virginica',\n",
       "       'Iris-setosa', 'Iris-setosa', 'Iris-setosa', 'Iris-versicolor',\n",
       "       'Iris-virginica', 'Iris-setosa', 'Iris-virginica',\n",
       "       'Iris-virginica', 'Iris-setosa', 'Iris-versicolor',\n",
       "       'Iris-versicolor', 'Iris-virginica', 'Iris-versicolor',\n",
       "       'Iris-virginica', 'Iris-setosa', 'Iris-virginica',\n",
       "       'Iris-versicolor', 'Iris-virginica', 'Iris-versicolor',\n",
       "       'Iris-versicolor', 'Iris-versicolor', 'Iris-setosa',\n",
       "       'Iris-versicolor', 'Iris-versicolor', 'Iris-setosa',\n",
       "       'Iris-versicolor', 'Iris-virginica', 'Iris-virginica',\n",
       "       'Iris-setosa', 'Iris-versicolor', 'Iris-virginica',\n",
       "       'Iris-virginica', 'Iris-setosa', 'Iris-virginica', 'Iris-setosa',\n",
       "       'Iris-versicolor', 'Iris-virginica', 'Iris-virginica',\n",
       "       'Iris-versicolor', 'Iris-virginica', 'Iris-versicolor',\n",
       "       'Iris-versicolor', 'Iris-virginica', 'Iris-virginica',\n",
       "       'Iris-setosa', 'Iris-versicolor', 'Iris-virginica', 'Iris-setosa',\n",
       "       'Iris-versicolor', 'Iris-virginica'], dtype=object)"
      ]
     },
     "execution_count": 172,
     "metadata": {},
     "output_type": "execute_result"
    }
   ],
   "source": [
    "# Split data and train and test\n",
    "from sklearn.model_selection import train_test_split\n",
    "x_train,x_test,y_train,y_test=train_test_split(x_sc,y,random_state=42)\n",
    "x_train\n",
    "y_train"
   ]
  },
  {
   "cell_type": "code",
   "execution_count": 173,
   "metadata": {},
   "outputs": [
    {
     "data": {
      "text/plain": [
       "Iris-setosa        50\n",
       "Iris-versicolor    50\n",
       "Iris-virginica     50\n",
       "Name: 4, dtype: int64"
      ]
     },
     "execution_count": 173,
     "metadata": {},
     "output_type": "execute_result"
    }
   ],
   "source": [
    "df[4].value_counts()"
   ]
  },
  {
   "cell_type": "code",
   "execution_count": 174,
   "metadata": {},
   "outputs": [
    {
     "data": {
      "text/html": [
       "<style>#sk-container-id-8 {color: black;background-color: white;}#sk-container-id-8 pre{padding: 0;}#sk-container-id-8 div.sk-toggleable {background-color: white;}#sk-container-id-8 label.sk-toggleable__label {cursor: pointer;display: block;width: 100%;margin-bottom: 0;padding: 0.3em;box-sizing: border-box;text-align: center;}#sk-container-id-8 label.sk-toggleable__label-arrow:before {content: \"▸\";float: left;margin-right: 0.25em;color: #696969;}#sk-container-id-8 label.sk-toggleable__label-arrow:hover:before {color: black;}#sk-container-id-8 div.sk-estimator:hover label.sk-toggleable__label-arrow:before {color: black;}#sk-container-id-8 div.sk-toggleable__content {max-height: 0;max-width: 0;overflow: hidden;text-align: left;background-color: #f0f8ff;}#sk-container-id-8 div.sk-toggleable__content pre {margin: 0.2em;color: black;border-radius: 0.25em;background-color: #f0f8ff;}#sk-container-id-8 input.sk-toggleable__control:checked~div.sk-toggleable__content {max-height: 200px;max-width: 100%;overflow: auto;}#sk-container-id-8 input.sk-toggleable__control:checked~label.sk-toggleable__label-arrow:before {content: \"▾\";}#sk-container-id-8 div.sk-estimator input.sk-toggleable__control:checked~label.sk-toggleable__label {background-color: #d4ebff;}#sk-container-id-8 div.sk-label input.sk-toggleable__control:checked~label.sk-toggleable__label {background-color: #d4ebff;}#sk-container-id-8 input.sk-hidden--visually {border: 0;clip: rect(1px 1px 1px 1px);clip: rect(1px, 1px, 1px, 1px);height: 1px;margin: -1px;overflow: hidden;padding: 0;position: absolute;width: 1px;}#sk-container-id-8 div.sk-estimator {font-family: monospace;background-color: #f0f8ff;border: 1px dotted black;border-radius: 0.25em;box-sizing: border-box;margin-bottom: 0.5em;}#sk-container-id-8 div.sk-estimator:hover {background-color: #d4ebff;}#sk-container-id-8 div.sk-parallel-item::after {content: \"\";width: 100%;border-bottom: 1px solid gray;flex-grow: 1;}#sk-container-id-8 div.sk-label:hover label.sk-toggleable__label {background-color: #d4ebff;}#sk-container-id-8 div.sk-serial::before {content: \"\";position: absolute;border-left: 1px solid gray;box-sizing: border-box;top: 0;bottom: 0;left: 50%;z-index: 0;}#sk-container-id-8 div.sk-serial {display: flex;flex-direction: column;align-items: center;background-color: white;padding-right: 0.2em;padding-left: 0.2em;position: relative;}#sk-container-id-8 div.sk-item {position: relative;z-index: 1;}#sk-container-id-8 div.sk-parallel {display: flex;align-items: stretch;justify-content: center;background-color: white;position: relative;}#sk-container-id-8 div.sk-item::before, #sk-container-id-8 div.sk-parallel-item::before {content: \"\";position: absolute;border-left: 1px solid gray;box-sizing: border-box;top: 0;bottom: 0;left: 50%;z-index: -1;}#sk-container-id-8 div.sk-parallel-item {display: flex;flex-direction: column;z-index: 1;position: relative;background-color: white;}#sk-container-id-8 div.sk-parallel-item:first-child::after {align-self: flex-end;width: 50%;}#sk-container-id-8 div.sk-parallel-item:last-child::after {align-self: flex-start;width: 50%;}#sk-container-id-8 div.sk-parallel-item:only-child::after {width: 0;}#sk-container-id-8 div.sk-dashed-wrapped {border: 1px dashed gray;margin: 0 0.4em 0.5em 0.4em;box-sizing: border-box;padding-bottom: 0.4em;background-color: white;}#sk-container-id-8 div.sk-label label {font-family: monospace;font-weight: bold;display: inline-block;line-height: 1.2em;}#sk-container-id-8 div.sk-label-container {text-align: center;}#sk-container-id-8 div.sk-container {/* jupyter's `normalize.less` sets `[hidden] { display: none; }` but bootstrap.min.css set `[hidden] { display: none !important; }` so we also need the `!important` here to be able to override the default hidden behavior on the sphinx rendered scikit-learn.org. See: https://github.com/scikit-learn/scikit-learn/issues/21755 */display: inline-block !important;position: relative;}#sk-container-id-8 div.sk-text-repr-fallback {display: none;}</style><div id=\"sk-container-id-8\" class=\"sk-top-container\"><div class=\"sk-text-repr-fallback\"><pre>KNeighborsClassifier()</pre><b>In a Jupyter environment, please rerun this cell to show the HTML representation or trust the notebook. <br />On GitHub, the HTML representation is unable to render, please try loading this page with nbviewer.org.</b></div><div class=\"sk-container\" hidden><div class=\"sk-item\"><div class=\"sk-estimator sk-toggleable\"><input class=\"sk-toggleable__control sk-hidden--visually\" id=\"sk-estimator-id-8\" type=\"checkbox\" checked><label for=\"sk-estimator-id-8\" class=\"sk-toggleable__label sk-toggleable__label-arrow\">KNeighborsClassifier</label><div class=\"sk-toggleable__content\"><pre>KNeighborsClassifier()</pre></div></div></div></div></div>"
      ],
      "text/plain": [
       "KNeighborsClassifier()"
      ]
     },
     "execution_count": 174,
     "metadata": {},
     "output_type": "execute_result"
    }
   ],
   "source": [
    "from sklearn.neighbors import KNeighborsClassifier\n",
    "model6=KNeighborsClassifier()\n",
    "model6.fit(x_train,y_train)"
   ]
  },
  {
   "cell_type": "code",
   "execution_count": 175,
   "metadata": {},
   "outputs": [
    {
     "data": {
      "text/plain": [
       "0.9553571428571429"
      ]
     },
     "execution_count": 175,
     "metadata": {},
     "output_type": "execute_result"
    }
   ],
   "source": [
    "# training score\n",
    "x_train_pred=model6.predict(x_train)\n",
    "from sklearn.metrics import accuracy_score\n",
    "accuracy_score(x_train_pred,y_train)"
   ]
  },
  {
   "cell_type": "code",
   "execution_count": 176,
   "metadata": {},
   "outputs": [
    {
     "data": {
      "text/plain": [
       "1.0"
      ]
     },
     "execution_count": 176,
     "metadata": {},
     "output_type": "execute_result"
    }
   ],
   "source": [
    "#Testing score\n",
    "x_test_pred=model6.predict(x_test)\n",
    "accuracy_score(x_test_pred,y_test)"
   ]
  },
  {
   "cell_type": "code",
   "execution_count": 177,
   "metadata": {},
   "outputs": [
    {
     "name": "stdout",
     "output_type": "stream",
     "text": [
      "Training score: 0.9553571428571429\n",
      "Testing score: 0.9736842105263158\n"
     ]
    }
   ],
   "source": [
    "#Scaling Data \n",
    "from sklearn.preprocessing import MinMaxScaler\n",
    "sc=MinMaxScaler()\n",
    "x_sc=sc.fit_transform(x)\n",
    "x_sc\n",
    "# Split data and train and test\n",
    "from sklearn.model_selection import train_test_split\n",
    "x_train,x_test,y_train,y_test=train_test_split(x_sc,y,random_state=2)\n",
    "x_train\n",
    "y_train\n",
    "from sklearn.neighbors import KNeighborsClassifier\n",
    "model6=KNeighborsClassifier()\n",
    "model6.fit(x_train,y_train)\n",
    "# training score\n",
    "x_train_pred=model6.predict(x_train)\n",
    "from sklearn.metrics import accuracy_score\n",
    "print(\"Training score:\",accuracy_score(x_train_pred,y_train))\n",
    "#Testing score\n",
    "x_test_pred=model6.predict(x_test)\n",
    "print(\"Testing score:\",accuracy_score(x_test_pred,y_test))"
   ]
  },
  {
   "cell_type": "code",
   "execution_count": 178,
   "metadata": {},
   "outputs": [
    {
     "data": {
      "text/plain": [
       "array(['Iris-virginica'], dtype=object)"
      ]
     },
     "execution_count": 178,
     "metadata": {},
     "output_type": "execute_result"
    }
   ],
   "source": [
    "model6.predict([[1.2,3.4,2.34,4.2]])"
   ]
  },
  {
   "cell_type": "code",
   "execution_count": 179,
   "metadata": {},
   "outputs": [
    {
     "data": {
      "text/plain": [
       "array(['Iris-virginica'], dtype=object)"
      ]
     },
     "execution_count": 179,
     "metadata": {},
     "output_type": "execute_result"
    }
   ],
   "source": [
    "model6.predict([[2.3,4.2,3.1,2.2]])"
   ]
  },
  {
   "cell_type": "code",
   "execution_count": 180,
   "metadata": {},
   "outputs": [],
   "source": [
    "df.to_excel(\"save.xlsx\")"
   ]
  },
  {
   "cell_type": "code",
   "execution_count": 181,
   "metadata": {},
   "outputs": [
    {
     "data": {
      "text/html": [
       "<div>\n",
       "<style scoped>\n",
       "    .dataframe tbody tr th:only-of-type {\n",
       "        vertical-align: middle;\n",
       "    }\n",
       "\n",
       "    .dataframe tbody tr th {\n",
       "        vertical-align: top;\n",
       "    }\n",
       "\n",
       "    .dataframe thead th {\n",
       "        text-align: right;\n",
       "    }\n",
       "</style>\n",
       "<table border=\"1\" class=\"dataframe\">\n",
       "  <thead>\n",
       "    <tr style=\"text-align: right;\">\n",
       "      <th></th>\n",
       "      <th>squareMeters</th>\n",
       "      <th>numberOfRooms</th>\n",
       "      <th>hasYard</th>\n",
       "      <th>hasPool</th>\n",
       "      <th>floors</th>\n",
       "      <th>cityCode</th>\n",
       "      <th>cityPartRange</th>\n",
       "      <th>numPrevOwners</th>\n",
       "      <th>made</th>\n",
       "      <th>isNewBuilt</th>\n",
       "      <th>hasStormProtector</th>\n",
       "      <th>basement</th>\n",
       "      <th>attic</th>\n",
       "      <th>garage</th>\n",
       "      <th>hasStorageRoom</th>\n",
       "      <th>hasGuestRoom</th>\n",
       "      <th>price</th>\n",
       "    </tr>\n",
       "  </thead>\n",
       "  <tbody>\n",
       "    <tr>\n",
       "      <th>0</th>\n",
       "      <td>75523</td>\n",
       "      <td>3</td>\n",
       "      <td>0</td>\n",
       "      <td>1</td>\n",
       "      <td>63</td>\n",
       "      <td>9373</td>\n",
       "      <td>3</td>\n",
       "      <td>8</td>\n",
       "      <td>2005</td>\n",
       "      <td>0</td>\n",
       "      <td>1</td>\n",
       "      <td>4313</td>\n",
       "      <td>9005</td>\n",
       "      <td>956</td>\n",
       "      <td>0</td>\n",
       "      <td>7</td>\n",
       "      <td>7559081.5</td>\n",
       "    </tr>\n",
       "    <tr>\n",
       "      <th>1</th>\n",
       "      <td>80771</td>\n",
       "      <td>39</td>\n",
       "      <td>1</td>\n",
       "      <td>1</td>\n",
       "      <td>98</td>\n",
       "      <td>39381</td>\n",
       "      <td>8</td>\n",
       "      <td>6</td>\n",
       "      <td>2015</td>\n",
       "      <td>1</td>\n",
       "      <td>0</td>\n",
       "      <td>3653</td>\n",
       "      <td>2436</td>\n",
       "      <td>128</td>\n",
       "      <td>1</td>\n",
       "      <td>2</td>\n",
       "      <td>8085989.5</td>\n",
       "    </tr>\n",
       "    <tr>\n",
       "      <th>2</th>\n",
       "      <td>55712</td>\n",
       "      <td>58</td>\n",
       "      <td>0</td>\n",
       "      <td>1</td>\n",
       "      <td>19</td>\n",
       "      <td>34457</td>\n",
       "      <td>6</td>\n",
       "      <td>8</td>\n",
       "      <td>2021</td>\n",
       "      <td>0</td>\n",
       "      <td>0</td>\n",
       "      <td>2937</td>\n",
       "      <td>8852</td>\n",
       "      <td>135</td>\n",
       "      <td>1</td>\n",
       "      <td>9</td>\n",
       "      <td>5574642.1</td>\n",
       "    </tr>\n",
       "    <tr>\n",
       "      <th>3</th>\n",
       "      <td>32316</td>\n",
       "      <td>47</td>\n",
       "      <td>0</td>\n",
       "      <td>0</td>\n",
       "      <td>6</td>\n",
       "      <td>27939</td>\n",
       "      <td>10</td>\n",
       "      <td>4</td>\n",
       "      <td>2012</td>\n",
       "      <td>0</td>\n",
       "      <td>1</td>\n",
       "      <td>659</td>\n",
       "      <td>7141</td>\n",
       "      <td>359</td>\n",
       "      <td>0</td>\n",
       "      <td>3</td>\n",
       "      <td>3232561.2</td>\n",
       "    </tr>\n",
       "    <tr>\n",
       "      <th>4</th>\n",
       "      <td>70429</td>\n",
       "      <td>19</td>\n",
       "      <td>1</td>\n",
       "      <td>1</td>\n",
       "      <td>90</td>\n",
       "      <td>38045</td>\n",
       "      <td>3</td>\n",
       "      <td>7</td>\n",
       "      <td>1990</td>\n",
       "      <td>1</td>\n",
       "      <td>0</td>\n",
       "      <td>8435</td>\n",
       "      <td>2429</td>\n",
       "      <td>292</td>\n",
       "      <td>1</td>\n",
       "      <td>4</td>\n",
       "      <td>7055052.0</td>\n",
       "    </tr>\n",
       "    <tr>\n",
       "      <th>...</th>\n",
       "      <td>...</td>\n",
       "      <td>...</td>\n",
       "      <td>...</td>\n",
       "      <td>...</td>\n",
       "      <td>...</td>\n",
       "      <td>...</td>\n",
       "      <td>...</td>\n",
       "      <td>...</td>\n",
       "      <td>...</td>\n",
       "      <td>...</td>\n",
       "      <td>...</td>\n",
       "      <td>...</td>\n",
       "      <td>...</td>\n",
       "      <td>...</td>\n",
       "      <td>...</td>\n",
       "      <td>...</td>\n",
       "      <td>...</td>\n",
       "    </tr>\n",
       "    <tr>\n",
       "      <th>9995</th>\n",
       "      <td>1726</td>\n",
       "      <td>89</td>\n",
       "      <td>0</td>\n",
       "      <td>1</td>\n",
       "      <td>5</td>\n",
       "      <td>73133</td>\n",
       "      <td>7</td>\n",
       "      <td>6</td>\n",
       "      <td>2009</td>\n",
       "      <td>0</td>\n",
       "      <td>1</td>\n",
       "      <td>9311</td>\n",
       "      <td>1698</td>\n",
       "      <td>218</td>\n",
       "      <td>0</td>\n",
       "      <td>4</td>\n",
       "      <td>176425.9</td>\n",
       "    </tr>\n",
       "    <tr>\n",
       "      <th>9996</th>\n",
       "      <td>44403</td>\n",
       "      <td>29</td>\n",
       "      <td>1</td>\n",
       "      <td>1</td>\n",
       "      <td>12</td>\n",
       "      <td>34606</td>\n",
       "      <td>9</td>\n",
       "      <td>4</td>\n",
       "      <td>1990</td>\n",
       "      <td>0</td>\n",
       "      <td>1</td>\n",
       "      <td>9061</td>\n",
       "      <td>1742</td>\n",
       "      <td>230</td>\n",
       "      <td>0</td>\n",
       "      <td>0</td>\n",
       "      <td>4448474.0</td>\n",
       "    </tr>\n",
       "    <tr>\n",
       "      <th>9997</th>\n",
       "      <td>83841</td>\n",
       "      <td>3</td>\n",
       "      <td>0</td>\n",
       "      <td>0</td>\n",
       "      <td>69</td>\n",
       "      <td>80933</td>\n",
       "      <td>10</td>\n",
       "      <td>10</td>\n",
       "      <td>2005</td>\n",
       "      <td>1</td>\n",
       "      <td>1</td>\n",
       "      <td>8304</td>\n",
       "      <td>7730</td>\n",
       "      <td>345</td>\n",
       "      <td>1</td>\n",
       "      <td>9</td>\n",
       "      <td>8390030.5</td>\n",
       "    </tr>\n",
       "    <tr>\n",
       "      <th>9998</th>\n",
       "      <td>59036</td>\n",
       "      <td>70</td>\n",
       "      <td>0</td>\n",
       "      <td>0</td>\n",
       "      <td>96</td>\n",
       "      <td>55856</td>\n",
       "      <td>1</td>\n",
       "      <td>3</td>\n",
       "      <td>2010</td>\n",
       "      <td>0</td>\n",
       "      <td>1</td>\n",
       "      <td>2590</td>\n",
       "      <td>6174</td>\n",
       "      <td>339</td>\n",
       "      <td>1</td>\n",
       "      <td>4</td>\n",
       "      <td>5905107.0</td>\n",
       "    </tr>\n",
       "    <tr>\n",
       "      <th>9999</th>\n",
       "      <td>1440</td>\n",
       "      <td>84</td>\n",
       "      <td>0</td>\n",
       "      <td>0</td>\n",
       "      <td>49</td>\n",
       "      <td>18412</td>\n",
       "      <td>6</td>\n",
       "      <td>10</td>\n",
       "      <td>1994</td>\n",
       "      <td>1</td>\n",
       "      <td>0</td>\n",
       "      <td>8485</td>\n",
       "      <td>2024</td>\n",
       "      <td>278</td>\n",
       "      <td>1</td>\n",
       "      <td>6</td>\n",
       "      <td>146708.4</td>\n",
       "    </tr>\n",
       "  </tbody>\n",
       "</table>\n",
       "<p>10000 rows × 17 columns</p>\n",
       "</div>"
      ],
      "text/plain": [
       "      squareMeters  numberOfRooms  hasYard  hasPool  floors  cityCode  \\\n",
       "0            75523              3        0        1      63      9373   \n",
       "1            80771             39        1        1      98     39381   \n",
       "2            55712             58        0        1      19     34457   \n",
       "3            32316             47        0        0       6     27939   \n",
       "4            70429             19        1        1      90     38045   \n",
       "...            ...            ...      ...      ...     ...       ...   \n",
       "9995          1726             89        0        1       5     73133   \n",
       "9996         44403             29        1        1      12     34606   \n",
       "9997         83841              3        0        0      69     80933   \n",
       "9998         59036             70        0        0      96     55856   \n",
       "9999          1440             84        0        0      49     18412   \n",
       "\n",
       "      cityPartRange  numPrevOwners  made  isNewBuilt  hasStormProtector  \\\n",
       "0                 3              8  2005           0                  1   \n",
       "1                 8              6  2015           1                  0   \n",
       "2                 6              8  2021           0                  0   \n",
       "3                10              4  2012           0                  1   \n",
       "4                 3              7  1990           1                  0   \n",
       "...             ...            ...   ...         ...                ...   \n",
       "9995              7              6  2009           0                  1   \n",
       "9996              9              4  1990           0                  1   \n",
       "9997             10             10  2005           1                  1   \n",
       "9998              1              3  2010           0                  1   \n",
       "9999              6             10  1994           1                  0   \n",
       "\n",
       "      basement  attic  garage  hasStorageRoom  hasGuestRoom      price  \n",
       "0         4313   9005     956               0             7  7559081.5  \n",
       "1         3653   2436     128               1             2  8085989.5  \n",
       "2         2937   8852     135               1             9  5574642.1  \n",
       "3          659   7141     359               0             3  3232561.2  \n",
       "4         8435   2429     292               1             4  7055052.0  \n",
       "...        ...    ...     ...             ...           ...        ...  \n",
       "9995      9311   1698     218               0             4   176425.9  \n",
       "9996      9061   1742     230               0             0  4448474.0  \n",
       "9997      8304   7730     345               1             9  8390030.5  \n",
       "9998      2590   6174     339               1             4  5905107.0  \n",
       "9999      8485   2024     278               1             6   146708.4  \n",
       "\n",
       "[10000 rows x 17 columns]"
      ]
     },
     "execution_count": 181,
     "metadata": {},
     "output_type": "execute_result"
    }
   ],
   "source": [
    "house=pd.read_csv(\"ParisHousing.csv\")\n",
    "house"
   ]
  },
  {
   "cell_type": "code",
   "execution_count": 182,
   "metadata": {},
   "outputs": [
    {
     "data": {
      "text/plain": [
       "Index(['squareMeters', 'numberOfRooms', 'hasYard', 'hasPool', 'floors',\n",
       "       'cityCode', 'cityPartRange', 'numPrevOwners', 'made', 'isNewBuilt',\n",
       "       'hasStormProtector', 'basement', 'attic', 'garage', 'hasStorageRoom',\n",
       "       'hasGuestRoom', 'price'],\n",
       "      dtype='object')"
      ]
     },
     "execution_count": 182,
     "metadata": {},
     "output_type": "execute_result"
    }
   ],
   "source": [
    "house.columns"
   ]
  },
  {
   "cell_type": "code",
   "execution_count": 183,
   "metadata": {},
   "outputs": [
    {
     "data": {
      "text/plain": [
       "17"
      ]
     },
     "execution_count": 183,
     "metadata": {},
     "output_type": "execute_result"
    }
   ],
   "source": [
    "len(house.columns)"
   ]
  },
  {
   "cell_type": "code",
   "execution_count": 184,
   "metadata": {},
   "outputs": [
    {
     "data": {
      "text/plain": [
       "array([[75523,     3,     0, ...,   956,     0,     7],\n",
       "       [80771,    39,     1, ...,   128,     1,     2],\n",
       "       [55712,    58,     0, ...,   135,     1,     9],\n",
       "       ...,\n",
       "       [83841,     3,     0, ...,   345,     1,     9],\n",
       "       [59036,    70,     0, ...,   339,     1,     4],\n",
       "       [ 1440,    84,     0, ...,   278,     1,     6]], dtype=int64)"
      ]
     },
     "execution_count": 184,
     "metadata": {},
     "output_type": "execute_result"
    }
   ],
   "source": [
    "X=house.iloc[:,:-1].values\n",
    "X"
   ]
  },
  {
   "cell_type": "code",
   "execution_count": 185,
   "metadata": {},
   "outputs": [
    {
     "data": {
      "text/plain": [
       "array([7559081.5, 8085989.5, 5574642.1, ..., 8390030.5, 5905107. ,\n",
       "        146708.4])"
      ]
     },
     "execution_count": 185,
     "metadata": {},
     "output_type": "execute_result"
    }
   ],
   "source": [
    "y=house.iloc[:,-1].values\n",
    "y"
   ]
  },
  {
   "cell_type": "code",
   "execution_count": 186,
   "metadata": {},
   "outputs": [
    {
     "data": {
      "text/plain": [
       "array([[0.75501952, 0.02020202, 0.        , ..., 0.95111111, 0.        ,\n",
       "        0.7       ],\n",
       "       [0.80754679, 0.38383838, 1.        , ..., 0.03111111, 1.        ,\n",
       "        0.2       ],\n",
       "       [0.55673106, 0.57575758, 0.        , ..., 0.03888889, 1.        ,\n",
       "        0.9       ],\n",
       "       ...,\n",
       "       [0.83827445, 0.02020202, 0.        , ..., 0.27222222, 1.        ,\n",
       "        0.9       ],\n",
       "       [0.590001  , 0.6969697 , 0.        , ..., 0.26555556, 1.        ,\n",
       "        0.4       ],\n",
       "       [0.01352217, 0.83838384, 0.        , ..., 0.19777778, 1.        ,\n",
       "        0.6       ]])"
      ]
     },
     "execution_count": 186,
     "metadata": {},
     "output_type": "execute_result"
    }
   ],
   "source": [
    "#scaling\n",
    "from sklearn.preprocessing import MinMaxScaler\n",
    "sc=MinMaxScaler()\n",
    "X_sc=sc.fit_transform(X)\n",
    "X_sc"
   ]
  },
  {
   "cell_type": "code",
   "execution_count": 187,
   "metadata": {},
   "outputs": [
    {
     "data": {
      "text/plain": [
       "array([[0.45937344, 0.32323232, 0.        , ..., 0.98444444, 1.        ,\n",
       "        0.7       ],\n",
       "       [0.22940647, 0.4040404 , 0.        , ..., 0.63777778, 1.        ,\n",
       "        0.1       ],\n",
       "       [0.68898008, 0.97979798, 1.        , ..., 0.25333333, 0.        ,\n",
       "        0.4       ],\n",
       "       ...,\n",
       "       [0.98709839, 0.67676768, 1.        , ..., 0.17777778, 1.        ,\n",
       "        0.4       ],\n",
       "       [0.1697728 , 0.45454545, 1.        , ..., 0.27333333, 0.        ,\n",
       "        0.2       ],\n",
       "       [0.03563207, 0.83838384, 1.        , ..., 0.79333333, 0.        ,\n",
       "        1.        ]])"
      ]
     },
     "execution_count": 187,
     "metadata": {},
     "output_type": "execute_result"
    }
   ],
   "source": [
    "#train test split\n",
    "from sklearn.model_selection import train_test_split\n",
    "x_train,x_test,y_train,y_test=train_test_split(X_sc,y,random_state=42)\n",
    "x_train"
   ]
  },
  {
   "cell_type": "code",
   "execution_count": 188,
   "metadata": {},
   "outputs": [
    {
     "data": {
      "text/html": [
       "<style>#sk-container-id-9 {color: black;background-color: white;}#sk-container-id-9 pre{padding: 0;}#sk-container-id-9 div.sk-toggleable {background-color: white;}#sk-container-id-9 label.sk-toggleable__label {cursor: pointer;display: block;width: 100%;margin-bottom: 0;padding: 0.3em;box-sizing: border-box;text-align: center;}#sk-container-id-9 label.sk-toggleable__label-arrow:before {content: \"▸\";float: left;margin-right: 0.25em;color: #696969;}#sk-container-id-9 label.sk-toggleable__label-arrow:hover:before {color: black;}#sk-container-id-9 div.sk-estimator:hover label.sk-toggleable__label-arrow:before {color: black;}#sk-container-id-9 div.sk-toggleable__content {max-height: 0;max-width: 0;overflow: hidden;text-align: left;background-color: #f0f8ff;}#sk-container-id-9 div.sk-toggleable__content pre {margin: 0.2em;color: black;border-radius: 0.25em;background-color: #f0f8ff;}#sk-container-id-9 input.sk-toggleable__control:checked~div.sk-toggleable__content {max-height: 200px;max-width: 100%;overflow: auto;}#sk-container-id-9 input.sk-toggleable__control:checked~label.sk-toggleable__label-arrow:before {content: \"▾\";}#sk-container-id-9 div.sk-estimator input.sk-toggleable__control:checked~label.sk-toggleable__label {background-color: #d4ebff;}#sk-container-id-9 div.sk-label input.sk-toggleable__control:checked~label.sk-toggleable__label {background-color: #d4ebff;}#sk-container-id-9 input.sk-hidden--visually {border: 0;clip: rect(1px 1px 1px 1px);clip: rect(1px, 1px, 1px, 1px);height: 1px;margin: -1px;overflow: hidden;padding: 0;position: absolute;width: 1px;}#sk-container-id-9 div.sk-estimator {font-family: monospace;background-color: #f0f8ff;border: 1px dotted black;border-radius: 0.25em;box-sizing: border-box;margin-bottom: 0.5em;}#sk-container-id-9 div.sk-estimator:hover {background-color: #d4ebff;}#sk-container-id-9 div.sk-parallel-item::after {content: \"\";width: 100%;border-bottom: 1px solid gray;flex-grow: 1;}#sk-container-id-9 div.sk-label:hover label.sk-toggleable__label {background-color: #d4ebff;}#sk-container-id-9 div.sk-serial::before {content: \"\";position: absolute;border-left: 1px solid gray;box-sizing: border-box;top: 0;bottom: 0;left: 50%;z-index: 0;}#sk-container-id-9 div.sk-serial {display: flex;flex-direction: column;align-items: center;background-color: white;padding-right: 0.2em;padding-left: 0.2em;position: relative;}#sk-container-id-9 div.sk-item {position: relative;z-index: 1;}#sk-container-id-9 div.sk-parallel {display: flex;align-items: stretch;justify-content: center;background-color: white;position: relative;}#sk-container-id-9 div.sk-item::before, #sk-container-id-9 div.sk-parallel-item::before {content: \"\";position: absolute;border-left: 1px solid gray;box-sizing: border-box;top: 0;bottom: 0;left: 50%;z-index: -1;}#sk-container-id-9 div.sk-parallel-item {display: flex;flex-direction: column;z-index: 1;position: relative;background-color: white;}#sk-container-id-9 div.sk-parallel-item:first-child::after {align-self: flex-end;width: 50%;}#sk-container-id-9 div.sk-parallel-item:last-child::after {align-self: flex-start;width: 50%;}#sk-container-id-9 div.sk-parallel-item:only-child::after {width: 0;}#sk-container-id-9 div.sk-dashed-wrapped {border: 1px dashed gray;margin: 0 0.4em 0.5em 0.4em;box-sizing: border-box;padding-bottom: 0.4em;background-color: white;}#sk-container-id-9 div.sk-label label {font-family: monospace;font-weight: bold;display: inline-block;line-height: 1.2em;}#sk-container-id-9 div.sk-label-container {text-align: center;}#sk-container-id-9 div.sk-container {/* jupyter's `normalize.less` sets `[hidden] { display: none; }` but bootstrap.min.css set `[hidden] { display: none !important; }` so we also need the `!important` here to be able to override the default hidden behavior on the sphinx rendered scikit-learn.org. See: https://github.com/scikit-learn/scikit-learn/issues/21755 */display: inline-block !important;position: relative;}#sk-container-id-9 div.sk-text-repr-fallback {display: none;}</style><div id=\"sk-container-id-9\" class=\"sk-top-container\"><div class=\"sk-text-repr-fallback\"><pre>LinearRegression()</pre><b>In a Jupyter environment, please rerun this cell to show the HTML representation or trust the notebook. <br />On GitHub, the HTML representation is unable to render, please try loading this page with nbviewer.org.</b></div><div class=\"sk-container\" hidden><div class=\"sk-item\"><div class=\"sk-estimator sk-toggleable\"><input class=\"sk-toggleable__control sk-hidden--visually\" id=\"sk-estimator-id-9\" type=\"checkbox\" checked><label for=\"sk-estimator-id-9\" class=\"sk-toggleable__label sk-toggleable__label-arrow\">LinearRegression</label><div class=\"sk-toggleable__content\"><pre>LinearRegression()</pre></div></div></div></div></div>"
      ],
      "text/plain": [
       "LinearRegression()"
      ]
     },
     "execution_count": 188,
     "metadata": {},
     "output_type": "execute_result"
    }
   ],
   "source": [
    "from sklearn.linear_model import LinearRegression\n",
    "model7=LinearRegression()\n",
    "model7.fit(x_train,y_train)"
   ]
  },
  {
   "cell_type": "code",
   "execution_count": 189,
   "metadata": {},
   "outputs": [
    {
     "data": {
      "text/plain": [
       "array([4603578.42960621, 2305579.38399721, 6904215.73077475, ...,\n",
       "       9876485.05604813, 1714018.17875604,  375555.7974362 ])"
      ]
     },
     "execution_count": 189,
     "metadata": {},
     "output_type": "execute_result"
    }
   ],
   "source": [
    "x_train_pred7=model7.predict(x_train)\n",
    "x_train_pred7"
   ]
  },
  {
   "cell_type": "code",
   "execution_count": 190,
   "metadata": {},
   "outputs": [
    {
     "data": {
      "text/plain": [
       "0.9999995597584086"
      ]
     },
     "execution_count": 190,
     "metadata": {},
     "output_type": "execute_result"
    }
   ],
   "source": [
    "from sklearn.metrics import r2_score\n",
    "r2_score(x_train_pred7,y_train)"
   ]
  },
  {
   "cell_type": "code",
   "execution_count": 191,
   "metadata": {},
   "outputs": [
    {
     "data": {
      "text/plain": [
       "array([7962622.83982558, 3715858.9637927 , 8553841.28549732, ...,\n",
       "        541133.60021905, 2745024.82592321, 6002048.47181665])"
      ]
     },
     "execution_count": 191,
     "metadata": {},
     "output_type": "execute_result"
    }
   ],
   "source": [
    "x_test_pred7=model7.predict(x_test)\n",
    "x_test_pred7"
   ]
  },
  {
   "cell_type": "code",
   "execution_count": 192,
   "metadata": {},
   "outputs": [
    {
     "data": {
      "text/plain": [
       "0.9999995799318491"
      ]
     },
     "execution_count": 192,
     "metadata": {},
     "output_type": "execute_result"
    }
   ],
   "source": [
    "r2_score(x_test_pred7,y_test)"
   ]
  },
  {
   "cell_type": "code",
   "execution_count": 193,
   "metadata": {},
   "outputs": [
    {
     "name": "stdout",
     "output_type": "stream",
     "text": [
      "Training Score: 0.9999995597584086\n",
      "Testing score: 0.9999995799318491\n"
     ]
    }
   ],
   "source": [
    "import pandas as pd\n",
    "house=pd.read_csv(\"ParisHousing.csv\")\n",
    "house\n",
    "#scaling\n",
    "from sklearn.preprocessing import MinMaxScaler\n",
    "from sklearn.model_selection import train_test_split\n",
    "from sklearn.linear_model import LinearRegression\n",
    "from sklearn.metrics import r2_score\n",
    "X=house.iloc[:,:-1].values\n",
    "y=house.iloc[:,-1].values\n",
    "sc=MinMaxScaler()\n",
    "X_sc=sc.fit_transform(X)\n",
    "X_sc\n",
    "#train test split\n",
    "x_train,x_test,y_train,y_test=train_test_split(X_sc,y,random_state=42)\n",
    "x_train\n",
    "model7=LinearRegression()\n",
    "model7.fit(x_train,y_train)\n",
    "x_train_pred7=model7.predict(x_train)\n",
    "x_train_pred7\n",
    "print(\"Training Score:\",r2_score(x_train_pred7,y_train))\n",
    "x_test_pred7=model7.predict(x_test)\n",
    "x_test_pred7\n",
    "print(\"Testing score:\",r2_score(x_test_pred7,y_test))"
   ]
  },
  {
   "cell_type": "code",
   "execution_count": 194,
   "metadata": {},
   "outputs": [
    {
     "data": {
      "text/plain": [
       "6"
      ]
     },
     "execution_count": 194,
     "metadata": {},
     "output_type": "execute_result"
    }
   ],
   "source": [
    "# prediction score \n",
    "6"
   ]
  },
  {
   "cell_type": "code",
   "execution_count": 195,
   "metadata": {},
   "outputs": [
    {
     "data": {
      "text/html": [
       "<div>\n",
       "<style scoped>\n",
       "    .dataframe tbody tr th:only-of-type {\n",
       "        vertical-align: middle;\n",
       "    }\n",
       "\n",
       "    .dataframe tbody tr th {\n",
       "        vertical-align: top;\n",
       "    }\n",
       "\n",
       "    .dataframe thead th {\n",
       "        text-align: right;\n",
       "    }\n",
       "</style>\n",
       "<table border=\"1\" class=\"dataframe\">\n",
       "  <thead>\n",
       "    <tr style=\"text-align: right;\">\n",
       "      <th></th>\n",
       "      <th>squareMeters</th>\n",
       "      <th>numberOfRooms</th>\n",
       "      <th>hasYard</th>\n",
       "      <th>hasPool</th>\n",
       "      <th>floors</th>\n",
       "      <th>cityCode</th>\n",
       "      <th>cityPartRange</th>\n",
       "      <th>numPrevOwners</th>\n",
       "      <th>made</th>\n",
       "      <th>isNewBuilt</th>\n",
       "      <th>hasStormProtector</th>\n",
       "      <th>basement</th>\n",
       "      <th>attic</th>\n",
       "      <th>garage</th>\n",
       "      <th>hasStorageRoom</th>\n",
       "      <th>hasGuestRoom</th>\n",
       "      <th>price</th>\n",
       "    </tr>\n",
       "  </thead>\n",
       "  <tbody>\n",
       "    <tr>\n",
       "      <th>squareMeters</th>\n",
       "      <td>1.000000</td>\n",
       "      <td>0.009573</td>\n",
       "      <td>-0.006650</td>\n",
       "      <td>-0.005594</td>\n",
       "      <td>0.001109</td>\n",
       "      <td>-0.001541</td>\n",
       "      <td>0.008758</td>\n",
       "      <td>0.016619</td>\n",
       "      <td>-0.007207</td>\n",
       "      <td>-0.010667</td>\n",
       "      <td>0.007480</td>\n",
       "      <td>-0.003960</td>\n",
       "      <td>-0.000588</td>\n",
       "      <td>-0.017246</td>\n",
       "      <td>-0.003486</td>\n",
       "      <td>-0.000623</td>\n",
       "      <td>0.999999</td>\n",
       "    </tr>\n",
       "    <tr>\n",
       "      <th>numberOfRooms</th>\n",
       "      <td>0.009573</td>\n",
       "      <td>1.000000</td>\n",
       "      <td>-0.011240</td>\n",
       "      <td>0.017015</td>\n",
       "      <td>0.022244</td>\n",
       "      <td>0.009040</td>\n",
       "      <td>0.008340</td>\n",
       "      <td>0.016766</td>\n",
       "      <td>0.003978</td>\n",
       "      <td>-0.002865</td>\n",
       "      <td>-0.001656</td>\n",
       "      <td>-0.013990</td>\n",
       "      <td>0.012061</td>\n",
       "      <td>0.023188</td>\n",
       "      <td>-0.004760</td>\n",
       "      <td>-0.015529</td>\n",
       "      <td>0.009591</td>\n",
       "    </tr>\n",
       "    <tr>\n",
       "      <th>hasYard</th>\n",
       "      <td>-0.006650</td>\n",
       "      <td>-0.011240</td>\n",
       "      <td>1.000000</td>\n",
       "      <td>0.015514</td>\n",
       "      <td>-0.000883</td>\n",
       "      <td>0.006760</td>\n",
       "      <td>0.005023</td>\n",
       "      <td>0.004279</td>\n",
       "      <td>0.002214</td>\n",
       "      <td>-0.008370</td>\n",
       "      <td>-0.007598</td>\n",
       "      <td>-0.008558</td>\n",
       "      <td>-0.003085</td>\n",
       "      <td>-0.004626</td>\n",
       "      <td>-0.009506</td>\n",
       "      <td>-0.007276</td>\n",
       "      <td>-0.006119</td>\n",
       "    </tr>\n",
       "    <tr>\n",
       "      <th>hasPool</th>\n",
       "      <td>-0.005594</td>\n",
       "      <td>0.017015</td>\n",
       "      <td>0.015514</td>\n",
       "      <td>1.000000</td>\n",
       "      <td>-0.004006</td>\n",
       "      <td>0.008072</td>\n",
       "      <td>0.014613</td>\n",
       "      <td>-0.006848</td>\n",
       "      <td>0.001894</td>\n",
       "      <td>0.000188</td>\n",
       "      <td>-0.001001</td>\n",
       "      <td>-0.007268</td>\n",
       "      <td>-0.011901</td>\n",
       "      <td>0.004832</td>\n",
       "      <td>0.001238</td>\n",
       "      <td>0.001123</td>\n",
       "      <td>-0.005070</td>\n",
       "    </tr>\n",
       "    <tr>\n",
       "      <th>floors</th>\n",
       "      <td>0.001109</td>\n",
       "      <td>0.022244</td>\n",
       "      <td>-0.000883</td>\n",
       "      <td>-0.004006</td>\n",
       "      <td>1.000000</td>\n",
       "      <td>0.002207</td>\n",
       "      <td>-0.004921</td>\n",
       "      <td>0.002463</td>\n",
       "      <td>0.005022</td>\n",
       "      <td>0.002458</td>\n",
       "      <td>-0.008566</td>\n",
       "      <td>0.006228</td>\n",
       "      <td>-0.000270</td>\n",
       "      <td>0.011303</td>\n",
       "      <td>0.003616</td>\n",
       "      <td>-0.021155</td>\n",
       "      <td>0.001654</td>\n",
       "    </tr>\n",
       "    <tr>\n",
       "      <th>cityCode</th>\n",
       "      <td>-0.001541</td>\n",
       "      <td>0.009040</td>\n",
       "      <td>0.006760</td>\n",
       "      <td>0.008072</td>\n",
       "      <td>0.002207</td>\n",
       "      <td>1.000000</td>\n",
       "      <td>0.011334</td>\n",
       "      <td>-0.007549</td>\n",
       "      <td>0.009266</td>\n",
       "      <td>-0.000224</td>\n",
       "      <td>-0.004941</td>\n",
       "      <td>0.002652</td>\n",
       "      <td>-0.002019</td>\n",
       "      <td>-0.002208</td>\n",
       "      <td>0.002554</td>\n",
       "      <td>-0.003338</td>\n",
       "      <td>-0.001539</td>\n",
       "    </tr>\n",
       "    <tr>\n",
       "      <th>cityPartRange</th>\n",
       "      <td>0.008758</td>\n",
       "      <td>0.008340</td>\n",
       "      <td>0.005023</td>\n",
       "      <td>0.014613</td>\n",
       "      <td>-0.004921</td>\n",
       "      <td>0.011334</td>\n",
       "      <td>1.000000</td>\n",
       "      <td>0.009238</td>\n",
       "      <td>0.007748</td>\n",
       "      <td>-0.001874</td>\n",
       "      <td>0.005224</td>\n",
       "      <td>0.004743</td>\n",
       "      <td>0.010696</td>\n",
       "      <td>-0.001648</td>\n",
       "      <td>-0.011338</td>\n",
       "      <td>-0.007153</td>\n",
       "      <td>0.008813</td>\n",
       "    </tr>\n",
       "    <tr>\n",
       "      <th>numPrevOwners</th>\n",
       "      <td>0.016619</td>\n",
       "      <td>0.016766</td>\n",
       "      <td>0.004279</td>\n",
       "      <td>-0.006848</td>\n",
       "      <td>0.002463</td>\n",
       "      <td>-0.007549</td>\n",
       "      <td>0.009238</td>\n",
       "      <td>1.000000</td>\n",
       "      <td>0.006858</td>\n",
       "      <td>-0.017420</td>\n",
       "      <td>0.002522</td>\n",
       "      <td>-0.000862</td>\n",
       "      <td>0.000719</td>\n",
       "      <td>0.020268</td>\n",
       "      <td>0.031707</td>\n",
       "      <td>-0.006082</td>\n",
       "      <td>0.016619</td>\n",
       "    </tr>\n",
       "    <tr>\n",
       "      <th>made</th>\n",
       "      <td>-0.007207</td>\n",
       "      <td>0.003978</td>\n",
       "      <td>0.002214</td>\n",
       "      <td>0.001894</td>\n",
       "      <td>0.005022</td>\n",
       "      <td>0.009266</td>\n",
       "      <td>0.007748</td>\n",
       "      <td>0.006858</td>\n",
       "      <td>1.000000</td>\n",
       "      <td>-0.001678</td>\n",
       "      <td>-0.000645</td>\n",
       "      <td>-0.005506</td>\n",
       "      <td>0.013773</td>\n",
       "      <td>0.005687</td>\n",
       "      <td>-0.007868</td>\n",
       "      <td>-0.005431</td>\n",
       "      <td>-0.007210</td>\n",
       "    </tr>\n",
       "    <tr>\n",
       "      <th>isNewBuilt</th>\n",
       "      <td>-0.010667</td>\n",
       "      <td>-0.002865</td>\n",
       "      <td>-0.008370</td>\n",
       "      <td>0.000188</td>\n",
       "      <td>0.002458</td>\n",
       "      <td>-0.000224</td>\n",
       "      <td>-0.001874</td>\n",
       "      <td>-0.017420</td>\n",
       "      <td>-0.001678</td>\n",
       "      <td>1.000000</td>\n",
       "      <td>0.003200</td>\n",
       "      <td>-0.015986</td>\n",
       "      <td>0.020127</td>\n",
       "      <td>0.002749</td>\n",
       "      <td>0.007011</td>\n",
       "      <td>0.019895</td>\n",
       "      <td>-0.010643</td>\n",
       "    </tr>\n",
       "    <tr>\n",
       "      <th>hasStormProtector</th>\n",
       "      <td>0.007480</td>\n",
       "      <td>-0.001656</td>\n",
       "      <td>-0.007598</td>\n",
       "      <td>-0.001001</td>\n",
       "      <td>-0.008566</td>\n",
       "      <td>-0.004941</td>\n",
       "      <td>0.005224</td>\n",
       "      <td>0.002522</td>\n",
       "      <td>-0.000645</td>\n",
       "      <td>0.003200</td>\n",
       "      <td>1.000000</td>\n",
       "      <td>-0.005001</td>\n",
       "      <td>-0.003753</td>\n",
       "      <td>0.003758</td>\n",
       "      <td>0.001401</td>\n",
       "      <td>-0.006549</td>\n",
       "      <td>0.007496</td>\n",
       "    </tr>\n",
       "    <tr>\n",
       "      <th>basement</th>\n",
       "      <td>-0.003960</td>\n",
       "      <td>-0.013990</td>\n",
       "      <td>-0.008558</td>\n",
       "      <td>-0.007268</td>\n",
       "      <td>0.006228</td>\n",
       "      <td>0.002652</td>\n",
       "      <td>0.004743</td>\n",
       "      <td>-0.000862</td>\n",
       "      <td>-0.005506</td>\n",
       "      <td>-0.015986</td>\n",
       "      <td>-0.005001</td>\n",
       "      <td>1.000000</td>\n",
       "      <td>-0.003180</td>\n",
       "      <td>0.000117</td>\n",
       "      <td>-0.010815</td>\n",
       "      <td>-0.020732</td>\n",
       "      <td>-0.003967</td>\n",
       "    </tr>\n",
       "    <tr>\n",
       "      <th>attic</th>\n",
       "      <td>-0.000588</td>\n",
       "      <td>0.012061</td>\n",
       "      <td>-0.003085</td>\n",
       "      <td>-0.011901</td>\n",
       "      <td>-0.000270</td>\n",
       "      <td>-0.002019</td>\n",
       "      <td>0.010696</td>\n",
       "      <td>0.000719</td>\n",
       "      <td>0.013773</td>\n",
       "      <td>0.020127</td>\n",
       "      <td>-0.003753</td>\n",
       "      <td>-0.003180</td>\n",
       "      <td>1.000000</td>\n",
       "      <td>-0.000611</td>\n",
       "      <td>-0.000789</td>\n",
       "      <td>-0.011995</td>\n",
       "      <td>-0.000600</td>\n",
       "    </tr>\n",
       "    <tr>\n",
       "      <th>garage</th>\n",
       "      <td>-0.017246</td>\n",
       "      <td>0.023188</td>\n",
       "      <td>-0.004626</td>\n",
       "      <td>0.004832</td>\n",
       "      <td>0.011303</td>\n",
       "      <td>-0.002208</td>\n",
       "      <td>-0.001648</td>\n",
       "      <td>0.020268</td>\n",
       "      <td>0.005687</td>\n",
       "      <td>0.002749</td>\n",
       "      <td>0.003758</td>\n",
       "      <td>0.000117</td>\n",
       "      <td>-0.000611</td>\n",
       "      <td>1.000000</td>\n",
       "      <td>0.032863</td>\n",
       "      <td>-0.017316</td>\n",
       "      <td>-0.017229</td>\n",
       "    </tr>\n",
       "    <tr>\n",
       "      <th>hasStorageRoom</th>\n",
       "      <td>-0.003486</td>\n",
       "      <td>-0.004760</td>\n",
       "      <td>-0.009506</td>\n",
       "      <td>0.001238</td>\n",
       "      <td>0.003616</td>\n",
       "      <td>0.002554</td>\n",
       "      <td>-0.011338</td>\n",
       "      <td>0.031707</td>\n",
       "      <td>-0.007868</td>\n",
       "      <td>0.007011</td>\n",
       "      <td>0.001401</td>\n",
       "      <td>-0.010815</td>\n",
       "      <td>-0.000789</td>\n",
       "      <td>0.032863</td>\n",
       "      <td>1.000000</td>\n",
       "      <td>0.015186</td>\n",
       "      <td>-0.003485</td>\n",
       "    </tr>\n",
       "    <tr>\n",
       "      <th>hasGuestRoom</th>\n",
       "      <td>-0.000623</td>\n",
       "      <td>-0.015529</td>\n",
       "      <td>-0.007276</td>\n",
       "      <td>0.001123</td>\n",
       "      <td>-0.021155</td>\n",
       "      <td>-0.003338</td>\n",
       "      <td>-0.007153</td>\n",
       "      <td>-0.006082</td>\n",
       "      <td>-0.005431</td>\n",
       "      <td>0.019895</td>\n",
       "      <td>-0.006549</td>\n",
       "      <td>-0.020732</td>\n",
       "      <td>-0.011995</td>\n",
       "      <td>-0.017316</td>\n",
       "      <td>0.015186</td>\n",
       "      <td>1.000000</td>\n",
       "      <td>-0.000644</td>\n",
       "    </tr>\n",
       "    <tr>\n",
       "      <th>price</th>\n",
       "      <td>0.999999</td>\n",
       "      <td>0.009591</td>\n",
       "      <td>-0.006119</td>\n",
       "      <td>-0.005070</td>\n",
       "      <td>0.001654</td>\n",
       "      <td>-0.001539</td>\n",
       "      <td>0.008813</td>\n",
       "      <td>0.016619</td>\n",
       "      <td>-0.007210</td>\n",
       "      <td>-0.010643</td>\n",
       "      <td>0.007496</td>\n",
       "      <td>-0.003967</td>\n",
       "      <td>-0.000600</td>\n",
       "      <td>-0.017229</td>\n",
       "      <td>-0.003485</td>\n",
       "      <td>-0.000644</td>\n",
       "      <td>1.000000</td>\n",
       "    </tr>\n",
       "  </tbody>\n",
       "</table>\n",
       "</div>"
      ],
      "text/plain": [
       "                   squareMeters  numberOfRooms   hasYard   hasPool    floors  \\\n",
       "squareMeters           1.000000       0.009573 -0.006650 -0.005594  0.001109   \n",
       "numberOfRooms          0.009573       1.000000 -0.011240  0.017015  0.022244   \n",
       "hasYard               -0.006650      -0.011240  1.000000  0.015514 -0.000883   \n",
       "hasPool               -0.005594       0.017015  0.015514  1.000000 -0.004006   \n",
       "floors                 0.001109       0.022244 -0.000883 -0.004006  1.000000   \n",
       "cityCode              -0.001541       0.009040  0.006760  0.008072  0.002207   \n",
       "cityPartRange          0.008758       0.008340  0.005023  0.014613 -0.004921   \n",
       "numPrevOwners          0.016619       0.016766  0.004279 -0.006848  0.002463   \n",
       "made                  -0.007207       0.003978  0.002214  0.001894  0.005022   \n",
       "isNewBuilt            -0.010667      -0.002865 -0.008370  0.000188  0.002458   \n",
       "hasStormProtector      0.007480      -0.001656 -0.007598 -0.001001 -0.008566   \n",
       "basement              -0.003960      -0.013990 -0.008558 -0.007268  0.006228   \n",
       "attic                 -0.000588       0.012061 -0.003085 -0.011901 -0.000270   \n",
       "garage                -0.017246       0.023188 -0.004626  0.004832  0.011303   \n",
       "hasStorageRoom        -0.003486      -0.004760 -0.009506  0.001238  0.003616   \n",
       "hasGuestRoom          -0.000623      -0.015529 -0.007276  0.001123 -0.021155   \n",
       "price                  0.999999       0.009591 -0.006119 -0.005070  0.001654   \n",
       "\n",
       "                   cityCode  cityPartRange  numPrevOwners      made  \\\n",
       "squareMeters      -0.001541       0.008758       0.016619 -0.007207   \n",
       "numberOfRooms      0.009040       0.008340       0.016766  0.003978   \n",
       "hasYard            0.006760       0.005023       0.004279  0.002214   \n",
       "hasPool            0.008072       0.014613      -0.006848  0.001894   \n",
       "floors             0.002207      -0.004921       0.002463  0.005022   \n",
       "cityCode           1.000000       0.011334      -0.007549  0.009266   \n",
       "cityPartRange      0.011334       1.000000       0.009238  0.007748   \n",
       "numPrevOwners     -0.007549       0.009238       1.000000  0.006858   \n",
       "made               0.009266       0.007748       0.006858  1.000000   \n",
       "isNewBuilt        -0.000224      -0.001874      -0.017420 -0.001678   \n",
       "hasStormProtector -0.004941       0.005224       0.002522 -0.000645   \n",
       "basement           0.002652       0.004743      -0.000862 -0.005506   \n",
       "attic             -0.002019       0.010696       0.000719  0.013773   \n",
       "garage            -0.002208      -0.001648       0.020268  0.005687   \n",
       "hasStorageRoom     0.002554      -0.011338       0.031707 -0.007868   \n",
       "hasGuestRoom      -0.003338      -0.007153      -0.006082 -0.005431   \n",
       "price             -0.001539       0.008813       0.016619 -0.007210   \n",
       "\n",
       "                   isNewBuilt  hasStormProtector  basement     attic  \\\n",
       "squareMeters        -0.010667           0.007480 -0.003960 -0.000588   \n",
       "numberOfRooms       -0.002865          -0.001656 -0.013990  0.012061   \n",
       "hasYard             -0.008370          -0.007598 -0.008558 -0.003085   \n",
       "hasPool              0.000188          -0.001001 -0.007268 -0.011901   \n",
       "floors               0.002458          -0.008566  0.006228 -0.000270   \n",
       "cityCode            -0.000224          -0.004941  0.002652 -0.002019   \n",
       "cityPartRange       -0.001874           0.005224  0.004743  0.010696   \n",
       "numPrevOwners       -0.017420           0.002522 -0.000862  0.000719   \n",
       "made                -0.001678          -0.000645 -0.005506  0.013773   \n",
       "isNewBuilt           1.000000           0.003200 -0.015986  0.020127   \n",
       "hasStormProtector    0.003200           1.000000 -0.005001 -0.003753   \n",
       "basement            -0.015986          -0.005001  1.000000 -0.003180   \n",
       "attic                0.020127          -0.003753 -0.003180  1.000000   \n",
       "garage               0.002749           0.003758  0.000117 -0.000611   \n",
       "hasStorageRoom       0.007011           0.001401 -0.010815 -0.000789   \n",
       "hasGuestRoom         0.019895          -0.006549 -0.020732 -0.011995   \n",
       "price               -0.010643           0.007496 -0.003967 -0.000600   \n",
       "\n",
       "                     garage  hasStorageRoom  hasGuestRoom     price  \n",
       "squareMeters      -0.017246       -0.003486     -0.000623  0.999999  \n",
       "numberOfRooms      0.023188       -0.004760     -0.015529  0.009591  \n",
       "hasYard           -0.004626       -0.009506     -0.007276 -0.006119  \n",
       "hasPool            0.004832        0.001238      0.001123 -0.005070  \n",
       "floors             0.011303        0.003616     -0.021155  0.001654  \n",
       "cityCode          -0.002208        0.002554     -0.003338 -0.001539  \n",
       "cityPartRange     -0.001648       -0.011338     -0.007153  0.008813  \n",
       "numPrevOwners      0.020268        0.031707     -0.006082  0.016619  \n",
       "made               0.005687       -0.007868     -0.005431 -0.007210  \n",
       "isNewBuilt         0.002749        0.007011      0.019895 -0.010643  \n",
       "hasStormProtector  0.003758        0.001401     -0.006549  0.007496  \n",
       "basement           0.000117       -0.010815     -0.020732 -0.003967  \n",
       "attic             -0.000611       -0.000789     -0.011995 -0.000600  \n",
       "garage             1.000000        0.032863     -0.017316 -0.017229  \n",
       "hasStorageRoom     0.032863        1.000000      0.015186 -0.003485  \n",
       "hasGuestRoom      -0.017316        0.015186      1.000000 -0.000644  \n",
       "price             -0.017229       -0.003485     -0.000644  1.000000  "
      ]
     },
     "execution_count": 195,
     "metadata": {},
     "output_type": "execute_result"
    }
   ],
   "source": [
    "# cheking corr\n",
    "house.corr()"
   ]
  },
  {
   "cell_type": "code",
   "execution_count": 196,
   "metadata": {},
   "outputs": [
    {
     "data": {
      "image/png": "[encoded data removed]",
      "text/plain": [
       "<Figure size 640x480 with 2 Axes>"
      ]
     },
     "metadata": {},
     "output_type": "display_data"
    }
   ],
   "source": [
    "#  correlation into visualform using heatmap of seaborn\n",
    "import seaborn as sn\n",
    "sn.heatmap(house.corr())\n",
    "plt.show()\n"
   ]
  },
  {
   "cell_type": "code",
   "execution_count": 197,
   "metadata": {},
   "outputs": [
    {
     "data": {
      "text/plain": [
       "0        9373\n",
       "1       39381\n",
       "2       34457\n",
       "3       27939\n",
       "4       38045\n",
       "        ...  \n",
       "9995    73133\n",
       "9996    34606\n",
       "9997    80933\n",
       "9998    55856\n",
       "9999    18412\n",
       "Name: cityCode, Length: 9509, dtype: int64"
      ]
     },
     "execution_count": 197,
     "metadata": {},
     "output_type": "execute_result"
    }
   ],
   "source": [
    "house['cityCode'].drop_duplicates()"
   ]
  },
  {
   "cell_type": "code",
   "execution_count": 198,
   "metadata": {},
   "outputs": [],
   "source": [
    "# Loss\n",
    "import pandas as pd"
   ]
  },
  {
   "cell_type": "code",
   "execution_count": 199,
   "metadata": {},
   "outputs": [
    {
     "data": {
      "text/html": [
       "<div>\n",
       "<style scoped>\n",
       "    .dataframe tbody tr th:only-of-type {\n",
       "        vertical-align: middle;\n",
       "    }\n",
       "\n",
       "    .dataframe tbody tr th {\n",
       "        vertical-align: top;\n",
       "    }\n",
       "\n",
       "    .dataframe thead th {\n",
       "        text-align: right;\n",
       "    }\n",
       "</style>\n",
       "<table border=\"1\" class=\"dataframe\">\n",
       "  <thead>\n",
       "    <tr style=\"text-align: right;\">\n",
       "      <th></th>\n",
       "      <th>YearsExperience</th>\n",
       "      <th>Salary</th>\n",
       "    </tr>\n",
       "  </thead>\n",
       "  <tbody>\n",
       "    <tr>\n",
       "      <th>0</th>\n",
       "      <td>1.1</td>\n",
       "      <td>39343.0</td>\n",
       "    </tr>\n",
       "    <tr>\n",
       "      <th>1</th>\n",
       "      <td>1.3</td>\n",
       "      <td>46205.0</td>\n",
       "    </tr>\n",
       "    <tr>\n",
       "      <th>2</th>\n",
       "      <td>1.5</td>\n",
       "      <td>37731.0</td>\n",
       "    </tr>\n",
       "    <tr>\n",
       "      <th>3</th>\n",
       "      <td>2.0</td>\n",
       "      <td>43525.0</td>\n",
       "    </tr>\n",
       "    <tr>\n",
       "      <th>4</th>\n",
       "      <td>2.2</td>\n",
       "      <td>39891.0</td>\n",
       "    </tr>\n",
       "    <tr>\n",
       "      <th>5</th>\n",
       "      <td>2.9</td>\n",
       "      <td>56642.0</td>\n",
       "    </tr>\n",
       "    <tr>\n",
       "      <th>6</th>\n",
       "      <td>3.0</td>\n",
       "      <td>60150.0</td>\n",
       "    </tr>\n",
       "    <tr>\n",
       "      <th>7</th>\n",
       "      <td>3.2</td>\n",
       "      <td>54445.0</td>\n",
       "    </tr>\n",
       "    <tr>\n",
       "      <th>8</th>\n",
       "      <td>3.2</td>\n",
       "      <td>64445.0</td>\n",
       "    </tr>\n",
       "    <tr>\n",
       "      <th>9</th>\n",
       "      <td>3.7</td>\n",
       "      <td>57189.0</td>\n",
       "    </tr>\n",
       "    <tr>\n",
       "      <th>10</th>\n",
       "      <td>3.9</td>\n",
       "      <td>63218.0</td>\n",
       "    </tr>\n",
       "    <tr>\n",
       "      <th>11</th>\n",
       "      <td>4.0</td>\n",
       "      <td>55794.0</td>\n",
       "    </tr>\n",
       "    <tr>\n",
       "      <th>12</th>\n",
       "      <td>4.0</td>\n",
       "      <td>56957.0</td>\n",
       "    </tr>\n",
       "    <tr>\n",
       "      <th>13</th>\n",
       "      <td>4.1</td>\n",
       "      <td>57081.0</td>\n",
       "    </tr>\n",
       "    <tr>\n",
       "      <th>14</th>\n",
       "      <td>4.5</td>\n",
       "      <td>61111.0</td>\n",
       "    </tr>\n",
       "    <tr>\n",
       "      <th>15</th>\n",
       "      <td>4.9</td>\n",
       "      <td>67938.0</td>\n",
       "    </tr>\n",
       "    <tr>\n",
       "      <th>16</th>\n",
       "      <td>5.1</td>\n",
       "      <td>66029.0</td>\n",
       "    </tr>\n",
       "    <tr>\n",
       "      <th>17</th>\n",
       "      <td>5.3</td>\n",
       "      <td>83088.0</td>\n",
       "    </tr>\n",
       "    <tr>\n",
       "      <th>18</th>\n",
       "      <td>5.9</td>\n",
       "      <td>81363.0</td>\n",
       "    </tr>\n",
       "    <tr>\n",
       "      <th>19</th>\n",
       "      <td>6.0</td>\n",
       "      <td>93940.0</td>\n",
       "    </tr>\n",
       "    <tr>\n",
       "      <th>20</th>\n",
       "      <td>6.8</td>\n",
       "      <td>91738.0</td>\n",
       "    </tr>\n",
       "    <tr>\n",
       "      <th>21</th>\n",
       "      <td>7.1</td>\n",
       "      <td>98273.0</td>\n",
       "    </tr>\n",
       "    <tr>\n",
       "      <th>22</th>\n",
       "      <td>7.9</td>\n",
       "      <td>101302.0</td>\n",
       "    </tr>\n",
       "    <tr>\n",
       "      <th>23</th>\n",
       "      <td>8.2</td>\n",
       "      <td>113812.0</td>\n",
       "    </tr>\n",
       "    <tr>\n",
       "      <th>24</th>\n",
       "      <td>8.7</td>\n",
       "      <td>109431.0</td>\n",
       "    </tr>\n",
       "    <tr>\n",
       "      <th>25</th>\n",
       "      <td>9.0</td>\n",
       "      <td>105582.0</td>\n",
       "    </tr>\n",
       "    <tr>\n",
       "      <th>26</th>\n",
       "      <td>9.5</td>\n",
       "      <td>116969.0</td>\n",
       "    </tr>\n",
       "    <tr>\n",
       "      <th>27</th>\n",
       "      <td>9.6</td>\n",
       "      <td>112635.0</td>\n",
       "    </tr>\n",
       "    <tr>\n",
       "      <th>28</th>\n",
       "      <td>10.3</td>\n",
       "      <td>122391.0</td>\n",
       "    </tr>\n",
       "    <tr>\n",
       "      <th>29</th>\n",
       "      <td>10.5</td>\n",
       "      <td>121872.0</td>\n",
       "    </tr>\n",
       "  </tbody>\n",
       "</table>\n",
       "</div>"
      ],
      "text/plain": [
       "    YearsExperience    Salary\n",
       "0               1.1   39343.0\n",
       "1               1.3   46205.0\n",
       "2               1.5   37731.0\n",
       "3               2.0   43525.0\n",
       "4               2.2   39891.0\n",
       "5               2.9   56642.0\n",
       "6               3.0   60150.0\n",
       "7               3.2   54445.0\n",
       "8               3.2   64445.0\n",
       "9               3.7   57189.0\n",
       "10              3.9   63218.0\n",
       "11              4.0   55794.0\n",
       "12              4.0   56957.0\n",
       "13              4.1   57081.0\n",
       "14              4.5   61111.0\n",
       "15              4.9   67938.0\n",
       "16              5.1   66029.0\n",
       "17              5.3   83088.0\n",
       "18              5.9   81363.0\n",
       "19              6.0   93940.0\n",
       "20              6.8   91738.0\n",
       "21              7.1   98273.0\n",
       "22              7.9  101302.0\n",
       "23              8.2  113812.0\n",
       "24              8.7  109431.0\n",
       "25              9.0  105582.0\n",
       "26              9.5  116969.0\n",
       "27              9.6  112635.0\n",
       "28             10.3  122391.0\n",
       "29             10.5  121872.0"
      ]
     },
     "execution_count": 199,
     "metadata": {},
     "output_type": "execute_result"
    }
   ],
   "source": [
    "salary=pd.read_csv(\"Salary_Data.csv\")\n",
    "salary"
   ]
  },
  {
   "cell_type": "code",
   "execution_count": 200,
   "metadata": {},
   "outputs": [
    {
     "data": {
      "text/plain": [
       "array([[ 1.1],\n",
       "       [ 1.3],\n",
       "       [ 1.5],\n",
       "       [ 2. ],\n",
       "       [ 2.2],\n",
       "       [ 2.9],\n",
       "       [ 3. ],\n",
       "       [ 3.2],\n",
       "       [ 3.2],\n",
       "       [ 3.7],\n",
       "       [ 3.9],\n",
       "       [ 4. ],\n",
       "       [ 4. ],\n",
       "       [ 4.1],\n",
       "       [ 4.5],\n",
       "       [ 4.9],\n",
       "       [ 5.1],\n",
       "       [ 5.3],\n",
       "       [ 5.9],\n",
       "       [ 6. ],\n",
       "       [ 6.8],\n",
       "       [ 7.1],\n",
       "       [ 7.9],\n",
       "       [ 8.2],\n",
       "       [ 8.7],\n",
       "       [ 9. ],\n",
       "       [ 9.5],\n",
       "       [ 9.6],\n",
       "       [10.3],\n",
       "       [10.5]])"
      ]
     },
     "execution_count": 200,
     "metadata": {},
     "output_type": "execute_result"
    }
   ],
   "source": [
    "x_salary=salary.iloc[:,:-1].values\n",
    "x_salary"
   ]
  },
  {
   "cell_type": "code",
   "execution_count": 201,
   "metadata": {},
   "outputs": [
    {
     "data": {
      "text/plain": [
       "array([ 39343.,  46205.,  37731.,  43525.,  39891.,  56642.,  60150.,\n",
       "        54445.,  64445.,  57189.,  63218.,  55794.,  56957.,  57081.,\n",
       "        61111.,  67938.,  66029.,  83088.,  81363.,  93940.,  91738.,\n",
       "        98273., 101302., 113812., 109431., 105582., 116969., 112635.,\n",
       "       122391., 121872.])"
      ]
     },
     "execution_count": 201,
     "metadata": {},
     "output_type": "execute_result"
    }
   ],
   "source": [
    "y_salary=salary.iloc[:,-1].values\n",
    "y_salary"
   ]
  },
  {
   "cell_type": "code",
   "execution_count": 202,
   "metadata": {},
   "outputs": [],
   "source": [
    "from sklearn.linear_model import LinearRegression"
   ]
  },
  {
   "cell_type": "code",
   "execution_count": 203,
   "metadata": {},
   "outputs": [],
   "source": [
    "model8=LinearRegression()"
   ]
  },
  {
   "cell_type": "code",
   "execution_count": 204,
   "metadata": {},
   "outputs": [
    {
     "data": {
      "text/html": [
       "<style>#sk-container-id-10 {color: black;background-color: white;}#sk-container-id-10 pre{padding: 0;}#sk-container-id-10 div.sk-toggleable {background-color: white;}#sk-container-id-10 label.sk-toggleable__label {cursor: pointer;display: block;width: 100%;margin-bottom: 0;padding: 0.3em;box-sizing: border-box;text-align: center;}#sk-container-id-10 label.sk-toggleable__label-arrow:before {content: \"▸\";float: left;margin-right: 0.25em;color: #696969;}#sk-container-id-10 label.sk-toggleable__label-arrow:hover:before {color: black;}#sk-container-id-10 div.sk-estimator:hover label.sk-toggleable__label-arrow:before {color: black;}#sk-container-id-10 div.sk-toggleable__content {max-height: 0;max-width: 0;overflow: hidden;text-align: left;background-color: #f0f8ff;}#sk-container-id-10 div.sk-toggleable__content pre {margin: 0.2em;color: black;border-radius: 0.25em;background-color: #f0f8ff;}#sk-container-id-10 input.sk-toggleable__control:checked~div.sk-toggleable__content {max-height: 200px;max-width: 100%;overflow: auto;}#sk-container-id-10 input.sk-toggleable__control:checked~label.sk-toggleable__label-arrow:before {content: \"▾\";}#sk-container-id-10 div.sk-estimator input.sk-toggleable__control:checked~label.sk-toggleable__label {background-color: #d4ebff;}#sk-container-id-10 div.sk-label input.sk-toggleable__control:checked~label.sk-toggleable__label {background-color: #d4ebff;}#sk-container-id-10 input.sk-hidden--visually {border: 0;clip: rect(1px 1px 1px 1px);clip: rect(1px, 1px, 1px, 1px);height: 1px;margin: -1px;overflow: hidden;padding: 0;position: absolute;width: 1px;}#sk-container-id-10 div.sk-estimator {font-family: monospace;background-color: #f0f8ff;border: 1px dotted black;border-radius: 0.25em;box-sizing: border-box;margin-bottom: 0.5em;}#sk-container-id-10 div.sk-estimator:hover {background-color: #d4ebff;}#sk-container-id-10 div.sk-parallel-item::after {content: \"\";width: 100%;border-bottom: 1px solid gray;flex-grow: 1;}#sk-container-id-10 div.sk-label:hover label.sk-toggleable__label {background-color: #d4ebff;}#sk-container-id-10 div.sk-serial::before {content: \"\";position: absolute;border-left: 1px solid gray;box-sizing: border-box;top: 0;bottom: 0;left: 50%;z-index: 0;}#sk-container-id-10 div.sk-serial {display: flex;flex-direction: column;align-items: center;background-color: white;padding-right: 0.2em;padding-left: 0.2em;position: relative;}#sk-container-id-10 div.sk-item {position: relative;z-index: 1;}#sk-container-id-10 div.sk-parallel {display: flex;align-items: stretch;justify-content: center;background-color: white;position: relative;}#sk-container-id-10 div.sk-item::before, #sk-container-id-10 div.sk-parallel-item::before {content: \"\";position: absolute;border-left: 1px solid gray;box-sizing: border-box;top: 0;bottom: 0;left: 50%;z-index: -1;}#sk-container-id-10 div.sk-parallel-item {display: flex;flex-direction: column;z-index: 1;position: relative;background-color: white;}#sk-container-id-10 div.sk-parallel-item:first-child::after {align-self: flex-end;width: 50%;}#sk-container-id-10 div.sk-parallel-item:last-child::after {align-self: flex-start;width: 50%;}#sk-container-id-10 div.sk-parallel-item:only-child::after {width: 0;}#sk-container-id-10 div.sk-dashed-wrapped {border: 1px dashed gray;margin: 0 0.4em 0.5em 0.4em;box-sizing: border-box;padding-bottom: 0.4em;background-color: white;}#sk-container-id-10 div.sk-label label {font-family: monospace;font-weight: bold;display: inline-block;line-height: 1.2em;}#sk-container-id-10 div.sk-label-container {text-align: center;}#sk-container-id-10 div.sk-container {/* jupyter's `normalize.less` sets `[hidden] { display: none; }` but bootstrap.min.css set `[hidden] { display: none !important; }` so we also need the `!important` here to be able to override the default hidden behavior on the sphinx rendered scikit-learn.org. See: https://github.com/scikit-learn/scikit-learn/issues/21755 */display: inline-block !important;position: relative;}#sk-container-id-10 div.sk-text-repr-fallback {display: none;}</style><div id=\"sk-container-id-10\" class=\"sk-top-container\"><div class=\"sk-text-repr-fallback\"><pre>LinearRegression()</pre><b>In a Jupyter environment, please rerun this cell to show the HTML representation or trust the notebook. <br />On GitHub, the HTML representation is unable to render, please try loading this page with nbviewer.org.</b></div><div class=\"sk-container\" hidden><div class=\"sk-item\"><div class=\"sk-estimator sk-toggleable\"><input class=\"sk-toggleable__control sk-hidden--visually\" id=\"sk-estimator-id-10\" type=\"checkbox\" checked><label for=\"sk-estimator-id-10\" class=\"sk-toggleable__label sk-toggleable__label-arrow\">LinearRegression</label><div class=\"sk-toggleable__content\"><pre>LinearRegression()</pre></div></div></div></div></div>"
      ],
      "text/plain": [
       "LinearRegression()"
      ]
     },
     "execution_count": 204,
     "metadata": {},
     "output_type": "execute_result"
    }
   ],
   "source": [
    "model8.fit(x_salary,y_salary)"
   ]
  },
  {
   "cell_type": "code",
   "execution_count": 205,
   "metadata": {},
   "outputs": [
    {
     "data": {
      "text/plain": [
       "array([ 36187.15875227,  38077.15121656,  39967.14368085,  44692.12484158,\n",
       "        46582.11730587,  53197.09093089,  54142.08716303,  56032.07962732,\n",
       "        56032.07962732,  60757.06078805,  62647.05325234,  63592.04948449,\n",
       "        63592.04948449,  64537.04571663,  68317.03064522,  72097.0155738 ,\n",
       "        73987.00803809,  75877.00050238,  81546.97789525,  82491.9741274 ,\n",
       "        90051.94398456,  92886.932681  , 100446.90253816, 103281.8912346 ,\n",
       "       108006.87239533, 110841.86109176, 115566.84225249, 116511.83848464,\n",
       "       123126.81210966, 125016.80457395])"
      ]
     },
     "execution_count": 205,
     "metadata": {},
     "output_type": "execute_result"
    }
   ],
   "source": [
    "y_pred=model8.predict(x_salary)\n",
    "y_pred"
   ]
  },
  {
   "cell_type": "code",
   "execution_count": 206,
   "metadata": {},
   "outputs": [
    {
     "data": {
      "text/plain": [
       "array([ 39343.,  46205.,  37731.,  43525.,  39891.,  56642.,  60150.,\n",
       "        54445.,  64445.,  57189.,  63218.,  55794.,  56957.,  57081.,\n",
       "        61111.,  67938.,  66029.,  83088.,  81363.,  93940.,  91738.,\n",
       "        98273., 101302., 113812., 109431., 105582., 116969., 112635.,\n",
       "       122391., 121872.])"
      ]
     },
     "execution_count": 206,
     "metadata": {},
     "output_type": "execute_result"
    }
   ],
   "source": [
    "y_salary"
   ]
  },
  {
   "cell_type": "code",
   "execution_count": 207,
   "metadata": {},
   "outputs": [
    {
     "data": {
      "text/plain": [
       "array([[ 36186.05875227,  38076.05121656,  39966.04368085,\n",
       "         44691.02484158,  46581.01730587,  53195.99093089,\n",
       "         54140.98716303,  56030.97962732,  56030.97962732,\n",
       "         60755.96078805,  62645.95325234,  63590.94948449,\n",
       "         63590.94948449,  64535.94571663,  68315.93064522,\n",
       "         72095.9155738 ,  73985.90803809,  75875.90050238,\n",
       "         81545.87789525,  82490.8741274 ,  90050.84398456,\n",
       "         92885.832681  , 100445.80253816, 103280.7912346 ,\n",
       "        108005.77239533, 110840.76109176, 115565.74225249,\n",
       "        116510.73848464, 123125.71210966, 125015.70457395],\n",
       "       [ 36185.85875227,  38075.85121656,  39965.84368085,\n",
       "         44690.82484158,  46580.81730587,  53195.79093089,\n",
       "         54140.78716303,  56030.77962732,  56030.77962732,\n",
       "         60755.76078805,  62645.75325234,  63590.74948449,\n",
       "         63590.74948449,  64535.74571663,  68315.73064522,\n",
       "         72095.7155738 ,  73985.70803809,  75875.70050238,\n",
       "         81545.67789525,  82490.6741274 ,  90050.64398456,\n",
       "         92885.632681  , 100445.60253816, 103280.5912346 ,\n",
       "        108005.57239533, 110840.56109176, 115565.54225249,\n",
       "        116510.53848464, 123125.51210966, 125015.50457395],\n",
       "       [ 36185.65875227,  38075.65121656,  39965.64368085,\n",
       "         44690.62484158,  46580.61730587,  53195.59093089,\n",
       "         54140.58716303,  56030.57962732,  56030.57962732,\n",
       "         60755.56078805,  62645.55325234,  63590.54948449,\n",
       "         63590.54948449,  64535.54571663,  68315.53064522,\n",
       "         72095.5155738 ,  73985.50803809,  75875.50050238,\n",
       "         81545.47789525,  82490.4741274 ,  90050.44398456,\n",
       "         92885.432681  , 100445.40253816, 103280.3912346 ,\n",
       "        108005.37239533, 110840.36109176, 115565.34225249,\n",
       "        116510.33848464, 123125.31210966, 125015.30457395],\n",
       "       [ 36185.15875227,  38075.15121656,  39965.14368085,\n",
       "         44690.12484158,  46580.11730587,  53195.09093089,\n",
       "         54140.08716303,  56030.07962732,  56030.07962732,\n",
       "         60755.06078805,  62645.05325234,  63590.04948449,\n",
       "         63590.04948449,  64535.04571663,  68315.03064522,\n",
       "         72095.0155738 ,  73985.00803809,  75875.00050238,\n",
       "         81544.97789525,  82489.9741274 ,  90049.94398456,\n",
       "         92884.932681  , 100444.90253816, 103279.8912346 ,\n",
       "        108004.87239533, 110839.86109176, 115564.84225249,\n",
       "        116509.83848464, 123124.81210966, 125014.80457395],\n",
       "       [ 36184.95875227,  38074.95121656,  39964.94368085,\n",
       "         44689.92484158,  46579.91730587,  53194.89093089,\n",
       "         54139.88716303,  56029.87962732,  56029.87962732,\n",
       "         60754.86078805,  62644.85325234,  63589.84948449,\n",
       "         63589.84948449,  64534.84571663,  68314.83064522,\n",
       "         72094.8155738 ,  73984.80803809,  75874.80050238,\n",
       "         81544.77789525,  82489.7741274 ,  90049.74398456,\n",
       "         92884.732681  , 100444.70253816, 103279.6912346 ,\n",
       "        108004.67239533, 110839.66109176, 115564.64225249,\n",
       "        116509.63848464, 123124.61210966, 125014.60457395],\n",
       "       [ 36184.25875227,  38074.25121656,  39964.24368085,\n",
       "         44689.22484158,  46579.21730587,  53194.19093089,\n",
       "         54139.18716303,  56029.17962732,  56029.17962732,\n",
       "         60754.16078805,  62644.15325234,  63589.14948449,\n",
       "         63589.14948449,  64534.14571663,  68314.13064522,\n",
       "         72094.1155738 ,  73984.10803809,  75874.10050238,\n",
       "         81544.07789525,  82489.0741274 ,  90049.04398456,\n",
       "         92884.032681  , 100444.00253816, 103278.9912346 ,\n",
       "        108003.97239533, 110838.96109176, 115563.94225249,\n",
       "        116508.93848464, 123123.91210966, 125013.90457395],\n",
       "       [ 36184.15875227,  38074.15121656,  39964.14368085,\n",
       "         44689.12484158,  46579.11730587,  53194.09093089,\n",
       "         54139.08716303,  56029.07962732,  56029.07962732,\n",
       "         60754.06078805,  62644.05325234,  63589.04948449,\n",
       "         63589.04948449,  64534.04571663,  68314.03064522,\n",
       "         72094.0155738 ,  73984.00803809,  75874.00050238,\n",
       "         81543.97789525,  82488.9741274 ,  90048.94398456,\n",
       "         92883.932681  , 100443.90253816, 103278.8912346 ,\n",
       "        108003.87239533, 110838.86109176, 115563.84225249,\n",
       "        116508.83848464, 123123.81210966, 125013.80457395],\n",
       "       [ 36183.95875227,  38073.95121656,  39963.94368085,\n",
       "         44688.92484158,  46578.91730587,  53193.89093089,\n",
       "         54138.88716303,  56028.87962732,  56028.87962732,\n",
       "         60753.86078805,  62643.85325234,  63588.84948449,\n",
       "         63588.84948449,  64533.84571663,  68313.83064522,\n",
       "         72093.8155738 ,  73983.80803809,  75873.80050238,\n",
       "         81543.77789525,  82488.7741274 ,  90048.74398456,\n",
       "         92883.732681  , 100443.70253816, 103278.6912346 ,\n",
       "        108003.67239533, 110838.66109176, 115563.64225249,\n",
       "        116508.63848464, 123123.61210966, 125013.60457395],\n",
       "       [ 36183.95875227,  38073.95121656,  39963.94368085,\n",
       "         44688.92484158,  46578.91730587,  53193.89093089,\n",
       "         54138.88716303,  56028.87962732,  56028.87962732,\n",
       "         60753.86078805,  62643.85325234,  63588.84948449,\n",
       "         63588.84948449,  64533.84571663,  68313.83064522,\n",
       "         72093.8155738 ,  73983.80803809,  75873.80050238,\n",
       "         81543.77789525,  82488.7741274 ,  90048.74398456,\n",
       "         92883.732681  , 100443.70253816, 103278.6912346 ,\n",
       "        108003.67239533, 110838.66109176, 115563.64225249,\n",
       "        116508.63848464, 123123.61210966, 125013.60457395],\n",
       "       [ 36183.45875227,  38073.45121656,  39963.44368085,\n",
       "         44688.42484158,  46578.41730587,  53193.39093089,\n",
       "         54138.38716303,  56028.37962732,  56028.37962732,\n",
       "         60753.36078805,  62643.35325234,  63588.34948449,\n",
       "         63588.34948449,  64533.34571663,  68313.33064522,\n",
       "         72093.3155738 ,  73983.30803809,  75873.30050238,\n",
       "         81543.27789525,  82488.2741274 ,  90048.24398456,\n",
       "         92883.232681  , 100443.20253816, 103278.1912346 ,\n",
       "        108003.17239533, 110838.16109176, 115563.14225249,\n",
       "        116508.13848464, 123123.11210966, 125013.10457395],\n",
       "       [ 36183.25875227,  38073.25121656,  39963.24368085,\n",
       "         44688.22484158,  46578.21730587,  53193.19093089,\n",
       "         54138.18716303,  56028.17962732,  56028.17962732,\n",
       "         60753.16078805,  62643.15325234,  63588.14948449,\n",
       "         63588.14948449,  64533.14571663,  68313.13064522,\n",
       "         72093.1155738 ,  73983.10803809,  75873.10050238,\n",
       "         81543.07789525,  82488.0741274 ,  90048.04398456,\n",
       "         92883.032681  , 100443.00253816, 103277.9912346 ,\n",
       "        108002.97239533, 110837.96109176, 115562.94225249,\n",
       "        116507.93848464, 123122.91210966, 125012.90457395],\n",
       "       [ 36183.15875227,  38073.15121656,  39963.14368085,\n",
       "         44688.12484158,  46578.11730587,  53193.09093089,\n",
       "         54138.08716303,  56028.07962732,  56028.07962732,\n",
       "         60753.06078805,  62643.05325234,  63588.04948449,\n",
       "         63588.04948449,  64533.04571663,  68313.03064522,\n",
       "         72093.0155738 ,  73983.00803809,  75873.00050238,\n",
       "         81542.97789525,  82487.9741274 ,  90047.94398456,\n",
       "         92882.932681  , 100442.90253816, 103277.8912346 ,\n",
       "        108002.87239533, 110837.86109176, 115562.84225249,\n",
       "        116507.83848464, 123122.81210966, 125012.80457395],\n",
       "       [ 36183.15875227,  38073.15121656,  39963.14368085,\n",
       "         44688.12484158,  46578.11730587,  53193.09093089,\n",
       "         54138.08716303,  56028.07962732,  56028.07962732,\n",
       "         60753.06078805,  62643.05325234,  63588.04948449,\n",
       "         63588.04948449,  64533.04571663,  68313.03064522,\n",
       "         72093.0155738 ,  73983.00803809,  75873.00050238,\n",
       "         81542.97789525,  82487.9741274 ,  90047.94398456,\n",
       "         92882.932681  , 100442.90253816, 103277.8912346 ,\n",
       "        108002.87239533, 110837.86109176, 115562.84225249,\n",
       "        116507.83848464, 123122.81210966, 125012.80457395],\n",
       "       [ 36183.05875227,  38073.05121656,  39963.04368085,\n",
       "         44688.02484158,  46578.01730587,  53192.99093089,\n",
       "         54137.98716303,  56027.97962732,  56027.97962732,\n",
       "         60752.96078805,  62642.95325234,  63587.94948449,\n",
       "         63587.94948449,  64532.94571663,  68312.93064522,\n",
       "         72092.9155738 ,  73982.90803809,  75872.90050238,\n",
       "         81542.87789525,  82487.8741274 ,  90047.84398456,\n",
       "         92882.832681  , 100442.80253816, 103277.7912346 ,\n",
       "        108002.77239533, 110837.76109176, 115562.74225249,\n",
       "        116507.73848464, 123122.71210966, 125012.70457395],\n",
       "       [ 36182.65875227,  38072.65121656,  39962.64368085,\n",
       "         44687.62484158,  46577.61730587,  53192.59093089,\n",
       "         54137.58716303,  56027.57962732,  56027.57962732,\n",
       "         60752.56078805,  62642.55325234,  63587.54948449,\n",
       "         63587.54948449,  64532.54571663,  68312.53064522,\n",
       "         72092.5155738 ,  73982.50803809,  75872.50050238,\n",
       "         81542.47789525,  82487.4741274 ,  90047.44398456,\n",
       "         92882.432681  , 100442.40253816, 103277.3912346 ,\n",
       "        108002.37239533, 110837.36109176, 115562.34225249,\n",
       "        116507.33848464, 123122.31210966, 125012.30457395],\n",
       "       [ 36182.25875227,  38072.25121656,  39962.24368085,\n",
       "         44687.22484158,  46577.21730587,  53192.19093089,\n",
       "         54137.18716303,  56027.17962732,  56027.17962732,\n",
       "         60752.16078805,  62642.15325234,  63587.14948449,\n",
       "         63587.14948449,  64532.14571663,  68312.13064522,\n",
       "         72092.1155738 ,  73982.10803809,  75872.10050238,\n",
       "         81542.07789525,  82487.0741274 ,  90047.04398456,\n",
       "         92882.032681  , 100442.00253816, 103276.9912346 ,\n",
       "        108001.97239533, 110836.96109176, 115561.94225249,\n",
       "        116506.93848464, 123121.91210966, 125011.90457395],\n",
       "       [ 36182.05875227,  38072.05121656,  39962.04368085,\n",
       "         44687.02484158,  46577.01730587,  53191.99093089,\n",
       "         54136.98716303,  56026.97962732,  56026.97962732,\n",
       "         60751.96078805,  62641.95325234,  63586.94948449,\n",
       "         63586.94948449,  64531.94571663,  68311.93064522,\n",
       "         72091.9155738 ,  73981.90803809,  75871.90050238,\n",
       "         81541.87789525,  82486.8741274 ,  90046.84398456,\n",
       "         92881.832681  , 100441.80253816, 103276.7912346 ,\n",
       "        108001.77239533, 110836.76109176, 115561.74225249,\n",
       "        116506.73848464, 123121.71210966, 125011.70457395],\n",
       "       [ 36181.85875227,  38071.85121656,  39961.84368085,\n",
       "         44686.82484158,  46576.81730587,  53191.79093089,\n",
       "         54136.78716303,  56026.77962732,  56026.77962732,\n",
       "         60751.76078805,  62641.75325234,  63586.74948449,\n",
       "         63586.74948449,  64531.74571663,  68311.73064522,\n",
       "         72091.7155738 ,  73981.70803809,  75871.70050238,\n",
       "         81541.67789525,  82486.6741274 ,  90046.64398456,\n",
       "         92881.632681  , 100441.60253816, 103276.5912346 ,\n",
       "        108001.57239533, 110836.56109176, 115561.54225249,\n",
       "        116506.53848464, 123121.51210966, 125011.50457395],\n",
       "       [ 36181.25875227,  38071.25121656,  39961.24368085,\n",
       "         44686.22484158,  46576.21730587,  53191.19093089,\n",
       "         54136.18716303,  56026.17962732,  56026.17962732,\n",
       "         60751.16078805,  62641.15325234,  63586.14948449,\n",
       "         63586.14948449,  64531.14571663,  68311.13064522,\n",
       "         72091.1155738 ,  73981.10803809,  75871.10050238,\n",
       "         81541.07789525,  82486.0741274 ,  90046.04398456,\n",
       "         92881.032681  , 100441.00253816, 103275.9912346 ,\n",
       "        108000.97239533, 110835.96109176, 115560.94225249,\n",
       "        116505.93848464, 123120.91210966, 125010.90457395],\n",
       "       [ 36181.15875227,  38071.15121656,  39961.14368085,\n",
       "         44686.12484158,  46576.11730587,  53191.09093089,\n",
       "         54136.08716303,  56026.07962732,  56026.07962732,\n",
       "         60751.06078805,  62641.05325234,  63586.04948449,\n",
       "         63586.04948449,  64531.04571663,  68311.03064522,\n",
       "         72091.0155738 ,  73981.00803809,  75871.00050238,\n",
       "         81540.97789525,  82485.9741274 ,  90045.94398456,\n",
       "         92880.932681  , 100440.90253816, 103275.8912346 ,\n",
       "        108000.87239533, 110835.86109176, 115560.84225249,\n",
       "        116505.83848464, 123120.81210966, 125010.80457395],\n",
       "       [ 36180.35875227,  38070.35121656,  39960.34368085,\n",
       "         44685.32484158,  46575.31730587,  53190.29093089,\n",
       "         54135.28716303,  56025.27962732,  56025.27962732,\n",
       "         60750.26078805,  62640.25325234,  63585.24948449,\n",
       "         63585.24948449,  64530.24571663,  68310.23064522,\n",
       "         72090.2155738 ,  73980.20803809,  75870.20050238,\n",
       "         81540.17789525,  82485.1741274 ,  90045.14398456,\n",
       "         92880.132681  , 100440.10253816, 103275.0912346 ,\n",
       "        108000.07239533, 110835.06109176, 115560.04225249,\n",
       "        116505.03848464, 123120.01210966, 125010.00457395],\n",
       "       [ 36180.05875227,  38070.05121656,  39960.04368085,\n",
       "         44685.02484158,  46575.01730587,  53189.99093089,\n",
       "         54134.98716303,  56024.97962732,  56024.97962732,\n",
       "         60749.96078805,  62639.95325234,  63584.94948449,\n",
       "         63584.94948449,  64529.94571663,  68309.93064522,\n",
       "         72089.9155738 ,  73979.90803809,  75869.90050238,\n",
       "         81539.87789525,  82484.8741274 ,  90044.84398456,\n",
       "         92879.832681  , 100439.80253816, 103274.7912346 ,\n",
       "        107999.77239533, 110834.76109176, 115559.74225249,\n",
       "        116504.73848464, 123119.71210966, 125009.70457395],\n",
       "       [ 36179.25875227,  38069.25121656,  39959.24368085,\n",
       "         44684.22484158,  46574.21730587,  53189.19093089,\n",
       "         54134.18716303,  56024.17962732,  56024.17962732,\n",
       "         60749.16078805,  62639.15325234,  63584.14948449,\n",
       "         63584.14948449,  64529.14571663,  68309.13064522,\n",
       "         72089.1155738 ,  73979.10803809,  75869.10050238,\n",
       "         81539.07789525,  82484.0741274 ,  90044.04398456,\n",
       "         92879.032681  , 100439.00253816, 103273.9912346 ,\n",
       "        107998.97239533, 110833.96109176, 115558.94225249,\n",
       "        116503.93848464, 123118.91210966, 125008.90457395],\n",
       "       [ 36178.95875227,  38068.95121656,  39958.94368085,\n",
       "         44683.92484158,  46573.91730587,  53188.89093089,\n",
       "         54133.88716303,  56023.87962732,  56023.87962732,\n",
       "         60748.86078805,  62638.85325234,  63583.84948449,\n",
       "         63583.84948449,  64528.84571663,  68308.83064522,\n",
       "         72088.8155738 ,  73978.80803809,  75868.80050238,\n",
       "         81538.77789525,  82483.7741274 ,  90043.74398456,\n",
       "         92878.732681  , 100438.70253816, 103273.6912346 ,\n",
       "        107998.67239533, 110833.66109176, 115558.64225249,\n",
       "        116503.63848464, 123118.61210966, 125008.60457395],\n",
       "       [ 36178.45875227,  38068.45121656,  39958.44368085,\n",
       "         44683.42484158,  46573.41730587,  53188.39093089,\n",
       "         54133.38716303,  56023.37962732,  56023.37962732,\n",
       "         60748.36078805,  62638.35325234,  63583.34948449,\n",
       "         63583.34948449,  64528.34571663,  68308.33064522,\n",
       "         72088.3155738 ,  73978.30803809,  75868.30050238,\n",
       "         81538.27789525,  82483.2741274 ,  90043.24398456,\n",
       "         92878.232681  , 100438.20253816, 103273.1912346 ,\n",
       "        107998.17239533, 110833.16109176, 115558.14225249,\n",
       "        116503.13848464, 123118.11210966, 125008.10457395],\n",
       "       [ 36178.15875227,  38068.15121656,  39958.14368085,\n",
       "         44683.12484158,  46573.11730587,  53188.09093089,\n",
       "         54133.08716303,  56023.07962732,  56023.07962732,\n",
       "         60748.06078805,  62638.05325234,  63583.04948449,\n",
       "         63583.04948449,  64528.04571663,  68308.03064522,\n",
       "         72088.0155738 ,  73978.00803809,  75868.00050238,\n",
       "         81537.97789525,  82482.9741274 ,  90042.94398456,\n",
       "         92877.932681  , 100437.90253816, 103272.8912346 ,\n",
       "        107997.87239533, 110832.86109176, 115557.84225249,\n",
       "        116502.83848464, 123117.81210966, 125007.80457395],\n",
       "       [ 36177.65875227,  38067.65121656,  39957.64368085,\n",
       "         44682.62484158,  46572.61730587,  53187.59093089,\n",
       "         54132.58716303,  56022.57962732,  56022.57962732,\n",
       "         60747.56078805,  62637.55325234,  63582.54948449,\n",
       "         63582.54948449,  64527.54571663,  68307.53064522,\n",
       "         72087.5155738 ,  73977.50803809,  75867.50050238,\n",
       "         81537.47789525,  82482.4741274 ,  90042.44398456,\n",
       "         92877.432681  , 100437.40253816, 103272.3912346 ,\n",
       "        107997.37239533, 110832.36109176, 115557.34225249,\n",
       "        116502.33848464, 123117.31210966, 125007.30457395],\n",
       "       [ 36177.55875227,  38067.55121656,  39957.54368085,\n",
       "         44682.52484158,  46572.51730587,  53187.49093089,\n",
       "         54132.48716303,  56022.47962732,  56022.47962732,\n",
       "         60747.46078805,  62637.45325234,  63582.44948449,\n",
       "         63582.44948449,  64527.44571663,  68307.43064522,\n",
       "         72087.4155738 ,  73977.40803809,  75867.40050238,\n",
       "         81537.37789525,  82482.3741274 ,  90042.34398456,\n",
       "         92877.332681  , 100437.30253816, 103272.2912346 ,\n",
       "        107997.27239533, 110832.26109176, 115557.24225249,\n",
       "        116502.23848464, 123117.21210966, 125007.20457395],\n",
       "       [ 36176.85875227,  38066.85121656,  39956.84368085,\n",
       "         44681.82484158,  46571.81730587,  53186.79093089,\n",
       "         54131.78716303,  56021.77962732,  56021.77962732,\n",
       "         60746.76078805,  62636.75325234,  63581.74948449,\n",
       "         63581.74948449,  64526.74571663,  68306.73064522,\n",
       "         72086.7155738 ,  73976.70803809,  75866.70050238,\n",
       "         81536.67789525,  82481.6741274 ,  90041.64398456,\n",
       "         92876.632681  , 100436.60253816, 103271.5912346 ,\n",
       "        107996.57239533, 110831.56109176, 115556.54225249,\n",
       "        116501.53848464, 123116.51210966, 125006.50457395],\n",
       "       [ 36176.65875227,  38066.65121656,  39956.64368085,\n",
       "         44681.62484158,  46571.61730587,  53186.59093089,\n",
       "         54131.58716303,  56021.57962732,  56021.57962732,\n",
       "         60746.56078805,  62636.55325234,  63581.54948449,\n",
       "         63581.54948449,  64526.54571663,  68306.53064522,\n",
       "         72086.5155738 ,  73976.50803809,  75866.50050238,\n",
       "         81536.47789525,  82481.4741274 ,  90041.44398456,\n",
       "         92876.432681  , 100436.40253816, 103271.3912346 ,\n",
       "        107996.37239533, 110831.36109176, 115556.34225249,\n",
       "        116501.33848464, 123116.31210966, 125006.30457395]])"
      ]
     },
     "execution_count": 207,
     "metadata": {},
     "output_type": "execute_result"
    }
   ],
   "source": [
    "y_pred-x_salary"
   ]
  },
  {
   "cell_type": "code",
   "execution_count": 208,
   "metadata": {},
   "outputs": [
    {
     "data": {
      "text/plain": [
       "array([[ 36186.05875227,  38076.05121656,  39966.04368085,\n",
       "         44691.02484158,  46581.01730587,  53195.99093089,\n",
       "         54140.98716303,  56030.97962732,  56030.97962732,\n",
       "         60755.96078805,  62645.95325234,  63590.94948449,\n",
       "         63590.94948449,  64535.94571663,  68315.93064522,\n",
       "         72095.9155738 ,  73985.90803809,  75875.90050238,\n",
       "         81545.87789525,  82490.8741274 ,  90050.84398456,\n",
       "         92885.832681  , 100445.80253816, 103280.7912346 ,\n",
       "        108005.77239533, 110840.76109176, 115565.74225249,\n",
       "        116510.73848464, 123125.71210966, 125015.70457395],\n",
       "       [ 36185.85875227,  38075.85121656,  39965.84368085,\n",
       "         44690.82484158,  46580.81730587,  53195.79093089,\n",
       "         54140.78716303,  56030.77962732,  56030.77962732,\n",
       "         60755.76078805,  62645.75325234,  63590.74948449,\n",
       "         63590.74948449,  64535.74571663,  68315.73064522,\n",
       "         72095.7155738 ,  73985.70803809,  75875.70050238,\n",
       "         81545.67789525,  82490.6741274 ,  90050.64398456,\n",
       "         92885.632681  , 100445.60253816, 103280.5912346 ,\n",
       "        108005.57239533, 110840.56109176, 115565.54225249,\n",
       "        116510.53848464, 123125.51210966, 125015.50457395],\n",
       "       [ 36185.65875227,  38075.65121656,  39965.64368085,\n",
       "         44690.62484158,  46580.61730587,  53195.59093089,\n",
       "         54140.58716303,  56030.57962732,  56030.57962732,\n",
       "         60755.56078805,  62645.55325234,  63590.54948449,\n",
       "         63590.54948449,  64535.54571663,  68315.53064522,\n",
       "         72095.5155738 ,  73985.50803809,  75875.50050238,\n",
       "         81545.47789525,  82490.4741274 ,  90050.44398456,\n",
       "         92885.432681  , 100445.40253816, 103280.3912346 ,\n",
       "        108005.37239533, 110840.36109176, 115565.34225249,\n",
       "        116510.33848464, 123125.31210966, 125015.30457395],\n",
       "       [ 36185.15875227,  38075.15121656,  39965.14368085,\n",
       "         44690.12484158,  46580.11730587,  53195.09093089,\n",
       "         54140.08716303,  56030.07962732,  56030.07962732,\n",
       "         60755.06078805,  62645.05325234,  63590.04948449,\n",
       "         63590.04948449,  64535.04571663,  68315.03064522,\n",
       "         72095.0155738 ,  73985.00803809,  75875.00050238,\n",
       "         81544.97789525,  82489.9741274 ,  90049.94398456,\n",
       "         92884.932681  , 100444.90253816, 103279.8912346 ,\n",
       "        108004.87239533, 110839.86109176, 115564.84225249,\n",
       "        116509.83848464, 123124.81210966, 125014.80457395],\n",
       "       [ 36184.95875227,  38074.95121656,  39964.94368085,\n",
       "         44689.92484158,  46579.91730587,  53194.89093089,\n",
       "         54139.88716303,  56029.87962732,  56029.87962732,\n",
       "         60754.86078805,  62644.85325234,  63589.84948449,\n",
       "         63589.84948449,  64534.84571663,  68314.83064522,\n",
       "         72094.8155738 ,  73984.80803809,  75874.80050238,\n",
       "         81544.77789525,  82489.7741274 ,  90049.74398456,\n",
       "         92884.732681  , 100444.70253816, 103279.6912346 ,\n",
       "        108004.67239533, 110839.66109176, 115564.64225249,\n",
       "        116509.63848464, 123124.61210966, 125014.60457395],\n",
       "       [ 36184.25875227,  38074.25121656,  39964.24368085,\n",
       "         44689.22484158,  46579.21730587,  53194.19093089,\n",
       "         54139.18716303,  56029.17962732,  56029.17962732,\n",
       "         60754.16078805,  62644.15325234,  63589.14948449,\n",
       "         63589.14948449,  64534.14571663,  68314.13064522,\n",
       "         72094.1155738 ,  73984.10803809,  75874.10050238,\n",
       "         81544.07789525,  82489.0741274 ,  90049.04398456,\n",
       "         92884.032681  , 100444.00253816, 103278.9912346 ,\n",
       "        108003.97239533, 110838.96109176, 115563.94225249,\n",
       "        116508.93848464, 123123.91210966, 125013.90457395],\n",
       "       [ 36184.15875227,  38074.15121656,  39964.14368085,\n",
       "         44689.12484158,  46579.11730587,  53194.09093089,\n",
       "         54139.08716303,  56029.07962732,  56029.07962732,\n",
       "         60754.06078805,  62644.05325234,  63589.04948449,\n",
       "         63589.04948449,  64534.04571663,  68314.03064522,\n",
       "         72094.0155738 ,  73984.00803809,  75874.00050238,\n",
       "         81543.97789525,  82488.9741274 ,  90048.94398456,\n",
       "         92883.932681  , 100443.90253816, 103278.8912346 ,\n",
       "        108003.87239533, 110838.86109176, 115563.84225249,\n",
       "        116508.83848464, 123123.81210966, 125013.80457395],\n",
       "       [ 36183.95875227,  38073.95121656,  39963.94368085,\n",
       "         44688.92484158,  46578.91730587,  53193.89093089,\n",
       "         54138.88716303,  56028.87962732,  56028.87962732,\n",
       "         60753.86078805,  62643.85325234,  63588.84948449,\n",
       "         63588.84948449,  64533.84571663,  68313.83064522,\n",
       "         72093.8155738 ,  73983.80803809,  75873.80050238,\n",
       "         81543.77789525,  82488.7741274 ,  90048.74398456,\n",
       "         92883.732681  , 100443.70253816, 103278.6912346 ,\n",
       "        108003.67239533, 110838.66109176, 115563.64225249,\n",
       "        116508.63848464, 123123.61210966, 125013.60457395],\n",
       "       [ 36183.95875227,  38073.95121656,  39963.94368085,\n",
       "         44688.92484158,  46578.91730587,  53193.89093089,\n",
       "         54138.88716303,  56028.87962732,  56028.87962732,\n",
       "         60753.86078805,  62643.85325234,  63588.84948449,\n",
       "         63588.84948449,  64533.84571663,  68313.83064522,\n",
       "         72093.8155738 ,  73983.80803809,  75873.80050238,\n",
       "         81543.77789525,  82488.7741274 ,  90048.74398456,\n",
       "         92883.732681  , 100443.70253816, 103278.6912346 ,\n",
       "        108003.67239533, 110838.66109176, 115563.64225249,\n",
       "        116508.63848464, 123123.61210966, 125013.60457395],\n",
       "       [ 36183.45875227,  38073.45121656,  39963.44368085,\n",
       "         44688.42484158,  46578.41730587,  53193.39093089,\n",
       "         54138.38716303,  56028.37962732,  56028.37962732,\n",
       "         60753.36078805,  62643.35325234,  63588.34948449,\n",
       "         63588.34948449,  64533.34571663,  68313.33064522,\n",
       "         72093.3155738 ,  73983.30803809,  75873.30050238,\n",
       "         81543.27789525,  82488.2741274 ,  90048.24398456,\n",
       "         92883.232681  , 100443.20253816, 103278.1912346 ,\n",
       "        108003.17239533, 110838.16109176, 115563.14225249,\n",
       "        116508.13848464, 123123.11210966, 125013.10457395],\n",
       "       [ 36183.25875227,  38073.25121656,  39963.24368085,\n",
       "         44688.22484158,  46578.21730587,  53193.19093089,\n",
       "         54138.18716303,  56028.17962732,  56028.17962732,\n",
       "         60753.16078805,  62643.15325234,  63588.14948449,\n",
       "         63588.14948449,  64533.14571663,  68313.13064522,\n",
       "         72093.1155738 ,  73983.10803809,  75873.10050238,\n",
       "         81543.07789525,  82488.0741274 ,  90048.04398456,\n",
       "         92883.032681  , 100443.00253816, 103277.9912346 ,\n",
       "        108002.97239533, 110837.96109176, 115562.94225249,\n",
       "        116507.93848464, 123122.91210966, 125012.90457395],\n",
       "       [ 36183.15875227,  38073.15121656,  39963.14368085,\n",
       "         44688.12484158,  46578.11730587,  53193.09093089,\n",
       "         54138.08716303,  56028.07962732,  56028.07962732,\n",
       "         60753.06078805,  62643.05325234,  63588.04948449,\n",
       "         63588.04948449,  64533.04571663,  68313.03064522,\n",
       "         72093.0155738 ,  73983.00803809,  75873.00050238,\n",
       "         81542.97789525,  82487.9741274 ,  90047.94398456,\n",
       "         92882.932681  , 100442.90253816, 103277.8912346 ,\n",
       "        108002.87239533, 110837.86109176, 115562.84225249,\n",
       "        116507.83848464, 123122.81210966, 125012.80457395],\n",
       "       [ 36183.15875227,  38073.15121656,  39963.14368085,\n",
       "         44688.12484158,  46578.11730587,  53193.09093089,\n",
       "         54138.08716303,  56028.07962732,  56028.07962732,\n",
       "         60753.06078805,  62643.05325234,  63588.04948449,\n",
       "         63588.04948449,  64533.04571663,  68313.03064522,\n",
       "         72093.0155738 ,  73983.00803809,  75873.00050238,\n",
       "         81542.97789525,  82487.9741274 ,  90047.94398456,\n",
       "         92882.932681  , 100442.90253816, 103277.8912346 ,\n",
       "        108002.87239533, 110837.86109176, 115562.84225249,\n",
       "        116507.83848464, 123122.81210966, 125012.80457395],\n",
       "       [ 36183.05875227,  38073.05121656,  39963.04368085,\n",
       "         44688.02484158,  46578.01730587,  53192.99093089,\n",
       "         54137.98716303,  56027.97962732,  56027.97962732,\n",
       "         60752.96078805,  62642.95325234,  63587.94948449,\n",
       "         63587.94948449,  64532.94571663,  68312.93064522,\n",
       "         72092.9155738 ,  73982.90803809,  75872.90050238,\n",
       "         81542.87789525,  82487.8741274 ,  90047.84398456,\n",
       "         92882.832681  , 100442.80253816, 103277.7912346 ,\n",
       "        108002.77239533, 110837.76109176, 115562.74225249,\n",
       "        116507.73848464, 123122.71210966, 125012.70457395],\n",
       "       [ 36182.65875227,  38072.65121656,  39962.64368085,\n",
       "         44687.62484158,  46577.61730587,  53192.59093089,\n",
       "         54137.58716303,  56027.57962732,  56027.57962732,\n",
       "         60752.56078805,  62642.55325234,  63587.54948449,\n",
       "         63587.54948449,  64532.54571663,  68312.53064522,\n",
       "         72092.5155738 ,  73982.50803809,  75872.50050238,\n",
       "         81542.47789525,  82487.4741274 ,  90047.44398456,\n",
       "         92882.432681  , 100442.40253816, 103277.3912346 ,\n",
       "        108002.37239533, 110837.36109176, 115562.34225249,\n",
       "        116507.33848464, 123122.31210966, 125012.30457395],\n",
       "       [ 36182.25875227,  38072.25121656,  39962.24368085,\n",
       "         44687.22484158,  46577.21730587,  53192.19093089,\n",
       "         54137.18716303,  56027.17962732,  56027.17962732,\n",
       "         60752.16078805,  62642.15325234,  63587.14948449,\n",
       "         63587.14948449,  64532.14571663,  68312.13064522,\n",
       "         72092.1155738 ,  73982.10803809,  75872.10050238,\n",
       "         81542.07789525,  82487.0741274 ,  90047.04398456,\n",
       "         92882.032681  , 100442.00253816, 103276.9912346 ,\n",
       "        108001.97239533, 110836.96109176, 115561.94225249,\n",
       "        116506.93848464, 123121.91210966, 125011.90457395],\n",
       "       [ 36182.05875227,  38072.05121656,  39962.04368085,\n",
       "         44687.02484158,  46577.01730587,  53191.99093089,\n",
       "         54136.98716303,  56026.97962732,  56026.97962732,\n",
       "         60751.96078805,  62641.95325234,  63586.94948449,\n",
       "         63586.94948449,  64531.94571663,  68311.93064522,\n",
       "         72091.9155738 ,  73981.90803809,  75871.90050238,\n",
       "         81541.87789525,  82486.8741274 ,  90046.84398456,\n",
       "         92881.832681  , 100441.80253816, 103276.7912346 ,\n",
       "        108001.77239533, 110836.76109176, 115561.74225249,\n",
       "        116506.73848464, 123121.71210966, 125011.70457395],\n",
       "       [ 36181.85875227,  38071.85121656,  39961.84368085,\n",
       "         44686.82484158,  46576.81730587,  53191.79093089,\n",
       "         54136.78716303,  56026.77962732,  56026.77962732,\n",
       "         60751.76078805,  62641.75325234,  63586.74948449,\n",
       "         63586.74948449,  64531.74571663,  68311.73064522,\n",
       "         72091.7155738 ,  73981.70803809,  75871.70050238,\n",
       "         81541.67789525,  82486.6741274 ,  90046.64398456,\n",
       "         92881.632681  , 100441.60253816, 103276.5912346 ,\n",
       "        108001.57239533, 110836.56109176, 115561.54225249,\n",
       "        116506.53848464, 123121.51210966, 125011.50457395],\n",
       "       [ 36181.25875227,  38071.25121656,  39961.24368085,\n",
       "         44686.22484158,  46576.21730587,  53191.19093089,\n",
       "         54136.18716303,  56026.17962732,  56026.17962732,\n",
       "         60751.16078805,  62641.15325234,  63586.14948449,\n",
       "         63586.14948449,  64531.14571663,  68311.13064522,\n",
       "         72091.1155738 ,  73981.10803809,  75871.10050238,\n",
       "         81541.07789525,  82486.0741274 ,  90046.04398456,\n",
       "         92881.032681  , 100441.00253816, 103275.9912346 ,\n",
       "        108000.97239533, 110835.96109176, 115560.94225249,\n",
       "        116505.93848464, 123120.91210966, 125010.90457395],\n",
       "       [ 36181.15875227,  38071.15121656,  39961.14368085,\n",
       "         44686.12484158,  46576.11730587,  53191.09093089,\n",
       "         54136.08716303,  56026.07962732,  56026.07962732,\n",
       "         60751.06078805,  62641.05325234,  63586.04948449,\n",
       "         63586.04948449,  64531.04571663,  68311.03064522,\n",
       "         72091.0155738 ,  73981.00803809,  75871.00050238,\n",
       "         81540.97789525,  82485.9741274 ,  90045.94398456,\n",
       "         92880.932681  , 100440.90253816, 103275.8912346 ,\n",
       "        108000.87239533, 110835.86109176, 115560.84225249,\n",
       "        116505.83848464, 123120.81210966, 125010.80457395],\n",
       "       [ 36180.35875227,  38070.35121656,  39960.34368085,\n",
       "         44685.32484158,  46575.31730587,  53190.29093089,\n",
       "         54135.28716303,  56025.27962732,  56025.27962732,\n",
       "         60750.26078805,  62640.25325234,  63585.24948449,\n",
       "         63585.24948449,  64530.24571663,  68310.23064522,\n",
       "         72090.2155738 ,  73980.20803809,  75870.20050238,\n",
       "         81540.17789525,  82485.1741274 ,  90045.14398456,\n",
       "         92880.132681  , 100440.10253816, 103275.0912346 ,\n",
       "        108000.07239533, 110835.06109176, 115560.04225249,\n",
       "        116505.03848464, 123120.01210966, 125010.00457395],\n",
       "       [ 36180.05875227,  38070.05121656,  39960.04368085,\n",
       "         44685.02484158,  46575.01730587,  53189.99093089,\n",
       "         54134.98716303,  56024.97962732,  56024.97962732,\n",
       "         60749.96078805,  62639.95325234,  63584.94948449,\n",
       "         63584.94948449,  64529.94571663,  68309.93064522,\n",
       "         72089.9155738 ,  73979.90803809,  75869.90050238,\n",
       "         81539.87789525,  82484.8741274 ,  90044.84398456,\n",
       "         92879.832681  , 100439.80253816, 103274.7912346 ,\n",
       "        107999.77239533, 110834.76109176, 115559.74225249,\n",
       "        116504.73848464, 123119.71210966, 125009.70457395],\n",
       "       [ 36179.25875227,  38069.25121656,  39959.24368085,\n",
       "         44684.22484158,  46574.21730587,  53189.19093089,\n",
       "         54134.18716303,  56024.17962732,  56024.17962732,\n",
       "         60749.16078805,  62639.15325234,  63584.14948449,\n",
       "         63584.14948449,  64529.14571663,  68309.13064522,\n",
       "         72089.1155738 ,  73979.10803809,  75869.10050238,\n",
       "         81539.07789525,  82484.0741274 ,  90044.04398456,\n",
       "         92879.032681  , 100439.00253816, 103273.9912346 ,\n",
       "        107998.97239533, 110833.96109176, 115558.94225249,\n",
       "        116503.93848464, 123118.91210966, 125008.90457395],\n",
       "       [ 36178.95875227,  38068.95121656,  39958.94368085,\n",
       "         44683.92484158,  46573.91730587,  53188.89093089,\n",
       "         54133.88716303,  56023.87962732,  56023.87962732,\n",
       "         60748.86078805,  62638.85325234,  63583.84948449,\n",
       "         63583.84948449,  64528.84571663,  68308.83064522,\n",
       "         72088.8155738 ,  73978.80803809,  75868.80050238,\n",
       "         81538.77789525,  82483.7741274 ,  90043.74398456,\n",
       "         92878.732681  , 100438.70253816, 103273.6912346 ,\n",
       "        107998.67239533, 110833.66109176, 115558.64225249,\n",
       "        116503.63848464, 123118.61210966, 125008.60457395],\n",
       "       [ 36178.45875227,  38068.45121656,  39958.44368085,\n",
       "         44683.42484158,  46573.41730587,  53188.39093089,\n",
       "         54133.38716303,  56023.37962732,  56023.37962732,\n",
       "         60748.36078805,  62638.35325234,  63583.34948449,\n",
       "         63583.34948449,  64528.34571663,  68308.33064522,\n",
       "         72088.3155738 ,  73978.30803809,  75868.30050238,\n",
       "         81538.27789525,  82483.2741274 ,  90043.24398456,\n",
       "         92878.232681  , 100438.20253816, 103273.1912346 ,\n",
       "        107998.17239533, 110833.16109176, 115558.14225249,\n",
       "        116503.13848464, 123118.11210966, 125008.10457395],\n",
       "       [ 36178.15875227,  38068.15121656,  39958.14368085,\n",
       "         44683.12484158,  46573.11730587,  53188.09093089,\n",
       "         54133.08716303,  56023.07962732,  56023.07962732,\n",
       "         60748.06078805,  62638.05325234,  63583.04948449,\n",
       "         63583.04948449,  64528.04571663,  68308.03064522,\n",
       "         72088.0155738 ,  73978.00803809,  75868.00050238,\n",
       "         81537.97789525,  82482.9741274 ,  90042.94398456,\n",
       "         92877.932681  , 100437.90253816, 103272.8912346 ,\n",
       "        107997.87239533, 110832.86109176, 115557.84225249,\n",
       "        116502.83848464, 123117.81210966, 125007.80457395],\n",
       "       [ 36177.65875227,  38067.65121656,  39957.64368085,\n",
       "         44682.62484158,  46572.61730587,  53187.59093089,\n",
       "         54132.58716303,  56022.57962732,  56022.57962732,\n",
       "         60747.56078805,  62637.55325234,  63582.54948449,\n",
       "         63582.54948449,  64527.54571663,  68307.53064522,\n",
       "         72087.5155738 ,  73977.50803809,  75867.50050238,\n",
       "         81537.47789525,  82482.4741274 ,  90042.44398456,\n",
       "         92877.432681  , 100437.40253816, 103272.3912346 ,\n",
       "        107997.37239533, 110832.36109176, 115557.34225249,\n",
       "        116502.33848464, 123117.31210966, 125007.30457395],\n",
       "       [ 36177.55875227,  38067.55121656,  39957.54368085,\n",
       "         44682.52484158,  46572.51730587,  53187.49093089,\n",
       "         54132.48716303,  56022.47962732,  56022.47962732,\n",
       "         60747.46078805,  62637.45325234,  63582.44948449,\n",
       "         63582.44948449,  64527.44571663,  68307.43064522,\n",
       "         72087.4155738 ,  73977.40803809,  75867.40050238,\n",
       "         81537.37789525,  82482.3741274 ,  90042.34398456,\n",
       "         92877.332681  , 100437.30253816, 103272.2912346 ,\n",
       "        107997.27239533, 110832.26109176, 115557.24225249,\n",
       "        116502.23848464, 123117.21210966, 125007.20457395],\n",
       "       [ 36176.85875227,  38066.85121656,  39956.84368085,\n",
       "         44681.82484158,  46571.81730587,  53186.79093089,\n",
       "         54131.78716303,  56021.77962732,  56021.77962732,\n",
       "         60746.76078805,  62636.75325234,  63581.74948449,\n",
       "         63581.74948449,  64526.74571663,  68306.73064522,\n",
       "         72086.7155738 ,  73976.70803809,  75866.70050238,\n",
       "         81536.67789525,  82481.6741274 ,  90041.64398456,\n",
       "         92876.632681  , 100436.60253816, 103271.5912346 ,\n",
       "        107996.57239533, 110831.56109176, 115556.54225249,\n",
       "        116501.53848464, 123116.51210966, 125006.50457395],\n",
       "       [ 36176.65875227,  38066.65121656,  39956.64368085,\n",
       "         44681.62484158,  46571.61730587,  53186.59093089,\n",
       "         54131.58716303,  56021.57962732,  56021.57962732,\n",
       "         60746.56078805,  62636.55325234,  63581.54948449,\n",
       "         63581.54948449,  64526.54571663,  68306.53064522,\n",
       "         72086.5155738 ,  73976.50803809,  75866.50050238,\n",
       "         81536.47789525,  82481.4741274 ,  90041.44398456,\n",
       "         92876.432681  , 100436.40253816, 103271.3912346 ,\n",
       "        107996.37239533, 110831.36109176, 115556.34225249,\n",
       "        116501.33848464, 123116.31210966, 125006.30457395]])"
      ]
     },
     "execution_count": 208,
     "metadata": {},
     "output_type": "execute_result"
    }
   ],
   "source": [
    "abs(y_pred-x_salary)"
   ]
  },
  {
   "cell_type": "code",
   "execution_count": 209,
   "metadata": {},
   "outputs": [
    {
     "data": {
      "text/plain": [
       "68397918.0"
      ]
     },
     "execution_count": 209,
     "metadata": {},
     "output_type": "execute_result"
    }
   ],
   "source": [
    "abs(y_pred-x_salary).sum()"
   ]
  },
  {
   "attachments": {},
   "cell_type": "markdown",
   "metadata": {},
   "source": [
    "# How Types of LOSs\n",
    "1>. MAE(Mean Absolute Error)\n",
    "\n",
    "2>. MSE(Mean Suqure Error)\n",
    "\n",
    "3>. RMSE(Root Mean Suqure Error)"
   ]
  },
  {
   "cell_type": "code",
   "execution_count": 210,
   "metadata": {},
   "outputs": [
    {
     "data": {
      "text/plain": [
       "3155.8412477300008"
      ]
     },
     "execution_count": 210,
     "metadata": {},
     "output_type": "execute_result"
    }
   ],
   "source": [
    "39343- 36187.15875227\n"
   ]
  },
  {
   "cell_type": "code",
   "execution_count": 211,
   "metadata": {},
   "outputs": [],
   "source": [
    "# MAE(Mean Absolute Error)-\n",
    "import numpy as np"
   ]
  },
  {
   "cell_type": "code",
   "execution_count": 212,
   "metadata": {},
   "outputs": [
    {
     "data": {
      "text/plain": [
       "3155.8412477300008"
      ]
     },
     "execution_count": 212,
     "metadata": {},
     "output_type": "execute_result"
    }
   ],
   "source": [
    "np.mean(39343- 36187.15875227)"
   ]
  },
  {
   "cell_type": "code",
   "execution_count": 213,
   "metadata": {},
   "outputs": [
    {
     "data": {
      "text/plain": [
       "30"
      ]
     },
     "execution_count": 213,
     "metadata": {},
     "output_type": "execute_result"
    }
   ],
   "source": [
    "y_pred\n",
    "len(y_pred)"
   ]
  },
  {
   "cell_type": "code",
   "execution_count": 214,
   "metadata": {},
   "outputs": [
    {
     "data": {
      "text/plain": [
       "30"
      ]
     },
     "execution_count": 214,
     "metadata": {},
     "output_type": "execute_result"
    }
   ],
   "source": [
    "y_salary\n",
    "len(y_salary)"
   ]
  },
  {
   "cell_type": "code",
   "execution_count": 215,
   "metadata": {},
   "outputs": [],
   "source": [
    "from sklearn.metrics import mean_absolute_error"
   ]
  },
  {
   "cell_type": "code",
   "execution_count": 216,
   "metadata": {},
   "outputs": [
    {
     "data": {
      "text/plain": [
       "4644.2012894435375"
      ]
     },
     "execution_count": 216,
     "metadata": {},
     "output_type": "execute_result"
    }
   ],
   "source": [
    "mean_absolute_error(y_pred,y_salary)"
   ]
  },
  {
   "cell_type": "code",
   "execution_count": 217,
   "metadata": {},
   "outputs": [
    {
     "data": {
      "text/plain": [
       "7.275957614183426e-13"
      ]
     },
     "execution_count": 217,
     "metadata": {},
     "output_type": "execute_result"
    }
   ],
   "source": [
    "np.mean(y_pred-y_salary)"
   ]
  },
  {
   "cell_type": "code",
   "execution_count": 218,
   "metadata": {},
   "outputs": [
    {
     "data": {
      "text/plain": [
       "2.1827872842550278e-11"
      ]
     },
     "execution_count": 218,
     "metadata": {},
     "output_type": "execute_result"
    }
   ],
   "source": [
    "sum(y_pred-y_salary)"
   ]
  },
  {
   "cell_type": "code",
   "execution_count": 219,
   "metadata": {},
   "outputs": [
    {
     "data": {
      "text/plain": [
       "array([ 3155.84124773,  8127.84878344,  2236.14368085,  1167.12484158,\n",
       "        6691.11730587,  3444.90906911,  6007.91283697,  1587.07962732,\n",
       "        8412.92037268,  3568.06078805,   570.94674766,  7798.04948449,\n",
       "        6635.04948449,  7456.04571663,  7206.03064522,  4159.0155738 ,\n",
       "        7958.00803809,  7210.99949762,   183.97789525, 11448.0258726 ,\n",
       "        1686.05601544,  5386.067319  ,   855.09746184, 10530.1087654 ,\n",
       "        1424.12760467,  5259.86109176,  1402.15774751,  3876.83848464,\n",
       "         735.81210966,  3144.80457395])"
      ]
     },
     "execution_count": 219,
     "metadata": {},
     "output_type": "execute_result"
    }
   ],
   "source": [
    "abs(y_pred-y_salary)"
   ]
  },
  {
   "cell_type": "code",
   "execution_count": 220,
   "metadata": {},
   "outputs": [
    {
     "data": {
      "text/plain": [
       "139326.0386833062"
      ]
     },
     "execution_count": 220,
     "metadata": {},
     "output_type": "execute_result"
    }
   ],
   "source": [
    "sum(abs(y_pred-y_salary))"
   ]
  },
  {
   "cell_type": "code",
   "execution_count": 221,
   "metadata": {},
   "outputs": [
    {
     "data": {
      "text/plain": [
       "4644.20128944354"
      ]
     },
     "execution_count": 221,
     "metadata": {},
     "output_type": "execute_result"
    }
   ],
   "source": [
    "sum(abs(y_pred-y_salary))/30"
   ]
  },
  {
   "cell_type": "code",
   "execution_count": 222,
   "metadata": {},
   "outputs": [],
   "source": [
    "#MSE(Mean Squure Error)-\n",
    "from sklearn.metrics import mean_squared_error"
   ]
  },
  {
   "cell_type": "code",
   "execution_count": 223,
   "metadata": {},
   "outputs": [
    {
     "data": {
      "text/plain": [
       "31270951.722280968"
      ]
     },
     "execution_count": 223,
     "metadata": {},
     "output_type": "execute_result"
    }
   ],
   "source": [
    "mean_squared_error(y_pred,y_salary)"
   ]
  },
  {
   "cell_type": "code",
   "execution_count": 224,
   "metadata": {},
   "outputs": [
    {
     "data": {
      "text/plain": [
       "array([ -3155.84124773,  -8127.84878344,   2236.14368085,   1167.12484158,\n",
       "         6691.11730587,  -3444.90906911,  -6007.91283697,   1587.07962732,\n",
       "        -8412.92037268,   3568.06078805,   -570.94674766,   7798.04948449,\n",
       "         6635.04948449,   7456.04571663,   7206.03064522,   4159.0155738 ,\n",
       "         7958.00803809,  -7210.99949762,    183.97789525, -11448.0258726 ,\n",
       "        -1686.05601544,  -5386.067319  ,   -855.09746184, -10530.1087654 ,\n",
       "        -1424.12760467,   5259.86109176,  -1402.15774751,   3876.83848464,\n",
       "          735.81210966,   3144.80457395])"
      ]
     },
     "execution_count": 224,
     "metadata": {},
     "output_type": "execute_result"
    }
   ],
   "source": [
    "y_pred-y_salary"
   ]
  },
  {
   "cell_type": "code",
   "execution_count": 225,
   "metadata": {},
   "outputs": [
    {
     "data": {
      "text/plain": [
       "array([9.95933398e+06, 6.60619258e+07, 5.00033856e+06, 1.36218040e+06,\n",
       "       4.47710508e+07, 1.18673985e+07, 3.60950167e+07, 2.51882174e+06,\n",
       "       7.07772292e+07, 1.27310578e+07, 3.25980189e+05, 6.08095758e+07,\n",
       "       4.40238817e+07, 5.55926177e+07, 5.19268777e+07, 1.72974105e+07,\n",
       "       6.33298919e+07, 5.19985138e+07, 3.38478659e+04, 1.31057296e+08,\n",
       "       2.84278489e+06, 2.90097212e+07, 7.31191669e+05, 1.10883191e+08,\n",
       "       2.02813943e+06, 2.76661387e+07, 1.96604635e+06, 1.50298766e+07,\n",
       "       5.41419461e+05, 9.88979581e+06])"
      ]
     },
     "execution_count": 225,
     "metadata": {},
     "output_type": "execute_result"
    }
   ],
   "source": [
    "np.square(y_pred-y_salary)"
   ]
  },
  {
   "cell_type": "code",
   "execution_count": 226,
   "metadata": {},
   "outputs": [
    {
     "data": {
      "text/plain": [
       "9959333.980874043"
      ]
     },
     "execution_count": 226,
     "metadata": {},
     "output_type": "execute_result"
    }
   ],
   "source": [
    "(-3155.84124773)**2"
   ]
  },
  {
   "cell_type": "code",
   "execution_count": 227,
   "metadata": {},
   "outputs": [
    {
     "data": {
      "text/plain": [
       "array([ -3155.84124773,  -8127.84878344,   2236.14368085,   1167.12484158,\n",
       "         6691.11730587,  -3444.90906911,  -6007.91283697,   1587.07962732,\n",
       "        -8412.92037268,   3568.06078805,   -570.94674766,   7798.04948449,\n",
       "         6635.04948449,   7456.04571663,   7206.03064522,   4159.0155738 ,\n",
       "         7958.00803809,  -7210.99949762,    183.97789525, -11448.0258726 ,\n",
       "        -1686.05601544,  -5386.067319  ,   -855.09746184, -10530.1087654 ,\n",
       "        -1424.12760467,   5259.86109176,  -1402.15774751,   3876.83848464,\n",
       "          735.81210966,   3144.80457395])"
      ]
     },
     "execution_count": 227,
     "metadata": {},
     "output_type": "execute_result"
    }
   ],
   "source": [
    "#RMSE(Root Mean Square Error)-\n",
    "y_pred-y_salary"
   ]
  },
  {
   "cell_type": "code",
   "execution_count": 228,
   "metadata": {},
   "outputs": [
    {
     "data": {
      "text/plain": [
       "31270951.722280968"
      ]
     },
     "execution_count": 228,
     "metadata": {},
     "output_type": "execute_result"
    }
   ],
   "source": [
    "y_pred-y_salary\n",
    "np.square(y_pred-y_salary)\n",
    "np.mean(np.square(y_pred-y_salary))"
   ]
  },
  {
   "cell_type": "code",
   "execution_count": 229,
   "metadata": {},
   "outputs": [
    {
     "data": {
      "text/plain": [
       "5592.043608760662"
      ]
     },
     "execution_count": 229,
     "metadata": {},
     "output_type": "execute_result"
    }
   ],
   "source": [
    "np.sqrt(np.mean(np.square(y_pred-y_salary)))"
   ]
  },
  {
   "cell_type": "code",
   "execution_count": 230,
   "metadata": {},
   "outputs": [],
   "source": [
    "#Polynomial Features:-\n"
   ]
  },
  {
   "cell_type": "code",
   "execution_count": 231,
   "metadata": {},
   "outputs": [],
   "source": [
    "import pandas as pd\n",
    "df=pd.DataFrame({\"Width\":[10,11,12,11,14,13],\n",
    "              \"Height\":[9,10,13,14,16,12]})"
   ]
  },
  {
   "cell_type": "code",
   "execution_count": 232,
   "metadata": {},
   "outputs": [
    {
     "data": {
      "text/html": [
       "<div>\n",
       "<style scoped>\n",
       "    .dataframe tbody tr th:only-of-type {\n",
       "        vertical-align: middle;\n",
       "    }\n",
       "\n",
       "    .dataframe tbody tr th {\n",
       "        vertical-align: top;\n",
       "    }\n",
       "\n",
       "    .dataframe thead th {\n",
       "        text-align: right;\n",
       "    }\n",
       "</style>\n",
       "<table border=\"1\" class=\"dataframe\">\n",
       "  <thead>\n",
       "    <tr style=\"text-align: right;\">\n",
       "      <th></th>\n",
       "      <th>Width</th>\n",
       "      <th>Height</th>\n",
       "    </tr>\n",
       "  </thead>\n",
       "  <tbody>\n",
       "    <tr>\n",
       "      <th>0</th>\n",
       "      <td>10</td>\n",
       "      <td>9</td>\n",
       "    </tr>\n",
       "    <tr>\n",
       "      <th>1</th>\n",
       "      <td>11</td>\n",
       "      <td>10</td>\n",
       "    </tr>\n",
       "    <tr>\n",
       "      <th>2</th>\n",
       "      <td>12</td>\n",
       "      <td>13</td>\n",
       "    </tr>\n",
       "    <tr>\n",
       "      <th>3</th>\n",
       "      <td>11</td>\n",
       "      <td>14</td>\n",
       "    </tr>\n",
       "    <tr>\n",
       "      <th>4</th>\n",
       "      <td>14</td>\n",
       "      <td>16</td>\n",
       "    </tr>\n",
       "    <tr>\n",
       "      <th>5</th>\n",
       "      <td>13</td>\n",
       "      <td>12</td>\n",
       "    </tr>\n",
       "  </tbody>\n",
       "</table>\n",
       "</div>"
      ],
      "text/plain": [
       "   Width  Height\n",
       "0     10       9\n",
       "1     11      10\n",
       "2     12      13\n",
       "3     11      14\n",
       "4     14      16\n",
       "5     13      12"
      ]
     },
     "execution_count": 232,
     "metadata": {},
     "output_type": "execute_result"
    }
   ],
   "source": [
    "df"
   ]
  },
  {
   "cell_type": "code",
   "execution_count": 233,
   "metadata": {},
   "outputs": [],
   "source": [
    "df=pd.DataFrame({\"Width\":[10,11,12,11,14,13],\n",
    "\"Height\":[9,10,13,14,16,12],\n",
    "\"Target\":['Apple','Apple','Orange','Orange','Orange','Apple']})"
   ]
  },
  {
   "cell_type": "code",
   "execution_count": 234,
   "metadata": {},
   "outputs": [
    {
     "data": {
      "text/plain": [
       "array([[10,  9],\n",
       "       [11, 10],\n",
       "       [12, 13],\n",
       "       [11, 14],\n",
       "       [14, 16],\n",
       "       [13, 12]], dtype=int64)"
      ]
     },
     "execution_count": 234,
     "metadata": {},
     "output_type": "execute_result"
    }
   ],
   "source": [
    "x=df.iloc[:,:-1].values\n",
    "x"
   ]
  },
  {
   "cell_type": "code",
   "execution_count": 235,
   "metadata": {},
   "outputs": [],
   "source": [
    "from sklearn.preprocessing import PolynomialFeatures\n",
    "features=PolynomialFeatures(2)"
   ]
  },
  {
   "cell_type": "code",
   "execution_count": 236,
   "metadata": {},
   "outputs": [
    {
     "data": {
      "text/plain": [
       "array([[  1.,  10.,   9., 100.,  90.,  81.],\n",
       "       [  1.,  11.,  10., 121., 110., 100.],\n",
       "       [  1.,  12.,  13., 144., 156., 169.],\n",
       "       [  1.,  11.,  14., 121., 154., 196.],\n",
       "       [  1.,  14.,  16., 196., 224., 256.],\n",
       "       [  1.,  13.,  12., 169., 156., 144.]])"
      ]
     },
     "execution_count": 236,
     "metadata": {},
     "output_type": "execute_result"
    }
   ],
   "source": [
    "x_features=features.fit_transform(x)\n",
    "x_features"
   ]
  },
  {
   "cell_type": "code",
   "execution_count": 237,
   "metadata": {},
   "outputs": [
    {
     "data": {
      "text/plain": [
       "array([[1.000e+00, 1.000e+01, 9.000e+00, 1.000e+02, 9.000e+01, 8.100e+01,\n",
       "        1.000e+03, 9.000e+02, 8.100e+02, 7.290e+02],\n",
       "       [1.000e+00, 1.100e+01, 1.000e+01, 1.210e+02, 1.100e+02, 1.000e+02,\n",
       "        1.331e+03, 1.210e+03, 1.100e+03, 1.000e+03],\n",
       "       [1.000e+00, 1.200e+01, 1.300e+01, 1.440e+02, 1.560e+02, 1.690e+02,\n",
       "        1.728e+03, 1.872e+03, 2.028e+03, 2.197e+03],\n",
       "       [1.000e+00, 1.100e+01, 1.400e+01, 1.210e+02, 1.540e+02, 1.960e+02,\n",
       "        1.331e+03, 1.694e+03, 2.156e+03, 2.744e+03],\n",
       "       [1.000e+00, 1.400e+01, 1.600e+01, 1.960e+02, 2.240e+02, 2.560e+02,\n",
       "        2.744e+03, 3.136e+03, 3.584e+03, 4.096e+03],\n",
       "       [1.000e+00, 1.300e+01, 1.200e+01, 1.690e+02, 1.560e+02, 1.440e+02,\n",
       "        2.197e+03, 2.028e+03, 1.872e+03, 1.728e+03]])"
      ]
     },
     "execution_count": 237,
     "metadata": {},
     "output_type": "execute_result"
    }
   ],
   "source": [
    "features=PolynomialFeatures(3)\n",
    "x_features=features.fit_transform(x)\n",
    "x_features"
   ]
  },
  {
   "cell_type": "code",
   "execution_count": 238,
   "metadata": {},
   "outputs": [
    {
     "data": {
      "text/plain": [
       "array([   1.,   10.,    9.,  100.,   90.,   81., 1000.,  900.,  810.,\n",
       "        729.])"
      ]
     },
     "execution_count": 238,
     "metadata": {},
     "output_type": "execute_result"
    }
   ],
   "source": [
    "x_features[0]"
   ]
  },
  {
   "cell_type": "code",
   "execution_count": 239,
   "metadata": {},
   "outputs": [],
   "source": [
    "df1=pd.read_csv(\"fruit_dataset_1500.csv\")"
   ]
  },
  {
   "cell_type": "code",
   "execution_count": 240,
   "metadata": {},
   "outputs": [
    {
     "data": {
      "text/html": [
       "<div>\n",
       "<style scoped>\n",
       "    .dataframe tbody tr th:only-of-type {\n",
       "        vertical-align: middle;\n",
       "    }\n",
       "\n",
       "    .dataframe tbody tr th {\n",
       "        vertical-align: top;\n",
       "    }\n",
       "\n",
       "    .dataframe thead th {\n",
       "        text-align: right;\n",
       "    }\n",
       "</style>\n",
       "<table border=\"1\" class=\"dataframe\">\n",
       "  <thead>\n",
       "    <tr style=\"text-align: right;\">\n",
       "      <th></th>\n",
       "      <th>x</th>\n",
       "      <th>y</th>\n",
       "      <th>class</th>\n",
       "    </tr>\n",
       "  </thead>\n",
       "  <tbody>\n",
       "    <tr>\n",
       "      <th>0</th>\n",
       "      <td>4.194795</td>\n",
       "      <td>-0.938062</td>\n",
       "      <td>apple</td>\n",
       "    </tr>\n",
       "    <tr>\n",
       "      <th>1</th>\n",
       "      <td>8.269129</td>\n",
       "      <td>-4.450061</td>\n",
       "      <td>apple</td>\n",
       "    </tr>\n",
       "    <tr>\n",
       "      <th>2</th>\n",
       "      <td>8.451618</td>\n",
       "      <td>3.547347</td>\n",
       "      <td>apple</td>\n",
       "    </tr>\n",
       "    <tr>\n",
       "      <th>3</th>\n",
       "      <td>7.127931</td>\n",
       "      <td>-4.404420</td>\n",
       "      <td>apple</td>\n",
       "    </tr>\n",
       "    <tr>\n",
       "      <th>4</th>\n",
       "      <td>5.993756</td>\n",
       "      <td>5.669073</td>\n",
       "      <td>apple</td>\n",
       "    </tr>\n",
       "    <tr>\n",
       "      <th>...</th>\n",
       "      <td>...</td>\n",
       "      <td>...</td>\n",
       "      <td>...</td>\n",
       "    </tr>\n",
       "    <tr>\n",
       "      <th>1495</th>\n",
       "      <td>5.723135</td>\n",
       "      <td>10.423754</td>\n",
       "      <td>orange</td>\n",
       "    </tr>\n",
       "    <tr>\n",
       "      <th>1496</th>\n",
       "      <td>5.526111</td>\n",
       "      <td>6.526867</td>\n",
       "      <td>orange</td>\n",
       "    </tr>\n",
       "    <tr>\n",
       "      <th>1497</th>\n",
       "      <td>11.748750</td>\n",
       "      <td>10.888969</td>\n",
       "      <td>orange</td>\n",
       "    </tr>\n",
       "    <tr>\n",
       "      <th>1498</th>\n",
       "      <td>11.408684</td>\n",
       "      <td>9.115518</td>\n",
       "      <td>orange</td>\n",
       "    </tr>\n",
       "    <tr>\n",
       "      <th>1499</th>\n",
       "      <td>11.371411</td>\n",
       "      <td>4.657548</td>\n",
       "      <td>orange</td>\n",
       "    </tr>\n",
       "  </tbody>\n",
       "</table>\n",
       "<p>1500 rows × 3 columns</p>\n",
       "</div>"
      ],
      "text/plain": [
       "              x          y   class\n",
       "0      4.194795  -0.938062   apple\n",
       "1      8.269129  -4.450061   apple\n",
       "2      8.451618   3.547347   apple\n",
       "3      7.127931  -4.404420   apple\n",
       "4      5.993756   5.669073   apple\n",
       "...         ...        ...     ...\n",
       "1495   5.723135  10.423754  orange\n",
       "1496   5.526111   6.526867  orange\n",
       "1497  11.748750  10.888969  orange\n",
       "1498  11.408684   9.115518  orange\n",
       "1499  11.371411   4.657548  orange\n",
       "\n",
       "[1500 rows x 3 columns]"
      ]
     },
     "execution_count": 240,
     "metadata": {},
     "output_type": "execute_result"
    }
   ],
   "source": [
    "df1"
   ]
  },
  {
   "cell_type": "code",
   "execution_count": 241,
   "metadata": {},
   "outputs": [
    {
     "data": {
      "text/plain": [
       "Index(['apple', 'banana', 'orange'], dtype='object')"
      ]
     },
     "execution_count": 241,
     "metadata": {},
     "output_type": "execute_result"
    }
   ],
   "source": [
    "df1[\"class\"].value_counts().index"
   ]
  },
  {
   "cell_type": "code",
   "execution_count": 242,
   "metadata": {},
   "outputs": [
    {
     "data": {
      "text/plain": [
       "apple     500\n",
       "banana    500\n",
       "orange    500\n",
       "Name: class, dtype: int64"
      ]
     },
     "execution_count": 242,
     "metadata": {},
     "output_type": "execute_result"
    }
   ],
   "source": [
    "df1[\"class\"].value_counts()"
   ]
  },
  {
   "cell_type": "code",
   "execution_count": 243,
   "metadata": {},
   "outputs": [
    {
     "data": {
      "text/plain": [
       "array([[ 4.19479549, -0.93806173],\n",
       "       [ 8.2691289 , -4.45006093],\n",
       "       [ 8.45161823,  3.54734706],\n",
       "       ...,\n",
       "       [11.74875014, 10.88896908],\n",
       "       [11.40868424,  9.11551786],\n",
       "       [11.37141056,  4.6575478 ]])"
      ]
     },
     "execution_count": 243,
     "metadata": {},
     "output_type": "execute_result"
    }
   ],
   "source": [
    "x1=df1.iloc[:,:-1].values\n",
    "x1"
   ]
  },
  {
   "cell_type": "code",
   "execution_count": 244,
   "metadata": {},
   "outputs": [
    {
     "data": {
      "text/plain": [
       "array(['apple', 'apple', 'apple', ..., 'orange', 'orange', 'orange'],\n",
       "      dtype=object)"
      ]
     },
     "execution_count": 244,
     "metadata": {},
     "output_type": "execute_result"
    }
   ],
   "source": [
    "y1=df1.iloc[:,-1].values\n",
    "y1"
   ]
  },
  {
   "cell_type": "code",
   "execution_count": 245,
   "metadata": {},
   "outputs": [],
   "source": [
    "from sklearn.preprocessing import PolynomialFeatures\n"
   ]
  },
  {
   "cell_type": "code",
   "execution_count": 246,
   "metadata": {},
   "outputs": [
    {
     "data": {
      "text/plain": [
       "array([[  1.        ,   4.19479549,  -0.93806173,  17.59630923,\n",
       "         -3.93497713,   0.87995982],\n",
       "       [  1.        ,   8.2691289 ,  -4.45006093,  68.37849274,\n",
       "        -36.79812743,  19.80304228],\n",
       "       [  1.        ,   8.45161823,   3.54734706,  71.42985066,\n",
       "         29.98082308,  12.58367117],\n",
       "       ...,\n",
       "       [  1.        ,  11.74875014,  10.88896908, 138.03312978,\n",
       "        127.93177697, 118.56964764],\n",
       "       [  1.        ,  11.40868424,   9.11551786, 130.15807608,\n",
       "        103.99606494,  83.09266585],\n",
       "       [  1.        ,  11.37141056,   4.6575478 , 129.30897822,\n",
       "         52.96288825,  21.6927515 ]])"
      ]
     },
     "execution_count": 246,
     "metadata": {},
     "output_type": "execute_result"
    }
   ],
   "source": [
    "poly_features=PolynomialFeatures()\n",
    "x1_features=poly_features.fit_transform(x1)\n",
    "x1_features"
   ]
  },
  {
   "cell_type": "code",
   "execution_count": 247,
   "metadata": {},
   "outputs": [],
   "source": [
    "from sklearn.preprocessing import MinMaxScaler"
   ]
  },
  {
   "cell_type": "code",
   "execution_count": 248,
   "metadata": {},
   "outputs": [
    {
     "data": {
      "text/plain": [
       "array([[0.        , 0.42834168, 0.27164668, 0.03855296, 0.28475497,\n",
       "        0.00174557],\n",
       "       [0.        , 0.56399916, 0.16228461, 0.14981513, 0.20231617,\n",
       "        0.03928477],\n",
       "       [0.        , 0.57007525, 0.41132028, 0.15650056, 0.3698344 ,\n",
       "        0.02496314],\n",
       "       ...,\n",
       "       [0.        , 0.67985532, 0.63993506, 0.30242626, 0.61554911,\n",
       "        0.23521586],\n",
       "       [0.        , 0.66853261, 0.58471059, 0.28517226, 0.55550522,\n",
       "        0.16483738],\n",
       "       [0.        , 0.66729156, 0.44589142, 0.28331192, 0.42748602,\n",
       "        0.04303354]])"
      ]
     },
     "execution_count": 248,
     "metadata": {},
     "output_type": "execute_result"
    }
   ],
   "source": [
    "sc=MinMaxScaler()\n",
    "x_sc=sc.fit_transform(x1_features)\n",
    "x_sc"
   ]
  },
  {
   "cell_type": "code",
   "execution_count": 249,
   "metadata": {},
   "outputs": [],
   "source": [
    "from sklearn.model_selection import train_test_split"
   ]
  },
  {
   "cell_type": "code",
   "execution_count": 250,
   "metadata": {},
   "outputs": [],
   "source": [
    "x_train1,x_test1,y_train1,y_test1=train_test_split(x_sc,y1,random_state=42)"
   ]
  },
  {
   "attachments": {},
   "cell_type": "markdown",
   "metadata": {},
   "source": [
    "# Logisitic Regression:-\n"
   ]
  },
  {
   "cell_type": "code",
   "execution_count": 251,
   "metadata": {},
   "outputs": [],
   "source": [
    "from sklearn.linear_model import LogisticRegression"
   ]
  },
  {
   "cell_type": "code",
   "execution_count": 252,
   "metadata": {},
   "outputs": [],
   "source": [
    "model9=LogisticRegression()"
   ]
  },
  {
   "cell_type": "code",
   "execution_count": 253,
   "metadata": {},
   "outputs": [
    {
     "data": {
      "text/html": [
       "<style>#sk-container-id-11 {color: black;background-color: white;}#sk-container-id-11 pre{padding: 0;}#sk-container-id-11 div.sk-toggleable {background-color: white;}#sk-container-id-11 label.sk-toggleable__label {cursor: pointer;display: block;width: 100%;margin-bottom: 0;padding: 0.3em;box-sizing: border-box;text-align: center;}#sk-container-id-11 label.sk-toggleable__label-arrow:before {content: \"▸\";float: left;margin-right: 0.25em;color: #696969;}#sk-container-id-11 label.sk-toggleable__label-arrow:hover:before {color: black;}#sk-container-id-11 div.sk-estimator:hover label.sk-toggleable__label-arrow:before {color: black;}#sk-container-id-11 div.sk-toggleable__content {max-height: 0;max-width: 0;overflow: hidden;text-align: left;background-color: #f0f8ff;}#sk-container-id-11 div.sk-toggleable__content pre {margin: 0.2em;color: black;border-radius: 0.25em;background-color: #f0f8ff;}#sk-container-id-11 input.sk-toggleable__control:checked~div.sk-toggleable__content {max-height: 200px;max-width: 100%;overflow: auto;}#sk-container-id-11 input.sk-toggleable__control:checked~label.sk-toggleable__label-arrow:before {content: \"▾\";}#sk-container-id-11 div.sk-estimator input.sk-toggleable__control:checked~label.sk-toggleable__label {background-color: #d4ebff;}#sk-container-id-11 div.sk-label input.sk-toggleable__control:checked~label.sk-toggleable__label {background-color: #d4ebff;}#sk-container-id-11 input.sk-hidden--visually {border: 0;clip: rect(1px 1px 1px 1px);clip: rect(1px, 1px, 1px, 1px);height: 1px;margin: -1px;overflow: hidden;padding: 0;position: absolute;width: 1px;}#sk-container-id-11 div.sk-estimator {font-family: monospace;background-color: #f0f8ff;border: 1px dotted black;border-radius: 0.25em;box-sizing: border-box;margin-bottom: 0.5em;}#sk-container-id-11 div.sk-estimator:hover {background-color: #d4ebff;}#sk-container-id-11 div.sk-parallel-item::after {content: \"\";width: 100%;border-bottom: 1px solid gray;flex-grow: 1;}#sk-container-id-11 div.sk-label:hover label.sk-toggleable__label {background-color: #d4ebff;}#sk-container-id-11 div.sk-serial::before {content: \"\";position: absolute;border-left: 1px solid gray;box-sizing: border-box;top: 0;bottom: 0;left: 50%;z-index: 0;}#sk-container-id-11 div.sk-serial {display: flex;flex-direction: column;align-items: center;background-color: white;padding-right: 0.2em;padding-left: 0.2em;position: relative;}#sk-container-id-11 div.sk-item {position: relative;z-index: 1;}#sk-container-id-11 div.sk-parallel {display: flex;align-items: stretch;justify-content: center;background-color: white;position: relative;}#sk-container-id-11 div.sk-item::before, #sk-container-id-11 div.sk-parallel-item::before {content: \"\";position: absolute;border-left: 1px solid gray;box-sizing: border-box;top: 0;bottom: 0;left: 50%;z-index: -1;}#sk-container-id-11 div.sk-parallel-item {display: flex;flex-direction: column;z-index: 1;position: relative;background-color: white;}#sk-container-id-11 div.sk-parallel-item:first-child::after {align-self: flex-end;width: 50%;}#sk-container-id-11 div.sk-parallel-item:last-child::after {align-self: flex-start;width: 50%;}#sk-container-id-11 div.sk-parallel-item:only-child::after {width: 0;}#sk-container-id-11 div.sk-dashed-wrapped {border: 1px dashed gray;margin: 0 0.4em 0.5em 0.4em;box-sizing: border-box;padding-bottom: 0.4em;background-color: white;}#sk-container-id-11 div.sk-label label {font-family: monospace;font-weight: bold;display: inline-block;line-height: 1.2em;}#sk-container-id-11 div.sk-label-container {text-align: center;}#sk-container-id-11 div.sk-container {/* jupyter's `normalize.less` sets `[hidden] { display: none; }` but bootstrap.min.css set `[hidden] { display: none !important; }` so we also need the `!important` here to be able to override the default hidden behavior on the sphinx rendered scikit-learn.org. See: https://github.com/scikit-learn/scikit-learn/issues/21755 */display: inline-block !important;position: relative;}#sk-container-id-11 div.sk-text-repr-fallback {display: none;}</style><div id=\"sk-container-id-11\" class=\"sk-top-container\"><div class=\"sk-text-repr-fallback\"><pre>LogisticRegression()</pre><b>In a Jupyter environment, please rerun this cell to show the HTML representation or trust the notebook. <br />On GitHub, the HTML representation is unable to render, please try loading this page with nbviewer.org.</b></div><div class=\"sk-container\" hidden><div class=\"sk-item\"><div class=\"sk-estimator sk-toggleable\"><input class=\"sk-toggleable__control sk-hidden--visually\" id=\"sk-estimator-id-11\" type=\"checkbox\" checked><label for=\"sk-estimator-id-11\" class=\"sk-toggleable__label sk-toggleable__label-arrow\">LogisticRegression</label><div class=\"sk-toggleable__content\"><pre>LogisticRegression()</pre></div></div></div></div></div>"
      ],
      "text/plain": [
       "LogisticRegression()"
      ]
     },
     "execution_count": 253,
     "metadata": {},
     "output_type": "execute_result"
    }
   ],
   "source": [
    "model9.fit(x_train1,y_train1)"
   ]
  },
  {
   "cell_type": "code",
   "execution_count": 254,
   "metadata": {},
   "outputs": [
    {
     "data": {
      "text/plain": [
       "array(['banana', 'orange', 'orange', ..., 'banana', 'orange', 'orange'],\n",
       "      dtype=object)"
      ]
     },
     "execution_count": 254,
     "metadata": {},
     "output_type": "execute_result"
    }
   ],
   "source": [
    "x_train_pred1=model9.predict(x_train1)\n",
    "x_train_pred1"
   ]
  },
  {
   "cell_type": "code",
   "execution_count": 255,
   "metadata": {},
   "outputs": [],
   "source": [
    "from sklearn.metrics import accuracy_score"
   ]
  },
  {
   "cell_type": "code",
   "execution_count": 256,
   "metadata": {},
   "outputs": [
    {
     "name": "stdout",
     "output_type": "stream",
     "text": [
      "Traing score: 0.848\n"
     ]
    }
   ],
   "source": [
    "print(\"Traing score:\",accuracy_score(x_train_pred1,y_train1))"
   ]
  },
  {
   "cell_type": "code",
   "execution_count": 257,
   "metadata": {},
   "outputs": [
    {
     "data": {
      "text/plain": [
       "array(['banana', 'banana', 'banana', 'apple', 'apple', 'banana', 'orange',\n",
       "       'apple', 'orange', 'orange', 'banana', 'orange', 'banana', 'apple',\n",
       "       'apple', 'orange', 'orange', 'banana', 'banana', 'apple', 'banana',\n",
       "       'orange', 'apple', 'banana', 'orange', 'banana', 'orange',\n",
       "       'orange', 'orange', 'orange', 'banana', 'banana', 'orange',\n",
       "       'apple', 'apple', 'apple', 'apple', 'apple', 'orange', 'apple',\n",
       "       'orange', 'apple', 'orange', 'banana', 'orange', 'orange',\n",
       "       'orange', 'apple', 'banana', 'banana', 'banana', 'banana', 'apple',\n",
       "       'orange', 'banana', 'banana', 'apple', 'apple', 'apple', 'banana',\n",
       "       'banana', 'banana', 'apple', 'apple', 'banana', 'apple', 'apple',\n",
       "       'apple', 'orange', 'apple', 'apple', 'banana', 'banana', 'apple',\n",
       "       'banana', 'orange', 'banana', 'banana', 'apple', 'banana',\n",
       "       'orange', 'apple', 'apple', 'banana', 'banana', 'apple', 'banana',\n",
       "       'banana', 'banana', 'banana', 'orange', 'apple', 'apple', 'orange',\n",
       "       'apple', 'apple', 'apple', 'apple', 'orange', 'apple', 'banana',\n",
       "       'banana', 'orange', 'apple', 'apple', 'apple', 'apple', 'orange',\n",
       "       'apple', 'banana', 'banana', 'orange', 'banana', 'apple', 'apple',\n",
       "       'apple', 'banana', 'apple', 'apple', 'orange', 'apple', 'orange',\n",
       "       'orange', 'orange', 'apple', 'orange', 'apple', 'banana', 'orange',\n",
       "       'apple', 'banana', 'apple', 'orange', 'orange', 'banana', 'apple',\n",
       "       'apple', 'orange', 'banana', 'apple', 'orange', 'apple', 'banana',\n",
       "       'apple', 'banana', 'orange', 'banana', 'banana', 'orange',\n",
       "       'banana', 'orange', 'apple', 'apple', 'apple', 'banana', 'orange',\n",
       "       'orange', 'apple', 'apple', 'apple', 'apple', 'apple', 'orange',\n",
       "       'orange', 'apple', 'apple', 'orange', 'orange', 'apple', 'apple',\n",
       "       'apple', 'orange', 'banana', 'banana', 'apple', 'apple', 'orange',\n",
       "       'banana', 'apple', 'orange', 'apple', 'banana', 'apple', 'apple',\n",
       "       'orange', 'orange', 'banana', 'apple', 'orange', 'orange',\n",
       "       'banana', 'banana', 'orange', 'orange', 'banana', 'banana',\n",
       "       'banana', 'apple', 'orange', 'apple', 'banana', 'banana', 'apple',\n",
       "       'apple', 'orange', 'banana', 'apple', 'banana', 'apple', 'banana',\n",
       "       'apple', 'orange', 'banana', 'apple', 'apple', 'apple', 'orange',\n",
       "       'apple', 'orange', 'orange', 'orange', 'banana', 'banana',\n",
       "       'banana', 'apple', 'apple', 'apple', 'banana', 'orange', 'orange',\n",
       "       'orange', 'apple', 'apple', 'orange', 'orange', 'apple', 'apple',\n",
       "       'orange', 'apple', 'orange', 'banana', 'orange', 'banana', 'apple',\n",
       "       'banana', 'banana', 'orange', 'orange', 'orange', 'banana',\n",
       "       'apple', 'banana', 'banana', 'banana', 'orange', 'banana', 'apple',\n",
       "       'banana', 'banana', 'orange', 'orange', 'apple', 'banana',\n",
       "       'banana', 'apple', 'orange', 'banana', 'apple', 'apple', 'banana',\n",
       "       'apple', 'banana', 'apple', 'orange', 'banana', 'banana', 'orange',\n",
       "       'apple', 'apple', 'orange', 'banana', 'orange', 'orange', 'banana',\n",
       "       'apple', 'banana', 'apple', 'banana', 'apple', 'orange', 'banana',\n",
       "       'banana', 'apple', 'orange', 'banana', 'banana', 'banana',\n",
       "       'orange', 'orange', 'banana', 'orange', 'banana', 'orange',\n",
       "       'orange', 'apple', 'apple', 'orange', 'orange', 'banana', 'apple',\n",
       "       'banana', 'orange', 'apple', 'banana', 'orange', 'banana',\n",
       "       'banana', 'banana', 'apple', 'orange', 'banana', 'orange',\n",
       "       'orange', 'banana', 'banana', 'orange', 'apple', 'orange',\n",
       "       'orange', 'orange', 'orange', 'banana', 'orange', 'banana',\n",
       "       'banana', 'orange', 'apple', 'apple', 'banana', 'banana', 'apple',\n",
       "       'banana', 'orange', 'orange', 'orange', 'banana', 'apple',\n",
       "       'banana', 'apple', 'orange', 'apple', 'banana', 'apple', 'apple',\n",
       "       'banana', 'banana', 'banana', 'banana', 'orange', 'apple',\n",
       "       'banana', 'banana', 'orange', 'orange', 'apple', 'banana', 'apple',\n",
       "       'banana', 'apple', 'orange', 'apple', 'orange', 'apple', 'banana',\n",
       "       'orange'], dtype=object)"
      ]
     },
     "execution_count": 257,
     "metadata": {},
     "output_type": "execute_result"
    }
   ],
   "source": [
    "x_test_pred1=model9.predict(x_test1)\n",
    "x_test_pred1"
   ]
  },
  {
   "cell_type": "code",
   "execution_count": 258,
   "metadata": {},
   "outputs": [
    {
     "name": "stdout",
     "output_type": "stream",
     "text": [
      "Testing score: 0.8346666666666667\n"
     ]
    }
   ],
   "source": [
    "print(\"Testing score:\",accuracy_score(x_test_pred1,y_test1))\n"
   ]
  },
  {
   "cell_type": "code",
   "execution_count": 259,
   "metadata": {},
   "outputs": [],
   "source": [
    "from sklearn.metrics import classification_report, f1_score,precision_score,recall_score"
   ]
  },
  {
   "cell_type": "code",
   "execution_count": 260,
   "metadata": {},
   "outputs": [
    {
     "name": "stdout",
     "output_type": "stream",
     "text": [
      "              precision    recall  f1-score   support\n",
      "\n",
      "       apple       0.82      0.83      0.83       372\n",
      "      banana       0.89      0.85      0.87       406\n",
      "      orange       0.82      0.87      0.85       347\n",
      "\n",
      "    accuracy                           0.85      1125\n",
      "   macro avg       0.85      0.85      0.85      1125\n",
      "weighted avg       0.85      0.85      0.85      1125\n",
      "\n"
     ]
    }
   ],
   "source": [
    "print(classification_report(x_train_pred1,y_train1))"
   ]
  },
  {
   "cell_type": "code",
   "execution_count": 261,
   "metadata": {},
   "outputs": [
    {
     "data": {
      "text/plain": [
       "array([0.82730924, 0.86978508, 0.84550562])"
      ]
     },
     "execution_count": 261,
     "metadata": {},
     "output_type": "execute_result"
    }
   ],
   "source": [
    "f1_score(x_train_pred1,y_train1,average=None)"
   ]
  },
  {
   "cell_type": "code",
   "execution_count": 262,
   "metadata": {},
   "outputs": [
    {
     "data": {
      "text/plain": [
       "array([0.824     , 0.89350649, 0.82465753])"
      ]
     },
     "execution_count": 262,
     "metadata": {},
     "output_type": "execute_result"
    }
   ],
   "source": [
    "precision_score(x_train_pred1,y_train1,average=None)"
   ]
  },
  {
   "cell_type": "code",
   "execution_count": 263,
   "metadata": {},
   "outputs": [
    {
     "data": {
      "text/plain": [
       "array([0.83064516, 0.84729064, 0.86743516])"
      ]
     },
     "execution_count": 263,
     "metadata": {},
     "output_type": "execute_result"
    }
   ],
   "source": [
    "recall_score(x_train_pred1,y_train1,average=None)"
   ]
  },
  {
   "cell_type": "code",
   "execution_count": 264,
   "metadata": {},
   "outputs": [
    {
     "name": "stdout",
     "output_type": "stream",
     "text": [
      "              precision    recall  f1-score   support\n",
      "\n",
      "       apple       0.82      0.83      0.83       372\n",
      "      banana       0.89      0.85      0.87       406\n",
      "      orange       0.82      0.87      0.85       347\n",
      "\n",
      "    accuracy                           0.85      1125\n",
      "   macro avg       0.85      0.85      0.85      1125\n",
      "weighted avg       0.85      0.85      0.85      1125\n",
      "\n"
     ]
    }
   ],
   "source": [
    "print(classification_report(x_train_pred1,y_train1))"
   ]
  },
  {
   "cell_type": "code",
   "execution_count": 265,
   "metadata": {},
   "outputs": [
    {
     "data": {
      "text/plain": [
       "0.85"
      ]
     },
     "execution_count": 265,
     "metadata": {},
     "output_type": "execute_result"
    }
   ],
   "source": [
    "(0.83+0.87+0.85)/3"
   ]
  },
  {
   "cell_type": "code",
   "execution_count": 266,
   "metadata": {},
   "outputs": [
    {
     "name": "stdout",
     "output_type": "stream",
     "text": [
      "Traing score: 0.848\n",
      "Testing score: 0.8346666666666667\n",
      "----------i---------------\n",
      "Precision score: [0.824      0.89350649 0.82465753]\n",
      "recall score: [0.83064516 0.84729064 0.86743516]\n",
      "F1 score: [0.82730924 0.86978508 0.84550562]\n"
     ]
    }
   ],
   "source": [
    "print(\"Traing score:\",accuracy_score(x_train_pred1,y_train1))\n",
    "print(\"Testing score:\",accuracy_score(x_test_pred1,y_test1))\n",
    "\n",
    "print(f\"----------i---------------\")\n",
    "\n",
    "print(\"Precision score:\",precision_score(x_train_pred1,y_train1,average=None))\n",
    "print(\"recall score:\",recall_score(x_train_pred1,y_train1,average=None))\n",
    "print(\"F1 score:\",f1_score(x_train_pred1,y_train1,average=None))"
   ]
  },
  {
   "attachments": {},
   "cell_type": "markdown",
   "metadata": {},
   "source": [
    "# Logistic Regression:-\n",
    " # 1.> signmoid:\n",
    " # 2.> softmax:\n"
   ]
  },
  {
   "cell_type": "code",
   "execution_count": 267,
   "metadata": {},
   "outputs": [],
   "source": [
    "df=pd.read_csv(\"Salary_Data_project.csv\")"
   ]
  },
  {
   "cell_type": "code",
   "execution_count": 268,
   "metadata": {},
   "outputs": [
    {
     "data": {
      "text/html": [
       "<div>\n",
       "<style scoped>\n",
       "    .dataframe tbody tr th:only-of-type {\n",
       "        vertical-align: middle;\n",
       "    }\n",
       "\n",
       "    .dataframe tbody tr th {\n",
       "        vertical-align: top;\n",
       "    }\n",
       "\n",
       "    .dataframe thead th {\n",
       "        text-align: right;\n",
       "    }\n",
       "</style>\n",
       "<table border=\"1\" class=\"dataframe\">\n",
       "  <thead>\n",
       "    <tr style=\"text-align: right;\">\n",
       "      <th></th>\n",
       "      <th>YearsExperience</th>\n",
       "      <th>Age</th>\n",
       "      <th>Salary</th>\n",
       "    </tr>\n",
       "  </thead>\n",
       "  <tbody>\n",
       "    <tr>\n",
       "      <th>0</th>\n",
       "      <td>1.1</td>\n",
       "      <td>21.0</td>\n",
       "      <td>39343</td>\n",
       "    </tr>\n",
       "    <tr>\n",
       "      <th>1</th>\n",
       "      <td>1.3</td>\n",
       "      <td>21.5</td>\n",
       "      <td>46205</td>\n",
       "    </tr>\n",
       "    <tr>\n",
       "      <th>2</th>\n",
       "      <td>1.5</td>\n",
       "      <td>21.7</td>\n",
       "      <td>37731</td>\n",
       "    </tr>\n",
       "    <tr>\n",
       "      <th>3</th>\n",
       "      <td>2.0</td>\n",
       "      <td>22.0</td>\n",
       "      <td>43525</td>\n",
       "    </tr>\n",
       "    <tr>\n",
       "      <th>4</th>\n",
       "      <td>2.2</td>\n",
       "      <td>22.2</td>\n",
       "      <td>39891</td>\n",
       "    </tr>\n",
       "    <tr>\n",
       "      <th>5</th>\n",
       "      <td>2.9</td>\n",
       "      <td>23.0</td>\n",
       "      <td>56642</td>\n",
       "    </tr>\n",
       "    <tr>\n",
       "      <th>6</th>\n",
       "      <td>3.0</td>\n",
       "      <td>23.0</td>\n",
       "      <td>60150</td>\n",
       "    </tr>\n",
       "    <tr>\n",
       "      <th>7</th>\n",
       "      <td>3.2</td>\n",
       "      <td>23.3</td>\n",
       "      <td>54445</td>\n",
       "    </tr>\n",
       "    <tr>\n",
       "      <th>8</th>\n",
       "      <td>3.2</td>\n",
       "      <td>23.3</td>\n",
       "      <td>64445</td>\n",
       "    </tr>\n",
       "    <tr>\n",
       "      <th>9</th>\n",
       "      <td>3.7</td>\n",
       "      <td>23.6</td>\n",
       "      <td>57189</td>\n",
       "    </tr>\n",
       "    <tr>\n",
       "      <th>10</th>\n",
       "      <td>3.9</td>\n",
       "      <td>23.9</td>\n",
       "      <td>63218</td>\n",
       "    </tr>\n",
       "    <tr>\n",
       "      <th>11</th>\n",
       "      <td>4.0</td>\n",
       "      <td>24.0</td>\n",
       "      <td>55794</td>\n",
       "    </tr>\n",
       "    <tr>\n",
       "      <th>12</th>\n",
       "      <td>4.0</td>\n",
       "      <td>24.0</td>\n",
       "      <td>56957</td>\n",
       "    </tr>\n",
       "    <tr>\n",
       "      <th>13</th>\n",
       "      <td>4.1</td>\n",
       "      <td>24.0</td>\n",
       "      <td>57081</td>\n",
       "    </tr>\n",
       "    <tr>\n",
       "      <th>14</th>\n",
       "      <td>4.5</td>\n",
       "      <td>25.0</td>\n",
       "      <td>61111</td>\n",
       "    </tr>\n",
       "    <tr>\n",
       "      <th>15</th>\n",
       "      <td>4.9</td>\n",
       "      <td>25.0</td>\n",
       "      <td>67938</td>\n",
       "    </tr>\n",
       "    <tr>\n",
       "      <th>16</th>\n",
       "      <td>5.1</td>\n",
       "      <td>26.0</td>\n",
       "      <td>66029</td>\n",
       "    </tr>\n",
       "    <tr>\n",
       "      <th>17</th>\n",
       "      <td>5.3</td>\n",
       "      <td>27.0</td>\n",
       "      <td>83088</td>\n",
       "    </tr>\n",
       "    <tr>\n",
       "      <th>18</th>\n",
       "      <td>5.9</td>\n",
       "      <td>28.0</td>\n",
       "      <td>81363</td>\n",
       "    </tr>\n",
       "    <tr>\n",
       "      <th>19</th>\n",
       "      <td>6.0</td>\n",
       "      <td>29.0</td>\n",
       "      <td>93940</td>\n",
       "    </tr>\n",
       "    <tr>\n",
       "      <th>20</th>\n",
       "      <td>6.8</td>\n",
       "      <td>30.0</td>\n",
       "      <td>91738</td>\n",
       "    </tr>\n",
       "    <tr>\n",
       "      <th>21</th>\n",
       "      <td>7.1</td>\n",
       "      <td>30.0</td>\n",
       "      <td>98273</td>\n",
       "    </tr>\n",
       "    <tr>\n",
       "      <th>22</th>\n",
       "      <td>7.9</td>\n",
       "      <td>31.0</td>\n",
       "      <td>101302</td>\n",
       "    </tr>\n",
       "    <tr>\n",
       "      <th>23</th>\n",
       "      <td>8.2</td>\n",
       "      <td>32.0</td>\n",
       "      <td>113812</td>\n",
       "    </tr>\n",
       "    <tr>\n",
       "      <th>24</th>\n",
       "      <td>8.7</td>\n",
       "      <td>33.0</td>\n",
       "      <td>109431</td>\n",
       "    </tr>\n",
       "    <tr>\n",
       "      <th>25</th>\n",
       "      <td>9.0</td>\n",
       "      <td>34.0</td>\n",
       "      <td>105582</td>\n",
       "    </tr>\n",
       "    <tr>\n",
       "      <th>26</th>\n",
       "      <td>9.5</td>\n",
       "      <td>35.0</td>\n",
       "      <td>116969</td>\n",
       "    </tr>\n",
       "    <tr>\n",
       "      <th>27</th>\n",
       "      <td>9.6</td>\n",
       "      <td>36.0</td>\n",
       "      <td>112635</td>\n",
       "    </tr>\n",
       "    <tr>\n",
       "      <th>28</th>\n",
       "      <td>10.3</td>\n",
       "      <td>37.0</td>\n",
       "      <td>122391</td>\n",
       "    </tr>\n",
       "    <tr>\n",
       "      <th>29</th>\n",
       "      <td>10.5</td>\n",
       "      <td>38.0</td>\n",
       "      <td>121872</td>\n",
       "    </tr>\n",
       "  </tbody>\n",
       "</table>\n",
       "</div>"
      ],
      "text/plain": [
       "    YearsExperience   Age  Salary\n",
       "0               1.1  21.0   39343\n",
       "1               1.3  21.5   46205\n",
       "2               1.5  21.7   37731\n",
       "3               2.0  22.0   43525\n",
       "4               2.2  22.2   39891\n",
       "5               2.9  23.0   56642\n",
       "6               3.0  23.0   60150\n",
       "7               3.2  23.3   54445\n",
       "8               3.2  23.3   64445\n",
       "9               3.7  23.6   57189\n",
       "10              3.9  23.9   63218\n",
       "11              4.0  24.0   55794\n",
       "12              4.0  24.0   56957\n",
       "13              4.1  24.0   57081\n",
       "14              4.5  25.0   61111\n",
       "15              4.9  25.0   67938\n",
       "16              5.1  26.0   66029\n",
       "17              5.3  27.0   83088\n",
       "18              5.9  28.0   81363\n",
       "19              6.0  29.0   93940\n",
       "20              6.8  30.0   91738\n",
       "21              7.1  30.0   98273\n",
       "22              7.9  31.0  101302\n",
       "23              8.2  32.0  113812\n",
       "24              8.7  33.0  109431\n",
       "25              9.0  34.0  105582\n",
       "26              9.5  35.0  116969\n",
       "27              9.6  36.0  112635\n",
       "28             10.3  37.0  122391\n",
       "29             10.5  38.0  121872"
      ]
     },
     "execution_count": 268,
     "metadata": {},
     "output_type": "execute_result"
    }
   ],
   "source": [
    "df"
   ]
  },
  {
   "cell_type": "code",
   "execution_count": 269,
   "metadata": {},
   "outputs": [
    {
     "data": {
      "text/plain": [
       "array([[ 1.1, 21. ],\n",
       "       [ 1.3, 21.5],\n",
       "       [ 1.5, 21.7],\n",
       "       [ 2. , 22. ],\n",
       "       [ 2.2, 22.2],\n",
       "       [ 2.9, 23. ],\n",
       "       [ 3. , 23. ],\n",
       "       [ 3.2, 23.3],\n",
       "       [ 3.2, 23.3],\n",
       "       [ 3.7, 23.6],\n",
       "       [ 3.9, 23.9],\n",
       "       [ 4. , 24. ],\n",
       "       [ 4. , 24. ],\n",
       "       [ 4.1, 24. ],\n",
       "       [ 4.5, 25. ],\n",
       "       [ 4.9, 25. ],\n",
       "       [ 5.1, 26. ],\n",
       "       [ 5.3, 27. ],\n",
       "       [ 5.9, 28. ],\n",
       "       [ 6. , 29. ],\n",
       "       [ 6.8, 30. ],\n",
       "       [ 7.1, 30. ],\n",
       "       [ 7.9, 31. ],\n",
       "       [ 8.2, 32. ],\n",
       "       [ 8.7, 33. ],\n",
       "       [ 9. , 34. ],\n",
       "       [ 9.5, 35. ],\n",
       "       [ 9.6, 36. ],\n",
       "       [10.3, 37. ],\n",
       "       [10.5, 38. ]])"
      ]
     },
     "execution_count": 269,
     "metadata": {},
     "output_type": "execute_result"
    }
   ],
   "source": [
    "x=df.iloc[:,:-1].values\n",
    "x"
   ]
  },
  {
   "cell_type": "code",
   "execution_count": 270,
   "metadata": {},
   "outputs": [
    {
     "data": {
      "text/plain": [
       "array([ 39343,  46205,  37731,  43525,  39891,  56642,  60150,  54445,\n",
       "        64445,  57189,  63218,  55794,  56957,  57081,  61111,  67938,\n",
       "        66029,  83088,  81363,  93940,  91738,  98273, 101302, 113812,\n",
       "       109431, 105582, 116969, 112635, 122391, 121872], dtype=int64)"
      ]
     },
     "execution_count": 270,
     "metadata": {},
     "output_type": "execute_result"
    }
   ],
   "source": [
    "y=df.iloc[:,-1].values\n",
    "y"
   ]
  },
  {
   "cell_type": "code",
   "execution_count": 271,
   "metadata": {},
   "outputs": [
    {
     "data": {
      "text/plain": [
       "0.9583123587539488"
      ]
     },
     "execution_count": 271,
     "metadata": {},
     "output_type": "execute_result"
    }
   ],
   "source": [
    "from sklearn.metrics import r2_score\n",
    "from sklearn.linear_model import Ridge\n",
    "from sklearn.preprocessing import MinMaxScaler\n",
    "sc=MinMaxScaler()\n",
    "x12_sc=sc.fit_transform(x)\n",
    "model10=Ridge(alpha=0.0001)\n",
    "model10.fit(x12_sc,y)\n",
    "x10_pred=model10.predict(x12_sc)\n",
    "r2_score(x10_pred,y)\n"
   ]
  },
  {
   "cell_type": "code",
   "execution_count": 272,
   "metadata": {},
   "outputs": [
    {
     "data": {
      "text/plain": [
       "0.9583146036287254"
      ]
     },
     "execution_count": 272,
     "metadata": {},
     "output_type": "execute_result"
    }
   ],
   "source": [
    "from sklearn.linear_model import Lasso\n",
    "model11=Lasso()\n",
    "model11.fit(x,y)\n",
    "x11_pred=model11.predict(x)\n",
    "r2_score(x11_pred,y)"
   ]
  },
  {
   "cell_type": "code",
   "execution_count": 273,
   "metadata": {},
   "outputs": [
    {
     "data": {
      "text/plain": [
       "array([49030.33110848])"
      ]
     },
     "execution_count": 273,
     "metadata": {},
     "output_type": "execute_result"
    }
   ],
   "source": [
    "sample=[[1,27]]\n",
    "model11.predict(sample)"
   ]
  },
  {
   "cell_type": "code",
   "execution_count": 274,
   "metadata": {},
   "outputs": [
    {
     "data": {
      "text/plain": [
       "0.9583140849170338"
      ]
     },
     "execution_count": 274,
     "metadata": {},
     "output_type": "execute_result"
    }
   ],
   "source": [
    "from sklearn.linear_model import LinearRegression\n",
    "model12=LinearRegression()\n",
    "model12.fit(x,y)\n",
    "x12_pred=model12.predict(x)\n",
    "r2_score(x12_pred,y)"
   ]
  },
  {
   "cell_type": "code",
   "execution_count": 275,
   "metadata": {},
   "outputs": [],
   "source": [
    "#Sigmoid:-\n",
    "# e is value=2.71\n",
    "# P(1)=1/(1+e**(-z))"
   ]
  },
  {
   "cell_type": "code",
   "execution_count": 276,
   "metadata": {},
   "outputs": [],
   "source": [
    "#Softmoid:- multiclass\n",
    "# formula- e0/(e0+e1+e2+e3+.....en-1)"
   ]
  },
  {
   "cell_type": "code",
   "execution_count": 277,
   "metadata": {},
   "outputs": [],
   "source": [
    "#KNeighborsClassifier\n",
    "#LinearRegression\n",
    "#LogisticRegression\n",
    "#LogisticRegression()"
   ]
  },
  {
   "cell_type": "code",
   "execution_count": 309,
   "metadata": {},
   "outputs": [
    {
     "name": "stdout",
     "output_type": "stream",
     "text": [
      "{'data': array([[5.1, 3.5, 1.4, 0.2],\n",
      "       [4.9, 3. , 1.4, 0.2],\n",
      "       [4.7, 3.2, 1.3, 0.2],\n",
      "       [4.6, 3.1, 1.5, 0.2],\n",
      "       [5. , 3.6, 1.4, 0.2],\n",
      "       [5.4, 3.9, 1.7, 0.4],\n",
      "       [4.6, 3.4, 1.4, 0.3],\n",
      "       [5. , 3.4, 1.5, 0.2],\n",
      "       [4.4, 2.9, 1.4, 0.2],\n",
      "       [4.9, 3.1, 1.5, 0.1],\n",
      "       [5.4, 3.7, 1.5, 0.2],\n",
      "       [4.8, 3.4, 1.6, 0.2],\n",
      "       [4.8, 3. , 1.4, 0.1],\n",
      "       [4.3, 3. , 1.1, 0.1],\n",
      "       [5.8, 4. , 1.2, 0.2],\n",
      "       [5.7, 4.4, 1.5, 0.4],\n",
      "       [5.4, 3.9, 1.3, 0.4],\n",
      "       [5.1, 3.5, 1.4, 0.3],\n",
      "       [5.7, 3.8, 1.7, 0.3],\n",
      "       [5.1, 3.8, 1.5, 0.3],\n",
      "       [5.4, 3.4, 1.7, 0.2],\n",
      "       [5.1, 3.7, 1.5, 0.4],\n",
      "       [4.6, 3.6, 1. , 0.2],\n",
      "       [5.1, 3.3, 1.7, 0.5],\n",
      "       [4.8, 3.4, 1.9, 0.2],\n",
      "       [5. , 3. , 1.6, 0.2],\n",
      "       [5. , 3.4, 1.6, 0.4],\n",
      "       [5.2, 3.5, 1.5, 0.2],\n",
      "       [5.2, 3.4, 1.4, 0.2],\n",
      "       [4.7, 3.2, 1.6, 0.2],\n",
      "       [4.8, 3.1, 1.6, 0.2],\n",
      "       [5.4, 3.4, 1.5, 0.4],\n",
      "       [5.2, 4.1, 1.5, 0.1],\n",
      "       [5.5, 4.2, 1.4, 0.2],\n",
      "       [4.9, 3.1, 1.5, 0.2],\n",
      "       [5. , 3.2, 1.2, 0.2],\n",
      "       [5.5, 3.5, 1.3, 0.2],\n",
      "       [4.9, 3.6, 1.4, 0.1],\n",
      "       [4.4, 3. , 1.3, 0.2],\n",
      "       [5.1, 3.4, 1.5, 0.2],\n",
      "       [5. , 3.5, 1.3, 0.3],\n",
      "       [4.5, 2.3, 1.3, 0.3],\n",
      "       [4.4, 3.2, 1.3, 0.2],\n",
      "       [5. , 3.5, 1.6, 0.6],\n",
      "       [5.1, 3.8, 1.9, 0.4],\n",
      "       [4.8, 3. , 1.4, 0.3],\n",
      "       [5.1, 3.8, 1.6, 0.2],\n",
      "       [4.6, 3.2, 1.4, 0.2],\n",
      "       [5.3, 3.7, 1.5, 0.2],\n",
      "       [5. , 3.3, 1.4, 0.2],\n",
      "       [7. , 3.2, 4.7, 1.4],\n",
      "       [6.4, 3.2, 4.5, 1.5],\n",
      "       [6.9, 3.1, 4.9, 1.5],\n",
      "       [5.5, 2.3, 4. , 1.3],\n",
      "       [6.5, 2.8, 4.6, 1.5],\n",
      "       [5.7, 2.8, 4.5, 1.3],\n",
      "       [6.3, 3.3, 4.7, 1.6],\n",
      "       [4.9, 2.4, 3.3, 1. ],\n",
      "       [6.6, 2.9, 4.6, 1.3],\n",
      "       [5.2, 2.7, 3.9, 1.4],\n",
      "       [5. , 2. , 3.5, 1. ],\n",
      "       [5.9, 3. , 4.2, 1.5],\n",
      "       [6. , 2.2, 4. , 1. ],\n",
      "       [6.1, 2.9, 4.7, 1.4],\n",
      "       [5.6, 2.9, 3.6, 1.3],\n",
      "       [6.7, 3.1, 4.4, 1.4],\n",
      "       [5.6, 3. , 4.5, 1.5],\n",
      "       [5.8, 2.7, 4.1, 1. ],\n",
      "       [6.2, 2.2, 4.5, 1.5],\n",
      "       [5.6, 2.5, 3.9, 1.1],\n",
      "       [5.9, 3.2, 4.8, 1.8],\n",
      "       [6.1, 2.8, 4. , 1.3],\n",
      "       [6.3, 2.5, 4.9, 1.5],\n",
      "       [6.1, 2.8, 4.7, 1.2],\n",
      "       [6.4, 2.9, 4.3, 1.3],\n",
      "       [6.6, 3. , 4.4, 1.4],\n",
      "       [6.8, 2.8, 4.8, 1.4],\n",
      "       [6.7, 3. , 5. , 1.7],\n",
      "       [6. , 2.9, 4.5, 1.5],\n",
      "       [5.7, 2.6, 3.5, 1. ],\n",
      "       [5.5, 2.4, 3.8, 1.1],\n",
      "       [5.5, 2.4, 3.7, 1. ],\n",
      "       [5.8, 2.7, 3.9, 1.2],\n",
      "       [6. , 2.7, 5.1, 1.6],\n",
      "       [5.4, 3. , 4.5, 1.5],\n",
      "       [6. , 3.4, 4.5, 1.6],\n",
      "       [6.7, 3.1, 4.7, 1.5],\n",
      "       [6.3, 2.3, 4.4, 1.3],\n",
      "       [5.6, 3. , 4.1, 1.3],\n",
      "       [5.5, 2.5, 4. , 1.3],\n",
      "       [5.5, 2.6, 4.4, 1.2],\n",
      "       [6.1, 3. , 4.6, 1.4],\n",
      "       [5.8, 2.6, 4. , 1.2],\n",
      "       [5. , 2.3, 3.3, 1. ],\n",
      "       [5.6, 2.7, 4.2, 1.3],\n",
      "       [5.7, 3. , 4.2, 1.2],\n",
      "       [5.7, 2.9, 4.2, 1.3],\n",
      "       [6.2, 2.9, 4.3, 1.3],\n",
      "       [5.1, 2.5, 3. , 1.1],\n",
      "       [5.7, 2.8, 4.1, 1.3],\n",
      "       [6.3, 3.3, 6. , 2.5],\n",
      "       [5.8, 2.7, 5.1, 1.9],\n",
      "       [7.1, 3. , 5.9, 2.1],\n",
      "       [6.3, 2.9, 5.6, 1.8],\n",
      "       [6.5, 3. , 5.8, 2.2],\n",
      "       [7.6, 3. , 6.6, 2.1],\n",
      "       [4.9, 2.5, 4.5, 1.7],\n",
      "       [7.3, 2.9, 6.3, 1.8],\n",
      "       [6.7, 2.5, 5.8, 1.8],\n",
      "       [7.2, 3.6, 6.1, 2.5],\n",
      "       [6.5, 3.2, 5.1, 2. ],\n",
      "       [6.4, 2.7, 5.3, 1.9],\n",
      "       [6.8, 3. , 5.5, 2.1],\n",
      "       [5.7, 2.5, 5. , 2. ],\n",
      "       [5.8, 2.8, 5.1, 2.4],\n",
      "       [6.4, 3.2, 5.3, 2.3],\n",
      "       [6.5, 3. , 5.5, 1.8],\n",
      "       [7.7, 3.8, 6.7, 2.2],\n",
      "       [7.7, 2.6, 6.9, 2.3],\n",
      "       [6. , 2.2, 5. , 1.5],\n",
      "       [6.9, 3.2, 5.7, 2.3],\n",
      "       [5.6, 2.8, 4.9, 2. ],\n",
      "       [7.7, 2.8, 6.7, 2. ],\n",
      "       [6.3, 2.7, 4.9, 1.8],\n",
      "       [6.7, 3.3, 5.7, 2.1],\n",
      "       [7.2, 3.2, 6. , 1.8],\n",
      "       [6.2, 2.8, 4.8, 1.8],\n",
      "       [6.1, 3. , 4.9, 1.8],\n",
      "       [6.4, 2.8, 5.6, 2.1],\n",
      "       [7.2, 3. , 5.8, 1.6],\n",
      "       [7.4, 2.8, 6.1, 1.9],\n",
      "       [7.9, 3.8, 6.4, 2. ],\n",
      "       [6.4, 2.8, 5.6, 2.2],\n",
      "       [6.3, 2.8, 5.1, 1.5],\n",
      "       [6.1, 2.6, 5.6, 1.4],\n",
      "       [7.7, 3. , 6.1, 2.3],\n",
      "       [6.3, 3.4, 5.6, 2.4],\n",
      "       [6.4, 3.1, 5.5, 1.8],\n",
      "       [6. , 3. , 4.8, 1.8],\n",
      "       [6.9, 3.1, 5.4, 2.1],\n",
      "       [6.7, 3.1, 5.6, 2.4],\n",
      "       [6.9, 3.1, 5.1, 2.3],\n",
      "       [5.8, 2.7, 5.1, 1.9],\n",
      "       [6.8, 3.2, 5.9, 2.3],\n",
      "       [6.7, 3.3, 5.7, 2.5],\n",
      "       [6.7, 3. , 5.2, 2.3],\n",
      "       [6.3, 2.5, 5. , 1.9],\n",
      "       [6.5, 3. , 5.2, 2. ],\n",
      "       [6.2, 3.4, 5.4, 2.3],\n",
      "       [5.9, 3. , 5.1, 1.8]]), 'target': array([0, 0, 0, 0, 0, 0, 0, 0, 0, 0, 0, 0, 0, 0, 0, 0, 0, 0, 0, 0, 0, 0,\n",
      "       0, 0, 0, 0, 0, 0, 0, 0, 0, 0, 0, 0, 0, 0, 0, 0, 0, 0, 0, 0, 0, 0,\n",
      "       0, 0, 0, 0, 0, 0, 1, 1, 1, 1, 1, 1, 1, 1, 1, 1, 1, 1, 1, 1, 1, 1,\n",
      "       1, 1, 1, 1, 1, 1, 1, 1, 1, 1, 1, 1, 1, 1, 1, 1, 1, 1, 1, 1, 1, 1,\n",
      "       1, 1, 1, 1, 1, 1, 1, 1, 1, 1, 1, 1, 2, 2, 2, 2, 2, 2, 2, 2, 2, 2,\n",
      "       2, 2, 2, 2, 2, 2, 2, 2, 2, 2, 2, 2, 2, 2, 2, 2, 2, 2, 2, 2, 2, 2,\n",
      "       2, 2, 2, 2, 2, 2, 2, 2, 2, 2, 2, 2, 2, 2, 2, 2, 2, 2]), 'frame': None, 'target_names': array(['setosa', 'versicolor', 'virginica'], dtype='<U10'), 'DESCR': '.. _iris_dataset:\\n\\nIris plants dataset\\n--------------------\\n\\n**Data Set Characteristics:**\\n\\n    :Number of Instances: 150 (50 in each of three classes)\\n    :Number of Attributes: 4 numeric, predictive attributes and the class\\n    :Attribute Information:\\n        - sepal length in cm\\n        - sepal width in cm\\n        - petal length in cm\\n        - petal width in cm\\n        - class:\\n                - Iris-Setosa\\n                - Iris-Versicolour\\n                - Iris-Virginica\\n                \\n    :Summary Statistics:\\n\\n    ============== ==== ==== ======= ===== ====================\\n                    Min  Max   Mean    SD   Class Correlation\\n    ============== ==== ==== ======= ===== ====================\\n    sepal length:   4.3  7.9   5.84   0.83    0.7826\\n    sepal width:    2.0  4.4   3.05   0.43   -0.4194\\n    petal length:   1.0  6.9   3.76   1.76    0.9490  (high!)\\n    petal width:    0.1  2.5   1.20   0.76    0.9565  (high!)\\n    ============== ==== ==== ======= ===== ====================\\n\\n    :Missing Attribute Values: None\\n    :Class Distribution: 33.3% for each of 3 classes.\\n    :Creator: R.A. Fisher\\n    :Donor: Michael Marshall (MARSHALL%PLU@io.arc.nasa.gov)\\n    :Date: July, 1988\\n\\nThe famous Iris database, first used by Sir R.A. Fisher. The dataset is taken\\nfrom Fisher\\'s paper. Note that it\\'s the same as in R, but not as in the UCI\\nMachine Learning Repository, which has two wrong data points.\\n\\nThis is perhaps the best known database to be found in the\\npattern recognition literature.  Fisher\\'s paper is a classic in the field and\\nis referenced frequently to this day.  (See Duda & Hart, for example.)  The\\ndata set contains 3 classes of 50 instances each, where each class refers to a\\ntype of iris plant.  One class is linearly separable from the other 2; the\\nlatter are NOT linearly separable from each other.\\n\\n.. topic:: References\\n\\n   - Fisher, R.A. \"The use of multiple measurements in taxonomic problems\"\\n     Annual Eugenics, 7, Part II, 179-188 (1936); also in \"Contributions to\\n     Mathematical Statistics\" (John Wiley, NY, 1950).\\n   - Duda, R.O., & Hart, P.E. (1973) Pattern Classification and Scene Analysis.\\n     (Q327.D83) John Wiley & Sons.  ISBN 0-471-22361-1.  See page 218.\\n   - Dasarathy, B.V. (1980) \"Nosing Around the Neighborhood: A New System\\n     Structure and Classification Rule for Recognition in Partially Exposed\\n     Environments\".  IEEE Transactions on Pattern Analysis and Machine\\n     Intelligence, Vol. PAMI-2, No. 1, 67-71.\\n   - Gates, G.W. (1972) \"The Reduced Nearest Neighbor Rule\".  IEEE Transactions\\n     on Information Theory, May 1972, 431-433.\\n   - See also: 1988 MLC Proceedings, 54-64.  Cheeseman et al\"s AUTOCLASS II\\n     conceptual clustering system finds 3 classes in the data.\\n   - Many, many more ...', 'feature_names': ['sepal length (cm)', 'sepal width (cm)', 'petal length (cm)', 'petal width (cm)'], 'filename': 'iris.csv', 'data_module': 'sklearn.datasets.data'}\n",
      ".. _iris_dataset:\n",
      "\n",
      "Iris plants dataset\n",
      "--------------------\n",
      "\n",
      "**Data Set Characteristics:**\n",
      "\n",
      "    :Number of Instances: 150 (50 in each of three classes)\n",
      "    :Number of Attributes: 4 numeric, predictive attributes and the class\n",
      "    :Attribute Information:\n",
      "        - sepal length in cm\n",
      "        - sepal width in cm\n",
      "        - petal length in cm\n",
      "        - petal width in cm\n",
      "        - class:\n",
      "                - Iris-Setosa\n",
      "                - Iris-Versicolour\n",
      "                - Iris-Virginica\n",
      "                \n",
      "    :Summary Statistics:\n",
      "\n",
      "    ============== ==== ==== ======= ===== ====================\n",
      "                    Min  Max   Mean    SD   Class Correlation\n",
      "    ============== ==== ==== ======= ===== ====================\n",
      "    sepal length:   4.3  7.9   5.84   0.83    0.7826\n",
      "    sepal width:    2.0  4.4   3.05   0.43   -0.4194\n",
      "    petal length:   1.0  6.9   3.76   1.76    0.9490  (high!)\n",
      "    petal width:    0.1  2.5   1.20   0.76    0.9565  (high!)\n",
      "    ============== ==== ==== ======= ===== ====================\n",
      "\n",
      "    :Missing Attribute Values: None\n",
      "    :Class Distribution: 33.3% for each of 3 classes.\n",
      "    :Creator: R.A. Fisher\n",
      "    :Donor: Michael Marshall (MARSHALL%PLU@io.arc.nasa.gov)\n",
      "    :Date: July, 1988\n",
      "\n",
      "The famous Iris database, first used by Sir R.A. Fisher. The dataset is taken\n",
      "from Fisher's paper. Note that it's the same as in R, but not as in the UCI\n",
      "Machine Learning Repository, which has two wrong data points.\n",
      "\n",
      "This is perhaps the best known database to be found in the\n",
      "pattern recognition literature.  Fisher's paper is a classic in the field and\n",
      "is referenced frequently to this day.  (See Duda & Hart, for example.)  The\n",
      "data set contains 3 classes of 50 instances each, where each class refers to a\n",
      "type of iris plant.  One class is linearly separable from the other 2; the\n",
      "latter are NOT linearly separable from each other.\n",
      "\n",
      ".. topic:: References\n",
      "\n",
      "   - Fisher, R.A. \"The use of multiple measurements in taxonomic problems\"\n",
      "     Annual Eugenics, 7, Part II, 179-188 (1936); also in \"Contributions to\n",
      "     Mathematical Statistics\" (John Wiley, NY, 1950).\n",
      "   - Duda, R.O., & Hart, P.E. (1973) Pattern Classification and Scene Analysis.\n",
      "     (Q327.D83) John Wiley & Sons.  ISBN 0-471-22361-1.  See page 218.\n",
      "   - Dasarathy, B.V. (1980) \"Nosing Around the Neighborhood: A New System\n",
      "     Structure and Classification Rule for Recognition in Partially Exposed\n",
      "     Environments\".  IEEE Transactions on Pattern Analysis and Machine\n",
      "     Intelligence, Vol. PAMI-2, No. 1, 67-71.\n",
      "   - Gates, G.W. (1972) \"The Reduced Nearest Neighbor Rule\".  IEEE Transactions\n",
      "     on Information Theory, May 1972, 431-433.\n",
      "   - See also: 1988 MLC Proceedings, 54-64.  Cheeseman et al\"s AUTOCLASS II\n",
      "     conceptual clustering system finds 3 classes in the data.\n",
      "   - Many, many more ...\n"
     ]
    }
   ],
   "source": [
    "from sklearn.datasets import load_iris\n",
    "data=load_iris()\n",
    "print(data)\n",
    "print(data.DESCR)"
   ]
  },
  {
   "cell_type": "code",
   "execution_count": 313,
   "metadata": {},
   "outputs": [],
   "source": [
    "y=data.target #target\n",
    "x=data.data  # features"
   ]
  },
  {
   "cell_type": "code",
   "execution_count": 315,
   "metadata": {},
   "outputs": [
    {
     "name": "stdout",
     "output_type": "stream",
     "text": [
      "sore: 0.9533333333333334\n",
      "coef: [[-0.44501376  0.89999242 -2.32353827 -0.97345836]\n",
      " [-0.1792787  -2.12866718  0.69665417 -1.27480129]\n",
      " [-0.39444787 -0.5133412   2.93087523  2.41709879]]\n",
      "intercept: [  6.69040651   5.58615272 -14.43121671]\n"
     ]
    }
   ],
   "source": [
    "from sklearn.linear_model import LogisticRegression\n",
    "model13=LogisticRegression(multi_class=\"ovr\")   # ovr is signoid denoted\n",
    "model13.fit(x,y)\n",
    "x_pred13=model13.predict(x)\n",
    "x_pred13\n",
    "from sklearn.metrics import accuracy_score\n",
    "print(\"sore:\",accuracy_score(x_pred13,y))\n",
    "print(\"coef:\",model13.coef_)\n",
    "print(\"intercept:\",model13.intercept_)"
   ]
  },
  {
   "cell_type": "code",
   "execution_count": 318,
   "metadata": {},
   "outputs": [
    {
     "name": "stdout",
     "output_type": "stream",
     "text": [
      "accuracy: 0.9733333333333334\n",
      "score: 0.9733333333333334\n"
     ]
    }
   ],
   "source": [
    "model14=LogisticRegression(multi_class=\"multinomial\",max_iter=20000000000)\n",
    "model14.fit(x,y)\n",
    "x_pred14=model14.predict(x)\n",
    "print(\"accuracy:\",accuracy_score(x_pred14,y))\n",
    "print(\"score:\",model14.score(x,y))  #shortcut accuracy_score"
   ]
  },
  {
   "cell_type": "code",
   "execution_count": 374,
   "metadata": {},
   "outputs": [
    {
     "name": "stdout",
     "output_type": "stream",
     "text": [
      "Index(['Iris-setosa', 'Iris-versicolor', 'Iris-virginica'], dtype='object')\n",
      "[0]\n",
      "[[1. 0. 0.]]\n"
     ]
    }
   ],
   "source": [
    "from sklearn.neighbors import KNeighborsClassifier    # KNeighborsClassifier\n",
    "df=pd.read_csv(\"iris.dataset1.csv\",header=None) \n",
    "print(df[4].value_counts().index)\n",
    "df[4]=df[4].map({'Iris-setosa':0, 'Iris-versicolor':1, 'Iris-virginica':2})\n",
    "x=df.iloc[:,:-1].values\n",
    "y=df.iloc[:,-1].values\n",
    "model15=KNeighborsClassifier()\n",
    "model15.fit(x,y)\n",
    "sample=[[1.2,3.4,2.3,.4]]\n",
    "print(model15.predict(sample))\n",
    "print(model15.predict_proba(sample))"
   ]
  },
  {
   "cell_type": "code",
   "execution_count": 375,
   "metadata": {},
   "outputs": [
    {
     "name": "stdout",
     "output_type": "stream",
     "text": [
      "[0]\n",
      "[[9.95854464e-01 4.14448115e-03 1.05463811e-06]]\n"
     ]
    }
   ],
   "source": [
    "from sklearn.linear_model import LogisticRegression #LogisticRegression \n",
    "model16=LogisticRegression()\n",
    "model16.fit(x,y)\n",
    "print(model16.predict(sample))\n",
    "print(model16.predict_proba(sample))"
   ]
  },
  {
   "cell_type": "code",
   "execution_count": null,
   "metadata": {},
   "outputs": [],
   "source": []
  }
 ],
 "metadata": {
  "kernelspec": {
   "display_name": "Python 3",
   "language": "python",
   "name": "python3"
  },
  "language_info": {
   "codemirror_mode": {
    "name": "ipython",
    "version": 3
   },
   "file_extension": ".py",
   "mimetype": "text/x-python",
   "name": "python",
   "nbconvert_exporter": "python",
   "pygments_lexer": "ipython3",
   "version": "3.11.1"
  },
  "orig_nbformat": 4,
  "vscode": {
   "interpreter": {
    "hash": "b91f41160b83ffc59c7e17fa6fd02d637d5dcf1d5e59aa2db87d82178661b954"
   }
  }
 },
 "nbformat": 4,
 "nbformat_minor": 2
}
